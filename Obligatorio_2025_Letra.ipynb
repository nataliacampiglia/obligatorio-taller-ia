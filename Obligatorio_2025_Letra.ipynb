{
 "cells": [
  {
   "cell_type": "markdown",
   "metadata": {},
   "source": [
    "# Obligatorio - Taller Agentes Inteligentes 2025\n",
    "\n",
    "En este trabajo obligatorio aplicaremos los conceptos vistos en el curso para diseñar, implementar y evaluar agentes capaces de aprender a jugar al clásico **Breakout** de Atari, utilizando el entorno provisto por Farama Gymnasium ([https://ale.farama.org/environments/breakout/](https://ale.farama.org/environments/breakout/)). \n",
    "\n",
    "<p align=\"center\">\n",
    "  <img src=\"https://media.tenor.com/oMxHgRrISJsAAAAM/atari-deep-learning.gif\" alt=\"Atari Deep Learning\"/>\n",
    "</p>\n",
    "\n",
    "\n",
    "El ejercicio se enmarca en un contexto de aprendizaje práctico, donde trabajaremos con las interfaces estándar de Gymnasium para:\n",
    "\n",
    "1. **Profundizar en algoritmos de valor**: implementaremos y compararemos dos variantes de Q-Learning basadas en redes neuronales profundas:\n",
    "   * **Deep Q Learning (DQN)**\n",
    "   * **Double Deep Q Learning (DDQN)**\n",
    "2. **Evaluar rendimiento y estabilidad**: registraremos las recompensas obtenidas durante el entrenamiento de cada agente y analizaremos su comportamiento mediante gráficas comparativas.\n",
    "3. **Demostrar resultados de forma visual**: capturaremos vídeos que muestren a cada agente “resolviendo” el entorno, entendido como la habilidad de romper al menos cinco bloques en una partida.\n",
    "\n",
    "Debido a las limitaciones de tiempo y cómputo propias de un entorno de curso, no se espera entrenar modelos durante más de diez horas por agente. Por ello, será fundamental:\n",
    "\n",
    "* Integrar puntos de **checkpoint** para guardar periódicamente los pesos de la red.\n",
    "* Seguir en los puntos 2 y 3 la arquitectura y técnicas originales propuestas en los papers seminales de DQN y DDQN, dejando la experimentación adicional para el punto extra.\n",
    "* Flexibilizar la notebook de guía: pueden reorganizarla o dividirla en múltiples archivos según su conveniencia.\n"
   ]
  },
  {
   "cell_type": "markdown",
   "metadata": {},
   "source": [
    "## Objetivos y tareas\n",
    "\n",
    "1. **Completar la implementación**\n",
    "   * Rellenar el código faltante en la notebook y en los módulos auxiliares para que los agentes puedan interactuar con el entorno de Breakout.\n",
    "2. **Entrenar agentes**\n",
    "   * Ajustar y entrenar un **DQN** que alcance la condición de “resolver” (romper ≥ 10 bloques).\n",
    "   * Ajustar y entrenar un **DDQN** con la misma meta de desempeño.\n",
    "3. **Visualizar y analizar resultados**\n",
    "   * Generar **gráficas comparativas** de las recompensas obtenidas por ambos agentes en el mismo entorno (una gráfica por ambiente). Además se sugiere gráficas que muestren el valor de la función de valor Q para cada agente.\n",
    "   * Extraer **al menos dos conclusiones** por gráfica, comentando diferencias en convergencia, estabilidad y comportamiento exploratorio.\n",
    "4. **Registro de demostraciones**\n",
    "   * Grabar y entregar un **video demostrativo** de cada agente resolviendo el entorno.\n",
    "5. **Experimentación**\n",
    "   * Probar otras arquitecturas, técnicas de mejora o módulos de procesamiento de entradas más avanzados, documentando brevemente su impacto/"
   ]
  },
  {
   "cell_type": "markdown",
   "metadata": {},
   "source": [
    "## Criterios de evaluación\n",
    "\n",
    "| Criterio                                  | Descripción                                                  | Peso |\n",
    "| ----------------------------------------- | ------------------------------------------------------------ | ---- |\n",
    "| **Implementación y rendimiento**          | DQN y DDQN completados; cada agente rompe ≥ 10 bloques       | 40%  |\n",
    "| **Estructura y narrativa de la notebook** | Secciones claras, explicación de decisiones, “historia”      | 20%  |\n",
    "| **Análisis de resultados**                | Gráficas comparativas; ≥ 2 conclusiones por gráfico          | 20%  |\n",
    "| **Presentación visual**                   | Vídeos demostrativos de cada agente                          | 10%  |\n",
    "| **Experimentación**                       | Experimentación adicional documentada y analizada brevemente | 10%  |"
   ]
  },
  {
   "cell_type": "markdown",
   "metadata": {},
   "source": [
    "## Bibliografía\n",
    "\n",
    "* **Mnih, V.**, Kavukcuoglu, K., Silver, D., Rusu, A. A., Veness, J., Bellemare, M. G., … Hassabis, D. (2013). *Playing Atari with Deep Reinforcement Learning*. [arXiv:1312.5602](https://arxiv.org/abs/1312.5602)\n",
    "* **van Hasselt, H.**, Guez, A., & Silver, D. (2015). *Deep Reinforcement Learning with Double Q-learning*. [arXiv:1509.06461](https://arxiv.org/abs/1509.06461)\n",
    "* **Sutton, R. S.**, & Barto, A. G. (2018). *Reinforcement Learning: An Introduction* (2nd ed.), capítulo 16.5: “Human-level Video Game Play”. MIT Press."
   ]
  },
  {
   "attachments": {},
   "cell_type": "markdown",
   "metadata": {},
   "source": [
    "# Import from github"
   ]
  },
  {
   "cell_type": "code",
   "execution_count": null,
   "metadata": {},
   "outputs": [],
   "source": [
    "# !git clone https://github.com/nataliacampiglia/obligatorio-taller-ia.git\n",
    "# %cd obligatorio-taller-ia\n",
    "# !git pull"
   ]
  },
  {
   "cell_type": "markdown",
   "metadata": {},
   "source": [
    "## Setup"
   ]
  },
  {
   "cell_type": "markdown",
   "metadata": {
    "id": "gc6t9etEt9I2",
    "pycharm": {
     "name": "#%%\n"
    }
   },
   "source": [
    "**Imports**"
   ]
  },
  {
   "cell_type": "code",
   "execution_count": 144,
   "metadata": {
    "id": "cwHCw6PMt9I3",
    "pycharm": {
     "name": "#%%\n"
    }
   },
   "outputs": [],
   "source": [
    "import os\n",
    "import torch\n",
    "import numpy as np\n",
    "import random\n",
    "import numpy as np\n",
    "import torch.nn as nn\n",
    "import torch.nn.functional as F\n",
    "from torchinfo import summary\n",
    "import gymnasium\n",
    "import ale_py\n",
    "from utils import make_env, show_observation_stack\n",
    "from IPython.display import Video\n"
   ]
  },
  {
   "cell_type": "markdown",
   "metadata": {},
   "source": [
    "ALE (Atari Learning Environment) es un entorno de aprendizaje para videojuegos de Atari. En este caso, utilizaremos el entorno de Breakout. Es necesario entender que se separa el entorno de los roms de Atari, que son los juegos en sí. El entorno de ALE permite interactuar con los juegos de Atari a través de una API estándar, facilitando la implementación de algoritmos de aprendizaje por refuerzo.\n",
    "\n",
    "Debemos instalar los roms por separado, para ello primero tenemos que saber donde están los roms de Atari. "
   ]
  },
  {
   "cell_type": "code",
   "execution_count": 145,
   "metadata": {},
   "outputs": [
    {
     "name": "stdout",
     "output_type": "stream",
     "text": [
      "/opt/miniconda3/envs/obl_taller_ia/lib/python3.12/site-packages/ale_py/roms\n"
     ]
    }
   ],
   "source": [
    "gymnasium.register_envs(ale_py) # registramos todos los entornos de ale_py\n",
    "ruta_init = ale_py.roms.__file__ # debemos saber donde se encuentra la carpeta roms\n",
    "ALE_ROMS_PATH = os.path.dirname(ruta_init)\n",
    "print(ALE_ROMS_PATH)"
   ]
  },
  {
   "cell_type": "markdown",
   "metadata": {},
   "source": [
    "Podemos usar los siguientes comando para instalar los roms y colocalos en la carpeta correcta."
   ]
  },
  {
   "cell_type": "code",
   "execution_count": 146,
   "metadata": {},
   "outputs": [],
   "source": [
    "# !pip install \"autorom[accept-rom-license]\"\n",
    "# !AutoROM --accept-license --install-dir {ALE_ROMS_PATH}"
   ]
  },
  {
   "cell_type": "markdown",
   "metadata": {},
   "source": [
    "Fijamos la semilla para que los resultados sean reproducibles"
   ]
  },
  {
   "cell_type": "code",
   "execution_count": 147,
   "metadata": {},
   "outputs": [],
   "source": [
    "SEED = 23\n",
    "\n",
    "torch.manual_seed(SEED)\n",
    "torch.backends.cudnn.deterministic=True # https://discuss.pytorch.org/t/what-is-the-differenc-between-cudnn-deterministic-and-cudnn-benchmark/38054\n",
    "torch.backends.cudnn.benchmark=True # https://discuss.pytorch.org/t/what-does-torch-backends-cudnn-benchmark-do/5936/4\n",
    "np.random.seed(SEED)\n",
    "random.seed(SEED)"
   ]
  },
  {
   "cell_type": "markdown",
   "metadata": {},
   "source": [
    "Vemos que dispositivo tenemos, si es GPU, MPS o CPU. **El uso de GPU es altamente recomendable** para acelerar el entrenamiento de los modelos. "
   ]
  },
  {
   "cell_type": "code",
   "execution_count": 148,
   "metadata": {},
   "outputs": [
    {
     "name": "stdout",
     "output_type": "stream",
     "text": [
      "Device: mps\n"
     ]
    }
   ],
   "source": [
    "# Algunas constantes\n",
    "\n",
    "# definimos el dispositivo que vamos a usar\n",
    "DEVICE = \"cpu\"  # por defecto, usamos la CPU\n",
    "if torch.cuda.is_available():\n",
    "    DEVICE = \"cuda\"  # si hay GPU, usamos la GPU\n",
    "elif torch.backends.mps.is_available():\n",
    "    DEVICE = \"mps\"  # si no hay GPU, pero hay MPS, usamos MPS\n",
    "\n",
    "print(f\"Device: {DEVICE}\")"
   ]
  },
  {
   "cell_type": "markdown",
   "metadata": {},
   "source": [
    "## Preprocesando Atari\n",
    "\n",
    "Para reproducir fielmente el enfoque de Mnih et al. (2013) y reducir la carga computacional al trabajar con imágenes de Atari (210 × 160 píxeles, 128 colores), aplicamos el siguiente preprocesado φ a las últimas **4** frames del entorno:\n",
    "\n",
    "1. **Conversión a escala de grises**\n",
    "   Eliminamos la información de color (GRAYSCALE = True), pues la luminosidad es suficiente para capturar la dinámica de juego y reduce drásticamente la dimensionalidad de la entrada.\n",
    "\n",
    "2. **Down-sampling y recorte**\n",
    "   * Redimensionamos la imagen original a 110 × 84 píxeles, manteniendo la proporción horizontal.\n",
    "   * Recortamos un área central de 84 × 84 píxeles que contiene la “zona de juego”, descartando bordes innecesarios.\n",
    "     Este paso (SCREEN_SIZE = 84) no solo concentra la atención del modelo en la región relevante, sino que también garantiza un tamaño cuadrado compatible con las implementaciones de convoluciones en GPU.\n",
    "\n",
    "3. **Saltos temporales (frame skipping)**\n",
    "   Procesamos cada 4 frames (SKIP_FRAMES = 4), repitiendo la misma acción durante esos pasos. Esto reduce la redundancia temporal, acelera el entrenamiento y mantiene la coherencia del movimiento de la paleta y la bola.\n",
    "\n",
    "4. **Apilamiento de frames**\n",
    "   Finalmente, acumulamos las últimas 4 imágenes preprocesadas (NUM_STACKED_FRAMES = 4) en un único tensor de entrada. Así el agente puede inferir la velocidad y dirección de los elementos móviles a partir de la diferencia entre frames.\n",
    "\n",
    "Este esquema de preprocesado es fundamental para disminuir el espacio de entrada, acelerar las convoluciones y proporcionar al Q-net una representación compacta y rica en información dinámica, tal como se describe en el algoritmo 1 del paper original .\n",
    "\n",
    "> Se recomienda ver el método `make_env` en el archivo `utils.py` para entender cómo se implementa este preprocesado. "
   ]
  },
  {
   "cell_type": "code",
   "execution_count": 149,
   "metadata": {},
   "outputs": [],
   "source": [
    "GRAY_SCALE = True # si True, convertimos la imagen a escala de grises\n",
    "SCREEN_SIZE = 84 # redimensionamos a SCREEN_SIZExSCREEN_SIZE\n",
    "NUM_STACKED_FRAMES = 4 # apilamos NUM_STACKED_FRAMES frames\n",
    "SKIP_FRAMES = 4 # saltamos SKIP_FRAMES frames (haciendo la misma acción)"
   ]
  },
  {
   "cell_type": "code",
   "execution_count": 150,
   "metadata": {
    "colab": {
     "base_uri": "https://localhost:8080/"
    },
    "id": "loVxQPrwt9I5",
    "outputId": "18b7ed97-88dd-4b1e-a2cc-b2636686bfc7"
   },
   "outputs": [
    {
     "name": "stderr",
     "output_type": "stream",
     "text": [
      "A.L.E: Arcade Learning Environment (version 0.10.2+unknown)\n",
      "[Powered by Stella]\n",
      "Game console created:\n",
      "  ROM file:  /opt/miniconda3/envs/obl_taller_ia/lib/python3.12/site-packages/ale_py/roms/breakout.bin\n",
      "  Cart Name: Breakout - Breakaway IV (1978) (Atari)\n",
      "  Cart MD5:  f34f08e5eb96e500e851a80be3277a56\n",
      "  Display Format:  AUTO-DETECT ==> NTSC\n",
      "  ROM Size:        2048\n",
      "  Bankswitch Type: AUTO-DETECT ==> 2K\n",
      "\n",
      "Running ROM file...\n",
      "Random seed is 993706076\n"
     ]
    },
    {
     "data": {
      "image/png": "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",
      "text/plain": [
       "<Figure size 640x480 with 1 Axes>"
      ]
     },
     "metadata": {},
     "output_type": "display_data"
    },
    {
     "data": {
      "image/png": "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",
      "text/plain": [
       "<Figure size 640x480 with 1 Axes>"
      ]
     },
     "metadata": {},
     "output_type": "display_data"
    },
    {
     "data": {
      "image/png": "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",
      "text/plain": [
       "<Figure size 640x480 with 1 Axes>"
      ]
     },
     "metadata": {},
     "output_type": "display_data"
    },
    {
     "data": {
      "image/png": "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",
      "text/plain": [
       "<Figure size 640x480 with 1 Axes>"
      ]
     },
     "metadata": {},
     "output_type": "display_data"
    },
    {
     "name": "stdout",
     "output_type": "stream",
     "text": [
<<<<<<< HEAD
      "Episode 1 finished with total reward: 1\n"
=======
      "Episode 1 finished with total reward: 2\n"
     ]
    },
    {
     "name": "stderr",
     "output_type": "stream",
     "text": [
      "python(73213) MallocStackLogging: can't turn off malloc stack logging because it was not enabled.\n"
>>>>>>> 0fc9f42edb1eade8edd1533bde1365b335d2ca2a
     ]
    }
   ],
   "source": [
    "# https://ale.farama.org/environments/breakout/\n",
    "ENV_NAME = \"ALE/Breakout-v5\" \n",
    "\n",
    "env = make_env(ENV_NAME,\n",
    "                video_folder='./videos/random',\n",
    "                name_prefix=\"breakout\",\n",
    "                record_every=1,\n",
    "                grayscale=GRAY_SCALE,\n",
    "                screen_size=SCREEN_SIZE,\n",
    "                stack_frames=NUM_STACKED_FRAMES,\n",
    "                skip_frames=SKIP_FRAMES\n",
    "                )\n",
    "\n",
    "for episode_num in range(1):\n",
    "    obs, info = env.reset()\n",
    "    show_observation_stack(obs)\n",
    "    reward_total = 0\n",
    "    episode_over = False\n",
    "    while not episode_over:\n",
    "        action = env.action_space.sample()  # seleccionamos una acción aleatoria\n",
    "        obs, reward, terminated, truncated, info = env.step(action)\n",
    "        reward_total += reward\n",
    "        episode_over = terminated or truncated\n",
    "    print(f\"Episode {episode_num + 1} finished with total reward: {reward_total}\")\n",
    "\n",
    "env.close()"
   ]
  },
  {
   "cell_type": "markdown",
   "metadata": {},
   "source": [
    "Además, podemos mostrar los videos capturados por el entorno de Atari de la siguiente manera:"
   ]
  },
  {
   "cell_type": "code",
   "execution_count": 151,
   "metadata": {},
   "outputs": [
    {
     "data": {
      "text/html": [
       "<video controls  width=\"600\" >\n",
       " <source src=\"data:video/mp4;base64,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\" type=\"video/mp4\">\n",
       " Your browser does not support the video tag.\n",
       " </video>"
      ],
      "text/plain": [
       "<IPython.core.display.Video object>"
      ]
     },
     "execution_count": 151,
     "metadata": {},
     "output_type": "execute_result"
    }
   ],
   "source": [
    "# Ruta al archivo de vídeo en tu sistema de ficheros\n",
    "video_path = \"./videos/random/breakout-episode-0.mp4\"\n",
    "\n",
    "# Muestra el vídeo\n",
    "Video(video_path, embed=True, width=600)"
   ]
  },
  {
   "cell_type": "markdown",
   "metadata": {
    "id": "2bYVG_TKt9I5"
   },
   "source": [
    "# Exploración del entorno"
   ]
  },
  {
   "cell_type": "code",
   "execution_count": 152,
   "metadata": {},
   "outputs": [
    {
     "name": "stdout",
     "output_type": "stream",
     "text": [
      "Actions shape: Discrete(4)\n",
      "Observation shape: (4, 84, 84)\n",
      "(4, 84, 84),\n",
      " 0,\n",
      " False,\n",
      " {'lives': 5, 'episode_frame_number': 10, 'frame_number': 726}\n"
     ]
    }
   ],
   "source": [
    "print(\"Actions shape:\",env.action_space)\n",
    "print(\"Observation shape:\",env.observation_space.shape)\n",
    "env.reset()\n",
    "next_state, reward, terminated, truncated, info = env.step(action=0)\n",
    "\n",
    "print(f\"{next_state.shape},\\n {reward},\\n {terminated},\\n {info}\")"
   ]
  },
  {
   "cell_type": "markdown",
   "metadata": {},
   "source": [
    "### Acciones\n",
    "..."
   ]
  },
  {
   "cell_type": "markdown",
   "metadata": {},
   "source": [
    "### Observaciones\n",
    "..."
   ]
  },
  {
   "cell_type": "markdown",
   "metadata": {
    "id": "XIHpwiaat9I7"
   },
   "source": [
    "# Deep Q Learning\n",
    "\n",
    "Deep Q Learning extiende el algoritmo clásico de Q-learning al emplear una **red neuronal profunda** como aproximador de la función de valor $Q(s,a)$. Inspirado en Mnih et al. (2013), este método utiliza una **red convolucional** para procesar directamente las imágenes del entorno Atari, un **replay buffer** para romper la correlación temporal de las muestras. La política sigue un esquema **ε-greedy**, balanceando exploración y explotación, y se entrena minimizando el error de la ecuación de Bellman sobre lotes de transiciones muestreadas de manera aleatoria.\n",
    "\n",
    "<p align=\"center\">\n",
    "  <img src=\"https://www.researchgate.net/profile/Faris-Mismar/publication/327045314/figure/fig4/AS:819677282455553@1572437701142/Structure-of-the-neural-network-used-for-the-Deep-Q-learning-Network-implementation-with.png\" alt=\"DQN\"/>\n",
    "</p>\n",
    "\n",
    "Fuente: [arXiv:1312.5602](https://arxiv.org/abs/1312.5602)"
   ]
  },
  {
   "cell_type": "markdown",
   "metadata": {
    "id": "ajTGajUftSgY",
    "pycharm": {
     "name": "#%% md\n"
    }
   },
   "source": [
    "## Memoria\n",
    "\n",
    "El algoritmo de Deep Q Learning presentado en el paper utiliza una memoria (llamada Replay Memory) para almacenar transiciones pasadas. Tuplas que contienen un estado base, la accion tomada, la recompensa obtenida, una bandera que indica si el siguiente estado es final o no; y el estado siguiente.\n",
    "\n",
    "Esta memoria es circular, es decir, tiene un límite maximo de elementos y una vez esté llena comienza a reemplazar los elementos más viejos.\n",
    "\n",
    "Vamos a necesitar crear una función **sample** que obtiene una mustra aleatoria de elementos de la memoria.  Esto puede ser una lista de Transiciones o listas separadas (pero alineadas) de los elementos que las componen.\n",
    "\n",
    "\n",
    "> Para implementar esta funcionalidad se debe modificar el archivo **replay_memory.py**"
   ]
  },
  {
   "cell_type": "code",
   "execution_count": 153,
   "metadata": {
    "id": "scPtpbz4tTAh",
    "outputId": "0890f48a-e673-4416-bd69-7dcf2730ba64",
    "pycharm": {
     "name": "#%%\n"
    }
   },
   "outputs": [
    {
     "name": "stdout",
     "output_type": "stream",
     "text": [
      "Memory size: 3\n",
      "\n",
      "Memory sample:\n",
      "Sample 0: Transition(state='state2', action='action2', reward='reward2', done='done2', next_state='next_state2')\n",
      "Sample 1: Transition(state='state4', action='action4', reward='reward4', done='done4', next_state='next_state4')\n"
     ]
    }
   ],
   "source": [
    "from replay_memory import ReplayMemory, Transition\n",
    "\n",
    "# Creamos la memoria de repetición\n",
    "replay_memory = ReplayMemory(3)\n",
    "\n",
    "# Añadimos transiciones a la memoria (solo las 3 últimas se guardan)\n",
    "replay_memory.add('state1', 'action1', 'reward1', 'done1', 'next_state1' )\n",
    "replay_memory.add('state2', 'action2', 'reward2', 'done2', 'next_state2')\n",
    "replay_memory.add('state3', 'action3', 'reward3', 'done3', 'next_state3')\n",
    "replay_memory.add('state4', 'action4', 'reward4', 'done4', 'next_state4')\n",
    "\n",
    "# Mostramos el tamaño de la memoria\n",
    "print(f\"Memory size: {len(replay_memory)}\\n\")\n",
    "\n",
    "# Mostramos un sample de la memoria\n",
    "sampled = replay_memory.sample(2)\n",
    "print(f\"Memory sample:\")\n",
    "for i, sample in enumerate(sampled):\n",
    "    print(f\"Sample {i}: {sample}\")\n"
   ]
  },
  {
   "cell_type": "markdown",
   "metadata": {
    "id": "j7Ygv5Mjtb-F",
    "pycharm": {
     "name": "#%% md\n"
    }
   },
   "source": [
    "## Modelo\n",
    "\n",
    "Vamos a usar un mismo modelo FeedForward para estos dos problemas (entrenado en cada problema particular). Recomendamos simplicidad en la creación del mismo, pero tienen total libertad al momento de implementarlo.\n",
    "\n",
    "> Para implementar esta funcionalidad se debe modificar el archivo **dqn_cnn_model.py**. Se recomienda empezar por una arquitectura simple como la que se muestra en el paper de Mnih et al. (2013) y luego experimentar con arquitecturas más complejas."
   ]
  },
  {
   "cell_type": "code",
   "execution_count": 154,
   "metadata": {
    "id": "bkNBvJB6ryp7",
    "pycharm": {
     "name": "#%%\n"
    }
   },
   "outputs": [
    {
     "name": "stdout",
     "output_type": "stream",
     "text": [
      "Actions shape: Discrete(4)\n",
      "Observatiion shape: (4, 84, 84)\n",
      "4 84 84\n",
      "conv1 20 20\n",
      "conv2 9 9\n",
      "Linear(in_features=256, out_features=4, bias=True)\n"
     ]
    },
    {
     "name": "stderr",
     "output_type": "stream",
     "text": [
      "A.L.E: Arcade Learning Environment (version 0.10.2+unknown)\n",
      "[Powered by Stella]\n",
      "Game console created:\n",
      "  ROM file:  /opt/miniconda3/envs/obl_taller_ia/lib/python3.12/site-packages/ale_py/roms/breakout.bin\n",
      "  Cart Name: Breakout - Breakaway IV (1978) (Atari)\n",
      "  Cart MD5:  f34f08e5eb96e500e851a80be3277a56\n",
      "  Display Format:  AUTO-DETECT ==> NTSC\n",
      "  ROM Size:        2048\n",
      "  Bankswitch Type: AUTO-DETECT ==> 2K\n",
      "\n",
      "Running ROM file...\n",
      "Random seed is 1675210582\n"
     ]
    },
    {
     "name": "stdout",
     "output_type": "stream",
     "text": [
      " obs.shape = torch.Size([32, 4, 84, 84])\n",
      " x.shape = torch.Size([32, 16, 20, 20])\n",
      " x.shape = torch.Size([32, 32, 9, 9])\n",
      " x.shape = torch.Size([32, 32, 9, 9])\n",
      " x.shape = torch.Size([32, 2592])\n",
      " x.shape = torch.Size([32, 256])\n"
     ]
    },
    {
     "data": {
      "text/plain": [
       "==========================================================================================\n",
       "Layer (type:depth-idx)                   Output Shape              Param #\n",
       "==========================================================================================\n",
       "DQN_CNN_Model                            [32, 4]                   --\n",
       "├─Conv2d: 1-1                            [32, 16, 20, 20]          4,112\n",
       "├─Conv2d: 1-2                            [32, 32, 9, 9]            8,224\n",
       "├─Linear: 1-3                            [32, 256]                 663,808\n",
       "├─Linear: 1-4                            [32, 4]                   1,028\n",
       "==========================================================================================\n",
       "Total params: 677,172\n",
       "Trainable params: 677,172\n",
       "Non-trainable params: 0\n",
       "Total mult-adds (Units.MEGABYTES): 95.22\n",
       "==========================================================================================\n",
       "Input size (MB): 3.61\n",
       "Forward/backward pass size (MB): 2.37\n",
       "Params size (MB): 2.71\n",
       "Estimated Total Size (MB): 8.69\n",
       "=========================================================================================="
      ]
     },
     "execution_count": 154,
     "metadata": {},
     "output_type": "execute_result"
    }
   ],
   "source": [
    "from dqn_cnn_model import DQN_CNN_Model\n",
    "\n",
    "env = make_env(ENV_NAME,\n",
    "                record_every=None,\n",
    "                grayscale=GRAY_SCALE,\n",
    "                screen_size=SCREEN_SIZE,\n",
    "                stack_frames=NUM_STACKED_FRAMES,\n",
    "                skip_frames=SKIP_FRAMES\n",
    "                )\n",
    "print(\"Actions shape:\",env.action_space)\n",
    "print(\"Observatiion shape:\",env.observation_space.shape)\n",
    "\n",
    "env.close()\n",
    "\n",
    "cnn_model = DQN_CNN_Model(env.observation_space.shape, env.action_space.n).to(DEVICE)\n",
    "summary(cnn_model, input_size=(32, SKIP_FRAMES, SCREEN_SIZE, SCREEN_SIZE), device=DEVICE) # 32 es el batch size"
   ]
  },
  {
   "cell_type": "markdown",
   "metadata": {},
   "source": [
    "La red esta definida para que reciba un tensor de 4 dimensiones (batch_size, num_frames, height, width) y devuelve un tensor de 2 dimensiones (batch_size, num_actions). La función `forward` es la encargada de definir el flujo de datos a través de la red. En este caso, se utiliza una red convolucional seguida de capas totalmente conectadas"
   ]
  },
  {
   "cell_type": "code",
   "execution_count": 155,
   "metadata": {},
   "outputs": [
    {
     "name": "stdout",
     "output_type": "stream",
     "text": [
      " obs.shape = torch.Size([1, 4, 84, 84])\n",
      " x.shape = torch.Size([1, 16, 20, 20])\n",
      " x.shape = torch.Size([1, 32, 9, 9])\n",
      " x.shape = torch.Size([1, 32, 9, 9])\n",
      " x.shape = torch.Size([1, 2592])\n",
      " x.shape = torch.Size([1, 256])\n",
      "Q-values shape: torch.Size([1, 4])\n"
     ]
    }
   ],
   "source": [
    "obs_tensor_batch = torch.rand((NUM_STACKED_FRAMES,SCREEN_SIZE,SCREEN_SIZE)).unsqueeze(0).to(DEVICE) # Añadimos una dimensión para el batch y lo pasamos al dispositivo\n",
    "print(f\"Q-values shape: {cnn_model(obs_tensor_batch).shape}\") # shape: (1, num_actions) "
   ]
  },
  {
   "cell_type": "markdown",
   "metadata": {},
   "source": [
    "Los valores de Q se obtienen a partir de la salida de la red, cada columna representa el valor Q para cada acción posible en el estado actual. "
   ]
  },
  {
   "cell_type": "code",
   "execution_count": 156,
   "metadata": {},
   "outputs": [
    {
     "name": "stdout",
     "output_type": "stream",
     "text": [
      " obs.shape = torch.Size([1, 4, 84, 84])\n",
      " x.shape = torch.Size([1, 16, 20, 20])\n",
      " x.shape = torch.Size([1, 32, 9, 9])\n",
      " x.shape = torch.Size([1, 32, 9, 9])\n",
      " x.shape = torch.Size([1, 2592])\n",
      " x.shape = torch.Size([1, 256])\n"
     ]
    },
    {
     "data": {
      "text/plain": [
       "tensor([[-0.0188,  0.0008,  0.0328,  0.0380]], device='mps:0',\n",
       "       grad_fn=<LinearBackward0>)"
      ]
     },
     "execution_count": 156,
     "metadata": {},
     "output_type": "execute_result"
    }
   ],
   "source": [
    "cnn_model(obs_tensor_batch) "
   ]
  },
  {
   "cell_type": "markdown",
   "metadata": {},
   "source": [
    "Podemos preguntar cuál es la acción con mayor valor Q en un estado."
   ]
  },
  {
   "cell_type": "code",
   "execution_count": 157,
   "metadata": {},
   "outputs": [
    {
     "name": "stdout",
     "output_type": "stream",
     "text": [
      " obs.shape = torch.Size([1, 4, 84, 84])\n",
      " x.shape = torch.Size([1, 16, 20, 20])\n",
      " x.shape = torch.Size([1, 32, 9, 9])\n",
      " x.shape = torch.Size([1, 32, 9, 9])\n",
      " x.shape = torch.Size([1, 2592])\n",
      " x.shape = torch.Size([1, 256])\n"
     ]
    },
    {
     "data": {
      "text/plain": [
       "torch.return_types.max(\n",
       "values=tensor([0.0380], device='mps:0', grad_fn=<MaxBackward0>),\n",
       "indices=tensor([3], device='mps:0'))"
      ]
     },
     "execution_count": 157,
     "metadata": {},
     "output_type": "execute_result"
    }
   ],
   "source": [
    "cnn_model(obs_tensor_batch).max(1)"
   ]
  },
  {
   "cell_type": "markdown",
   "metadata": {},
   "source": [
    "En el siguiente ejemplo vamos a ver cómo tomar los valores de acciones deseables para un conjunto de estados. "
   ]
  },
  {
   "cell_type": "code",
   "execution_count": 158,
   "metadata": {},
   "outputs": [
    {
     "name": "stdout",
     "output_type": "stream",
     "text": [
      "Batch shape: torch.Size([3, 4, 84, 84])\n",
      " obs.shape = torch.Size([3, 4, 84, 84])\n",
      " x.shape = torch.Size([3, 16, 20, 20])\n",
      " x.shape = torch.Size([3, 32, 9, 9])\n",
      " x.shape = torch.Size([3, 32, 9, 9])\n",
      " x.shape = torch.Size([3, 2592])\n",
      " x.shape = torch.Size([3, 256])\n",
      "Q-values: tensor([[-0.0399,  0.0014,  0.0332,  0.0316],\n",
      "        [-0.0319,  0.0112,  0.0292,  0.0156],\n",
      "        [-0.0356,  0.0033,  0.0296,  0.0224]], device='mps:0',\n",
      "       grad_fn=<LinearBackward0>)\n",
      "Q-values: tensor([[0.0014],\n",
      "        [0.0292],\n",
      "        [0.0224]], device='mps:0', grad_fn=<GatherBackward0>)\n"
     ]
    }
   ],
   "source": [
    "# Creamos 3 observaciones aleatorias para probar el modelo\n",
    "obs_ran1 = torch.rand(4, 84, 84)\n",
    "obs_ran2 = torch.rand(4, 84, 84)\n",
    "obs_ran3 = torch.rand(4, 84, 84)\n",
    "\n",
    "batch = torch.stack([obs_ran1, obs_ran2, obs_ran3], dim=0).to(DEVICE) # shape: (3, 4, 84, 84)\n",
    "print(f\"Batch shape: {batch.shape}\")\n",
    "\n",
    "actions =  torch.tensor([1, 2, 3], device=DEVICE).unsqueeze(1) # queremos la acción 1 para la primera observación, la acción 2 para la segunda y la acción 3 para la tercera\n",
    "\n",
    "Q_test = cnn_model(batch)\n",
    "print(f\"Q-values: {Q_test}\")\n",
    "print(f\"Q-values: {Q_test.gather(1, actions)}\") # https://pytorch.org/docs/main/generated/torch.gather.html"
   ]
  },
  {
   "cell_type": "markdown",
   "metadata": {},
   "source": [
    "## Phi \n",
    "\n",
    "La función para procesar los estados (phi en el paper) que es necesaria para poder usar el modelo de Pytorch con las representaciones de gym. Esta función pasa una observación de gym a un tensor de Pytorch y la normaliza.\n",
    "\n",
    "> Técnicamente la función phi tiene más responsabilidades, como la de apilar los frames y el downsampling. En nuestro caso se lo delegamos a los wrappers de gymnasium."
   ]
  },
  {
   "cell_type": "code",
   "execution_count": 159,
   "metadata": {
    "id": "oegpMg25t9I9",
    "pycharm": {
     "name": "#%%\n"
    }
   },
   "outputs": [
    {
     "name": "stdout",
     "output_type": "stream",
     "text": [
      "Observation shape: torch.Size([4, 84, 84])\n"
     ]
    }
   ],
   "source": [
    "def process_state(obs):\n",
    "    \"\"\"\n",
    "    Preprocess the state to be used as input for the model (transform to tensor).\n",
    "    \"\"\"\n",
    "    return torch.tensor(obs, dtype=torch.float32, device=DEVICE) / 255.0\n",
    "\n",
    "obs, _ = env.reset()\n",
    "obs_tensor = process_state(obs)\n",
    "print(f\"Observation shape: {obs_tensor.shape}\")"
   ]
  },
  {
   "cell_type": "markdown",
   "metadata": {
    "id": "z9B7ZY9Htj_F",
    "pycharm": {
     "name": "#%% md\n"
    }
   },
   "source": [
    "## Agente\n",
    "\n",
    "Vamos a definir una clase agente (abstracto), encargado de interactuar con el ambiente y entrenar los modelos. Los métdos definidos deben funcionar para ambos problemas simplemente cambiando el modelo a utilizar para cada ambiente.\n",
    "\n",
    "Abajo dejamos un esqueleto del mismo y las funciones a completar. Recomendamos no alterar la estructura del mismo, pero pueden definir las funciones auxiliares que consideren necesarias.\n",
    "\n",
    "> Para implementar esta funcionalidad se debe modificar los archivos **abstract_agent.py** y **dqn_agent.py**.\n",
    "\n",
    "Funciones a completar:\n",
    "\n",
    "\n",
    "1. **init**: que inicializa los parametros del agente.\n",
    "\n",
    "2. **compute_epsilon**: que computa el valor actual de epsilon en base al número de pasos actuales y si esta entrenando o no.\n",
    "\n",
    "3. **select_action**: Seleccionando acciones \"epsilongreedy-mente\" si estamos entranando y completamente greedy en otro caso.\n",
    "\n",
    "4. **train**: que entrena el agente por un número dado de episodios de largo determinado.\n",
    "\n",
    "5. **record_test_episode**: para grabar un episodio con el agente siempre seleccionando la mejor accion conocida."
   ]
  },
  {
   "cell_type": "markdown",
   "metadata": {
    "id": "BOD-ENZRtyMt",
    "pycharm": {
     "name": "#%% md\n"
    }
   },
   "source": [
    "## Entrenamiento"
   ]
  },
  {
   "cell_type": "code",
   "execution_count": 160,
   "metadata": {},
   "outputs": [],
   "source": [
    "#Hiperparámetros de entrenamiento del agente DQN\n",
    "# TOTAL_STEPS = 10_000_000\n",
    "TOTAL_STEPS = 800_000\n",
    "EPISODES = 10_000\n",
    "STEPS_PER_EPISODE = 20_000\n",
    "\n",
    "EPSILON_INI = 1\n",
    "EPSILON_MIN = 0.05\n",
    "# EPSILON_ANNEAL_STEPS = 1_000_000\n",
    "EPSILON_ANNEAL_STEPS = 700_000\n",
    "\n",
    "EPISODE_BLOCK = 100\n",
    "\n",
    "BATCH_SIZE = 32\n",
    "BUFFER_SIZE = 50_000\n",
    "\n",
    "GAMMA = 0.995\n",
    "LEARNING_RATE = 1e-5"
   ]
  },
  {
   "cell_type": "code",
   "execution_count": 161,
   "metadata": {},
   "outputs": [
    {
     "name": "stderr",
     "output_type": "stream",
     "text": [
      "A.L.E: Arcade Learning Environment (version 0.10.2+unknown)\n",
      "[Powered by Stella]\n",
      "Game console created:\n",
      "  ROM file:  /opt/miniconda3/envs/obl_taller_ia/lib/python3.12/site-packages/ale_py/roms/breakout.bin\n",
      "  Cart Name: Breakout - Breakaway IV (1978) (Atari)\n",
      "  Cart MD5:  f34f08e5eb96e500e851a80be3277a56\n",
      "  Display Format:  AUTO-DETECT ==> NTSC\n",
      "  ROM Size:        2048\n",
      "  Bankswitch Type: AUTO-DETECT ==> 2K\n",
      "\n",
      "Running ROM file...\n",
      "Random seed is -420818835\n"
     ]
    }
   ],
   "source": [
    "env = make_env(ENV_NAME,\n",
    "                video_folder='./videos/dqn_training',\n",
    "                name_prefix=\"breakout\",\n",
    "                record_every=500,\n",
    "                grayscale=GRAY_SCALE,\n",
    "                screen_size=SCREEN_SIZE,\n",
    "                stack_frames=NUM_STACKED_FRAMES,\n",
    "                skip_frames=SKIP_FRAMES\n",
    "                )"
   ]
  },
  {
   "cell_type": "code",
   "execution_count": 162,
   "metadata": {},
   "outputs": [],
   "source": [
    "import importlib\n",
    "import replay_memory  # or whatever module you changed\n",
    "import dqn_cnn_model\n",
    "import dqn_agent\n",
    "import abstract_agent\n",
    "importlib.reload(replay_memory)\n",
    "importlib.reload(dqn_cnn_model)\n",
    "importlib.reload(dqn_agent)\n",
    "importlib.reload(abstract_agent)\n",
    "from dqn_cnn_model import DQN_CNN_Model\n",
    "from dqn_agent import DQNAgent\n",
    "\n",
    "from abstract_agent import Agent"
   ]
  },
  {
   "cell_type": "code",
   "execution_count": 163,
   "metadata": {},
   "outputs": [
    {
     "name": "stdout",
     "output_type": "stream",
     "text": [
      "Output shape before conv1: (84, 84)\n",
      "Output shape after conv1: (20, 20)\n",
      "Output shape after conv2: (9, 9)\n"
     ]
    }
   ],
   "source": [
    "net = DQN_CNN_Model(env.observation_space.shape, env.action_space.n).to(DEVICE)"
   ]
  },
  {
   "cell_type": "code",
   "execution_count": 164,
   "metadata": {},
   "outputs": [],
   "source": [
    "dqn_agent = DQNAgent(env, net, process_state, BUFFER_SIZE, BATCH_SIZE, LEARNING_RATE, GAMMA, epsilon_i=EPSILON_INI, epsilon_f=EPSILON_MIN, epsilon_anneal_steps=EPSILON_ANNEAL_STEPS, episode_block=EPISODE_BLOCK, device=DEVICE)"
   ]
  },
  {
   "cell_type": "code",
   "execution_count": null,
   "metadata": {
    "id": "BsTl-pFqt10b",
    "pycharm": {
     "name": "#%%\n"
    }
   },
   "outputs": [
    {
     "name": "stderr",
     "output_type": "stream",
     "text": [
      "Entrenando:   0%|          | 1/10000 [00:01<5:12:25,  1.87s/episode, reward=2, epsilon=1, steps=209]c:\\Users\\Octav\\postgrado\\taller ia\\obligatorio\\git\\obligatorio-taller-ia\\dqn_agent.py:70: UserWarning: To copy construct from a tensor, it is recommended to use sourceTensor.clone().detach() or sourceTensor.clone().detach().requires_grad_(True), rather than torch.tensor(sourceTensor).\n",
      "  state_tensor = torch.tensor(\n",
      "Entrenando:  29%|██▉       | 2945/10000 [49:31<3:12:29,  1.64s/episode, reward=4.81, epsilon=0.131, steps=640093]"
     ]
    }
   ],
   "source": [
    "dqn_rewards = dqn_agent.train(EPISODES, STEPS_PER_EPISODE, TOTAL_STEPS)\n",
    "\n",
    "env.close()"
   ]
  },
  {
   "cell_type": "code",
   "execution_count": null,
   "metadata": {},
   "outputs": [],
   "source": [
    "import datetime\n",
    "\n",
    "# Get the current date and time\n",
    "now = datetime.datetime.now()\n",
    "\n",
    "# Print in a standard format\n",
    "print(f\"Fecha y hora actual: {now}\")\n",
    "\n",
    "# Print in a custom format (e.g., \"DD-MM-YYYY HH:MM:SS\")\n",
    "print(f\"Fecha y hora formateada: {now.strftime('%d-%m-%Y %H:%M:%S')}\")"
   ]
  },
  {
   "cell_type": "code",
   "execution_count": null,
   "metadata": {},
   "outputs": [
    {
     "name": "stderr",
     "output_type": "stream",
     "text": [
      "c:\\Users\\Octav\\anaconda3\\envs\\obl_taller_ia\\Lib\\site-packages\\gymnasium\\wrappers\\rendering.py:283: UserWarning: \u001b[33mWARN: Overwriting existing videos at c:\\Users\\Octav\\postgrado\\taller ia\\obligatorio\\git\\obligatorio-taller-ia\\videos\\dqn_validation folder (try specifying a different `video_folder` for the `RecordVideo` wrapper if this is not desired)\u001b[0m\n",
      "  logger.warn(\n"
     ]
    }
   ],
   "source": [
    "env = make_env(ENV_NAME,\n",
    "                video_folder='./videos/dqn_validation',\n",
    "                name_prefix=\"breakout\",\n",
    "                record_every=1,\n",
    "                grayscale=GRAY_SCALE,\n",
    "                screen_size=SCREEN_SIZE,\n",
    "                stack_frames=NUM_STACKED_FRAMES,\n",
    "                skip_frames=SKIP_FRAMES\n",
    "                )\n",
    "\n"
   ]
  },
  {
   "cell_type": "code",
   "execution_count": null,
   "metadata": {},
   "outputs": [],
   "source": [
    "dqn_agent.play(env, episodes=1)\n",
    "\n",
    "env.close()"
   ]
  },
  {
   "cell_type": "code",
   "execution_count": null,
   "metadata": {},
   "outputs": [
    {
     "data": {
      "text/html": [
       "<video controls  width=\"600\" >\n",
       " <source src=\"data:video/mp4;base64,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\" type=\"video/mp4\">\n",
       " Your browser does not support the video tag.\n",
       " </video>"
      ],
      "text/plain": [
       "<IPython.core.display.Video object>"
      ]
     },
     "execution_count": 25,
     "metadata": {},
     "output_type": "execute_result"
    }
   ],
   "source": [
    "# Ruta al archivo de vídeo en tu sistema de ficheros\n",
    "video_path = \"./videos/dqn_validation/breakout-episode-0.mp4\"\n",
    "\n",
    "# Muestra el vídeo\n",
    "Video(video_path, embed=True, width=600)"
   ]
  },
  {
   "cell_type": "markdown",
   "metadata": {},
   "source": [
    "#### Graficas \n",
    "..."
   ]
  },
  {
   "cell_type": "markdown",
   "metadata": {
    "id": "QETh1K7pt9I_"
   },
   "source": [
    "# Double Deep Q Learning\n",
    "\n",
    "Double DQN mejora la versión clásica de DQN corrigiendo el sesgo de sobreestimación de los valores \n",
    "𝑄\n",
    "Q. Para ello, desacopla la selección de la acción de su evaluación: en cada paso, la red online elige la acción que maximiza \n",
    "𝑄\n",
    "Q, pero la red objetivo distinta estima el valor de esa acción. Esta separación reduce el sesgo hacia valores demasiado optimistas y aporta mayor estabilidad al entrenamiento. El resto de la estructura —replay buffer, política ε-greedy, etc— se mantiene igual que en DQN, aprovechando así un diseño casi idéntico al original pero con resultados más fiables .\n",
    "\n",
    "Fuente: [arXiv:1509.06461](https://arxiv.org/abs/1509.06461)\n",
    "\n",
    "> Vamos a utilizar el mismo modelo de red neuronal creado para el problema anterior y la misma implementación de memoria, dejamos un esqueleto de un agente de Double Deep Q learning para completar en el archivo **double_dqn_agent.py**"
   ]
  },
  {
   "cell_type": "code",
   "execution_count": null,
   "metadata": {
    "id": "kDNkAtdMt9I_",
    "pycharm": {
     "name": "#%%\n"
    }
   },
   "outputs": [
    {
     "name": "stdout",
     "output_type": "stream",
     "text": [
      "Output shape before conv1: (84, 84)\n",
      "Output shape after conv1: (20, 20)\n",
      "Output shape after conv2: (9, 9)\n",
      "Output shape before conv1: (84, 84)\n",
      "Output shape after conv1: (20, 20)\n",
      "Output shape after conv2: (9, 9)\n"
     ]
    },
    {
     "name": "stderr",
     "output_type": "stream",
     "text": [
      "Entrenando:   0%|          | 0/10000 [00:00<?, ?episode/s]\n"
     ]
    },
    {
     "ename": "TypeError",
     "evalue": "list indices must be integers or slices, not NoneType",
     "output_type": "error",
     "traceback": [
      "\u001b[31m---------------------------------------------------------------------------\u001b[39m",
      "\u001b[31mTypeError\u001b[39m                                 Traceback (most recent call last)",
      "\u001b[36mCell\u001b[39m\u001b[36m \u001b[39m\u001b[32mIn[26]\u001b[39m\u001b[32m, line 19\u001b[39m\n\u001b[32m     15\u001b[39m modelo_b = DQN_CNN_Model(env.observation_space.shape, env.action_space.n).to(DEVICE)\n\u001b[32m     17\u001b[39m ddqn_agent = DoubleDQNAgent(env, modelo_a, modelo_b, process_state, BUFFER_SIZE, BATCH_SIZE, LEARNING_RATE, GAMMA, epsilon_i= EPSILON_INI, epsilon_f=EPSILON_MIN, epsilon_anneal_steps=EPSILON_ANNEAL_STEPS, episode_block = EPISODE_BLOCK, device=DEVICE)\n\u001b[32m---> \u001b[39m\u001b[32m19\u001b[39m ddqn_rewards = \u001b[43mddqn_agent\u001b[49m\u001b[43m.\u001b[49m\u001b[43mtrain\u001b[49m\u001b[43m(\u001b[49m\u001b[43mEPISODES\u001b[49m\u001b[43m,\u001b[49m\u001b[43m \u001b[49m\u001b[43mSTEPS_PER_EPISODE\u001b[49m\u001b[43m,\u001b[49m\u001b[43m \u001b[49m\u001b[43mTOTAL_STEPS\u001b[49m\u001b[43m)\u001b[49m\n",
      "\u001b[36mFile \u001b[39m\u001b[32mc:\\Users\\Octav\\postgrado\\taller ia\\obligatorio\\git\\obligatorio-taller-ia\\abstract_agent.py:62\u001b[39m, in \u001b[36mAgent.train\u001b[39m\u001b[34m(self, number_episodes, max_steps_episode, max_steps)\u001b[39m\n\u001b[32m     59\u001b[39m action = \u001b[38;5;28mself\u001b[39m.select_action(state_phi, total_steps, train=\u001b[38;5;28;01mTrue\u001b[39;00m)\n\u001b[32m     61\u001b[39m \u001b[38;5;66;03m# Ejecutar action = env.step(action)\u001b[39;00m\n\u001b[32m---> \u001b[39m\u001b[32m62\u001b[39m next_state, reward, done, _, _, = \u001b[38;5;28;43mself\u001b[39;49m\u001b[43m.\u001b[49m\u001b[43menv\u001b[49m\u001b[43m.\u001b[49m\u001b[43mstep\u001b[49m\u001b[43m(\u001b[49m\u001b[43maction\u001b[49m\u001b[43m)\u001b[49m\n\u001b[32m     64\u001b[39m \u001b[38;5;66;03m# Procesar next_state con state_processing_function\u001b[39;00m\n\u001b[32m     65\u001b[39m next_state_phi = \u001b[38;5;28mself\u001b[39m.state_processing_function(next_state)\n",
      "\u001b[36mFile \u001b[39m\u001b[32mc:\\Users\\Octav\\anaconda3\\envs\\obl_taller_ia\\Lib\\site-packages\\gymnasium\\core.py:585\u001b[39m, in \u001b[36mRewardWrapper.step\u001b[39m\u001b[34m(self, action)\u001b[39m\n\u001b[32m    581\u001b[39m \u001b[38;5;28;01mdef\u001b[39;00m\u001b[38;5;250m \u001b[39m\u001b[34mstep\u001b[39m(\n\u001b[32m    582\u001b[39m     \u001b[38;5;28mself\u001b[39m, action: ActType\n\u001b[32m    583\u001b[39m ) -> \u001b[38;5;28mtuple\u001b[39m[ObsType, SupportsFloat, \u001b[38;5;28mbool\u001b[39m, \u001b[38;5;28mbool\u001b[39m, \u001b[38;5;28mdict\u001b[39m[\u001b[38;5;28mstr\u001b[39m, Any]]:\n\u001b[32m    584\u001b[39m \u001b[38;5;250m    \u001b[39m\u001b[33;03m\"\"\"Modifies the :attr:`env` :meth:`step` reward using :meth:`self.reward`.\"\"\"\u001b[39;00m\n\u001b[32m--> \u001b[39m\u001b[32m585\u001b[39m     observation, reward, terminated, truncated, info = \u001b[38;5;28;43mself\u001b[39;49m\u001b[43m.\u001b[49m\u001b[43menv\u001b[49m\u001b[43m.\u001b[49m\u001b[43mstep\u001b[49m\u001b[43m(\u001b[49m\u001b[43maction\u001b[49m\u001b[43m)\u001b[49m\n\u001b[32m    586\u001b[39m     \u001b[38;5;28;01mreturn\u001b[39;00m observation, \u001b[38;5;28mself\u001b[39m.reward(reward), terminated, truncated, info\n",
      "\u001b[36mFile \u001b[39m\u001b[32mc:\\Users\\Octav\\anaconda3\\envs\\obl_taller_ia\\Lib\\site-packages\\gymnasium\\wrappers\\stateful_observation.py:416\u001b[39m, in \u001b[36mFrameStackObservation.step\u001b[39m\u001b[34m(self, action)\u001b[39m\n\u001b[32m    405\u001b[39m \u001b[38;5;28;01mdef\u001b[39;00m\u001b[38;5;250m \u001b[39m\u001b[34mstep\u001b[39m(\n\u001b[32m    406\u001b[39m     \u001b[38;5;28mself\u001b[39m, action: WrapperActType\n\u001b[32m    407\u001b[39m ) -> \u001b[38;5;28mtuple\u001b[39m[WrapperObsType, SupportsFloat, \u001b[38;5;28mbool\u001b[39m, \u001b[38;5;28mbool\u001b[39m, \u001b[38;5;28mdict\u001b[39m[\u001b[38;5;28mstr\u001b[39m, Any]]:\n\u001b[32m    408\u001b[39m \u001b[38;5;250m    \u001b[39m\u001b[33;03m\"\"\"Steps through the environment, appending the observation to the frame buffer.\u001b[39;00m\n\u001b[32m    409\u001b[39m \n\u001b[32m    410\u001b[39m \u001b[33;03m    Args:\u001b[39;00m\n\u001b[32m   (...)\u001b[39m\u001b[32m    414\u001b[39m \u001b[33;03m        Stacked observations, reward, terminated, truncated, and info from the environment\u001b[39;00m\n\u001b[32m    415\u001b[39m \u001b[33;03m    \"\"\"\u001b[39;00m\n\u001b[32m--> \u001b[39m\u001b[32m416\u001b[39m     obs, reward, terminated, truncated, info = \u001b[38;5;28;43mself\u001b[39;49m\u001b[43m.\u001b[49m\u001b[43menv\u001b[49m\u001b[43m.\u001b[49m\u001b[43mstep\u001b[49m\u001b[43m(\u001b[49m\u001b[43maction\u001b[49m\u001b[43m)\u001b[49m\n\u001b[32m    417\u001b[39m     \u001b[38;5;28mself\u001b[39m.obs_queue.append(obs)\n\u001b[32m    419\u001b[39m     updated_obs = deepcopy(\n\u001b[32m    420\u001b[39m         concatenate(\u001b[38;5;28mself\u001b[39m.env.observation_space, \u001b[38;5;28mself\u001b[39m.obs_queue, \u001b[38;5;28mself\u001b[39m.stacked_obs)\n\u001b[32m    421\u001b[39m     )\n",
      "\u001b[36mFile \u001b[39m\u001b[32mc:\\Users\\Octav\\anaconda3\\envs\\obl_taller_ia\\Lib\\site-packages\\gymnasium\\wrappers\\atari_preprocessing.py:162\u001b[39m, in \u001b[36mAtariPreprocessing.step\u001b[39m\u001b[34m(self, action)\u001b[39m\n\u001b[32m    159\u001b[39m total_reward, terminated, truncated, info = \u001b[32m0.0\u001b[39m, \u001b[38;5;28;01mFalse\u001b[39;00m, \u001b[38;5;28;01mFalse\u001b[39;00m, {}\n\u001b[32m    161\u001b[39m \u001b[38;5;28;01mfor\u001b[39;00m t \u001b[38;5;129;01min\u001b[39;00m \u001b[38;5;28mrange\u001b[39m(\u001b[38;5;28mself\u001b[39m.frame_skip):\n\u001b[32m--> \u001b[39m\u001b[32m162\u001b[39m     _, reward, terminated, truncated, info = \u001b[38;5;28;43mself\u001b[39;49m\u001b[43m.\u001b[49m\u001b[43menv\u001b[49m\u001b[43m.\u001b[49m\u001b[43mstep\u001b[49m\u001b[43m(\u001b[49m\u001b[43maction\u001b[49m\u001b[43m)\u001b[49m\n\u001b[32m    163\u001b[39m     total_reward += reward\n\u001b[32m    164\u001b[39m     \u001b[38;5;28mself\u001b[39m.game_over = terminated\n",
      "\u001b[36mFile \u001b[39m\u001b[32mc:\\Users\\Octav\\anaconda3\\envs\\obl_taller_ia\\Lib\\site-packages\\gymnasium\\wrappers\\rendering.py:350\u001b[39m, in \u001b[36mRecordVideo.step\u001b[39m\u001b[34m(self, action)\u001b[39m\n\u001b[32m    346\u001b[39m \u001b[38;5;28;01mdef\u001b[39;00m\u001b[38;5;250m \u001b[39m\u001b[34mstep\u001b[39m(\n\u001b[32m    347\u001b[39m     \u001b[38;5;28mself\u001b[39m, action: ActType\n\u001b[32m    348\u001b[39m ) -> \u001b[38;5;28mtuple\u001b[39m[ObsType, SupportsFloat, \u001b[38;5;28mbool\u001b[39m, \u001b[38;5;28mbool\u001b[39m, \u001b[38;5;28mdict\u001b[39m[\u001b[38;5;28mstr\u001b[39m, Any]]:\n\u001b[32m    349\u001b[39m \u001b[38;5;250m    \u001b[39m\u001b[33;03m\"\"\"Steps through the environment using action, recording observations if :attr:`self.recording`.\"\"\"\u001b[39;00m\n\u001b[32m--> \u001b[39m\u001b[32m350\u001b[39m     obs, rew, terminated, truncated, info = \u001b[38;5;28;43mself\u001b[39;49m\u001b[43m.\u001b[49m\u001b[43menv\u001b[49m\u001b[43m.\u001b[49m\u001b[43mstep\u001b[49m\u001b[43m(\u001b[49m\u001b[43maction\u001b[49m\u001b[43m)\u001b[49m\n\u001b[32m    351\u001b[39m     \u001b[38;5;28mself\u001b[39m.step_id += \u001b[32m1\u001b[39m\n\u001b[32m    353\u001b[39m     \u001b[38;5;28;01mif\u001b[39;00m \u001b[38;5;28mself\u001b[39m.step_trigger \u001b[38;5;129;01mand\u001b[39;00m \u001b[38;5;28mself\u001b[39m.step_trigger(\u001b[38;5;28mself\u001b[39m.step_id):\n",
      "\u001b[36mFile \u001b[39m\u001b[32mc:\\Users\\Octav\\anaconda3\\envs\\obl_taller_ia\\Lib\\site-packages\\gymnasium\\wrappers\\common.py:393\u001b[39m, in \u001b[36mOrderEnforcing.step\u001b[39m\u001b[34m(self, action)\u001b[39m\n\u001b[32m    391\u001b[39m \u001b[38;5;28;01mif\u001b[39;00m \u001b[38;5;129;01mnot\u001b[39;00m \u001b[38;5;28mself\u001b[39m._has_reset:\n\u001b[32m    392\u001b[39m     \u001b[38;5;28;01mraise\u001b[39;00m ResetNeeded(\u001b[33m\"\u001b[39m\u001b[33mCannot call env.step() before calling env.reset()\u001b[39m\u001b[33m\"\u001b[39m)\n\u001b[32m--> \u001b[39m\u001b[32m393\u001b[39m \u001b[38;5;28;01mreturn\u001b[39;00m \u001b[38;5;28;43msuper\u001b[39;49m\u001b[43m(\u001b[49m\u001b[43m)\u001b[49m\u001b[43m.\u001b[49m\u001b[43mstep\u001b[49m\u001b[43m(\u001b[49m\u001b[43maction\u001b[49m\u001b[43m)\u001b[49m\n",
      "\u001b[36mFile \u001b[39m\u001b[32mc:\\Users\\Octav\\anaconda3\\envs\\obl_taller_ia\\Lib\\site-packages\\gymnasium\\core.py:322\u001b[39m, in \u001b[36mWrapper.step\u001b[39m\u001b[34m(self, action)\u001b[39m\n\u001b[32m    318\u001b[39m \u001b[38;5;28;01mdef\u001b[39;00m\u001b[38;5;250m \u001b[39m\u001b[34mstep\u001b[39m(\n\u001b[32m    319\u001b[39m     \u001b[38;5;28mself\u001b[39m, action: WrapperActType\n\u001b[32m    320\u001b[39m ) -> \u001b[38;5;28mtuple\u001b[39m[WrapperObsType, SupportsFloat, \u001b[38;5;28mbool\u001b[39m, \u001b[38;5;28mbool\u001b[39m, \u001b[38;5;28mdict\u001b[39m[\u001b[38;5;28mstr\u001b[39m, Any]]:\n\u001b[32m    321\u001b[39m \u001b[38;5;250m    \u001b[39m\u001b[33;03m\"\"\"Uses the :meth:`step` of the :attr:`env` that can be overwritten to change the returned data.\"\"\"\u001b[39;00m\n\u001b[32m--> \u001b[39m\u001b[32m322\u001b[39m     \u001b[38;5;28;01mreturn\u001b[39;00m \u001b[38;5;28;43mself\u001b[39;49m\u001b[43m.\u001b[49m\u001b[43menv\u001b[49m\u001b[43m.\u001b[49m\u001b[43mstep\u001b[49m\u001b[43m(\u001b[49m\u001b[43maction\u001b[49m\u001b[43m)\u001b[49m\n",
      "\u001b[36mFile \u001b[39m\u001b[32mc:\\Users\\Octav\\anaconda3\\envs\\obl_taller_ia\\Lib\\site-packages\\gymnasium\\wrappers\\common.py:285\u001b[39m, in \u001b[36mPassiveEnvChecker.step\u001b[39m\u001b[34m(self, action)\u001b[39m\n\u001b[32m    283\u001b[39m     \u001b[38;5;28;01mreturn\u001b[39;00m env_step_passive_checker(\u001b[38;5;28mself\u001b[39m.env, action)\n\u001b[32m    284\u001b[39m \u001b[38;5;28;01melse\u001b[39;00m:\n\u001b[32m--> \u001b[39m\u001b[32m285\u001b[39m     \u001b[38;5;28;01mreturn\u001b[39;00m \u001b[38;5;28;43mself\u001b[39;49m\u001b[43m.\u001b[49m\u001b[43menv\u001b[49m\u001b[43m.\u001b[49m\u001b[43mstep\u001b[49m\u001b[43m(\u001b[49m\u001b[43maction\u001b[49m\u001b[43m)\u001b[49m\n",
      "\u001b[36mFile \u001b[39m\u001b[32mc:\\Users\\Octav\\anaconda3\\envs\\obl_taller_ia\\Lib\\site-packages\\ale_py\\env.py:305\u001b[39m, in \u001b[36mAtariEnv.step\u001b[39m\u001b[34m(self, action)\u001b[39m\n\u001b[32m    303\u001b[39m     strength = action[\u001b[32m0\u001b[39m]\n\u001b[32m    304\u001b[39m \u001b[38;5;28;01melse\u001b[39;00m:\n\u001b[32m--> \u001b[39m\u001b[32m305\u001b[39m     action_idx = \u001b[38;5;28;43mself\u001b[39;49m\u001b[43m.\u001b[49m\u001b[43m_action_set\u001b[49m\u001b[43m[\u001b[49m\u001b[43maction\u001b[49m\u001b[43m]\u001b[49m\n\u001b[32m    306\u001b[39m     strength = \u001b[32m1.0\u001b[39m\n\u001b[32m    308\u001b[39m \u001b[38;5;66;03m# Frameskip\u001b[39;00m\n",
      "\u001b[31mTypeError\u001b[39m: list indices must be integers or slices, not NoneType"
     ]
    }
   ],
   "source": [
    "\n",
    "from double_dqn_agent import DoubleDQNAgent\n",
    "\n",
    "env = make_env(ENV_NAME,\n",
    "                video_folder='./videos/ddqn_training',\n",
    "                name_prefix=\"breakout\",\n",
    "                record_every=500,\n",
    "                grayscale=GRAY_SCALE,\n",
    "                screen_size=SCREEN_SIZE,\n",
    "                stack_frames=NUM_STACKED_FRAMES,\n",
    "                skip_frames=SKIP_FRAMES\n",
    "                )\n",
    "\n",
    "\n",
    "modelo_a = DQN_CNN_Model(env.observation_space.shape, env.action_space.n).to(DEVICE)\n",
    "modelo_b = DQN_CNN_Model(env.observation_space.shape, env.action_space.n).to(DEVICE)\n",
    "\n",
    "ddqn_agent = DoubleDQNAgent(env, modelo_a, modelo_b, process_state, BUFFER_SIZE, BATCH_SIZE, LEARNING_RATE, GAMMA, epsilon_i= EPSILON_INI, epsilon_f=EPSILON_MIN, epsilon_anneal_steps=EPSILON_ANNEAL_STEPS, episode_block = EPISODE_BLOCK, device=DEVICE)\n",
    "\n",
    "ddqn_rewards = ddqn_agent.train(EPISODES, STEPS_PER_EPISODE, TOTAL_STEPS)"
   ]
  },
  {
   "cell_type": "code",
   "execution_count": null,
   "metadata": {},
   "outputs": [],
   "source": [
    "env = make_env(ENV_NAME,\n",
    "                video_folder='./videos/ddqn_validation',\n",
    "                name_prefix=\"breakout\",\n",
    "                record_every=1,\n",
    "                grayscale=GRAY_SCALE,\n",
    "                screen_size=SCREEN_SIZE,\n",
    "                stack_frames=NUM_STACKED_FRAMES,\n",
    "                skip_frames=SKIP_FRAMES\n",
    "                )\n",
    "\n",
    "ddqn_agent.play(env, episodes=3)\n",
    "\n",
    "env.close()"
   ]
  },
  {
   "cell_type": "code",
   "execution_count": null,
   "metadata": {},
   "outputs": [],
   "source": [
    "# Ruta al archivo de vídeo en tu sistema de ficheros\n",
    "video_path = \"./videos/ddqn_validation/breakout-episode-0.mp4\"\n",
    "\n",
    "# Muestra el vídeo\n",
    "Video(video_path, embed=True, width=600)"
   ]
  },
  {
   "cell_type": "markdown",
   "metadata": {},
   "source": [
    "#### Graficas \n",
    "..."
   ]
  },
  {
   "cell_type": "markdown",
   "metadata": {},
   "source": [
    "# Experimentación\n",
    "Aquí con libertad total, pueden probar diferentes arquitecturas de red, diferentes hiperparámetros, diferentes técnicas de exploración, etc.\n",
    "..."
   ]
  },
  {
   "cell_type": "markdown",
   "metadata": {
    "id": "YNNvsKiEt9I_"
   },
   "source": [
    "# Comparaciones, Resultados, Comentarios...\n",
    "De aquí en adelante son libres de presentar como gusten los resultados comparativos de las técnicas.\n",
    "..."
   ]
  }
 ],
 "metadata": {
  "accelerator": "GPU",
  "colab": {
   "provenance": []
  },
  "kernelspec": {
   "display_name": "obl_taller_ia",
   "language": "python",
   "name": "python3"
  },
  "language_info": {
   "codemirror_mode": {
    "name": "ipython",
    "version": 3
   },
   "file_extension": ".py",
   "mimetype": "text/x-python",
   "name": "python",
   "nbconvert_exporter": "python",
   "pygments_lexer": "ipython3",
   "version": "3.11.12"
  }
 },
 "nbformat": 4,
 "nbformat_minor": 1
}
