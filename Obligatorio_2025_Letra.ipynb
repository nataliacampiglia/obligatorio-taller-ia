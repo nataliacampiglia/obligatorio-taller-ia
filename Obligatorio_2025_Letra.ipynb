{
 "cells": [
  {
   "cell_type": "markdown",
   "metadata": {},
   "source": [
    "# Obligatorio - Taller Agentes Inteligentes 2025\n",
    "\n",
    "En este trabajo obligatorio aplicaremos los conceptos vistos en el curso para diseñar, implementar y evaluar agentes capaces de aprender a jugar al clásico **Breakout** de Atari, utilizando el entorno provisto por Farama Gymnasium ([https://ale.farama.org/environments/breakout/](https://ale.farama.org/environments/breakout/)). \n",
    "\n",
    "<p align=\"center\">\n",
    "  <img src=\"https://media.tenor.com/oMxHgRrISJsAAAAM/atari-deep-learning.gif\" alt=\"Atari Deep Learning\"/>\n",
    "</p>\n",
    "\n",
    "\n",
    "El ejercicio se enmarca en un contexto de aprendizaje práctico, donde trabajaremos con las interfaces estándar de Gymnasium para:\n",
    "\n",
    "1. **Profundizar en algoritmos de valor**: implementaremos y compararemos dos variantes de Q-Learning basadas en redes neuronales profundas:\n",
    "   * **Deep Q Learning (DQN)**\n",
    "   * **Double Deep Q Learning (DDQN)**\n",
    "2. **Evaluar rendimiento y estabilidad**: registraremos las recompensas obtenidas durante el entrenamiento de cada agente y analizaremos su comportamiento mediante gráficas comparativas.\n",
    "3. **Demostrar resultados de forma visual**: capturaremos vídeos que muestren a cada agente “resolviendo” el entorno, entendido como la habilidad de romper al menos cinco bloques en una partida.\n",
    "\n",
    "Debido a las limitaciones de tiempo y cómputo propias de un entorno de curso, no se espera entrenar modelos durante más de diez horas por agente. Por ello, será fundamental:\n",
    "\n",
    "* Integrar puntos de **checkpoint** para guardar periódicamente los pesos de la red.\n",
    "* Seguir en los puntos 2 y 3 la arquitectura y técnicas originales propuestas en los papers seminales de DQN y DDQN, dejando la experimentación adicional para el punto extra.\n",
    "* Flexibilizar la notebook de guía: pueden reorganizarla o dividirla en múltiples archivos según su conveniencia.\n"
   ]
  },
  {
   "cell_type": "markdown",
   "metadata": {},
   "source": [
    "## Objetivos y tareas\n",
    "\n",
    "1. **Completar la implementación**\n",
    "   * Rellenar el código faltante en la notebook y en los módulos auxiliares para que los agentes puedan interactuar con el entorno de Breakout.\n",
    "2. **Entrenar agentes**\n",
    "   * Ajustar y entrenar un **DQN** que alcance la condición de “resolver” (romper ≥ 10 bloques).\n",
    "   * Ajustar y entrenar un **DDQN** con la misma meta de desempeño.\n",
    "3. **Visualizar y analizar resultados**\n",
    "   * Generar **gráficas comparativas** de las recompensas obtenidas por ambos agentes en el mismo entorno (una gráfica por ambiente). Además se sugiere gráficas que muestren el valor de la función de valor Q para cada agente.\n",
    "   * Extraer **al menos dos conclusiones** por gráfica, comentando diferencias en convergencia, estabilidad y comportamiento exploratorio.\n",
    "4. **Registro de demostraciones**\n",
    "   * Grabar y entregar un **video demostrativo** de cada agente resolviendo el entorno.\n",
    "5. **Experimentación**\n",
    "   * Probar otras arquitecturas, técnicas de mejora o módulos de procesamiento de entradas más avanzados, documentando brevemente su impacto/"
   ]
  },
  {
   "cell_type": "markdown",
   "metadata": {},
   "source": [
    "## Criterios de evaluación\n",
    "\n",
    "| Criterio                                  | Descripción                                                  | Peso |\n",
    "| ----------------------------------------- | ------------------------------------------------------------ | ---- |\n",
    "| **Implementación y rendimiento**          | DQN y DDQN completados; cada agente rompe ≥ 10 bloques       | 40%  |\n",
    "| **Estructura y narrativa de la notebook** | Secciones claras, explicación de decisiones, “historia”      | 20%  |\n",
    "| **Análisis de resultados**                | Gráficas comparativas; ≥ 2 conclusiones por gráfico          | 20%  |\n",
    "| **Presentación visual**                   | Vídeos demostrativos de cada agente                          | 10%  |\n",
    "| **Experimentación**                       | Experimentación adicional documentada y analizada brevemente | 10%  |"
   ]
  },
  {
   "cell_type": "markdown",
   "metadata": {},
   "source": [
    "## Bibliografía\n",
    "\n",
    "* **Mnih, V.**, Kavukcuoglu, K., Silver, D., Rusu, A. A., Veness, J., Bellemare, M. G., … Hassabis, D. (2013). *Playing Atari with Deep Reinforcement Learning*. [arXiv:1312.5602](https://arxiv.org/abs/1312.5602)\n",
    "* **van Hasselt, H.**, Guez, A., & Silver, D. (2015). *Deep Reinforcement Learning with Double Q-learning*. [arXiv:1509.06461](https://arxiv.org/abs/1509.06461)\n",
    "* **Sutton, R. S.**, & Barto, A. G. (2018). *Reinforcement Learning: An Introduction* (2nd ed.), capítulo 16.5: “Human-level Video Game Play”. MIT Press."
   ]
  },
  {
   "attachments": {},
   "cell_type": "markdown",
   "metadata": {},
   "source": [
    "# Import from github"
   ]
  },
  {
   "cell_type": "code",
   "execution_count": null,
   "metadata": {},
   "outputs": [],
   "source": [
    "# !git clone https://github.com/nataliacampiglia/obligatorio-taller-ia.git\n",
    "# %cd obligatorio-taller-ia\n",
    "# !git pull"
   ]
  },
  {
   "cell_type": "markdown",
   "metadata": {},
   "source": [
    "## Setup"
   ]
  },
  {
   "cell_type": "markdown",
   "metadata": {
    "id": "gc6t9etEt9I2",
    "pycharm": {
     "name": "#%%\n"
    }
   },
   "source": [
    "**Imports**"
   ]
  },
  {
   "cell_type": "code",
   "execution_count": 144,
   "metadata": {
    "id": "cwHCw6PMt9I3",
    "pycharm": {
     "name": "#%%\n"
    }
   },
   "outputs": [],
   "source": [
    "import os\n",
    "import torch\n",
    "import numpy as np\n",
    "import random\n",
    "import numpy as np\n",
    "import torch.nn as nn\n",
    "import torch.nn.functional as F\n",
    "from torchinfo import summary\n",
    "import gymnasium\n",
    "import ale_py\n",
    "from utils import make_env, show_observation_stack\n",
    "from IPython.display import Video\n"
   ]
  },
  {
   "cell_type": "markdown",
   "metadata": {},
   "source": [
    "ALE (Atari Learning Environment) es un entorno de aprendizaje para videojuegos de Atari. En este caso, utilizaremos el entorno de Breakout. Es necesario entender que se separa el entorno de los roms de Atari, que son los juegos en sí. El entorno de ALE permite interactuar con los juegos de Atari a través de una API estándar, facilitando la implementación de algoritmos de aprendizaje por refuerzo.\n",
    "\n",
    "Debemos instalar los roms por separado, para ello primero tenemos que saber donde están los roms de Atari. "
   ]
  },
  {
   "cell_type": "code",
   "execution_count": 145,
   "metadata": {},
   "outputs": [
    {
     "name": "stdout",
     "output_type": "stream",
     "text": [
      "/opt/miniconda3/envs/obl_taller_ia/lib/python3.12/site-packages/ale_py/roms\n"
     ]
    }
   ],
   "source": [
    "gymnasium.register_envs(ale_py) # registramos todos los entornos de ale_py\n",
    "ruta_init = ale_py.roms.__file__ # debemos saber donde se encuentra la carpeta roms\n",
    "ALE_ROMS_PATH = os.path.dirname(ruta_init)\n",
    "print(ALE_ROMS_PATH)"
   ]
  },
  {
   "cell_type": "markdown",
   "metadata": {},
   "source": [
    "Podemos usar los siguientes comando para instalar los roms y colocalos en la carpeta correcta."
   ]
  },
  {
   "cell_type": "code",
   "execution_count": 146,
   "metadata": {},
   "outputs": [],
   "source": [
    "# !pip install \"autorom[accept-rom-license]\"\n",
    "# !AutoROM --accept-license --install-dir {ALE_ROMS_PATH}"
   ]
  },
  {
   "cell_type": "markdown",
   "metadata": {},
   "source": [
    "Fijamos la semilla para que los resultados sean reproducibles"
   ]
  },
  {
   "cell_type": "code",
   "execution_count": 147,
   "metadata": {},
   "outputs": [],
   "source": [
    "SEED = 23\n",
    "\n",
    "torch.manual_seed(SEED)\n",
    "torch.backends.cudnn.deterministic=True # https://discuss.pytorch.org/t/what-is-the-differenc-between-cudnn-deterministic-and-cudnn-benchmark/38054\n",
    "torch.backends.cudnn.benchmark=True # https://discuss.pytorch.org/t/what-does-torch-backends-cudnn-benchmark-do/5936/4\n",
    "np.random.seed(SEED)\n",
    "random.seed(SEED)"
   ]
  },
  {
   "cell_type": "markdown",
   "metadata": {},
   "source": [
    "Vemos que dispositivo tenemos, si es GPU, MPS o CPU. **El uso de GPU es altamente recomendable** para acelerar el entrenamiento de los modelos. "
   ]
  },
  {
   "cell_type": "code",
   "execution_count": 148,
   "metadata": {},
   "outputs": [
    {
     "name": "stdout",
     "output_type": "stream",
     "text": [
      "Device: mps\n"
     ]
    }
   ],
   "source": [
    "# Algunas constantes\n",
    "\n",
    "# definimos el dispositivo que vamos a usar\n",
    "DEVICE = \"cpu\"  # por defecto, usamos la CPU\n",
    "if torch.cuda.is_available():\n",
    "    DEVICE = \"cuda\"  # si hay GPU, usamos la GPU\n",
    "elif torch.backends.mps.is_available():\n",
    "    DEVICE = \"mps\"  # si no hay GPU, pero hay MPS, usamos MPS\n",
    "\n",
    "print(f\"Device: {DEVICE}\")"
   ]
  },
  {
   "cell_type": "markdown",
   "metadata": {},
   "source": [
    "## Preprocesando Atari\n",
    "\n",
    "Para reproducir fielmente el enfoque de Mnih et al. (2013) y reducir la carga computacional al trabajar con imágenes de Atari (210 × 160 píxeles, 128 colores), aplicamos el siguiente preprocesado φ a las últimas **4** frames del entorno:\n",
    "\n",
    "1. **Conversión a escala de grises**\n",
    "   Eliminamos la información de color (GRAYSCALE = True), pues la luminosidad es suficiente para capturar la dinámica de juego y reduce drásticamente la dimensionalidad de la entrada.\n",
    "\n",
    "2. **Down-sampling y recorte**\n",
    "   * Redimensionamos la imagen original a 110 × 84 píxeles, manteniendo la proporción horizontal.\n",
    "   * Recortamos un área central de 84 × 84 píxeles que contiene la “zona de juego”, descartando bordes innecesarios.\n",
    "     Este paso (SCREEN_SIZE = 84) no solo concentra la atención del modelo en la región relevante, sino que también garantiza un tamaño cuadrado compatible con las implementaciones de convoluciones en GPU.\n",
    "\n",
    "3. **Saltos temporales (frame skipping)**\n",
    "   Procesamos cada 4 frames (SKIP_FRAMES = 4), repitiendo la misma acción durante esos pasos. Esto reduce la redundancia temporal, acelera el entrenamiento y mantiene la coherencia del movimiento de la paleta y la bola.\n",
    "\n",
    "4. **Apilamiento de frames**\n",
    "   Finalmente, acumulamos las últimas 4 imágenes preprocesadas (NUM_STACKED_FRAMES = 4) en un único tensor de entrada. Así el agente puede inferir la velocidad y dirección de los elementos móviles a partir de la diferencia entre frames.\n",
    "\n",
    "Este esquema de preprocesado es fundamental para disminuir el espacio de entrada, acelerar las convoluciones y proporcionar al Q-net una representación compacta y rica en información dinámica, tal como se describe en el algoritmo 1 del paper original .\n",
    "\n",
    "> Se recomienda ver el método `make_env` en el archivo `utils.py` para entender cómo se implementa este preprocesado. "
   ]
  },
  {
   "cell_type": "code",
   "execution_count": 149,
   "metadata": {},
   "outputs": [],
   "source": [
    "GRAY_SCALE = True # si True, convertimos la imagen a escala de grises\n",
    "SCREEN_SIZE = 84 # redimensionamos a SCREEN_SIZExSCREEN_SIZE\n",
    "NUM_STACKED_FRAMES = 4 # apilamos NUM_STACKED_FRAMES frames\n",
    "SKIP_FRAMES = 4 # saltamos SKIP_FRAMES frames (haciendo la misma acción)"
   ]
  },
  {
   "cell_type": "code",
   "execution_count": 150,
   "metadata": {
    "colab": {
     "base_uri": "https://localhost:8080/"
    },
    "id": "loVxQPrwt9I5",
    "outputId": "18b7ed97-88dd-4b1e-a2cc-b2636686bfc7"
   },
   "outputs": [
    {
     "name": "stderr",
     "output_type": "stream",
     "text": [
      "A.L.E: Arcade Learning Environment (version 0.10.2+unknown)\n",
      "[Powered by Stella]\n",
      "Game console created:\n",
      "  ROM file:  /opt/miniconda3/envs/obl_taller_ia/lib/python3.12/site-packages/ale_py/roms/breakout.bin\n",
      "  Cart Name: Breakout - Breakaway IV (1978) (Atari)\n",
      "  Cart MD5:  f34f08e5eb96e500e851a80be3277a56\n",
      "  Display Format:  AUTO-DETECT ==> NTSC\n",
      "  ROM Size:        2048\n",
      "  Bankswitch Type: AUTO-DETECT ==> 2K\n",
      "\n",
      "Running ROM file...\n",
      "Random seed is 993706076\n"
     ]
    },
    {
     "data": {
      "image/png": "[encoded data removed]",
      "text/plain": [
       "<Figure size 640x480 with 1 Axes>"
      ]
     },
     "metadata": {},
     "output_type": "display_data"
    },
    {
     "data": {
      "image/png": "[encoded data removed]",
      "text/plain": [
       "<Figure size 640x480 with 1 Axes>"
      ]
     },
     "metadata": {},
     "output_type": "display_data"
    },
    {
     "data": {
      "image/png": "[encoded data removed]",
      "text/plain": [
       "<Figure size 640x480 with 1 Axes>"
      ]
     },
     "metadata": {},
     "output_type": "display_data"
    },
    {
     "data": {
      "image/png": "[encoded data removed]",
      "text/plain": [
       "<Figure size 640x480 with 1 Axes>"
      ]
     },
     "metadata": {},
     "output_type": "display_data"
    },
    {
     "name": "stdout",
     "output_type": "stream",
     "text": [
      "Episode 1 finished with total reward: 2\n"
     ]
    },
    {
     "name": "stderr",
     "output_type": "stream",
     "text": [
      "python(73213) MallocStackLogging: can't turn off malloc stack logging because it was not enabled.\n"
     ]
    }
   ],
   "source": [
    "# https://ale.farama.org/environments/breakout/\n",
    "ENV_NAME = \"ALE/Breakout-v5\" \n",
    "\n",
    "env = make_env(ENV_NAME,\n",
    "                video_folder='./videos/random',\n",
    "                name_prefix=\"breakout\",\n",
    "                record_every=1,\n",
    "                grayscale=GRAY_SCALE,\n",
    "                screen_size=SCREEN_SIZE,\n",
    "                stack_frames=NUM_STACKED_FRAMES,\n",
    "                skip_frames=SKIP_FRAMES\n",
    "                )\n",
    "\n",
    "for episode_num in range(1):\n",
    "    obs, info = env.reset()\n",
    "    show_observation_stack(obs)\n",
    "    reward_total = 0\n",
    "    episode_over = False\n",
    "    while not episode_over:\n",
    "        action = env.action_space.sample()  # seleccionamos una acción aleatoria\n",
    "        obs, reward, terminated, truncated, info = env.step(action)\n",
    "        reward_total += reward\n",
    "        episode_over = terminated or truncated\n",
    "    print(f\"Episode {episode_num + 1} finished with total reward: {reward_total}\")\n",
    "\n",
    "env.close()"
   ]
  },
  {
   "cell_type": "markdown",
   "metadata": {},
   "source": [
    "Además, podemos mostrar los videos capturados por el entorno de Atari de la siguiente manera:"
   ]
  },
  {
   "cell_type": "code",
   "execution_count": 151,
   "metadata": {},
   "outputs": [
    {
     "data": {
      "text/html": [
       "<video controls  width=\"600\" >\n",
       " <source src=\"data:video/mp4;base64,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\" type=\"video/mp4\">\n",
       " Your browser does not support the video tag.\n",
       " </video>"
      ],
      "text/plain": [
       "<IPython.core.display.Video object>"
      ]
     },
     "execution_count": 151,
     "metadata": {},
     "output_type": "execute_result"
    }
   ],
   "source": [
    "# Ruta al archivo de vídeo en tu sistema de ficheros\n",
    "video_path = \"./videos/random/breakout-episode-0.mp4\"\n",
    "\n",
    "# Muestra el vídeo\n",
    "Video(video_path, embed=True, width=600)"
   ]
  },
  {
   "cell_type": "markdown",
   "metadata": {
    "id": "2bYVG_TKt9I5"
   },
   "source": [
    "# Exploración del entorno"
   ]
  },
  {
   "cell_type": "code",
   "execution_count": 152,
   "metadata": {},
   "outputs": [
    {
     "name": "stdout",
     "output_type": "stream",
     "text": [
      "Actions shape: Discrete(4)\n",
      "Observation shape: (4, 84, 84)\n",
      "(4, 84, 84),\n",
      " 0,\n",
      " False,\n",
      " {'lives': 5, 'episode_frame_number': 14, 'frame_number': 1026}\n"
     ]
    }
   ],
   "source": [
    "print(\"Actions shape:\",env.action_space)\n",
    "print(\"Observation shape:\",env.observation_space.shape)\n",
    "env.reset()\n",
    "next_state, reward, terminated, truncated, info = env.step(action=0)\n",
    "\n",
    "print(f\"{next_state.shape},\\n {reward},\\n {terminated},\\n {info}\")"
   ]
  },
  {
   "cell_type": "markdown",
   "metadata": {},
   "source": [
    "### Acciones\n",
    "..."
   ]
  },
  {
   "cell_type": "markdown",
   "metadata": {},
   "source": [
    "### Observaciones\n",
    "..."
   ]
  },
  {
   "cell_type": "markdown",
   "metadata": {
    "id": "XIHpwiaat9I7"
   },
   "source": [
    "# Deep Q Learning\n",
    "\n",
    "Deep Q Learning extiende el algoritmo clásico de Q-learning al emplear una **red neuronal profunda** como aproximador de la función de valor $Q(s,a)$. Inspirado en Mnih et al. (2013), este método utiliza una **red convolucional** para procesar directamente las imágenes del entorno Atari, un **replay buffer** para romper la correlación temporal de las muestras. La política sigue un esquema **ε-greedy**, balanceando exploración y explotación, y se entrena minimizando el error de la ecuación de Bellman sobre lotes de transiciones muestreadas de manera aleatoria.\n",
    "\n",
    "<p align=\"center\">\n",
    "  <img src=\"https://www.researchgate.net/profile/Faris-Mismar/publication/327045314/figure/fig4/AS:819677282455553@1572437701142/Structure-of-the-neural-network-used-for-the-Deep-Q-learning-Network-implementation-with.png\" alt=\"DQN\"/>\n",
    "</p>\n",
    "\n",
    "Fuente: [arXiv:1312.5602](https://arxiv.org/abs/1312.5602)"
   ]
  },
  {
   "cell_type": "markdown",
   "metadata": {
    "id": "ajTGajUftSgY",
    "pycharm": {
     "name": "#%% md\n"
    }
   },
   "source": [
    "## Memoria\n",
    "\n",
    "El algoritmo de Deep Q Learning presentado en el paper utiliza una memoria (llamada Replay Memory) para almacenar transiciones pasadas. Tuplas que contienen un estado base, la accion tomada, la recompensa obtenida, una bandera que indica si el siguiente estado es final o no; y el estado siguiente.\n",
    "\n",
    "Esta memoria es circular, es decir, tiene un límite maximo de elementos y una vez esté llena comienza a reemplazar los elementos más viejos.\n",
    "\n",
    "Vamos a necesitar crear una función **sample** que obtiene una mustra aleatoria de elementos de la memoria.  Esto puede ser una lista de Transiciones o listas separadas (pero alineadas) de los elementos que las componen.\n",
    "\n",
    "\n",
    "> Para implementar esta funcionalidad se debe modificar el archivo **replay_memory.py**"
   ]
  },
  {
   "cell_type": "code",
   "execution_count": 153,
   "metadata": {
    "id": "scPtpbz4tTAh",
    "outputId": "0890f48a-e673-4416-bd69-7dcf2730ba64",
    "pycharm": {
     "name": "#%%\n"
    }
   },
   "outputs": [
    {
     "name": "stdout",
     "output_type": "stream",
     "text": [
      "Memory size: 3\n",
      "\n",
      "Memory sample:\n",
      "Sample 0: Transition(state='state2', action='action2', reward='reward2', done='done2', next_state='next_state2')\n",
      "Sample 1: Transition(state='state4', action='action4', reward='reward4', done='done4', next_state='next_state4')\n"
     ]
    }
   ],
   "source": [
    "from replay_memory import ReplayMemory, Transition\n",
    "\n",
    "# Creamos la memoria de repetición\n",
    "replay_memory = ReplayMemory(3)\n",
    "\n",
    "# Añadimos transiciones a la memoria (solo las 3 últimas se guardan)\n",
    "replay_memory.add('state1', 'action1', 'reward1', 'done1', 'next_state1' )\n",
    "replay_memory.add('state2', 'action2', 'reward2', 'done2', 'next_state2')\n",
    "replay_memory.add('state3', 'action3', 'reward3', 'done3', 'next_state3')\n",
    "replay_memory.add('state4', 'action4', 'reward4', 'done4', 'next_state4')\n",
    "\n",
    "# Mostramos el tamaño de la memoria\n",
    "print(f\"Memory size: {len(replay_memory)}\\n\")\n",
    "\n",
    "# Mostramos un sample de la memoria\n",
    "sampled = replay_memory.sample(2)\n",
    "print(f\"Memory sample:\")\n",
    "for i, sample in enumerate(sampled):\n",
    "    print(f\"Sample {i}: {sample}\")\n"
   ]
  },
  {
   "cell_type": "markdown",
   "metadata": {
    "id": "j7Ygv5Mjtb-F",
    "pycharm": {
     "name": "#%% md\n"
    }
   },
   "source": [
    "## Modelo\n",
    "\n",
    "Vamos a usar un mismo modelo FeedForward para estos dos problemas (entrenado en cada problema particular). Recomendamos simplicidad en la creación del mismo, pero tienen total libertad al momento de implementarlo.\n",
    "\n",
    "> Para implementar esta funcionalidad se debe modificar el archivo **dqn_cnn_model.py**. Se recomienda empezar por una arquitectura simple como la que se muestra en el paper de Mnih et al. (2013) y luego experimentar con arquitecturas más complejas."
   ]
  },
  {
   "cell_type": "code",
   "execution_count": 154,
   "metadata": {
    "id": "bkNBvJB6ryp7",
    "pycharm": {
     "name": "#%%\n"
    }
   },
   "outputs": [
    {
     "name": "stdout",
     "output_type": "stream",
     "text": [
      "Actions shape: Discrete(4)\n",
      "Observatiion shape: (4, 84, 84)\n",
      "4 84 84\n",
      "conv1 20 20\n",
      "conv2 9 9\n",
      "Linear(in_features=256, out_features=4, bias=True)\n"
     ]
    },
    {
     "name": "stderr",
     "output_type": "stream",
     "text": [
      "A.L.E: Arcade Learning Environment (version 0.10.2+unknown)\n",
      "[Powered by Stella]\n",
      "Game console created:\n",
      "  ROM file:  /opt/miniconda3/envs/obl_taller_ia/lib/python3.12/site-packages/ale_py/roms/breakout.bin\n",
      "  Cart Name: Breakout - Breakaway IV (1978) (Atari)\n",
      "  Cart MD5:  f34f08e5eb96e500e851a80be3277a56\n",
      "  Display Format:  AUTO-DETECT ==> NTSC\n",
      "  ROM Size:        2048\n",
      "  Bankswitch Type: AUTO-DETECT ==> 2K\n",
      "\n",
      "Running ROM file...\n",
      "Random seed is 1675210582\n"
     ]
    },
    {
     "name": "stdout",
     "output_type": "stream",
     "text": [
      " obs.shape = torch.Size([32, 4, 84, 84])\n",
      " x.shape = torch.Size([32, 16, 20, 20])\n",
      " x.shape = torch.Size([32, 32, 9, 9])\n",
      " x.shape = torch.Size([32, 32, 9, 9])\n",
      " x.shape = torch.Size([32, 2592])\n",
      " x.shape = torch.Size([32, 256])\n"
     ]
    },
    {
     "data": {
      "text/plain": [
       "==========================================================================================\n",
       "Layer (type:depth-idx)                   Output Shape              Param #\n",
       "==========================================================================================\n",
       "DQN_CNN_Model                            [32, 4]                   --\n",
       "├─Conv2d: 1-1                            [32, 16, 20, 20]          4,112\n",
       "├─Conv2d: 1-2                            [32, 32, 9, 9]            8,224\n",
       "├─Linear: 1-3                            [32, 256]                 663,808\n",
       "├─Linear: 1-4                            [32, 4]                   1,028\n",
       "==========================================================================================\n",
       "Total params: 677,172\n",
       "Trainable params: 677,172\n",
       "Non-trainable params: 0\n",
       "Total mult-adds (Units.MEGABYTES): 95.22\n",
       "==========================================================================================\n",
       "Input size (MB): 3.61\n",
       "Forward/backward pass size (MB): 2.37\n",
       "Params size (MB): 2.71\n",
       "Estimated Total Size (MB): 8.69\n",
       "=========================================================================================="
      ]
     },
     "execution_count": 154,
     "metadata": {},
     "output_type": "execute_result"
    }
   ],
   "source": [
    "from dqn_cnn_model import DQN_CNN_Model\n",
    "\n",
    "env = make_env(ENV_NAME,\n",
    "                record_every=None,\n",
    "                grayscale=GRAY_SCALE,\n",
    "                screen_size=SCREEN_SIZE,\n",
    "                stack_frames=NUM_STACKED_FRAMES,\n",
    "                skip_frames=SKIP_FRAMES\n",
    "                )\n",
    "print(\"Actions shape:\",env.action_space)\n",
    "print(\"Observatiion shape:\",env.observation_space.shape)\n",
    "\n",
    "env.close()\n",
    "\n",
    "cnn_model = DQN_CNN_Model(env.observation_space.shape, env.action_space.n).to(DEVICE)\n",
    "summary(cnn_model, input_size=(32, SKIP_FRAMES, SCREEN_SIZE, SCREEN_SIZE), device=DEVICE) # 32 es el batch size"
   ]
  },
  {
   "cell_type": "markdown",
   "metadata": {},
   "source": [
    "La red esta definida para que reciba un tensor de 4 dimensiones (batch_size, num_frames, height, width) y devuelve un tensor de 2 dimensiones (batch_size, num_actions). La función `forward` es la encargada de definir el flujo de datos a través de la red. En este caso, se utiliza una red convolucional seguida de capas totalmente conectadas"
   ]
  },
  {
   "cell_type": "code",
   "execution_count": 155,
   "metadata": {},
   "outputs": [
    {
     "name": "stdout",
     "output_type": "stream",
     "text": [
      " obs.shape = torch.Size([1, 4, 84, 84])\n",
      " x.shape = torch.Size([1, 16, 20, 20])\n",
      " x.shape = torch.Size([1, 32, 9, 9])\n",
      " x.shape = torch.Size([1, 32, 9, 9])\n",
      " x.shape = torch.Size([1, 2592])\n",
      " x.shape = torch.Size([1, 256])\n",
      "Q-values shape: torch.Size([1, 4])\n"
     ]
    }
   ],
   "source": [
    "obs_tensor_batch = torch.rand((NUM_STACKED_FRAMES,SCREEN_SIZE,SCREEN_SIZE)).unsqueeze(0).to(DEVICE) # Añadimos una dimensión para el batch y lo pasamos al dispositivo\n",
    "print(f\"Q-values shape: {cnn_model(obs_tensor_batch).shape}\") # shape: (1, num_actions) "
   ]
  },
  {
   "cell_type": "markdown",
   "metadata": {},
   "source": [
    "Los valores de Q se obtienen a partir de la salida de la red, cada columna representa el valor Q para cada acción posible en el estado actual. "
   ]
  },
  {
   "cell_type": "code",
   "execution_count": 156,
   "metadata": {},
   "outputs": [
    {
     "name": "stdout",
     "output_type": "stream",
     "text": [
      " obs.shape = torch.Size([1, 4, 84, 84])\n",
      " x.shape = torch.Size([1, 16, 20, 20])\n",
      " x.shape = torch.Size([1, 32, 9, 9])\n",
      " x.shape = torch.Size([1, 32, 9, 9])\n",
      " x.shape = torch.Size([1, 2592])\n",
      " x.shape = torch.Size([1, 256])\n"
     ]
    },
    {
     "data": {
      "text/plain": [
       "tensor([[-0.0188,  0.0008,  0.0328,  0.0380]], device='mps:0',\n",
       "       grad_fn=<LinearBackward0>)"
      ]
     },
     "execution_count": 156,
     "metadata": {},
     "output_type": "execute_result"
    }
   ],
   "source": [
    "cnn_model(obs_tensor_batch) "
   ]
  },
  {
   "cell_type": "markdown",
   "metadata": {},
   "source": [
    "Podemos preguntar cuál es la acción con mayor valor Q en un estado."
   ]
  },
  {
   "cell_type": "code",
   "execution_count": 157,
   "metadata": {},
   "outputs": [
    {
     "name": "stdout",
     "output_type": "stream",
     "text": [
      " obs.shape = torch.Size([1, 4, 84, 84])\n",
      " x.shape = torch.Size([1, 16, 20, 20])\n",
      " x.shape = torch.Size([1, 32, 9, 9])\n",
      " x.shape = torch.Size([1, 32, 9, 9])\n",
      " x.shape = torch.Size([1, 2592])\n",
      " x.shape = torch.Size([1, 256])\n"
     ]
    },
    {
     "data": {
      "text/plain": [
       "torch.return_types.max(\n",
       "values=tensor([0.0380], device='mps:0', grad_fn=<MaxBackward0>),\n",
       "indices=tensor([3], device='mps:0'))"
      ]
     },
     "execution_count": 157,
     "metadata": {},
     "output_type": "execute_result"
    }
   ],
   "source": [
    "cnn_model(obs_tensor_batch).max(1)"
   ]
  },
  {
   "cell_type": "markdown",
   "metadata": {},
   "source": [
    "En el siguiente ejemplo vamos a ver cómo tomar los valores de acciones deseables para un conjunto de estados. "
   ]
  },
  {
   "cell_type": "code",
   "execution_count": 158,
   "metadata": {},
   "outputs": [
    {
     "name": "stdout",
     "output_type": "stream",
     "text": [
      "Batch shape: torch.Size([3, 4, 84, 84])\n",
      " obs.shape = torch.Size([3, 4, 84, 84])\n",
      " x.shape = torch.Size([3, 16, 20, 20])\n",
      " x.shape = torch.Size([3, 32, 9, 9])\n",
      " x.shape = torch.Size([3, 32, 9, 9])\n",
      " x.shape = torch.Size([3, 2592])\n",
      " x.shape = torch.Size([3, 256])\n",
      "Q-values: tensor([[-0.0399,  0.0014,  0.0332,  0.0316],\n",
      "        [-0.0319,  0.0112,  0.0292,  0.0156],\n",
      "        [-0.0356,  0.0033,  0.0296,  0.0224]], device='mps:0',\n",
      "       grad_fn=<LinearBackward0>)\n",
      "Q-values: tensor([[0.0014],\n",
      "        [0.0292],\n",
      "        [0.0224]], device='mps:0', grad_fn=<GatherBackward0>)\n"
     ]
    }
   ],
   "source": [
    "# Creamos 3 observaciones aleatorias para probar el modelo\n",
    "obs_ran1 = torch.rand(4, 84, 84)\n",
    "obs_ran2 = torch.rand(4, 84, 84)\n",
    "obs_ran3 = torch.rand(4, 84, 84)\n",
    "\n",
    "batch = torch.stack([obs_ran1, obs_ran2, obs_ran3], dim=0).to(DEVICE) # shape: (3, 4, 84, 84)\n",
    "print(f\"Batch shape: {batch.shape}\")\n",
    "\n",
    "actions =  torch.tensor([1, 2, 3], device=DEVICE).unsqueeze(1) # queremos la acción 1 para la primera observación, la acción 2 para la segunda y la acción 3 para la tercera\n",
    "\n",
    "Q_test = cnn_model(batch)\n",
    "print(f\"Q-values: {Q_test}\")\n",
    "print(f\"Q-values: {Q_test.gather(1, actions)}\") # https://pytorch.org/docs/main/generated/torch.gather.html"
   ]
  },
  {
   "cell_type": "markdown",
   "metadata": {},
   "source": [
    "## Phi \n",
    "\n",
    "La función para procesar los estados (phi en el paper) que es necesaria para poder usar el modelo de Pytorch con las representaciones de gym. Esta función pasa una observación de gym a un tensor de Pytorch y la normaliza.\n",
    "\n",
    "> Técnicamente la función phi tiene más responsabilidades, como la de apilar los frames y el downsampling. En nuestro caso se lo delegamos a los wrappers de gymnasium."
   ]
  },
  {
   "cell_type": "code",
   "execution_count": 159,
   "metadata": {
    "id": "oegpMg25t9I9",
    "pycharm": {
     "name": "#%%\n"
    }
   },
   "outputs": [
    {
     "name": "stdout",
     "output_type": "stream",
     "text": [
      "Observation shape: torch.Size([4, 84, 84])\n"
     ]
    }
   ],
   "source": [
    "def process_state(obs):\n",
    "    \"\"\"\n",
    "    Preprocess the state to be used as input for the model (transform to tensor).\n",
    "    \"\"\"\n",
    "    return torch.tensor(obs, dtype=torch.float32, device=DEVICE) / 255.0\n",
    "\n",
    "obs, _ = env.reset()\n",
    "obs_tensor = process_state(obs)\n",
    "print(f\"Observation shape: {obs_tensor.shape}\")"
   ]
  },
  {
   "cell_type": "markdown",
   "metadata": {
    "id": "z9B7ZY9Htj_F",
    "pycharm": {
     "name": "#%% md\n"
    }
   },
   "source": [
    "## Agente\n",
    "\n",
    "Vamos a definir una clase agente (abstracto), encargado de interactuar con el ambiente y entrenar los modelos. Los métdos definidos deben funcionar para ambos problemas simplemente cambiando el modelo a utilizar para cada ambiente.\n",
    "\n",
    "Abajo dejamos un esqueleto del mismo y las funciones a completar. Recomendamos no alterar la estructura del mismo, pero pueden definir las funciones auxiliares que consideren necesarias.\n",
    "\n",
    "> Para implementar esta funcionalidad se debe modificar los archivos **abstract_agent.py** y **dqn_agent.py**.\n",
    "\n",
    "Funciones a completar:\n",
    "\n",
    "\n",
    "1. **init**: que inicializa los parametros del agente.\n",
    "\n",
    "2. **compute_epsilon**: que computa el valor actual de epsilon en base al número de pasos actuales y si esta entrenando o no.\n",
    "\n",
    "3. **select_action**: Seleccionando acciones \"epsilongreedy-mente\" si estamos entranando y completamente greedy en otro caso.\n",
    "\n",
    "4. **train**: que entrena el agente por un número dado de episodios de largo determinado.\n",
    "\n",
    "5. **record_test_episode**: para grabar un episodio con el agente siempre seleccionando la mejor accion conocida."
   ]
  },
  {
   "cell_type": "markdown",
   "metadata": {
    "id": "BOD-ENZRtyMt",
    "pycharm": {
     "name": "#%% md\n"
    }
   },
   "source": [
    "## Entrenamiento"
   ]
  },
  {
   "cell_type": "code",
   "execution_count": 160,
   "metadata": {},
   "outputs": [],
   "source": [
    "#Hiperparámetros de entrenamiento del agente DQN\n",
    "# TOTAL_STEPS = 10_000_000\n",
    "TOTAL_STEPS = 2_500_000\n",
    "EPISODES = 10_000\n",
    "STEPS_PER_EPISODE = 20_000\n",
    "\n",
    "EPSILON_INI = 1\n",
    "EPSILON_MIN = 0.05\n",
    "# EPSILON_ANNEAL_STEPS = 1_000_000\n",
    "EPSILON_ANNEAL_STEPS = 1_000_000\n",
    "\n",
    "EPISODE_BLOCK = 100\n",
    "\n",
    "BATCH_SIZE = 32\n",
    "BUFFER_SIZE = 50_000\n",
    "\n",
    "GAMMA = 0.995\n",
    "LEARNING_RATE = 1e-5"
   ]
  },
  {
   "cell_type": "code",
   "execution_count": 161,
   "metadata": {},
   "outputs": [
    {
     "name": "stderr",
     "output_type": "stream",
     "text": [
      "A.L.E: Arcade Learning Environment (version 0.10.2+unknown)\n",
      "[Powered by Stella]\n",
      "Game console created:\n",
      "  ROM file:  /opt/miniconda3/envs/obl_taller_ia/lib/python3.12/site-packages/ale_py/roms/breakout.bin\n",
      "  Cart Name: Breakout - Breakaway IV (1978) (Atari)\n",
      "  Cart MD5:  f34f08e5eb96e500e851a80be3277a56\n",
      "  Display Format:  AUTO-DETECT ==> NTSC\n",
      "  ROM Size:        2048\n",
      "  Bankswitch Type: AUTO-DETECT ==> 2K\n",
      "\n",
      "Running ROM file...\n",
      "Random seed is -420818835\n"
     ]
    }
   ],
   "source": [
    "env = make_env(ENV_NAME,\n",
    "                video_folder='./videos/dqn_training',\n",
    "                name_prefix=\"breakout\",\n",
    "                record_every=500,\n",
    "                grayscale=GRAY_SCALE,\n",
    "                screen_size=SCREEN_SIZE,\n",
    "                stack_frames=NUM_STACKED_FRAMES,\n",
    "                skip_frames=SKIP_FRAMES\n",
    "                )"
   ]
  },
  {
   "cell_type": "code",
   "execution_count": 162,
   "metadata": {},
   "outputs": [],
   "source": [
    "import importlib\n",
    "import replay_memory  # or whatever module you changed\n",
    "import dqn_cnn_model\n",
    "import dqn_agent\n",
    "import abstract_agent\n",
    "importlib.reload(replay_memory)\n",
    "importlib.reload(dqn_cnn_model)\n",
    "importlib.reload(dqn_agent)\n",
    "importlib.reload(abstract_agent)\n",
    "from dqn_cnn_model import DQN_CNN_Model\n",
    "from dqn_agent import DQNAgent\n",
    "\n",
    "from abstract_agent import Agent"
   ]
  },
  {
   "cell_type": "code",
   "execution_count": 163,
   "metadata": {},
   "outputs": [
    {
     "name": "stdout",
     "output_type": "stream",
     "text": [
      "Output shape before conv1: (84, 84)\n",
      "Output shape after conv1: (20, 20)\n",
      "Output shape after conv2: (9, 9)\n"
     ]
    }
   ],
   "source": [
    "net = DQN_CNN_Model(env.observation_space.shape, env.action_space.n).to(DEVICE)"
   ]
  },
  {
   "cell_type": "code",
   "execution_count": 164,
   "metadata": {},
   "outputs": [],
   "source": [
    "dqn_agent = DQNAgent(env, net, process_state, BUFFER_SIZE, BATCH_SIZE, LEARNING_RATE, GAMMA, epsilon_i=EPSILON_INI, epsilon_f=EPSILON_MIN, epsilon_anneal_steps=EPSILON_ANNEAL_STEPS, episode_block=EPISODE_BLOCK, device=DEVICE)"
   ]
  },
  {
   "cell_type": "code",
   "execution_count": 22,
   "metadata": {
    "id": "BsTl-pFqt10b",
    "pycharm": {
     "name": "#%%\n"
    }
   },
   "outputs": [
    {
     "name": "stderr",
     "output_type": "stream",
     "text": [
      "Entrenando:   0%|          | 5/10000 [00:03<1:33:17,  1.79episode/s, reward=1.8, epsilon=0.999, steps=1031]c:\\Users\\Octav\\postgrado\\taller ia\\obligatorio\\git\\obligatorio-taller-ia\\dqn_agent.py:70: UserWarning: To copy construct from a tensor, it is recommended to use sourceTensor.clone().detach() or sourceTensor.clone().detach().requires_grad_(True), rather than torch.tensor(sourceTensor).\n",
      "  state_tensor = torch.tensor(\n",
      "Entrenando:   1%|▏         | 140/10000 [01:12<1:24:42,  1.94episode/s, reward=1.43, epsilon=0.974, steps=27135]\n"
     ]
    },
    {
     "ename": "KeyboardInterrupt",
     "evalue": "",
     "output_type": "error",
     "traceback": [
      "\u001b[31m---------------------------------------------------------------------------\u001b[39m",
      "\u001b[31mKeyboardInterrupt\u001b[39m                         Traceback (most recent call last)",
      "\u001b[36mCell\u001b[39m\u001b[36m \u001b[39m\u001b[32mIn[22]\u001b[39m\u001b[32m, line 1\u001b[39m\n\u001b[32m----> \u001b[39m\u001b[32m1\u001b[39m dqn_rewards = \u001b[43mdqn_agent\u001b[49m\u001b[43m.\u001b[49m\u001b[43mtrain\u001b[49m\u001b[43m(\u001b[49m\u001b[43mEPISODES\u001b[49m\u001b[43m,\u001b[49m\u001b[43m \u001b[49m\u001b[43mSTEPS_PER_EPISODE\u001b[49m\u001b[43m,\u001b[49m\u001b[43m \u001b[49m\u001b[43mTOTAL_STEPS\u001b[49m\u001b[43m)\u001b[49m\n\u001b[32m      3\u001b[39m env.close()\n",
      "\u001b[36mFile \u001b[39m\u001b[32mc:\\Users\\Octav\\postgrado\\taller ia\\obligatorio\\git\\obligatorio-taller-ia\\abstract_agent.py:74\u001b[39m, in \u001b[36mAgent.train\u001b[39m\u001b[34m(self, number_episodes, max_steps_episode, max_steps)\u001b[39m\n\u001b[32m     71\u001b[39m \u001b[38;5;28mself\u001b[39m.memory.add(state_phi, action, reward, done, next_state_phi)\n\u001b[32m     73\u001b[39m \u001b[38;5;66;03m# Llamar a update_weights() para entrenar modelo\u001b[39;00m\n\u001b[32m---> \u001b[39m\u001b[32m74\u001b[39m \u001b[38;5;28;43mself\u001b[39;49m\u001b[43m.\u001b[49m\u001b[43mupdate_weights\u001b[49m\u001b[43m(\u001b[49m\u001b[43m)\u001b[49m\n\u001b[32m     76\u001b[39m \u001b[38;5;66;03m# Actualizar state y state_phi al siguiente estado\u001b[39;00m\n\u001b[32m     77\u001b[39m state = next_state\n",
      "\u001b[36mFile \u001b[39m\u001b[32mc:\\Users\\Octav\\postgrado\\taller ia\\obligatorio\\git\\obligatorio-taller-ia\\dqn_agent.py:117\u001b[39m, in \u001b[36mDQNAgent.update_weights\u001b[39m\u001b[34m(self)\u001b[39m\n\u001b[32m    115\u001b[39m loss = \u001b[38;5;28mself\u001b[39m.loss_fn(q_current, q_target)\n\u001b[32m    116\u001b[39m \u001b[38;5;28mself\u001b[39m.optimizer.zero_grad()\n\u001b[32m--> \u001b[39m\u001b[32m117\u001b[39m \u001b[43mloss\u001b[49m\u001b[43m.\u001b[49m\u001b[43mbackward\u001b[49m\u001b[43m(\u001b[49m\u001b[43m)\u001b[49m\n\u001b[32m    118\u001b[39m \u001b[38;5;28mself\u001b[39m.optimizer.step()\n",
      "\u001b[36mFile \u001b[39m\u001b[32mc:\\Users\\Octav\\anaconda3\\envs\\obl_taller_ia\\Lib\\site-packages\\torch\\_tensor.py:581\u001b[39m, in \u001b[36mTensor.backward\u001b[39m\u001b[34m(self, gradient, retain_graph, create_graph, inputs)\u001b[39m\n\u001b[32m    571\u001b[39m \u001b[38;5;28;01mif\u001b[39;00m has_torch_function_unary(\u001b[38;5;28mself\u001b[39m):\n\u001b[32m    572\u001b[39m     \u001b[38;5;28;01mreturn\u001b[39;00m handle_torch_function(\n\u001b[32m    573\u001b[39m         Tensor.backward,\n\u001b[32m    574\u001b[39m         (\u001b[38;5;28mself\u001b[39m,),\n\u001b[32m   (...)\u001b[39m\u001b[32m    579\u001b[39m         inputs=inputs,\n\u001b[32m    580\u001b[39m     )\n\u001b[32m--> \u001b[39m\u001b[32m581\u001b[39m \u001b[43mtorch\u001b[49m\u001b[43m.\u001b[49m\u001b[43mautograd\u001b[49m\u001b[43m.\u001b[49m\u001b[43mbackward\u001b[49m\u001b[43m(\u001b[49m\n\u001b[32m    582\u001b[39m \u001b[43m    \u001b[49m\u001b[38;5;28;43mself\u001b[39;49m\u001b[43m,\u001b[49m\u001b[43m \u001b[49m\u001b[43mgradient\u001b[49m\u001b[43m,\u001b[49m\u001b[43m \u001b[49m\u001b[43mretain_graph\u001b[49m\u001b[43m,\u001b[49m\u001b[43m \u001b[49m\u001b[43mcreate_graph\u001b[49m\u001b[43m,\u001b[49m\u001b[43m \u001b[49m\u001b[43minputs\u001b[49m\u001b[43m=\u001b[49m\u001b[43minputs\u001b[49m\n\u001b[32m    583\u001b[39m \u001b[43m\u001b[49m\u001b[43m)\u001b[49m\n",
      "\u001b[36mFile \u001b[39m\u001b[32mc:\\Users\\Octav\\anaconda3\\envs\\obl_taller_ia\\Lib\\site-packages\\torch\\autograd\\__init__.py:347\u001b[39m, in \u001b[36mbackward\u001b[39m\u001b[34m(tensors, grad_tensors, retain_graph, create_graph, grad_variables, inputs)\u001b[39m\n\u001b[32m    342\u001b[39m     retain_graph = create_graph\n\u001b[32m    344\u001b[39m \u001b[38;5;66;03m# The reason we repeat the same comment below is that\u001b[39;00m\n\u001b[32m    345\u001b[39m \u001b[38;5;66;03m# some Python versions print out the first line of a multi-line function\u001b[39;00m\n\u001b[32m    346\u001b[39m \u001b[38;5;66;03m# calls in the traceback and some print out the last line\u001b[39;00m\n\u001b[32m--> \u001b[39m\u001b[32m347\u001b[39m \u001b[43m_engine_run_backward\u001b[49m\u001b[43m(\u001b[49m\n\u001b[32m    348\u001b[39m \u001b[43m    \u001b[49m\u001b[43mtensors\u001b[49m\u001b[43m,\u001b[49m\n\u001b[32m    349\u001b[39m \u001b[43m    \u001b[49m\u001b[43mgrad_tensors_\u001b[49m\u001b[43m,\u001b[49m\n\u001b[32m    350\u001b[39m \u001b[43m    \u001b[49m\u001b[43mretain_graph\u001b[49m\u001b[43m,\u001b[49m\n\u001b[32m    351\u001b[39m \u001b[43m    \u001b[49m\u001b[43mcreate_graph\u001b[49m\u001b[43m,\u001b[49m\n\u001b[32m    352\u001b[39m \u001b[43m    \u001b[49m\u001b[43minputs\u001b[49m\u001b[43m,\u001b[49m\n\u001b[32m    353\u001b[39m \u001b[43m    \u001b[49m\u001b[43mallow_unreachable\u001b[49m\u001b[43m=\u001b[49m\u001b[38;5;28;43;01mTrue\u001b[39;49;00m\u001b[43m,\u001b[49m\n\u001b[32m    354\u001b[39m \u001b[43m    \u001b[49m\u001b[43maccumulate_grad\u001b[49m\u001b[43m=\u001b[49m\u001b[38;5;28;43;01mTrue\u001b[39;49;00m\u001b[43m,\u001b[49m\n\u001b[32m    355\u001b[39m \u001b[43m\u001b[49m\u001b[43m)\u001b[49m\n",
      "\u001b[36mFile \u001b[39m\u001b[32mc:\\Users\\Octav\\anaconda3\\envs\\obl_taller_ia\\Lib\\site-packages\\torch\\autograd\\graph.py:825\u001b[39m, in \u001b[36m_engine_run_backward\u001b[39m\u001b[34m(t_outputs, *args, **kwargs)\u001b[39m\n\u001b[32m    823\u001b[39m     unregister_hooks = _register_logging_hooks_on_whole_graph(t_outputs)\n\u001b[32m    824\u001b[39m \u001b[38;5;28;01mtry\u001b[39;00m:\n\u001b[32m--> \u001b[39m\u001b[32m825\u001b[39m     \u001b[38;5;28;01mreturn\u001b[39;00m \u001b[43mVariable\u001b[49m\u001b[43m.\u001b[49m\u001b[43m_execution_engine\u001b[49m\u001b[43m.\u001b[49m\u001b[43mrun_backward\u001b[49m\u001b[43m(\u001b[49m\u001b[43m  \u001b[49m\u001b[38;5;66;43;03m# Calls into the C++ engine to run the backward pass\u001b[39;49;00m\n\u001b[32m    826\u001b[39m \u001b[43m        \u001b[49m\u001b[43mt_outputs\u001b[49m\u001b[43m,\u001b[49m\u001b[43m \u001b[49m\u001b[43m*\u001b[49m\u001b[43margs\u001b[49m\u001b[43m,\u001b[49m\u001b[43m \u001b[49m\u001b[43m*\u001b[49m\u001b[43m*\u001b[49m\u001b[43mkwargs\u001b[49m\n\u001b[32m    827\u001b[39m \u001b[43m    \u001b[49m\u001b[43m)\u001b[49m  \u001b[38;5;66;03m# Calls into the C++ engine to run the backward pass\u001b[39;00m\n\u001b[32m    828\u001b[39m \u001b[38;5;28;01mfinally\u001b[39;00m:\n\u001b[32m    829\u001b[39m     \u001b[38;5;28;01mif\u001b[39;00m attach_logging_hooks:\n",
      "\u001b[31mKeyboardInterrupt\u001b[39m: "
     ]
    }
   ],
   "source": [
    "dqn_rewards = dqn_agent.train(EPISODES, STEPS_PER_EPISODE, TOTAL_STEPS)\n",
    "\n",
    "env.close()"
   ]
  },
  {
   "cell_type": "code",
   "execution_count": null,
   "metadata": {},
   "outputs": [
    {
     "name": "stderr",
     "output_type": "stream",
     "text": [
      "c:\\Users\\Octav\\anaconda3\\envs\\obl_taller_ia\\Lib\\site-packages\\gymnasium\\wrappers\\rendering.py:283: UserWarning: \u001b[33mWARN: Overwriting existing videos at c:\\Users\\Octav\\postgrado\\taller ia\\obligatorio\\git\\obligatorio-taller-ia\\videos\\dqn_validation folder (try specifying a different `video_folder` for the `RecordVideo` wrapper if this is not desired)\u001b[0m\n",
      "  logger.warn(\n"
     ]
    }
   ],
   "source": [
    "env = make_env(ENV_NAME,\n",
    "                video_folder='./videos/dqn_validation',\n",
    "                name_prefix=\"breakout\",\n",
    "                record_every=1,\n",
    "                grayscale=GRAY_SCALE,\n",
    "                screen_size=SCREEN_SIZE,\n",
    "                stack_frames=NUM_STACKED_FRAMES,\n",
    "                skip_frames=SKIP_FRAMES\n",
    "                )\n",
    "\n"
   ]
  },
  {
   "cell_type": "code",
   "execution_count": null,
   "metadata": {},
   "outputs": [],
   "source": [
    "dqn_agent.play(env, episodes=1)\n",
    "\n",
    "env.close()"
   ]
  },
  {
   "cell_type": "code",
   "execution_count": null,
   "metadata": {},
   "outputs": [
    {
     "data": {
      "text/html": [
       "<video controls  width=\"600\" >\n",
       " <source src=\"data:video/mp4;base64,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\" type=\"video/mp4\">\n",
       " Your browser does not support the video tag.\n",
       " </video>"
      ],
      "text/plain": [
       "<IPython.core.display.Video object>"
      ]
     },
     "execution_count": 25,
     "metadata": {},
     "output_type": "execute_result"
    }
   ],
   "source": [
    "# Ruta al archivo de vídeo en tu sistema de ficheros\n",
    "video_path = \"./videos/dqn_validation/breakout-episode-0.mp4\"\n",
    "\n",
    "# Muestra el vídeo\n",
    "Video(video_path, embed=True, width=600)"
   ]
  },
  {
   "cell_type": "markdown",
   "metadata": {},
   "source": [
    "#### Graficas \n",
    "..."
   ]
  },
  {
   "cell_type": "markdown",
   "metadata": {
    "id": "QETh1K7pt9I_"
   },
   "source": [
    "# Double Deep Q Learning\n",
    "\n",
    "Double DQN mejora la versión clásica de DQN corrigiendo el sesgo de sobreestimación de los valores \n",
    "𝑄\n",
    "Q. Para ello, desacopla la selección de la acción de su evaluación: en cada paso, la red online elige la acción que maximiza \n",
    "𝑄\n",
    "Q, pero la red objetivo distinta estima el valor de esa acción. Esta separación reduce el sesgo hacia valores demasiado optimistas y aporta mayor estabilidad al entrenamiento. El resto de la estructura —replay buffer, política ε-greedy, etc— se mantiene igual que en DQN, aprovechando así un diseño casi idéntico al original pero con resultados más fiables .\n",
    "\n",
    "Fuente: [arXiv:1509.06461](https://arxiv.org/abs/1509.06461)\n",
    "\n",
    "> Vamos a utilizar el mismo modelo de red neuronal creado para el problema anterior y la misma implementación de memoria, dejamos un esqueleto de un agente de Double Deep Q learning para completar en el archivo **double_dqn_agent.py**"
   ]
  },
  {
   "cell_type": "code",
   "execution_count": null,
   "metadata": {
    "id": "kDNkAtdMt9I_",
    "pycharm": {
     "name": "#%%\n"
    }
   },
   "outputs": [
    {
     "name": "stdout",
     "output_type": "stream",
     "text": [
      "Output shape before conv1: (84, 84)\n",
      "Output shape after conv1: (20, 20)\n",
      "Output shape after conv2: (9, 9)\n",
      "Output shape before conv1: (84, 84)\n",
      "Output shape after conv1: (20, 20)\n",
      "Output shape after conv2: (9, 9)\n"
     ]
    },
    {
     "name": "stderr",
     "output_type": "stream",
     "text": [
      "Entrenando:   0%|          | 0/10000 [00:00<?, ?episode/s]\n"
     ]
    },
    {
     "ename": "TypeError",
     "evalue": "list indices must be integers or slices, not NoneType",
     "output_type": "error",
     "traceback": [
      "\u001b[31m---------------------------------------------------------------------------\u001b[39m",
      "\u001b[31mTypeError\u001b[39m                                 Traceback (most recent call last)",
      "\u001b[36mCell\u001b[39m\u001b[36m \u001b[39m\u001b[32mIn[26]\u001b[39m\u001b[32m, line 19\u001b[39m\n\u001b[32m     15\u001b[39m modelo_b = DQN_CNN_Model(env.observation_space.shape, env.action_space.n).to(DEVICE)\n\u001b[32m     17\u001b[39m ddqn_agent = DoubleDQNAgent(env, modelo_a, modelo_b, process_state, BUFFER_SIZE, BATCH_SIZE, LEARNING_RATE, GAMMA, epsilon_i= EPSILON_INI, epsilon_f=EPSILON_MIN, epsilon_anneal_steps=EPSILON_ANNEAL_STEPS, episode_block = EPISODE_BLOCK, device=DEVICE)\n\u001b[32m---> \u001b[39m\u001b[32m19\u001b[39m ddqn_rewards = \u001b[43mddqn_agent\u001b[49m\u001b[43m.\u001b[49m\u001b[43mtrain\u001b[49m\u001b[43m(\u001b[49m\u001b[43mEPISODES\u001b[49m\u001b[43m,\u001b[49m\u001b[43m \u001b[49m\u001b[43mSTEPS_PER_EPISODE\u001b[49m\u001b[43m,\u001b[49m\u001b[43m \u001b[49m\u001b[43mTOTAL_STEPS\u001b[49m\u001b[43m)\u001b[49m\n",
      "\u001b[36mFile \u001b[39m\u001b[32mc:\\Users\\Octav\\postgrado\\taller ia\\obligatorio\\git\\obligatorio-taller-ia\\abstract_agent.py:62\u001b[39m, in \u001b[36mAgent.train\u001b[39m\u001b[34m(self, number_episodes, max_steps_episode, max_steps)\u001b[39m\n\u001b[32m     59\u001b[39m action = \u001b[38;5;28mself\u001b[39m.select_action(state_phi, total_steps, train=\u001b[38;5;28;01mTrue\u001b[39;00m)\n\u001b[32m     61\u001b[39m \u001b[38;5;66;03m# Ejecutar action = env.step(action)\u001b[39;00m\n\u001b[32m---> \u001b[39m\u001b[32m62\u001b[39m next_state, reward, done, _, _, = \u001b[38;5;28;43mself\u001b[39;49m\u001b[43m.\u001b[49m\u001b[43menv\u001b[49m\u001b[43m.\u001b[49m\u001b[43mstep\u001b[49m\u001b[43m(\u001b[49m\u001b[43maction\u001b[49m\u001b[43m)\u001b[49m\n\u001b[32m     64\u001b[39m \u001b[38;5;66;03m# Procesar next_state con state_processing_function\u001b[39;00m\n\u001b[32m     65\u001b[39m next_state_phi = \u001b[38;5;28mself\u001b[39m.state_processing_function(next_state)\n",
      "\u001b[36mFile \u001b[39m\u001b[32mc:\\Users\\Octav\\anaconda3\\envs\\obl_taller_ia\\Lib\\site-packages\\gymnasium\\core.py:585\u001b[39m, in \u001b[36mRewardWrapper.step\u001b[39m\u001b[34m(self, action)\u001b[39m\n\u001b[32m    581\u001b[39m \u001b[38;5;28;01mdef\u001b[39;00m\u001b[38;5;250m \u001b[39m\u001b[34mstep\u001b[39m(\n\u001b[32m    582\u001b[39m     \u001b[38;5;28mself\u001b[39m, action: ActType\n\u001b[32m    583\u001b[39m ) -> \u001b[38;5;28mtuple\u001b[39m[ObsType, SupportsFloat, \u001b[38;5;28mbool\u001b[39m, \u001b[38;5;28mbool\u001b[39m, \u001b[38;5;28mdict\u001b[39m[\u001b[38;5;28mstr\u001b[39m, Any]]:\n\u001b[32m    584\u001b[39m \u001b[38;5;250m    \u001b[39m\u001b[33;03m\"\"\"Modifies the :attr:`env` :meth:`step` reward using :meth:`self.reward`.\"\"\"\u001b[39;00m\n\u001b[32m--> \u001b[39m\u001b[32m585\u001b[39m     observation, reward, terminated, truncated, info = \u001b[38;5;28;43mself\u001b[39;49m\u001b[43m.\u001b[49m\u001b[43menv\u001b[49m\u001b[43m.\u001b[49m\u001b[43mstep\u001b[49m\u001b[43m(\u001b[49m\u001b[43maction\u001b[49m\u001b[43m)\u001b[49m\n\u001b[32m    586\u001b[39m     \u001b[38;5;28;01mreturn\u001b[39;00m observation, \u001b[38;5;28mself\u001b[39m.reward(reward), terminated, truncated, info\n",
      "\u001b[36mFile \u001b[39m\u001b[32mc:\\Users\\Octav\\anaconda3\\envs\\obl_taller_ia\\Lib\\site-packages\\gymnasium\\wrappers\\stateful_observation.py:416\u001b[39m, in \u001b[36mFrameStackObservation.step\u001b[39m\u001b[34m(self, action)\u001b[39m\n\u001b[32m    405\u001b[39m \u001b[38;5;28;01mdef\u001b[39;00m\u001b[38;5;250m \u001b[39m\u001b[34mstep\u001b[39m(\n\u001b[32m    406\u001b[39m     \u001b[38;5;28mself\u001b[39m, action: WrapperActType\n\u001b[32m    407\u001b[39m ) -> \u001b[38;5;28mtuple\u001b[39m[WrapperObsType, SupportsFloat, \u001b[38;5;28mbool\u001b[39m, \u001b[38;5;28mbool\u001b[39m, \u001b[38;5;28mdict\u001b[39m[\u001b[38;5;28mstr\u001b[39m, Any]]:\n\u001b[32m    408\u001b[39m \u001b[38;5;250m    \u001b[39m\u001b[33;03m\"\"\"Steps through the environment, appending the observation to the frame buffer.\u001b[39;00m\n\u001b[32m    409\u001b[39m \n\u001b[32m    410\u001b[39m \u001b[33;03m    Args:\u001b[39;00m\n\u001b[32m   (...)\u001b[39m\u001b[32m    414\u001b[39m \u001b[33;03m        Stacked observations, reward, terminated, truncated, and info from the environment\u001b[39;00m\n\u001b[32m    415\u001b[39m \u001b[33;03m    \"\"\"\u001b[39;00m\n\u001b[32m--> \u001b[39m\u001b[32m416\u001b[39m     obs, reward, terminated, truncated, info = \u001b[38;5;28;43mself\u001b[39;49m\u001b[43m.\u001b[49m\u001b[43menv\u001b[49m\u001b[43m.\u001b[49m\u001b[43mstep\u001b[49m\u001b[43m(\u001b[49m\u001b[43maction\u001b[49m\u001b[43m)\u001b[49m\n\u001b[32m    417\u001b[39m     \u001b[38;5;28mself\u001b[39m.obs_queue.append(obs)\n\u001b[32m    419\u001b[39m     updated_obs = deepcopy(\n\u001b[32m    420\u001b[39m         concatenate(\u001b[38;5;28mself\u001b[39m.env.observation_space, \u001b[38;5;28mself\u001b[39m.obs_queue, \u001b[38;5;28mself\u001b[39m.stacked_obs)\n\u001b[32m    421\u001b[39m     )\n",
      "\u001b[36mFile \u001b[39m\u001b[32mc:\\Users\\Octav\\anaconda3\\envs\\obl_taller_ia\\Lib\\site-packages\\gymnasium\\wrappers\\atari_preprocessing.py:162\u001b[39m, in \u001b[36mAtariPreprocessing.step\u001b[39m\u001b[34m(self, action)\u001b[39m\n\u001b[32m    159\u001b[39m total_reward, terminated, truncated, info = \u001b[32m0.0\u001b[39m, \u001b[38;5;28;01mFalse\u001b[39;00m, \u001b[38;5;28;01mFalse\u001b[39;00m, {}\n\u001b[32m    161\u001b[39m \u001b[38;5;28;01mfor\u001b[39;00m t \u001b[38;5;129;01min\u001b[39;00m \u001b[38;5;28mrange\u001b[39m(\u001b[38;5;28mself\u001b[39m.frame_skip):\n\u001b[32m--> \u001b[39m\u001b[32m162\u001b[39m     _, reward, terminated, truncated, info = \u001b[38;5;28;43mself\u001b[39;49m\u001b[43m.\u001b[49m\u001b[43menv\u001b[49m\u001b[43m.\u001b[49m\u001b[43mstep\u001b[49m\u001b[43m(\u001b[49m\u001b[43maction\u001b[49m\u001b[43m)\u001b[49m\n\u001b[32m    163\u001b[39m     total_reward += reward\n\u001b[32m    164\u001b[39m     \u001b[38;5;28mself\u001b[39m.game_over = terminated\n",
      "\u001b[36mFile \u001b[39m\u001b[32mc:\\Users\\Octav\\anaconda3\\envs\\obl_taller_ia\\Lib\\site-packages\\gymnasium\\wrappers\\rendering.py:350\u001b[39m, in \u001b[36mRecordVideo.step\u001b[39m\u001b[34m(self, action)\u001b[39m\n\u001b[32m    346\u001b[39m \u001b[38;5;28;01mdef\u001b[39;00m\u001b[38;5;250m \u001b[39m\u001b[34mstep\u001b[39m(\n\u001b[32m    347\u001b[39m     \u001b[38;5;28mself\u001b[39m, action: ActType\n\u001b[32m    348\u001b[39m ) -> \u001b[38;5;28mtuple\u001b[39m[ObsType, SupportsFloat, \u001b[38;5;28mbool\u001b[39m, \u001b[38;5;28mbool\u001b[39m, \u001b[38;5;28mdict\u001b[39m[\u001b[38;5;28mstr\u001b[39m, Any]]:\n\u001b[32m    349\u001b[39m \u001b[38;5;250m    \u001b[39m\u001b[33;03m\"\"\"Steps through the environment using action, recording observations if :attr:`self.recording`.\"\"\"\u001b[39;00m\n\u001b[32m--> \u001b[39m\u001b[32m350\u001b[39m     obs, rew, terminated, truncated, info = \u001b[38;5;28;43mself\u001b[39;49m\u001b[43m.\u001b[49m\u001b[43menv\u001b[49m\u001b[43m.\u001b[49m\u001b[43mstep\u001b[49m\u001b[43m(\u001b[49m\u001b[43maction\u001b[49m\u001b[43m)\u001b[49m\n\u001b[32m    351\u001b[39m     \u001b[38;5;28mself\u001b[39m.step_id += \u001b[32m1\u001b[39m\n\u001b[32m    353\u001b[39m     \u001b[38;5;28;01mif\u001b[39;00m \u001b[38;5;28mself\u001b[39m.step_trigger \u001b[38;5;129;01mand\u001b[39;00m \u001b[38;5;28mself\u001b[39m.step_trigger(\u001b[38;5;28mself\u001b[39m.step_id):\n",
      "\u001b[36mFile \u001b[39m\u001b[32mc:\\Users\\Octav\\anaconda3\\envs\\obl_taller_ia\\Lib\\site-packages\\gymnasium\\wrappers\\common.py:393\u001b[39m, in \u001b[36mOrderEnforcing.step\u001b[39m\u001b[34m(self, action)\u001b[39m\n\u001b[32m    391\u001b[39m \u001b[38;5;28;01mif\u001b[39;00m \u001b[38;5;129;01mnot\u001b[39;00m \u001b[38;5;28mself\u001b[39m._has_reset:\n\u001b[32m    392\u001b[39m     \u001b[38;5;28;01mraise\u001b[39;00m ResetNeeded(\u001b[33m\"\u001b[39m\u001b[33mCannot call env.step() before calling env.reset()\u001b[39m\u001b[33m\"\u001b[39m)\n\u001b[32m--> \u001b[39m\u001b[32m393\u001b[39m \u001b[38;5;28;01mreturn\u001b[39;00m \u001b[38;5;28;43msuper\u001b[39;49m\u001b[43m(\u001b[49m\u001b[43m)\u001b[49m\u001b[43m.\u001b[49m\u001b[43mstep\u001b[49m\u001b[43m(\u001b[49m\u001b[43maction\u001b[49m\u001b[43m)\u001b[49m\n",
      "\u001b[36mFile \u001b[39m\u001b[32mc:\\Users\\Octav\\anaconda3\\envs\\obl_taller_ia\\Lib\\site-packages\\gymnasium\\core.py:322\u001b[39m, in \u001b[36mWrapper.step\u001b[39m\u001b[34m(self, action)\u001b[39m\n\u001b[32m    318\u001b[39m \u001b[38;5;28;01mdef\u001b[39;00m\u001b[38;5;250m \u001b[39m\u001b[34mstep\u001b[39m(\n\u001b[32m    319\u001b[39m     \u001b[38;5;28mself\u001b[39m, action: WrapperActType\n\u001b[32m    320\u001b[39m ) -> \u001b[38;5;28mtuple\u001b[39m[WrapperObsType, SupportsFloat, \u001b[38;5;28mbool\u001b[39m, \u001b[38;5;28mbool\u001b[39m, \u001b[38;5;28mdict\u001b[39m[\u001b[38;5;28mstr\u001b[39m, Any]]:\n\u001b[32m    321\u001b[39m \u001b[38;5;250m    \u001b[39m\u001b[33;03m\"\"\"Uses the :meth:`step` of the :attr:`env` that can be overwritten to change the returned data.\"\"\"\u001b[39;00m\n\u001b[32m--> \u001b[39m\u001b[32m322\u001b[39m     \u001b[38;5;28;01mreturn\u001b[39;00m \u001b[38;5;28;43mself\u001b[39;49m\u001b[43m.\u001b[49m\u001b[43menv\u001b[49m\u001b[43m.\u001b[49m\u001b[43mstep\u001b[49m\u001b[43m(\u001b[49m\u001b[43maction\u001b[49m\u001b[43m)\u001b[49m\n",
      "\u001b[36mFile \u001b[39m\u001b[32mc:\\Users\\Octav\\anaconda3\\envs\\obl_taller_ia\\Lib\\site-packages\\gymnasium\\wrappers\\common.py:285\u001b[39m, in \u001b[36mPassiveEnvChecker.step\u001b[39m\u001b[34m(self, action)\u001b[39m\n\u001b[32m    283\u001b[39m     \u001b[38;5;28;01mreturn\u001b[39;00m env_step_passive_checker(\u001b[38;5;28mself\u001b[39m.env, action)\n\u001b[32m    284\u001b[39m \u001b[38;5;28;01melse\u001b[39;00m:\n\u001b[32m--> \u001b[39m\u001b[32m285\u001b[39m     \u001b[38;5;28;01mreturn\u001b[39;00m \u001b[38;5;28;43mself\u001b[39;49m\u001b[43m.\u001b[49m\u001b[43menv\u001b[49m\u001b[43m.\u001b[49m\u001b[43mstep\u001b[49m\u001b[43m(\u001b[49m\u001b[43maction\u001b[49m\u001b[43m)\u001b[49m\n",
      "\u001b[36mFile \u001b[39m\u001b[32mc:\\Users\\Octav\\anaconda3\\envs\\obl_taller_ia\\Lib\\site-packages\\ale_py\\env.py:305\u001b[39m, in \u001b[36mAtariEnv.step\u001b[39m\u001b[34m(self, action)\u001b[39m\n\u001b[32m    303\u001b[39m     strength = action[\u001b[32m0\u001b[39m]\n\u001b[32m    304\u001b[39m \u001b[38;5;28;01melse\u001b[39;00m:\n\u001b[32m--> \u001b[39m\u001b[32m305\u001b[39m     action_idx = \u001b[38;5;28;43mself\u001b[39;49m\u001b[43m.\u001b[49m\u001b[43m_action_set\u001b[49m\u001b[43m[\u001b[49m\u001b[43maction\u001b[49m\u001b[43m]\u001b[49m\n\u001b[32m    306\u001b[39m     strength = \u001b[32m1.0\u001b[39m\n\u001b[32m    308\u001b[39m \u001b[38;5;66;03m# Frameskip\u001b[39;00m\n",
      "\u001b[31mTypeError\u001b[39m: list indices must be integers or slices, not NoneType"
     ]
    }
   ],
   "source": [
    "from double_dqn_agent import DoubleDQNAgent\n",
    "\n",
    "env = make_env(ENV_NAME,\n",
    "                video_folder='./videos/ddqn_training',\n",
    "                name_prefix=\"breakout\",\n",
    "                record_every=500,\n",
    "                grayscale=GRAY_SCALE,\n",
    "                screen_size=SCREEN_SIZE,\n",
    "                stack_frames=NUM_STACKED_FRAMES,\n",
    "                skip_frames=SKIP_FRAMES\n",
    "                )\n",
    "\n",
    "\n",
    "modelo_a = DQN_CNN_Model(env.observation_space.shape, env.action_space.n).to(DEVICE)\n",
    "modelo_b = DQN_CNN_Model(env.observation_space.shape, env.action_space.n).to(DEVICE)\n",
    "\n",
    "ddqn_agent = DoubleDQNAgent(env, modelo_a, modelo_b, process_state, BUFFER_SIZE, BATCH_SIZE, LEARNING_RATE, GAMMA, epsilon_i= EPSILON_INI, epsilon_f=EPSILON_MIN, epsilon_anneal_steps=EPSILON_ANNEAL_STEPS, episode_block = EPISODE_BLOCK, device=DEVICE)\n",
    "\n",
    "ddqn_rewards = ddqn_agent.train(EPISODES, STEPS_PER_EPISODE, TOTAL_STEPS)"
   ]
  },
  {
   "cell_type": "code",
   "execution_count": null,
   "metadata": {},
   "outputs": [],
   "source": [
    "env = make_env(ENV_NAME,\n",
    "                video_folder='./videos/ddqn_validation',\n",
    "                name_prefix=\"breakout\",\n",
    "                record_every=1,\n",
    "                grayscale=GRAY_SCALE,\n",
    "                screen_size=SCREEN_SIZE,\n",
    "                stack_frames=NUM_STACKED_FRAMES,\n",
    "                skip_frames=SKIP_FRAMES\n",
    "                )\n",
    "\n",
    "ddqn_agent.play(env, episodes=3)\n",
    "\n",
    "env.close()"
   ]
  },
  {
   "cell_type": "code",
   "execution_count": null,
   "metadata": {},
   "outputs": [],
   "source": [
    "# Ruta al archivo de vídeo en tu sistema de ficheros\n",
    "video_path = \"./videos/ddqn_validation/breakout-episode-0.mp4\"\n",
    "\n",
    "# Muestra el vídeo\n",
    "Video(video_path, embed=True, width=600)"
   ]
  },
  {
   "cell_type": "markdown",
   "metadata": {},
   "source": [
    "#### Graficas \n",
    "..."
   ]
  },
  {
   "cell_type": "markdown",
   "metadata": {},
   "source": [
    "# Experimentación\n",
    "Aquí con libertad total, pueden probar diferentes arquitecturas de red, diferentes hiperparámetros, diferentes técnicas de exploración, etc.\n",
    "..."
   ]
  },
  {
   "cell_type": "markdown",
   "metadata": {
    "id": "YNNvsKiEt9I_"
   },
   "source": [
    "# Comparaciones, Resultados, Comentarios...\n",
    "De aquí en adelante son libres de presentar como gusten los resultados comparativos de las técnicas.\n",
    "..."
   ]
  }
 ],
 "metadata": {
  "accelerator": "GPU",
  "colab": {
   "provenance": []
  },
  "kernelspec": {
   "display_name": "Python 3",
   "language": "python",
   "name": "python3"
  },
  "language_info": {
   "codemirror_mode": {
    "name": "ipython",
    "version": 3
   },
   "file_extension": ".py",
   "mimetype": "text/x-python",
   "name": "python",
   "nbconvert_exporter": "python",
   "pygments_lexer": "ipython3",
   "version": "3.11.12"
  }
 },
 "nbformat": 4,
 "nbformat_minor": 1
}
