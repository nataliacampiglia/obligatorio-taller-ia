{
 "cells": [
  {
   "cell_type": "markdown",
   "metadata": {},
   "source": [
    "# Obligatorio - Taller Agentes Inteligentes 2025\n",
    "\n",
    "En este trabajo obligatorio aplicaremos los conceptos vistos en el curso para diseñar, implementar y evaluar agentes capaces de aprender a jugar al clásico **Breakout** de Atari, utilizando el entorno provisto por Farama Gymnasium ([https://ale.farama.org/environments/breakout/](https://ale.farama.org/environments/breakout/)). \n",
    "\n",
    "<p align=\"center\">\n",
    "  <img src=\"https://media.tenor.com/oMxHgRrISJsAAAAM/atari-deep-learning.gif\" alt=\"Atari Deep Learning\"/>\n",
    "</p>\n",
    "\n",
    "\n",
    "El ejercicio se enmarca en un contexto de aprendizaje práctico, donde trabajaremos con las interfaces estándar de Gymnasium para:\n",
    "\n",
    "1. **Profundizar en algoritmos de valor**: implementaremos y compararemos dos variantes de Q-Learning basadas en redes neuronales profundas:\n",
    "   * **Deep Q Learning (DQN)**\n",
    "   * **Double Deep Q Learning (DDQN)**\n",
    "2. **Evaluar rendimiento y estabilidad**: registraremos las recompensas obtenidas durante el entrenamiento de cada agente y analizaremos su comportamiento mediante gráficas comparativas.\n",
    "3. **Demostrar resultados de forma visual**: capturaremos vídeos que muestren a cada agente “resolviendo” el entorno, entendido como la habilidad de romper al menos cinco bloques en una partida.\n",
    "\n",
    "Debido a las limitaciones de tiempo y cómputo propias de un entorno de curso, no se espera entrenar modelos durante más de diez horas por agente. Por ello, será fundamental:\n",
    "\n",
    "* Integrar puntos de **checkpoint** para guardar periódicamente los pesos de la red.\n",
    "* Seguir en los puntos 2 y 3 la arquitectura y técnicas originales propuestas en los papers seminales de DQN y DDQN, dejando la experimentación adicional para el punto extra.\n",
    "* Flexibilizar la notebook de guía: pueden reorganizarla o dividirla en múltiples archivos según su conveniencia.\n"
   ]
  },
  {
   "cell_type": "markdown",
   "metadata": {},
   "source": [
    "## Objetivos y tareas\n",
    "\n",
    "1. **Completar la implementación**\n",
    "   * Rellenar el código faltante en la notebook y en los módulos auxiliares para que los agentes puedan interactuar con el entorno de Breakout.\n",
    "2. **Entrenar agentes**\n",
    "   * Ajustar y entrenar un **DQN** que alcance la condición de “resolver” (romper ≥ 10 bloques).\n",
    "   * Ajustar y entrenar un **DDQN** con la misma meta de desempeño.\n",
    "3. **Visualizar y analizar resultados**\n",
    "   * Generar **gráficas comparativas** de las recompensas obtenidas por ambos agentes en el mismo entorno (una gráfica por ambiente). Además se sugiere gráficas que muestren el valor de la función de valor Q para cada agente.\n",
    "   * Extraer **al menos dos conclusiones** por gráfica, comentando diferencias en convergencia, estabilidad y comportamiento exploratorio.\n",
    "4. **Registro de demostraciones**\n",
    "   * Grabar y entregar un **video demostrativo** de cada agente resolviendo el entorno.\n",
    "5. **Experimentación**\n",
    "   * Probar otras arquitecturas, técnicas de mejora o módulos de procesamiento de entradas más avanzados, documentando brevemente su impacto/"
   ]
  },
  {
   "cell_type": "markdown",
   "metadata": {},
   "source": [
    "## Criterios de evaluación\n",
    "\n",
    "| Criterio                                  | Descripción                                                  | Peso |\n",
    "| ----------------------------------------- | ------------------------------------------------------------ | ---- |\n",
    "| **Implementación y rendimiento**          | DQN y DDQN completados; cada agente rompe ≥ 10 bloques       | 40%  |\n",
    "| **Estructura y narrativa de la notebook** | Secciones claras, explicación de decisiones, “historia”      | 20%  |\n",
    "| **Análisis de resultados**                | Gráficas comparativas; ≥ 2 conclusiones por gráfico          | 20%  |\n",
    "| **Presentación visual**                   | Vídeos demostrativos de cada agente                          | 10%  |\n",
    "| **Experimentación**                       | Experimentación adicional documentada y analizada brevemente | 10%  |"
   ]
  },
  {
   "cell_type": "markdown",
   "metadata": {},
   "source": [
    "## Bibliografía\n",
    "\n",
    "* **Mnih, V.**, Kavukcuoglu, K., Silver, D., Rusu, A. A., Veness, J., Bellemare, M. G., … Hassabis, D. (2013). *Playing Atari with Deep Reinforcement Learning*. [arXiv:1312.5602](https://arxiv.org/abs/1312.5602)\n",
    "* **van Hasselt, H.**, Guez, A., & Silver, D. (2015). *Deep Reinforcement Learning with Double Q-learning*. [arXiv:1509.06461](https://arxiv.org/abs/1509.06461)\n",
    "* **Sutton, R. S.**, & Barto, A. G. (2018). *Reinforcement Learning: An Introduction* (2nd ed.), capítulo 16.5: “Human-level Video Game Play”. MIT Press."
   ]
  },
  {
   "attachments": {},
   "cell_type": "markdown",
   "metadata": {},
   "source": [
    "# Import from github"
   ]
  },
  {
   "cell_type": "code",
   "execution_count": null,
   "metadata": {},
   "outputs": [],
   "source": [
    "# !git clone https://github.com/nataliacampiglia/obligatorio-taller-ia.git\n",
    "# %cd obligatorio-taller-ia\n",
    "# !git pull"
   ]
  },
  {
   "cell_type": "markdown",
   "metadata": {},
   "source": [
    "## Setup"
   ]
  },
  {
   "cell_type": "markdown",
   "metadata": {
    "id": "gc6t9etEt9I2",
    "pycharm": {
     "name": "#%%\n"
    }
   },
   "source": [
    "**Imports**"
   ]
  },
  {
   "cell_type": "code",
   "execution_count": 1,
   "metadata": {
    "id": "cwHCw6PMt9I3",
    "pycharm": {
     "name": "#%%\n"
    }
   },
   "outputs": [],
   "source": [
    "import os\n",
    "import torch\n",
    "import numpy as np\n",
    "import random\n",
    "import numpy as np\n",
    "import torch.nn as nn\n",
    "import torch.nn.functional as F\n",
    "from torchinfo import summary\n",
    "import gymnasium\n",
    "import ale_py\n",
    "from utils import make_env, show_observation_stack\n",
    "from IPython.display import Video\n"
   ]
  },
  {
   "cell_type": "markdown",
   "metadata": {},
   "source": [
    "ALE (Atari Learning Environment) es un entorno de aprendizaje para videojuegos de Atari. En este caso, utilizaremos el entorno de Breakout. Es necesario entender que se separa el entorno de los roms de Atari, que son los juegos en sí. El entorno de ALE permite interactuar con los juegos de Atari a través de una API estándar, facilitando la implementación de algoritmos de aprendizaje por refuerzo.\n",
    "\n",
    "Debemos instalar los roms por separado, para ello primero tenemos que saber donde están los roms de Atari. "
   ]
  },
  {
   "cell_type": "code",
   "execution_count": 2,
   "metadata": {},
   "outputs": [
    {
     "name": "stdout",
     "output_type": "stream",
     "text": [
      "/opt/anaconda3/envs/obl_taller_ia/lib/python3.12/site-packages/ale_py/roms\n"
     ]
    }
   ],
   "source": [
    "gymnasium.register_envs(ale_py) # registramos todos los entornos de ale_py\n",
    "ruta_init = ale_py.roms.__file__ # debemos saber donde se encuentra la carpeta roms\n",
    "ALE_ROMS_PATH = os.path.dirname(ruta_init)\n",
    "print(ALE_ROMS_PATH)"
   ]
  },
  {
   "cell_type": "markdown",
   "metadata": {},
   "source": [
    "Podemos usar los siguientes comando para instalar los roms y colocalos en la carpeta correcta."
   ]
  },
  {
   "cell_type": "code",
   "execution_count": 146,
   "metadata": {},
   "outputs": [],
   "source": [
    "# !pip install \"autorom[accept-rom-license]\"\n",
    "# !AutoROM --accept-license --install-dir {ALE_ROMS_PATH}"
   ]
  },
  {
   "cell_type": "markdown",
   "metadata": {},
   "source": [
    "Fijamos la semilla para que los resultados sean reproducibles"
   ]
  },
  {
   "cell_type": "code",
   "execution_count": 3,
   "metadata": {},
   "outputs": [],
   "source": [
    "SEED = 23\n",
    "\n",
    "torch.manual_seed(SEED)\n",
    "torch.backends.cudnn.deterministic=True # https://discuss.pytorch.org/t/what-is-the-differenc-between-cudnn-deterministic-and-cudnn-benchmark/38054\n",
    "torch.backends.cudnn.benchmark=True # https://discuss.pytorch.org/t/what-does-torch-backends-cudnn-benchmark-do/5936/4\n",
    "np.random.seed(SEED)\n",
    "random.seed(SEED)"
   ]
  },
  {
   "cell_type": "markdown",
   "metadata": {},
   "source": [
    "Vemos que dispositivo tenemos, si es GPU, MPS o CPU. **El uso de GPU es altamente recomendable** para acelerar el entrenamiento de los modelos. "
   ]
  },
  {
   "cell_type": "code",
   "execution_count": 4,
   "metadata": {},
   "outputs": [
    {
     "name": "stdout",
     "output_type": "stream",
     "text": [
      "Device: mps\n"
     ]
    }
   ],
   "source": [
    "# Algunas constantes\n",
    "\n",
    "# definimos el dispositivo que vamos a usar\n",
    "DEVICE = \"cpu\"  # por defecto, usamos la CPU\n",
    "if torch.cuda.is_available():\n",
    "    DEVICE = \"cuda\"  # si hay GPU, usamos la GPU\n",
    "elif torch.backends.mps.is_available():\n",
    "    DEVICE = \"mps\"  # si no hay GPU, pero hay MPS, usamos MPS\n",
    "\n",
    "print(f\"Device: {DEVICE}\")"
   ]
  },
  {
   "cell_type": "markdown",
   "metadata": {},
   "source": [
    "## Preprocesando Atari\n",
    "\n",
    "Para reproducir fielmente el enfoque de Mnih et al. (2013) y reducir la carga computacional al trabajar con imágenes de Atari (210 × 160 píxeles, 128 colores), aplicamos el siguiente preprocesado φ a las últimas **4** frames del entorno:\n",
    "\n",
    "1. **Conversión a escala de grises**\n",
    "   Eliminamos la información de color (GRAYSCALE = True), pues la luminosidad es suficiente para capturar la dinámica de juego y reduce drásticamente la dimensionalidad de la entrada.\n",
    "\n",
    "2. **Down-sampling y recorte**\n",
    "   * Redimensionamos la imagen original a 110 × 84 píxeles, manteniendo la proporción horizontal.\n",
    "   * Recortamos un área central de 84 × 84 píxeles que contiene la “zona de juego”, descartando bordes innecesarios.\n",
    "     Este paso (SCREEN_SIZE = 84) no solo concentra la atención del modelo en la región relevante, sino que también garantiza un tamaño cuadrado compatible con las implementaciones de convoluciones en GPU.\n",
    "\n",
    "3. **Saltos temporales (frame skipping)**\n",
    "   Procesamos cada 4 frames (SKIP_FRAMES = 4), repitiendo la misma acción durante esos pasos. Esto reduce la redundancia temporal, acelera el entrenamiento y mantiene la coherencia del movimiento de la paleta y la bola.\n",
    "\n",
    "4. **Apilamiento de frames**\n",
    "   Finalmente, acumulamos las últimas 4 imágenes preprocesadas (NUM_STACKED_FRAMES = 4) en un único tensor de entrada. Así el agente puede inferir la velocidad y dirección de los elementos móviles a partir de la diferencia entre frames.\n",
    "\n",
    "Este esquema de preprocesado es fundamental para disminuir el espacio de entrada, acelerar las convoluciones y proporcionar al Q-net una representación compacta y rica en información dinámica, tal como se describe en el algoritmo 1 del paper original .\n",
    "\n",
    "> Se recomienda ver el método `make_env` en el archivo `utils.py` para entender cómo se implementa este preprocesado. "
   ]
  },
  {
   "cell_type": "code",
   "execution_count": 5,
   "metadata": {},
   "outputs": [],
   "source": [
    "GRAY_SCALE = True # si True, convertimos la imagen a escala de grises\n",
    "SCREEN_SIZE = 84 # redimensionamos a SCREEN_SIZExSCREEN_SIZE\n",
    "NUM_STACKED_FRAMES = 4 # apilamos NUM_STACKED_FRAMES frames\n",
    "SKIP_FRAMES = 4 # saltamos SKIP_FRAMES frames (haciendo la misma acción)"
   ]
  },
  {
   "cell_type": "code",
   "execution_count": 6,
   "metadata": {
    "colab": {
     "base_uri": "https://localhost:8080/"
    },
    "id": "loVxQPrwt9I5",
    "outputId": "18b7ed97-88dd-4b1e-a2cc-b2636686bfc7"
   },
   "outputs": [
    {
     "name": "stderr",
     "output_type": "stream",
     "text": [
      "A.L.E: Arcade Learning Environment (version 0.10.2+unknown)\n",
      "[Powered by Stella]\n",
      "Game console created:\n",
      "  ROM file:  /opt/anaconda3/envs/obl_taller_ia/lib/python3.12/site-packages/ale_py/roms/breakout.bin\n",
      "  Cart Name: Breakout - Breakaway IV (1978) (Atari)\n",
      "  Cart MD5:  f34f08e5eb96e500e851a80be3277a56\n",
      "  Display Format:  AUTO-DETECT ==> NTSC\n",
      "  ROM Size:        2048\n",
      "  Bankswitch Type: AUTO-DETECT ==> 2K\n",
      "\n",
      "Running ROM file...\n",
      "Random seed is -193772248\n"
     ]
    },
    {
     "data": {
      "image/png": "[encoded data removed]",
      "text/plain": [
       "<Figure size 640x480 with 1 Axes>"
      ]
     },
     "metadata": {},
     "output_type": "display_data"
    },
    {
     "data": {
      "image/png": "[encoded data removed]",
      "text/plain": [
       "<Figure size 640x480 with 1 Axes>"
      ]
     },
     "metadata": {},
     "output_type": "display_data"
    },
    {
     "data": {
      "image/png": "[encoded data removed]",
      "text/plain": [
       "<Figure size 640x480 with 1 Axes>"
      ]
     },
     "metadata": {},
     "output_type": "display_data"
    },
    {
     "data": {
      "image/png": "[encoded data removed]",
      "text/plain": [
       "<Figure size 640x480 with 1 Axes>"
      ]
     },
     "metadata": {},
     "output_type": "display_data"
    },
    {
     "name": "stdout",
     "output_type": "stream",
     "text": [
      "Episode 1 finished with total reward: 0\n"
     ]
    }
   ],
   "source": [
    "# https://ale.farama.org/environments/breakout/\n",
    "ENV_NAME = \"ALE/Breakout-v5\" \n",
    "\n",
    "env = make_env(ENV_NAME,\n",
    "                video_folder='./videos/random',\n",
    "                name_prefix=\"breakout\",\n",
    "                record_every=1,\n",
    "                grayscale=GRAY_SCALE,\n",
    "                screen_size=SCREEN_SIZE,\n",
    "                stack_frames=NUM_STACKED_FRAMES,\n",
    "                skip_frames=SKIP_FRAMES\n",
    "                )\n",
    "\n",
    "for episode_num in range(1):\n",
    "    obs, info = env.reset()\n",
    "    show_observation_stack(obs)\n",
    "    reward_total = 0\n",
    "    episode_over = False\n",
    "    while not episode_over:\n",
    "        action = env.action_space.sample()  # seleccionamos una acción aleatoria\n",
    "        obs, reward, terminated, truncated, info = env.step(action)\n",
    "        reward_total += reward\n",
    "        episode_over = terminated or truncated\n",
    "    print(f\"Episode {episode_num + 1} finished with total reward: {reward_total}\")\n",
    "\n",
    "env.close()"
   ]
  },
  {
   "cell_type": "markdown",
   "metadata": {},
   "source": [
    "Además, podemos mostrar los videos capturados por el entorno de Atari de la siguiente manera:"
   ]
  },
  {
   "cell_type": "code",
   "execution_count": 7,
   "metadata": {},
   "outputs": [
    {
     "data": {
      "text/html": [
       "<video controls  width=\"600\" >\n",
       " <source src=\"data:video/mp4;base64,AAAAIGZ0eXBpc29tAAACAGlzb21pc28yYXZjMW1wNDEAAAAIZnJlZQAAP2NtZGF0AAACrgYF//+q3EXpvebZSLeWLNgg2SPu73gyNjQgLSBjb3JlIDE2NCByMzA5NSBiYWVlNDAwIC0gSC4yNjQvTVBFRy00IEFWQyBjb2RlYyAtIENvcHlsZWZ0IDIwMDMtMjAyMiAtIGh0dHA6Ly93d3cudmlkZW9sYW4ub3JnL3gyNjQuaHRtbCAtIG9wdGlvbnM6IGNhYmFjPTEgcmVmPTMgZGVibG9jaz0xOjA6MCBhbmFseXNlPTB4MzoweDExMyBtZT1oZXggc3VibWU9NyBwc3k9MSBwc3lfcmQ9MS4wMDowLjAwIG1peGVkX3JlZj0xIG1lX3JhbmdlPTE2IGNocm9tYV9tZT0xIHRyZWxsaXM9MSA4eDhkY3Q9MSBjcW09MCBkZWFkem9uZT0yMSwxMSBmYXN0X3Bza2lwPTEgY2hyb21hX3FwX29mZnNldD0tMiB0aHJlYWRzPTcgbG9va2FoZWFkX3RocmVhZHM9MSBzbGljZWRfdGhyZWFkcz0wIG5yPTAgZGVjaW1hdGU9MSBpbnRlcmxhY2VkPTAgYmx1cmF5X2NvbXBhdD0wIGNvbnN0cmFpbmVkX2ludHJhPTAgYmZyYW1lcz0zIGJfcHlyYW1pZD0yIGJfYWRhcHQ9MSBiX2JpYXM9MCBkaXJlY3Q9MSB3ZWlnaHRiPTEgb3Blbl9nb3A9MCB3ZWlnaHRwPTIga2V5aW50PTI1MCBrZXlpbnRfbWluPTI1IHNjZW5lY3V0PTQwIGludHJhX3JlZnJlc2g9MCByY19sb29rYWhlYWQ9NDAgcmM9Y3JmIG1idHJlZT0xIGNyZj0yMy4wIHFjb21wPTAuNjAgcXBtaW49MCBxcG1heD02OSBxcHN0ZXA9NCBpcF9yYXRpbz0xLjQwIGFxPTE6MS4wMACAAAAB82WIhAAn//71sXwKaunqiXVOGaYIMAdNAfruTNfrGwYhk+DxpZScsziWQgfGLXjVJKqqRdSxA/2Kz0RBPXyYktQhY888x+iNuwyDcObrmdr7BdpXkDikYGYnVcqmnJSn+cK25yvi5+TukyKs0HO8B/jVIxfbnYV5lTcU8IhcWAnQ1mkqQhqkCDBFlqXLz6LEDAsZzEqOO+sG6x4kBUnSw6ZP+AxRPSK0+3vR1e0s8UvJUb8E820AQrbCysEqvo+dKutcgoL7/S7xC1Szux/R36xbPy1Z/0AAGukyDfPcCsZdGtiV3q/zsTqEMyGLaqHP28cMdqYgAA+2dGCrtjr5FDTwzxll4wqKQWhb10fp2ZnqdXDwyMWKzraa9DeLCIdSsjCnvIY+DwAad+IqIwaj/O9YSCOYP1VJo5MA2qq+TN3xlk4xp9g0g/psgzh8PAX/eeb0WvRJ/RZYOcyh+gtUE60srxMfKkHapKuke+xwcbGeTMqNzejaox1nkhJERHQEz4MqRFqeXJWE096tE+32CbIy9cYhq0hU4ACN7sWTgkwAag+11moJBD3+CapWF3Dr3mbIe5qLiRpY+8arBTOcWTmXi5TYzvEueyQSw4DA/J3nkrD3dlaWawOKmu8SmzvJJOqdpR3RqYdJutIZoxpVbkboSkEAAAAjQZokbEJ//fEAZxtDQBs9YzpX0/4b1IGupalaJQMD0J8jO9wAAAAJQZ5CeI3/AIOBAAAACQGeYXRF/wCpgAAAAAkBnmNqRf8AqYEAAAARQZpoSahBaJlMCE///fEAB6UAAAAKQZ6GRREsbwCDgQAAAAkBnqV0Rf8AqYEAAAAJAZ6nakX/AKmAAAAAN0GarEmoQWyZTAhP//3xACpbq4F5eoAEYFb9YXDC6yKkkJLR9/jTAOpoDCLlbdakI4zQWwBjwuwAAAAPQZ7KRRUsbwLP9GrvRW+BAAAAFAGe6XRF/wOICHDLAA/se44/HPLAAAAAEwGe62pF/wOIdmGWAB/RKbhAseMAAAAfQZruSahBbJlMFEwn//3xACotQ7FSuLMh4ACol47LmwAAAA4Bnw1qRf8DiHZf6EUM4QAAACdBmxJJ4QpSZTAhH/3hAEF/SDyGSjawYJXvnxCyMQRddv5LWS3N5z0AAAAWQZ8wRTRMbwLQYhIK0EtI5d8mh6EIMgAAABMBn090Rf8DiFl3CEDoQ7tbs+kQAAAAGwGfUWpF/wLCE9B2CAAzrF553K7U7U8lxBH2wQAAAB1Bm1RJqEFomUwU8I/94QAzIuokDDjPRMBiwy1igAAAABIBn3NqRf8Cw9QgEKLBx3PquEAAAAAWQZt2SeEKUmUwUsJ//fEAH7xCI5xXgQAAAAwBn5VqRf8Cw9QgCPgAAAAdQZuYSeEOiZTBRMJ//fEAILxCIrff6NFu6ZpWR7kAAAAOAZ+3akX/AteWAPEDtxEAAAAjQZu8SeEPJlMCEf/94QA0YkhEBYd5SwW7d9a+adC5K1TVtjwAAAAXQZ/aRRE8bwI2iQrU4Zj5i5FOtDSW1ccAAAARAZ/5dEX/Atel1LLX30UhY/0AAAAVAZ/7akX/AtXUH/xJt48BqKaicvijAAAAH0Gb/kmoQWiZTBTwn/3xACC8QiOZ4uIRqGi9J8CzBqEAAAAUAZ4dakX/AtXUH+fDhqzuThErDcAAAAAiQZoCSeEKUmUwIR/94QA0u/7YzyEQ/i7JkX83lpb5ByCGqAAAABZBniBFNExvAjbn7xLQ0WLMn+zRLbqRAAAAFAGeX3RF/wLVwJXbK0XSBtLRQqWAAAAAEwGeQWpF/wIo8yI9Tjvf/CSot2EAAAAfQZpESahBaJlMFPCP/eEAKKzqJAx/R8rsydjUofCCYAAAABMBnmNqRf8CKmRwHoou582TRgohAAAAM0GaZknhClJlMFLCP/3hACis6iQMgth1TSR8yCEy3tEABO3dQdfJ+OpiuP9ZUdNdTpCNHwAAABMBnoVqRf8CKmRwHoAapG5BL66xAAAAK0GaiEnhDomUwUTCP/3hACnM6iLgzHaUBvnH1wZANzyj2ynf4pUNaHMBL38AAAAUAZ6nakX/AjvhAPED1P7/WDMmosAAAAAdQZqqSeEPJlMFPCP//eEAKczqI+n0HqceWUM7r+AAAAAQAZ7JakX/Ajpkb5mg+DKUoQAAABdBmsxJ4Q8mUwU8I//94QApzOokCKCQhgAAAA0BnutqRf8COmRwBqrMAAAAF0Ga7knhDyZTBTwj//3hACnM6iQIoJCHAAAADgGfDWpF/wI6ZG/4wK5hAAAAF0GbEknhDyZTAhH//eEAKhyfD4shEPvlAAAADkGfMEURPG8BwpwPEtADAAAADgGfT3RF/wI6SZXbKzPgAAAADQGfUWpF/wG4huc0GfEAAAA3QZtUSahBaJlMFPH//IQAe98nm5w3rjvjgACEXwXHSTWTxuqtDcUvI0lTJ9eXeU6RDDaSYbNrgAAAABIBn3NqRf8BuZ2BBavc5zs/aIAAAAAtQZt2SeEKUmUwUsX/+lgA85y7E2Zc6AFB6U8Ny0ufgKQdAEhS6DZJP1Fb33eBAAAAEgGflWpF/wG5nYEGdOdFiK6KtgAAACJBm5hJ4Q6JlMFEwn/98QAU970RW+/0aLl58WfpkwNg6tTrAAAAEwGft2pF/wHFaNKhA+4zkjviVtUAAAAZQZu8SeEPJlMCE//98QAU92wh/Gbv6yYgwAAAABBBn9pFETxvAWqv3wYQd8RRAAAADQGf+XRF/wHFhsLR77cAAAAPAZ/7akX/AcVN2mXF3VdBAAAAF0Gb/kmoQWiZTBTwn/3xABT3vRHM8XDVAAAADgGeHWpF/wHFTdqXgSVsAAAAGEGaAknhClJlMCEf/eEAINyVCxQ50rVQgAAAAA5BniBFNExvAWoxCQVoOwAAAA4Bnl90Rf8BxCzsWYa1sAAAAA0BnkFqRf8BYQnoOg9RAAAAFkGaREmoQWiZTBTwn/3xAA/V12KoeIAAAAAMAZ5jakX/AWHqEAjpAAAAFkGaZknhClJlMFLCf/3xAA/V12KoeIEAAAAMAZ6FakX/AWHqEAjpAAAAKkGaiknhDomUwIR//eEAGlT0iAA6rzIh+RfGZUjGu6XNCbJQzxtM1+6ggQAAAB1BnqhFFTxvAR72ugAIZ28eagamhWe7IXi8+Qds2QAAAA4Bnsd0Rf8BbBwE5bVouAAAABMBnslqRf8BZtkRJU0k6NI9ZoyBAAAAL0GazEmoQWiZTBTwn/3xABBaOduKjjMtdAMihtgFusAG3Zm0yvFE3gowc6iI4xFXAAAAIAGe62pF/wFm2RTAXAAf03gafC8GFH5jqMMGEcYD/nMwAAAARkGa8EnhClJlMCEf/eEAGmTdYlRIxWmdoIRz7hQA4rFR2IO3zHmf1KodQt4ocFNAiXcSG8SulXOAMrgdn8NsS0AhiSDFYacAAAAgQZ8ORTRMbwEdmqJACZ8YBgHZdL9iYwUxG8Y6STLas+sAAAARAZ8tdEX/AWpBMt9BYJbXf2EAAAARAZ8vakX/AWtKhBD1uhsmR8AAAAA2QZsxSahBaJlMCEf//eEAFhYvku2Li5aEUBg7Qb0Gk5Z4KjhN2A0d/T6rWhQsSJbaeXXy0zBeAAAAJkGbUknhClJlMCE//fEADdEFiRwjyhlKdwgCVGp1VlZGhRdPIU+5AAAALUGbdEnhDomUwU0TCf/98QBFd8tADbnMvELwliMXLpaPQnwSb/+3kyO7R1Bn7wAAABQBn5NqRf8EF9R3RHwzhgbB8nillAAAACFBm5hJ4Q8mUwIT//3xAETCrcaosdfLYBW1JNP3LZO0658AAAATQZ+2RRE8bwNDx1U2NgMFbM8wOgAAABIBn9V0Rf8EFJbW+WC0QQPOY+kAAAARAZ/XakX/AT7L62IgJEE2yIkAAAAhQZvcSahBaJlMCE///fEADnYNe4DNISdvTWhmA1Al9pTAAAAADkGf+kURLG8A+EncpL0JAAAADQGeGXRF/wE93INBruIAAAAJAZ4bakX/AKmBAAAAEUGaAEmoQWyZTAhP//3xAAelAAAACkGePkUVLG8Ag4AAAAAJAZ5ddEX/AKmAAAAACQGeX2pF/wCpgQAAABFBmkRJqEFsmUwIT//98QAHpAAAAApBnmJFFSxvAIOBAAAACQGegXRF/wCpgAAAAAkBnoNqRf8AqYEAAAARQZqISahBbJlMCE///fEAB6UAAAAKQZ6mRRUsbwCDgQAAAAkBnsV0Rf8AqYEAAAAJAZ7HakX/AKmAAAAALkGazEmoQWyZTAhP//3XtSgBzzn//GENBQsd8BhscZUUSmfFdLyK7Xr38OIAGzAAAAAMQZ7qRRUsb1Ftt62BAAAACgGfCXRF/1tnzQMAAAAJAZ8LakX/AKmAAAAAEUGbEEmoQWyZTAhP//3xAAelAAAACkGfLkUVLG8Ag4EAAAAJAZ9NdEX/AKmBAAAACQGfT2pF/wCpgAAAABFBm1RJqEFsmUwIT//98QAHpAAAAApBn3JFFSxvAIOBAAAACQGfkXRF/wCpgAAAAAkBn5NqRf8AqYAAAAARQZuYSahBbJlMCE///fEAB6UAAAAKQZ+2RRUsbwCDgAAAAAkBn9V0Rf8AqYEAAAAJAZ/XakX/AKmBAAAAGkGb3EmoQWyZTAhP//3xAA51wxsBX7Ytm7EgAAAAEUGf+kUVLG8A+KgYIhbf4thBAAAADQGeGXRF/wE+97YrjQgAAAAPAZ4bakX/AT3SyjToZ88JAAAAH0GaAEmoQWyZTAhP//3xAA7YpGWkIzsbwJ89Hc+pJYkAAAARQZ4+RRUsbwD9qdWUo5dO/9gAAAAQAZ5ddEX/AUa6kCNH6QWNvAAAAA4Bnl9qRf8BRug6GnvTFQAAAB1BmkRJqEFsmUwIT//98QAO5v+uVYUVAbZ09OW0bwAAABFBnmJFFSxvAP59P1BoG3Cz8QAAAA0BnoF0Rf8BR/e2K4yoAAAAEQGeg2pF/wFHr0F8VfM0gF9BAAAAHkGaiEmoQWyZTAhP//3xAA6O/634kAhCOkm5UxkgQQAAABJBnqZFFSxvAPgkYwTdFZvFdNEAAAAQAZ7FdEX/ATnqXflonk9LiwAAABEBnsdqRf8BPhgEVjhhUTzLgAAAABpBmsxJqEFsmUwIR//94QAWplYJ29MxI6Z4gAAAABFBnupFFSxvAPMpVDbCMV/ggQAAABABnwl0Rf8BNf4sFVWf173AAAAADwGfC2pF/wE1GvYFGrY94AAAAB9Bmw9JqEFsmUwIR//94QAWz1sZzPa6eGI4eNaYsJKhAAAAEkGfLUUVLF8BNVbHS8PBUXeagQAAAA8Bn05qRf8BLR3VgUatj/kAAAAaQZtQSahBbJlMCE///fEADXlApNTnin+do+AAAAAtQZt0SeEKUmUwIR/94QAVhm7c/NgBYe6wN2uLMa4eoq/6hmwvT+4cNoxNVEXeAAAAEEGfkkU0TG8A56Z/DpgAANcAAAAMAZ+xdEX/ASUg8hMFAAAADgGfs2pF/wEkRhXL8j7cAAAAH0GbtUmoQWiZTAhP//3xAA3JO8lXnUANTPaLnFBret8AAAA0QZvZSeEKUmUwIR/94QBA/65ABFVPpx6H7ZUJAQYunLAwo1k3Fxzf9vqm0sQi3CUr+6j53gAAABVBn/dFNExvAtGMVDDk6E6UXUjylZ0AAAANAZ4WdEX/AS0hA0GvJwAAABYBnhhqRf8DitiKJEzvasO6azEjssOAAAAAJUGaG0moQWiZTBTwj/3hAED11EfUO8ay8vv1d58nAAE41asRbeEAAAAUAZ46akX/A4h2XzLO5zR7vOs2ascAAAAeQZo9SeEKUmUwUsI//eEAQPXUSBFBIaEufCK4TwcXAAAAEQGeXGpF/wOIdl/xgWRZeDR1AAAAFkGaXknhDomUwIT//fEAKhBKSGeLgXQAAAAaQZpiSeEPJlMCEf/94QBBf0gEiFv8OdLIMWAAAAAOQZ6ARRE8bwLQYhIKz18AAAANAZ6/dEX/A4njtrKyVQAAAA0BnqFqRf8DiQbgQUUZAAAAFkGapEmoQWiZTBTwj/3hADMvbA06KhAAAAAMAZ7DakX/AsPUIAj5AAAAFkGaxknhClJlMFLCP/3hADMi6iQLj4EAAAAMAZ7lakX/AsPUIAj5AAAAHUGa6EnhDomUwUTCP/3hADRi6iLgzHaUBvbSAQLNAAAADQGfB2pF/wLXl9sCpDwAAAAYQZsKSeEPJlMFPCP//eEANGLqI+oYHb7sAAAAFQGfKWpF/wLV1CDhAA/okj6A4V80QQAAABdBmyxJ4Q8mUwU8I//94QA0YuokCKCP4gAAAA0Bn0tqRf8C1dQf+In2AAAAF0GbTknhDyZTBTwj//3hADRi6iQIoI/jAAAADgGfbWpF/wLV1B/nw2+xAAAALkGbcEnhDyZTBTwj//3hADS+jgY6TF/1bhi3AIqVvCuOlXDzbjiDSyADdMaqV90AAAAfAZ+PakX/AtY/24HpQA+c7CALIKrxjQcp2rWD6uFjcAAAACNBm5FJ4Q8mUwIR//3hACituk5sAQQOBZK/EBwlyq6MQ0gvgAAAACNBm7NJ4Q8mUwURPCP//eEAKKzqJAyLSAD04OB+D+DVFJCkUQAAABQBn9JqRf8CKmRwHxxsEfLATaeIeAAAAB5Bm9VJ4Q8mUwU8I//94QAorOokDItIfHUVrNSh44AAAAATAZ/0akX/AipkcB8K9JCkw9wQQQAAACJBm/dJ4Q8mUwU8J//98QAZor0RzphKvjqlvUThOZqSGXnEAAAAEwGeFmpF/wIqZHAfmvSDkkkvfQUAAAAiQZobSeEPJlMCEf/94QApzEhEBYYHcbnE5kGXLi8Qf2aqAwAAABZBnjlFETxvAcJUZWp0Gha7x1TSWZvAAAAAFgGeWHRF/wI7+7TzMdrHkb/dRMfL2EEAAAARAZ5aakX/AjpkcB+siF5q2cAAAAAmQZpdSahBaJlMFPCP/eEAKczqJAigk79Y2iUVignqS3o/Sdw5DzkAAAAWAZ58akX/Ajpkb/jA0LPdvn22sq5mgQAAAB5Bmn5J4QpSZTAhH/3hACnNukoigk3kPyZDukao+WQAAAAkQZqCSeEOiZTAhH/94QAqHJ8PiyERAKWTfOa0B/XDiwAE8tERAAAAFEGeoEURPG8BwpwPEtGhMsX8IEolAAAAEwGe33RF/wI6Sm1lav/Ey5fBbyAAAAARAZ7BakX/AbmdgQiJELsVhoEAAAAdQZrESahBaJlMFPH//IQAe98nm51afLr9DBlgkrAAAAATAZ7jakX/AbmdgQdlupTxNFNOgQAAACNBmuZJ4QpSZTBSxf/6WADznLsTaJrFmr++AJvF3v4POo4rAwAAABQBnwVqRf8BuZ2BB2bskfTcWboagQAAACFBmwhJ4Q6JlMFEwn/98QAU970Rhy4SqfOgrHSu5LBAXYkAAAATAZ8nakX/AcVqSiBEJHcFc+l6/wAAABlBmyxJ4Q8mUwIT//3xABT3bCH8WfrUukjgAAAAEEGfSkURPG8Bafo1anDMdOEAAAANAZ9pdEX/AcWGwr/DbgAAAA0Bn2tqRf8BxDswBqv8AAAAF0GbbkmoQWiZTBTwn/3xABT3vRHM8XDVAAAADgGfjWpF/wHEOy/4wLfhAAAAGEGbkknhClJlMCE//fEAFR4NmnGngiqdYQAAAA5Bn7BFNExvAWoxCQVoOwAAAA0Bn890Rf8BxC2LsNa2AAAADAGf0WpF/wFh6hAI6QAAABZBm9RJqEFomUwU8J/98QAP1ddiqHiAAAAADAGf82pF/wFiuaVPHgAAABZBm/ZJ4QpSZTBSwn/98QAP1ddiqHiBAAAADAGeFWpF/wFh6hAI6AAAACJBmhpJ4Q6JlMCE//3xABBRChoAGgQqUsJ74BWkZGHVvNchAAAAGUGeOEUVPG8BHva6AAhnbx5qBqaFZ7shB/EAAAANAZ5XdEX/AWwdCLllFwAAAA4BnllqRf8BZtkUumLFwQAAACpBml5JqEFomUwIT//98QAQVJI5gAP2isARoeNyJlNoOTUbM9Upt9PahuAAAAAZQZ58RREsbwEZwv3xlc9iAAuYiTuz4gC8TwAAABYBnpt0Rf8BakEzJzcAB/TeBprHCz7hAAAAFwGenWpF/wFm2REmYPfZACxw3GvNc6bgAAAAJEGagkmoQWyZTAhP//3xABBKSp9yVjgAN9rQWWasBp4YvpHuFgAAABdBnqBFFSxvAR2YiLuYANn1gFs2YCvScQAAAA8Bnt90Rf8Ba3uPP9ia5oAAAAAJAZ7BakX/AKmBAAAAFUGaxkmoQWyZTAhP//3xAAzhA58nQwAAAAxBnuRFFSxvAN0HcLkAAAALAZ8DdEX/ARWvhZkAAAAJAZ8FakX/AKmBAAAAGUGbCkmoQWyZTAhP//3xAA3JW3k2zu3dJJ0AAAAPQZ8oRRUsbwDtu3fkO0qAAAAACQGfR3RF/wCpgAAAAA8Bn0lqRf8BLfKgJpBd4IEAAAAeQZtNSahBbJlMCE///fEADh3EdAGspCcCSJdnUUI6AAAAEkGfa0UVLF8BNdeJdRYi93CaoAAAAA8Bn4xqRf8BNEX7fD3PSi8AAAAeQZuQSahBbJlMCE///fEADnXIEACeioAcf4PGkLbBAAAAEkGfrkUVLF8BPrBrcBRg+QGHWwAAAA8Bn89qRf8BPdPkNOhnzwgAAAAiQZvUSahBbJlMCE///fEADtaO+I/y/IQPAn78701BsB0jeAAAABFBn/JFFSxvAP2p1ZSjl07/2QAAABABnhF0Rf8BRrqQI0fpBY28AAAADQGeE2pF/wFHzR6GwHEAAAARQZoYSahBbJlMCE///fEAB6UAAAAKQZ42RRUsbwCDgAAAAAkBnlV0Rf8AqYEAAAAJAZ5XakX/AKmBAAAAEEGaWUmoQWyZTAi/+lgAXkAAAAHpZYiCAAz//vbsvgU2FMhQZXnDtMIaAMBAk7nidql4Ft9hZjFlxmiZWqJ/OT1bnhiNeflpF5xQavNqvZiWKrBoQs0zIsBbhH8CUB+qyxJkYsZcbNBxIZjnosN+2Jo14I3EgabrBaCL6pP2eNKygChvD/zc14b2dTbGIyt/qYrBrDpY4k3/jTrJvdecQmHcROohYvyrZrTykx6ISN/VLp8CYxnsf3u1w1uGJuYv54Kbkf2TMhthVJoLk7Y0J+kh048pEkQKAMVzxaYuLsn4K+STo9T5J5MXSo1M6QAWSrdwlhdPX+spmmiNtsyNQQkfwF4/I4sNhItKWtkJLw/AABQi2AucPdZBHA7IyS2wvPPEH/VOyopTL6yjIscSeE3b8D/8VxA52c4Q5TG98ewBIyJC/t97bukhuz6jLifBgYpmk+gYiJBFIzwT11l176iPn1PNHurTWoNjO9Y3zrCHXttX3dy2+fqzJ/SgnVSaOGfUDz/Bpe/p8VXjTW/HfUvhrj5//1KXEsFDFaSJl12Ce1iEu4HzemVIGISIiOFI+JGS7QxEMQNpTIV3KU9CeRDH5/irPwBEAF4EwxlH/QZd6WpD8FNksXUB+E7JWhobLHNQp/unvQWGRr1FhjBs5lERs/PuaFtgDtCxegxxAAAAOEGaI2xCP/3hAKJS1ACD7ejiI2ds1TxlTfRifSbFITjCLCp3SkWU70FQbvdQLasW3RM2YfEAESrOAAAADEGeQXiL/wN1l9A3gQAAABABnmJqRf8DitfsTVLl0N+BAAAAH0GaZUmoQWiZTBTwn/3xACkK0krgTHGr7AAaGxzDySAAAAAPAZ6EakX/A4wd7uFG1+XqAAAAG0GaiUnhClJlMCEf/eEAP397lQ/CB1Gn+CPBcQAAABBBnqdFNExvAtH9M8dNMlwwAAAADwGexnRF/wOITf+9K4RXgQAAAAwBnshqRf8DiuKf5ecAAAAWQZrLSahBaJlMFPCP/eEAMeL6JAuUgQAAAA4BnupqRf8DjCLUWrEWrQAAAB1Bmu1J4QpSZTBSwj/94QAx4vokDEpL5aemtnqLyQAAAA8BnwxqRf8Cs5951rKVeR0AAAAkQZsQSeEOiZTAhH/94QAx4vojW7IQQaRXmWAkFTXoTscrCFqAAAAAFkGfLkUVPF8CsFBb/GzB6GNokHD3dEQAAAAPAZ9PakX/ArIxutdjIPD1AAAAI0GbUUmoQWiZTAhP//3xAB8d/1mUiR2XHaUv5tWydN2Rl0nAAAAAIEGbc0nhClJlMFESwn/98QAeO7pFTeLiTakuDUiZGh1RAAAAFAGfkmpF/wKfz3/4jVEokBhOIAthAAAAI0GblUnhDomUwUTCf/3xAB47ukVN4uJTv/Ph+a/LcjNB3ITvAAAAFQGftGpF/wKfz3/nw4p5Xjo+CRawsQAAAB9Bm7lJ4Q8mUwIT//3xAB5vTdrGDj/Tp/ovBvxjqGcQAAAAHEGf10URPG8CBueI5FRrwAUBNLVR+edeBcG81oAAAAAQAZ/2dEX/Ap/A5gORxlvywQAAABMBn/hqRf8B+iEuAFmDCruZNycgAAAAIkGb/UmoQWiZTAhP//3xABfHcHH/KVVLpU7WWIdlVACILDAAAAAXQZ4bRREsbwGa8sYWVLJOJEH73YVtc4EAAAAQAZ46dEX/Afsuqg5e6EEjEAAAABIBnjxqRf8B+zfQINhDmdtVPoEAAAA2QZohSahBbJlMCEf//eEAJd7p1a0gA21rG9/mAgRNjL401diyg3M+YG0Q9bX0sd1a9b+VhmwTAAAAHEGeX0UVLG8BmDvQ1toAm+hLT9f90EVz783aleYAAAAPAZ5+dEX/Afsuqg55gNnRAAAAFQGeYGpF/wH7fGTMWZRYaMllY4GmYAAAACFBmmNJqEFsmUwUTCf//fEAFzfFEczxcp/rQpcvQOj0Mc0AAAATAZ6CakX/AfA30AaxQzDShOil4wAAACNBmoVJ4QpSZTBSwn/98QAXN8URzPFzJoNa4HdcuNw9FvQUgAAAABQBnqRqRf8B8DfP+MDsDr+AhxUEYgAAAB5BmqlJ4Q6JlMCE//3xABdeT7cNQxFW+Xq2sAl4rTEAAAASQZ7HRRU8bwGP4nPixOEc2FDpAAAADwGe5nRF/wHxv32qglSE4wAAABIBnuhqRf8BiHcJyEAD/xyL4VQAAAAWQZrtSahBaJlMCE///fEAEc3hiJoaIQAAAA1BnwtFESxvATVDvXnFAAAACwGfKnRF/wGIzOaBAAAADAGfLGpF/wGHmrD+aQAAACVBmzFJqEFsmUwIR//94QAcbf9TNDkRDQKnrxIQC5Ca76P14WLgAAAAFEGfT0UVLG8BNUO9Yr7T3yAdknLAAAAADAGfbnRF/wGIx4spgQAAABMBn3BqRf8Bh88Jws8WksAFU+4QAAAAJUGbc0moQWyZTBRMJ//98QARTikR0jq7S/Wz1/ih3wh7SjIOrIAAAAAVAZ+SakX/AX2asSSCmYbkFSJ8IZvBAAAAIUGbl0nhClJlMCEf/eEAG79HFG/5+cB+875fX0LEFTMcQQAAABVBn7VFNExvAS3noVdlPahGLDX1qMEAAAAMAZ/UdEX/AX17KabAAAAAFAGf1mpF/wF922B0MdXtlQIikkpgAAAAJ0Gb2UmoQWiZTBTwj/3hABfRMMqwCcwPKzXWrsdVTyWi6BCAnvQbaQAAAA4Bn/hqRf8BRxjqEt4YtAAAACBBm/pJ4QpSZTAhP/3xAA7m/6zBM+JGMMPywGdE23RL3AAAACJBmhxJ4Q6JlMFNEwn//fEADo7/rMEz4icD42CblXEPcgVZAAAAEwGeO2pF/wE908G9Q+GatgoyMrQAAAAfQZo+SeEPJlMFPCf//fEADh2Mfi0tGMiECQBvIBJ+4QAAAA4Bnl1qRf8BNfKauw9nwQAAACpBmkJJ4Q8mUwIT//3xAA56D+wFOk37moB64AF1sjm0sYfGL69UmN/6JPQAAAAWQZ5gRRE8bwD4Ii72PK+8Uy27nzblZwAAABMBnp90Rf8BPmOfVCbwoz6mK3j0AAAAEgGegWpF/wE+zSHRCYoz4+OyxQAAAB9BmoZJqEFomUwIT//98QAOdaH+57/eTWP+y7iGn0vBAAAAGEGepEURLG8A+NypKSD6WVTOsE5UvT+iYAAAABABnsN0Rf8BPdyKgkUVanHwAAAAGwGexWpF/wE/Mop5Vx0wARACe/743x8xrMn3gQAAACFBmspJqEFsmUwIT//98QAOzb8QAHikJwJIl2dqTbALa8AAAAAVQZ7oRRUsbwD+OsbldOGQrkn8fHHDAAAADwGfB3RF/wE93INBunLGgAAAABEBnwlqRf8BRug6FgsGEwvmYQAAABFBmw5JqEFsmUwIT//98QAHpQAAAApBnyxFFSxvAIOBAAAACQGfS3RF/wCpgQAAAAkBn01qRf8AqYAAAAARQZtSSahBbJlMCE///fEAB6QAAAAKQZ9wRRUsbwCDgQAAAAkBn490Rf8AqYAAAAAJAZ+RakX/AKmAAAAAHUGblkmoQWyZTAhP//3xAA7NwGkAxbY6IAEy59HLAAAAEEGftEUVLG8A/iuw1EzjuTEAAAANAZ/TdEX/AUf3tiuMqQAAAA8Bn9VqRf8BR676YdvYl6oAAAAYQZvaSahBbJlMCE///fEADs3Yul2d27i4AAAAE0Gf+EUVLG8BBT9F9O8MGFYz/7cAAAAOAZ4XdEX/AVD3pz6EOYQAAAARAZ4ZakX/AVCtI3UJ8zSAW0AAAAAZQZoeSahBbJlMCEf//eEAF+Av4XuPHw5WlwAAABBBnjxFFSxvAP4pU9nUc8dVAAAADQGeW3RF/wFH97YrjKkAAAAPAZ5dakX/AUgyindWunOhAAAAGkGaX0moQWyZTAhP//3xAA8qDRcwLHJuEG9gAAAAREGaY0nhClJlMCE//dfq9AE53v/b3Gw0TnM3t87MTSeYDacC+u8P4MOimgN4YY8FSqXcV9OuIZgrzqUSZI/E63MTqnPpAAAAF0GegUU0TG9RbC0ZCH8KxSIGJuHljwGtAAAAFAGeoHRF/1tn0Qe2SSFV9i9d3pmZAAAAEAGeompF/wM5JF3d/HMtUKkAAAAbQZqlSahBaJlMFPCf/jevH3FYCoM40gjqBiOpAAAAEgGexGpF/06L0SdOA7vjmpUDwAAAABhBmslJ4QpSZTAhP/3xACX9E240Sfak2m8AAAAOQZ7nRTRMbwKIYhIKz38AAAAMAZ8GdEX/AzmX0ESBAAAADAGfCGpF/wJ71CAJ+AAAABZBmwxJqEFomUwIR//94QAuTAMxLejhAAAADEGfKkURLF8CfZ8ywQAAAAwBn0tqRf8Ce9QgCfkAAAAXQZtOSahBbJlMFEwj//3hAC5M6iQLo4EAAAAMAZ9takX/AnvUIAn4AAAAJUGbcEnhClJlMFLCf/3xAB2LrsSD3+jRdO9/b9Qwyn93QCgmzcMAAAATAZ+PakX/Ao+X2wPSgB8nnMhHkQAAABlBm5RJ4Q6JlMCEf/3hAC9sSEQHJN9uHRjAAAAAEEGfskUVPG8B+VRlanDMZ7AAAAAMAZ/RdEX/Ao/vdbyBAAAADQGf02pF/wKN1B/4iksAAAAbQZvWSahBaJlMFPCP/eEAL2zqJAigkyd/5QfBAAAADAGf9WpF/wKPnoSkoAAAAB9Bm/pJ4QpSZTAj//yEALpxzFXAtt3wwyGcuuJg8hSoAAAAE0GeGEU0TG8B+ZyCXYrerJWfPz0AAAATAZ43dEX/Ao3BbWWVwAP/Owf5KAAAAA8BnjlqRf8B8XEfLWSu7lQAAAAgQZo8SahBaJlMFPF/+lgBGA52DLEOzw3yugQji6Y1TgUAAAASAZ5bakX/AfA7MCUR5vTpFIcYAAAAHEGaXknhClJlMFLCP/3hACSa6iQNPSZ/ddm5wmUAAAARAZ59akX/AfA7MCYghzOoqZkAAAAXQZpiSeEOiZTAj//8hACSWs37DaKpj5gAAAAVQZ6ARRU8bwGakIpbEoAJ86ED7eKBAAAACwGev3RF/wHwLkjAAAAADQGeoWpF/wH7Oy+Zne0AAAAVQZqkSahBaJlMFPF/+lgBIA52DK+dAAAACwGew2pF/wH7hUOAAAAAHEGaxUnhClJlMCL/+lgBH4bnVBxeawbdbaH/ERgAAAAcQZrmSeEOiZTAi//6WAEfjtq+cXmstHBPDVdpoQAAACBBmwhJ4Q8mUwURPF/6WAEh51hjnfYzqEif3rCccsWeKgAAAA8BnydqRf8B+4ObsYmbF3kAAABSQZsqSeEPJlMFPCP//eEAHR05viwrf8AgTSRnYna92GVuW4XHXFnun7gnCU0at24SQBQWYY3hMO66KNNugQHU/uuoD2J8ueW4aazC6BhPL+iU6AAAABkBn0lqRf8BkZ2BKw6oAA2bqsqQ+7ewCwWhAAAAIEGbTEnhDyZTBTwj//3hABzqaTGOMQV1BrYPIoFkZ+shAAAAEAGfa2pF/wGRnYErCdihe6EAAAAVQZtuSeEPJlMFPCP//eEAHOppMYPJAAAADAGfjWpF/wGRnYD+GAAAABxBm5BJ4Q8mUwU8I//94QAdvp3YosSs56gng2LAAAAADAGfr2pF/wGcj3M8YQAAABdBm7NJ4Q8mUwIR//3hAB2aaTFn+VJC6AAAAA5Bn9FFETxfAZudgI+dRAAAAAsBn/JqRf8Bm9ingQAAABdBm/RJqEFomUwIR//94QAdmmkxgNLpMwAAABhBmhZJ4QpSZTBREsI//eEAHZppMYDS6TMAAAAOAZ41akX/AZudgOE2wlAAAABXQZo6SeEOiZTAi//6WADk7/iMskbxQR9mQ1il92qsya8GRdwMaZcBzh7wOvNQGJxk8PUmDOma4aT256v9mwG8xonhLQNrFELchkSBFQEP/3+5ifXYyWRgAAAAGUGeWEUVPG8BRjP8L4GPM82z/1uaSYOmAeEAAAAPAZ53dEX/AZzPTFhICSMcAAAAHgGeeWpF/wFqDgJI/gcm9oWFxMggASDAdxbuEB7SpgAAABxBmnxJqEFomUwU8X/6WADE34sg5zXZu/HJHz6hAAAAEgGem2pF/wFhzF68oHgEFizz+AAAACFBmp5J4QpSZTBSxf/6WADE595P1nmAIh6ciU3420rR0TEAAAAOAZ69akX/AWIY6hLeF/8AAAAgQZq/SeEOiZTAj//8hABkQvxIbuvGHzwAzE9OqBs1lQgAAAAXQZrCSeEPJlMCL//6WAC2iCMRnOD+R8EAAAAPQZ7gRRE8XwFG6g+H1xOQAAAACwGfAWpF/wFHGN2bAAAARUGbBEmoQWiZTBTxv/pYAMTl/1oDNYYJ36VEGn+q7AfG6u7rGxnPy6yInEBLtKZXiIORH5ceWJRZv3NXQxu44ssAb1NMCQAAABIBnyNqRf8BYs0h19uxXCYn3vgAAAAyQZsnSeEKUmUwIR/94QAZ30YhYMaT44dYRoR+Ypnexq0X5RL5Q8Qqzrcspsdgzp/D5OgAAAAXQZ9FRTRMXwFiGrSjrgHCt+/aENAb2oEAAAAPAZ9makX/AVnNGrsNWydAAAAALEGbaEmoQWiZTAhP//3xAA+W/6y70Jn3oLRY4gOACcVCKZNKpMrvBro5uh6dAAAAG0GbjEnhClJlMCE//fEADyYYJX6sCsbptfL0wAAAABRBn6pFNExvAQSTLwkFbFTFXRkssQAAABUBn8l0Rf8BT9yDQk3YAEVCwrXa5UEAAAAPAZ/LakX/AVCs3GHb2JeXAAAAG0Gb0EmoQWiZTAhP//3xAA8pFRtW1bOCz8v8BQAAABFBn+5FESxvAQU3fsIWtxlZUAAAAA8Bng10Rf8BT8KtySBAFUAAAAANAZ4PakX/AVDNHobAZwAAACFBmhJJqEFsmUwUTCf//fEADyW95z4BcS4vLLx+ADSv7sAAAAANAZ4xakX/AVDNHobAZwAAABxBmjZJ4QpSZTAhP/3xAA8/ppzDbBEEc4wju6n/AAAAEUGeVEU0TG8BBW5vp5MonRZxAAAAEQGec3RF/wFP3frlEYR0/OThAAAADQGedWpF/wFHzR6GwHEAAAARQZp6SahBaJlMCE///fEAB6QAAAAKQZ6YRREsbwCDgQAAAAkBnrd0Rf8AqYAAAAAJAZ65akX/AKmAAAAAHEGavUmoQWyZTAhP//3xAA7m/0zSbB1p8ImQNosAAAAOQZ7bRRUsXwFHzR6GwHEAAAANAZ78akX/AUfNHobAcQAAABpBmuFJqEFsmUwIR//94QAXNlgx3G0xI6ZxgQAAABBBnx9FFSxvAPgkYeqCE26QAAAADwGfPnRF/wE+wrNA6jguxQAAAA0BnyBqRf8BPs0ehsB7AAAAREGbJEmoQWyZTAhH//3fVOREqIAKSxwfwrEtmjYYUo50aTh/RS4Jq+eJavU3O9yDGuRVyhS7jVJQbmfLnh7P/UO6FLkRAAAAE0GfQkUVLF9Z9c+JVgBn/UQR+8EAAAALAZ9jakX/A8sJ0oAAAAAXQZtlSahBbJlMCEf//eEARvX0SBFBHmYAAAAYQZuHSeEKUmUwUVLCP/3hAEb19EgRQR5nAAAADgGfpmpF/wPKb5/xgUEgAAAAJ0GbqknhDomUwIR//eEAR3oj/sxX2ApcAE+wlq3MM9l1S4A2/pabgQAAABVBn8hFFTxfA8sGyoWnR3GFPc5VxugAAAATAZ/pakX/Avs1Yfv6ldav3q2GYQAAACJBm+1JqEFomUwI//yEANcfulufuk0DM19aIv6BJ7cB8tlRAAAAEUGeC0URLF8C/SWwxK2ChitzAAAAEwGeLGpF/wL7NWH8nNplgkTkYsEAAAAhQZovSahBbJlMFEx//IQA1rz4DYdX3xjgXwC4cz8qS4VEAAAADgGeTmpF/wL7sWC1NKKHAAAAG0GaUEnhClJlMCN/+lgBp9iGJDuiwgXnPAZdgQAAACNBmnNJ4Q6JlMCEf/3hADc+UGH0SB/oZnfNkP3s0Bt0BpMaYAAAABdBnpFFETxfAvs1YJoEzTjyBBbB+2NowAAAABABnrJqRf8C+5+6sFLmRkZ7AAAAP0GatUmoQWiZTBTwj/3hADX6hnjLGoAFglM7dEerjCKA1WLPUHjYKhAeSQM2Ju7DFVj6EUCYtPDYxtj4fb7lLQAAABkBntRqRf8C58+A4QAP7xoC/tuMApQtAPVBAAAAKUGa10nhClJlMFLCf/3xACHSRRVcqwjV9gANDY5iDqPv8Fo7up4jIsp5AAAAEgGe9mpF/wLnz3/iFAhwlR7coAAAAB1BmvtJ4Q6JlMCEf/3hADX/dVx9TxQbiEw5X+tzgQAAAA5BnxlFFTxvAkbn7mbPowAAAA4Bnzh0Rf8C578MRgGpwAAAAAsBnzpqRf8CO+o8QQAAABZBmz1JqEFomUwU8I/94QApzPokC7iAAAAADAGfXGpF/wI6YJAWyQAAABZBm19J4QpSZTBSwj/94QApzPokC7iBAAAACwGffmpF/wI76jxAAAAAJEGbYUnhDomUwUTH//yEAKKoMaGTDdNjNjSwfKh8BxD8g8lPoQAAABUBn4BqRf8COShsfXsRioPyV5kOpVoAAAAeQZuDSeEPJlMFPH/8hACj+jLG4WJEYO+3caEivZspAAAAEQGfompF/wJKs/fN0Spu6SwhAAAAIUGbpUnhDyZTBTxf+lgBN4eTVBxdtgHlw4uj9UI8bbKCIAAAABQBn8RqRf8CKmCQBrFDMP3vPAc46wAAADFBm8ZJ4Q8mUwIR//3hACit4UoigmJV84AD+dSl/4hNzhzOQY3ntD8QnAFJ7z2y2myhAAAAJ0Gb6EnhDyZTBRE8I//94QAoreFKIoJjD8qe5ACn8I4NyiTw7VafUAAAAA8BngdqRf8CKr0TS52JjDkAAAA2QZoMSeEPJlMCP//8hACfc6xbEvxSLAANrVU86gg/URrCvMFI2DJKvBI+3cTWFBr++TBtMdmMAAAAGUGeKkURPG8Bs6r7XbF/wBPzh1qt3dpMdJ0AAAARAZ5JdEX/AipJy6FrnrBl17cAAAALAZ5LakX/Aa/YnYEAAAAaQZpNSahBaJlMCP/8hAB5If7eQAJ8icmBNyEAAAAUQZpwSeEKUmUwIv/6WADuFaoKv2QAAAAPQZ6ORTRMXwIsVuilsVqQAAAACwGer2pF/wGv2J2BAAAAMkGasUmoQWiZTAi/+lgA7nvwxOoQESAHJq5lC54zCe+Ae1nj1jLCnDmJiTq2CekagxeAAAAAI0Ga0knhClJlMCEf/eEAHy9ulCRIKV/TI3oND45LFAzdqMZsAAAARUGa9UnhDomUwIR//eEAHn1DPGWNQAOgOb26I9arqnxqMlIX7caSgbXZ5Fn4LkGCDIKEad7k3SyMk8hgFiH+krtRpsdhNwAAABZBnxNFETxfAaZ3CZythhd+39019W5TAAAAEAGfNGpF/wGmk8ptH7arMpEAAAAgQZs4SahBaJlMCEf//eEAHlt/O3KRli3rLW32yDWjx4AAAAAXQZ9WRREsXwGlmrEQFPq/65IbFcHws4AAAAAPAZ93akX/AaaTm6SXBrjlAAAAPkGbeUmoQWyZTAhP//3xABNvgHbI5pHP/EazmhLmPxwQAfiqcLvBoKcguHJhIURoFjW9l/xPJTJDe7K4yfxKAAAB9mWIhAAv//72rvzLK3R+lLzzh2mDlAIS/97W+A35zhUtmSuw3zDCSWoa3UgsK8wf4oN2tZAwVGrzaresR5+JaKEMUvcxbpGc4OVvwhS/2ndhf7s0FArOJelIX7YmjWeHfyhpusGUAmvAyndkqqAKB8P++fpyTK9gVaIEB7313Z7Rxy3EjG5EbsA4+pj2AsiSNWVXk/eidzlQwCWSwWeKU3MX6r3MGH7S2RaIGUwQp9saE6wdEvlhFjJFAqq3kk8dlbYIRkE8BH7FKj2x1RpQwAAswWgM7wXQmweyYxREy0yTd3VJPv6vJVy/je1yHT/FxfUAADVHo9ZnQ2yPuJ1lRrvGCPIEID1qzXUXJXlLs9FJ8Ju34FaomBjVCAoAzj8rb/ABfAPSryC8Y5hDdqpzzOpf4xS7M8Kb+uGbfdOZvWaXG9skeWF0a7H+72A8d1tfv8K+QqebAQVEqFz9HKRmhpP7WFhuijn3Xqw3aCCy4PCGBObQViO0DxIczg3s3AliEcrnXR5/Kn20pgU2puxcQ/oU31rTNfjqOc8YPJfgr9vzYTegSnOXf4dHd5hRtK+BKKXpo2qXpzqt9XpeWyo3CtFI/veIphpF4UklMXhVYPu6halPxaI6jzPYVhcn7ihzRAOwgCT1l1KDwSxvGWF7DVHRKjeLM6AAAAAsQZoibEI//eEAolLUAIPt6OIjXB9/3Y3YZxFADuuEc9cDqC2HMyMlQy65YqEAAAAPAZ5BeRf/AVD3h7ed60HCAAAAKUGaQzwhkymEJ//98QAO3rKV+32cACwP52ZXiibwT350kN6CC9Vo5JyBAAAAOUGaZ0nhDyZTAhP//fEADuam4F5eoACcc7zioWgnE4PewFhmwiM2Ql1gg6W3a2AChIEdOoTzwmK+lwAAAB5BnoVFETxvAP1elhN4M60ADf++kpUcxo9kO5Hp4TgAAAANAZ6kdEX/AUbcg0GuwwAAABsBnqZqRf8BRk20QGAgBasVKwOoofN5Sb/Sw4AAAAA6QZqqSahBaJlMCE///fEADuegOx0uHNAJokn8mQQt6kRtRDazT1N3BJ1/mI/6imVacdLSdhbuXIfg4QAAACNBnshFESxfAUcX1nM4ZAEDn9KzY8OEWbPw0rGH5T2imM2M3wAAAA4BnulqRf8BRxsL5SE05gAAAB9Bmu1JqEFsmUwIR//94QAX/zZB9EWkDUf3yc7TXkV+AAAAFUGfC0UVLF8BRxgJwTXmc4H4nVAi+QAAAA8BnyxqRf8BPs0auw1bNIAAAAAjQZsuSahBbJlMCE///fEADo+m4P49ww8rEHtj70Y15gaOva0AAAAcQZtSSeEKUmUwIT/98QANyTaHTdUfANmZCiN/4AAAAB9Bn3BFNExvAO0pXZUn/uz5+wAOQ0/wkR5vh5/VApmLAAAADwGfj3RF/wEtIQel/AE6QQAAABkBn5FqRf8BLS7Ad+CQkAN1TuUaL75H3HSBAAAAEUGblkmoQWiZTAhP//3xAAelAAAACkGftEURLG8Ag4AAAAAJAZ/TdEX/AKmAAAAACQGf1WpF/wCpgQAAABpBm9pJqEFsmUwIT//98QANySVHFi10Xcqx0AAAAA9Bn/hFFSxvAO27d+Q7SoAAAAAJAZ4XdEX/AKmBAAAADQGeGWpF/wEt8p6GwJUAAABBQZoeSahBbJlMCE///fEADd+m5jA6r7ADXyKAbvytSwHNfa4NwZF9sFeceOn5424U4NAAHsCX1+1QbsRLfBUE7eEAAAAZQZ48RRUsbwDtStFY76RABdNJiyXwC7cEgAAAAA0Bnlt0Rf8BLhyuuNOsAAAADgGeXWpF/wElJJHIUiihAAAAFEGaQkmoQWyZTAhH//3hABBvdWZ/AAAADEGeYEUVLG8AtZlggAAAAAsBnp90Rf8A4nkx4QAAAAoBnoFqRf8A4kNDAAAAEEGahkmoQWyZTAj//IQAMCEAAAAKQZ6kRRUsbwCDgQAAAAkBnsN0Rf8AqYAAAAAJAZ7FakX/AKmBAAAAEUGayEmoQWyZTBRMX/pYAF5AAAAACQGe52pF/wCpgQAAG81tb292AAAAbG12aGQAAAAAAAAAAAAAAAAAAAPoAAARnQABAAABAAAAAAAAAAAAAAAAAQAAAAAAAAAAAAAAAAAAAAEAAAAAAAAAAAAAAAAAAEAAAAAAAAAAAAAAAAAAAAAAAAAAAAAAAAAAAAAAAAACAAAa+HRyYWsAAABcdGtoZAAAAAMAAAAAAAAAAAAAAAEAAAAAAAARnQAAAAAAAAAAAAAAAAAAAAAAAQAAAAAAAAAAAAAAAAAAAAEAAAAAAAAAAAAAAAAAAEAAAAAAoAAAANIAAAAAACRlZHRzAAAAHGVsc3QAAAAAAAAAAQAAEZ0AAAEAAAEAAAAAGnBtZGlhAAAAIG1kaGQAAAAAAAAAAAAAAAAAADwAAAEOgFXEAAAAAAAtaGRscgAAAAAAAAAAdmlkZQAAAAAAAAAAAAAAAFZpZGVvSGFuZGxlcgAAABobbWluZgAAABR2bWhkAAAAAQAAAAAAAAAAAAAAJGRpbmYAAAAcZHJlZgAAAAAAAAABAAAADHVybCAAAAABAAAZ23N0YmwAAACvc3RzZAAAAAAAAAABAAAAn2F2YzEAAAAAAAAAAQAAAAAAAAAAAAAAAAAAAAAAoADSAEgAAABIAAAAAAAAAAEVTGF2YzYxLjE5LjEwMSBsaWJ4MjY0AAAAAAAAAAAAAAAY//8AAAA1YXZjQwFkABX/4QAYZ2QAFazZQod+IhAAAAMAEAAADwDxYtlgAQAGaOvjyyLA/fj4AAAAABRidHJ0AAAAAAAAcGwAAAAAAAAAGHN0dHMAAAAAAAAAAQAAAh0AAACAAAAAHHN0c3MAAAAAAAAAAwAAAAEAAAD7AAAB9QAAEDhjdHRzAAAAAAAAAgUAAAABAAABAAAAAAEAAAKAAAAAAQAAAQAAAAABAAAAAAAAAAEAAACAAAAAAQAAAoAAAAABAAABAAAAAAEAAAAAAAAAAQAAAIAAAAABAAACgAAAAAEAAAEAAAAAAQAAAAAAAAABAAAAgAAAAAEAAAGAAAAAAQAAAIAAAAABAAACgAAAAAEAAAEAAAAAAQAAAAAAAAABAAAAgAAAAAEAAAGAAAAAAQAAAIAAAAABAAABgAAAAAEAAACAAAAAAQAAAYAAAAABAAAAgAAAAAEAAAKAAAAAAQAAAQAAAAABAAAAAAAAAAEAAACAAAAAAQAAAYAAAAABAAAAgAAAAAEAAAKAAAAAAQAAAQAAAAABAAAAAAAAAAEAAACAAAAAAQAAAYAAAAABAAAAgAAAAAEAAAGAAAAAAQAAAIAAAAABAAABgAAAAAEAAACAAAAAAQAAAYAAAAABAAAAgAAAAAEAAAGAAAAAAQAAAIAAAAABAAABgAAAAAEAAACAAAAAAQAAAoAAAAABAAABAAAAAAEAAAAAAAAAAQAAAIAAAAABAAABgAAAAAEAAACAAAAAAQAAAYAAAAABAAAAgAAAAAEAAAGAAAAAAQAAAIAAAAABAAACgAAAAAEAAAEAAAAAAQAAAAAAAAABAAAAgAAAAAEAAAGAAAAAAQAAAIAAAAABAAACgAAAAAEAAAEAAAAAAQAAAAAAAAABAAAAgAAAAAEAAAGAAAAAAQAAAIAAAAABAAABgAAAAAEAAACAAAAAAQAAAoAAAAABAAABAAAAAAEAAAAAAAAAAQAAAIAAAAABAAABgAAAAAEAAACAAAAAAQAAAoAAAAABAAABAAAAAAEAAAAAAAAAAQAAAIAAAAACAAABAAAAAAEAAAGAAAAAAQAAAIAAAAABAAACgAAAAAEAAAEAAAAAAQAAAAAAAAABAAAAgAAAAAEAAAKAAAAAAQAAAQAAAAABAAAAAAAAAAEAAACAAAAAAQAAAoAAAAABAAABAAAAAAEAAAAAAAAAAQAAAIAAAAABAAACgAAAAAEAAAEAAAAAAQAAAAAAAAABAAAAgAAAAAEAAAKAAAAAAQAAAQAAAAABAAAAAAAAAAEAAACAAAAAAQAAAoAAAAABAAABAAAAAAEAAAAAAAAAAQAAAIAAAAABAAACgAAAAAEAAAEAAAAAAQAAAAAAAAABAAAAgAAAAAEAAAKAAAAAAQAAAQAAAAABAAAAAAAAAAEAAACAAAAAAQAAAoAAAAABAAABAAAAAAEAAAAAAAAAAQAAAIAAAAABAAACgAAAAAEAAAEAAAAAAQAAAAAAAAABAAAAgAAAAAEAAAKAAAAAAQAAAQAAAAABAAAAAAAAAAEAAACAAAAAAQAAAoAAAAABAAABAAAAAAEAAAAAAAAAAQAAAIAAAAABAAACgAAAAAEAAAEAAAAAAQAAAAAAAAABAAAAgAAAAAEAAAKAAAAAAQAAAQAAAAABAAAAAAAAAAEAAACAAAAAAQAAAgAAAAACAAAAgAAAAAEAAAEAAAAAAQAAAoAAAAABAAABAAAAAAEAAAAAAAAAAQAAAIAAAAABAAABAAAAAAEAAAKAAAAAAQAAAQAAAAABAAAAAAAAAAEAAACAAAAAAQAAAYAAAAABAAAAgAAAAAEAAAGAAAAAAQAAAIAAAAABAAABAAAAAAEAAAKAAAAAAQAAAQAAAAABAAAAAAAAAAEAAACAAAAAAQAAAYAAAAABAAAAgAAAAAEAAAGAAAAAAQAAAIAAAAABAAABgAAAAAEAAACAAAAAAQAAAYAAAAABAAAAgAAAAAEAAAGAAAAAAQAAAIAAAAABAAABgAAAAAEAAACAAAAAAQAAAYAAAAABAAAAgAAAAAEAAAEAAAAAAQAAAYAAAAABAAAAgAAAAAEAAAGAAAAAAQAAAIAAAAABAAABgAAAAAEAAACAAAAAAQAAAoAAAAABAAABAAAAAAEAAAAAAAAAAQAAAIAAAAABAAABgAAAAAEAAACAAAAAAQAAAQAAAAABAAACgAAAAAEAAAEAAAAAAQAAAAAAAAABAAAAgAAAAAEAAAGAAAAAAQAAAIAAAAABAAABgAAAAAEAAACAAAAAAQAAAYAAAAABAAAAgAAAAAEAAAKAAAAAAQAAAQAAAAABAAAAAAAAAAEAAACAAAAAAQAAAYAAAAABAAAAgAAAAAEAAAKAAAAAAQAAAQAAAAABAAAAAAAAAAEAAACAAAAAAQAAAYAAAAABAAAAgAAAAAEAAAGAAAAAAQAAAIAAAAABAAACgAAAAAEAAAEAAAAAAQAAAAAAAAABAAAAgAAAAAEAAAKAAAAAAQAAAQAAAAABAAAAAAAAAAEAAACAAAAAAQAAAoAAAAABAAABAAAAAAEAAAAAAAAAAQAAAIAAAAABAAACgAAAAAEAAAEAAAAAAQAAAAAAAAABAAAAgAAAAAEAAAKAAAAAAQAAAQAAAAABAAAAAAAAAAEAAACAAAAAAQAAAgAAAAACAAAAgAAAAAEAAAIAAAAAAgAAAIAAAAABAAACgAAAAAEAAAEAAAAAAQAAAAAAAAABAAAAgAAAAAEAAAKAAAAAAQAAAQAAAAABAAAAAAAAAAEAAACAAAAAAgAAAQAAAAABAAACAAAAAAIAAACAAAAAAQAAAYAAAAABAAAAgAAAAAEAAAKAAAAAAQAAAQAAAAABAAAAAAAAAAEAAACAAAAAAQAAAYAAAAABAAAAgAAAAAEAAAGAAAAAAQAAAIAAAAABAAACAAAAAAIAAACAAAAAAQAAAQAAAAABAAABgAAAAAEAAACAAAAAAQAAAYAAAAABAAAAgAAAAAEAAAKAAAAAAQAAAQAAAAABAAAAAAAAAAEAAACAAAAAAQAAAoAAAAABAAABAAAAAAEAAAAAAAAAAQAAAIAAAAABAAACgAAAAAEAAAEAAAAAAQAAAAAAAAABAAAAgAAAAAEAAAGAAAAAAQAAAIAAAAABAAABgAAAAAEAAACAAAAAAQAAAoAAAAABAAABAAAAAAEAAAAAAAAAAQAAAIAAAAABAAACgAAAAAEAAAEAAAAAAQAAAAAAAAABAAAAgAAAAAEAAAKAAAAAAQAAAQAAAAABAAAAAAAAAAEAAACAAAAAAQAAAYAAAAABAAAAgAAAAAEAAAKAAAAAAQAAAQAAAAABAAAAAAAAAAEAAACAAAAAAQAAAYAAAAABAAAAgAAAAAEAAAEAAAAAAQAAAYAAAAABAAAAgAAAAAEAAAGAAAAAAQAAAIAAAAABAAACgAAAAAEAAAEAAAAAAQAAAAAAAAABAAAAgAAAAAEAAAKAAAAAAQAAAQAAAAABAAAAAAAAAAEAAACAAAAAAQAAAoAAAAABAAABAAAAAAEAAAAAAAAAAQAAAIAAAAABAAACgAAAAAEAAAEAAAAAAQAAAAAAAAABAAAAgAAAAAEAAAKAAAAAAQAAAQAAAAABAAAAAAAAAAEAAACAAAAAAQAAAoAAAAABAAABAAAAAAEAAAAAAAAAAQAAAIAAAAABAAACgAAAAAEAAAEAAAAAAQAAAAAAAAABAAAAgAAAAAEAAAKAAAAAAQAAAQAAAAABAAAAAAAAAAEAAACAAAAAAQAAAQAAAAABAAACgAAAAAEAAAEAAAAAAQAAAAAAAAABAAAAgAAAAAEAAAGAAAAAAQAAAIAAAAABAAACgAAAAAEAAAEAAAAAAQAAAAAAAAABAAAAgAAAAAEAAAIAAAAAAgAAAIAAAAABAAABgAAAAAEAAACAAAAAAQAAAYAAAAABAAAAgAAAAAEAAAKAAAAAAQAAAQAAAAABAAAAAAAAAAEAAACAAAAAAQAAAYAAAAABAAAAgAAAAAEAAAKAAAAAAQAAAQAAAAABAAAAAAAAAAEAAACAAAAAAQAAAYAAAAABAAAAgAAAAAEAAAGAAAAAAQAAAIAAAAABAAACgAAAAAEAAAEAAAAAAQAAAAAAAAABAAAAgAAAAAEAAAGAAAAAAQAAAIAAAAACAAABAAAAAAEAAAGAAAAAAQAAAIAAAAABAAABgAAAAAEAAACAAAAAAQAAAYAAAAABAAAAgAAAAAEAAAGAAAAAAQAAAIAAAAABAAABgAAAAAEAAACAAAAAAQAAAgAAAAACAAAAgAAAAAEAAAEAAAAAAQAAAYAAAAABAAAAgAAAAAEAAAKAAAAAAQAAAQAAAAABAAAAAAAAAAEAAACAAAAAAQAAAYAAAAABAAAAgAAAAAEAAAGAAAAAAQAAAIAAAAABAAABAAAAAAEAAAIAAAAAAgAAAIAAAAABAAABgAAAAAEAAACAAAAAAQAAAgAAAAACAAAAgAAAAAEAAAEAAAAAAQAAAoAAAAABAAABAAAAAAEAAAAAAAAAAQAAAIAAAAABAAACgAAAAAEAAAEAAAAAAQAAAAAAAAABAAAAgAAAAAEAAAGAAAAAAQAAAIAAAAABAAACgAAAAAEAAAEAAAAAAQAAAAAAAAABAAAAgAAAAAEAAAKAAAAAAQAAAQAAAAABAAAAAAAAAAEAAACAAAAAAQAAAgAAAAACAAAAgAAAAAEAAAKAAAAAAQAAAQAAAAABAAAAAAAAAAEAAACAAAAAAQAAAgAAAAACAAAAgAAAAAEAAAEAAAAAAQAAAYAAAAABAAAAgAAAAAEAAAIAAAAAAgAAAIAAAAABAAACAAAAAAIAAACAAAAAAQAAAYAAAAABAAAAgAAAAAEAAAEAAAAAAQAAAgAAAAACAAAAgAAAAAEAAAGAAAAAAQAAAIAAAAABAAABgAAAAAEAAACAAAAAAQAAAoAAAAABAAABAAAAAAEAAAAAAAAAAQAAAIAAAAABAAABgAAAAAEAAACAAAAAAQAAAYAAAAABAAAAgAAAAAEAAAGAAAAAAQAAAIAAAAABAAABgAAAAAEAAACAAAAAAQAAAYAAAAABAAAAgAAAAAEAAAEAAAAAAQAAAYAAAAABAAAAgAAAAAEAAAKAAAAAAQAAAQAAAAABAAAAAAAAAAEAAACAAAAAAQAAAQAAAAABAAACAAAAAAIAAACAAAAAAgAAAQAAAAABAAACAAAAAAIAAACAAAAAAQAAAgAAAAACAAAAgAAAAAIAAAEAAAAAAQAAAYAAAAABAAAAgAAAAAEAAAEAAAAAAQAAAoAAAAABAAABAAAAAAEAAAAAAAAAAQAAAIAAAAABAAACAAAAAAIAAACAAAAAAQAAAgAAAAACAAAAgAAAAAEAAAEAAAAAAQAAAoAAAAABAAABAAAAAAEAAAAAAAAAAQAAAIAAAAABAAACgAAAAAEAAAEAAAAAAQAAAAAAAAABAAAAgAAAAAEAAAKAAAAAAQAAAQAAAAABAAAAAAAAAAEAAACAAAAAAQAAAoAAAAABAAABAAAAAAEAAAAAAAAAAQAAAIAAAAABAAACgAAAAAEAAAEAAAAAAQAAAAAAAAABAAAAgAAAAAEAAAKAAAAAAQAAAQAAAAABAAAAAAAAAAEAAACAAAAAAQAAAYAAAAABAAAAgAAAABxzdHNjAAAAAAAAAAEAAAABAAACHQAAAAEAAAiIc3RzegAAAAAAAAAAAAACHQAABKkAAAAnAAAADQAAAA0AAAANAAAAFQAAAA4AAAANAAAADQAAADsAAAATAAAAGAAAABcAAAAjAAAAEgAAACsAAAAaAAAAFwAAAB8AAAAhAAAAFgAAABoAAAAQAAAAIQAAABIAAAAnAAAAGwAAABUAAAAZAAAAIwAAABgAAAAmAAAAGgAAABgAAAAXAAAAIwAAABcAAAA3AAAAFwAAAC8AAAAYAAAAIQAAABQAAAAbAAAAEQAAABsAAAASAAAAGwAAABIAAAASAAAAEQAAADsAAAAWAAAAMQAAABYAAAAmAAAAFwAAAB0AAAAUAAAAEQAAABMAAAAbAAAAEgAAABwAAAASAAAAEgAAABEAAAAaAAAAEAAAABoAAAAQAAAALgAAACEAAAASAAAAFwAAADMAAAAkAAAASgAAACQAAAAVAAAAFQAAADoAAAAqAAAAMQAAABgAAAAlAAAAFwAAABYAAAAVAAAAJQAAABIAAAARAAAADQAAABUAAAAOAAAADQAAAA0AAAAVAAAADgAAAA0AAAANAAAAFQAAAA4AAAANAAAADQAAADIAAAAQAAAADgAAAA0AAAAVAAAADgAAAA0AAAANAAAAFQAAAA4AAAANAAAADQAAABUAAAAOAAAADQAAAA0AAAAeAAAAFQAAABEAAAATAAAAIwAAABUAAAAUAAAAEgAAACEAAAAVAAAAEQAAABUAAAAiAAAAFgAAABQAAAAVAAAAHgAAABUAAAAUAAAAEwAAACMAAAAWAAAAEwAAAB4AAAAxAAAAFAAAABAAAAASAAAAIwAAADgAAAAZAAAAEQAAABoAAAApAAAAGAAAACIAAAAVAAAAGgAAAB4AAAASAAAAEQAAABEAAAAaAAAAEAAAABoAAAAQAAAAIQAAABEAAAAcAAAAGQAAABsAAAARAAAAGwAAABIAAAAyAAAAIwAAACcAAAAnAAAAGAAAACIAAAAXAAAAJgAAABcAAAAmAAAAGgAAABoAAAAVAAAAKgAAABoAAAAiAAAAKAAAABgAAAAXAAAAFQAAACEAAAAXAAAAJwAAABgAAAAlAAAAFwAAAB0AAAAUAAAAEQAAABEAAAAbAAAAEgAAABwAAAASAAAAEQAAABAAAAAaAAAAEAAAABoAAAAQAAAAJgAAAB0AAAARAAAAEgAAAC4AAAAdAAAAGgAAABsAAAAoAAAAGwAAABMAAAANAAAAGQAAABAAAAAPAAAADQAAAB0AAAATAAAADQAAABMAAAAiAAAAFgAAABMAAAAiAAAAFgAAABMAAAAmAAAAFQAAABQAAAARAAAAFQAAAA4AAAANAAAADQAAABQAAAHtAAAAPAAAABAAAAAUAAAAIwAAABMAAAAfAAAAFAAAABMAAAAQAAAAGgAAABIAAAAhAAAAEwAAACgAAAAaAAAAEwAAACcAAAAkAAAAGAAAACcAAAAZAAAAIwAAACAAAAAUAAAAFwAAACYAAAAbAAAAFAAAABYAAAA6AAAAIAAAABMAAAAZAAAAJQAAABcAAAAnAAAAGAAAACIAAAAWAAAAEwAAABYAAAAaAAAAEQAAAA8AAAAQAAAAKQAAABgAAAAQAAAAFwAAACkAAAAZAAAAJQAAABkAAAAQAAAAGAAAACsAAAASAAAAJAAAACYAAAAXAAAAIwAAABIAAAAuAAAAGgAAABcAAAAWAAAAIwAAABwAAAAUAAAAHwAAACUAAAAZAAAAEwAAABUAAAAVAAAADgAAAA0AAAANAAAAFQAAAA4AAAANAAAADQAAACEAAAAUAAAAEQAAABMAAAAcAAAAFwAAABIAAAAVAAAAHQAAABQAAAARAAAAEwAAAB4AAABIAAAAGwAAABgAAAAUAAAAHwAAABYAAAAcAAAAEgAAABAAAAAQAAAAGgAAABAAAAAQAAAAGwAAABAAAAApAAAAFwAAAB0AAAAUAAAAEAAAABEAAAAfAAAAEAAAACMAAAAXAAAAFwAAABMAAAAkAAAAFgAAACAAAAAVAAAAGwAAABkAAAAPAAAAEQAAABkAAAAPAAAAIAAAACAAAAAkAAAAEwAAAFYAAAAdAAAAJAAAABQAAAAZAAAAEAAAACAAAAAQAAAAGwAAABIAAAAPAAAAGwAAABwAAAASAAAAWwAAAB0AAAATAAAAIgAAACAAAAAWAAAAJQAAABIAAAAkAAAAGwAAABMAAAAPAAAASQAAABYAAAA2AAAAGwAAABMAAAAwAAAAHwAAABgAAAAZAAAAEwAAAB8AAAAVAAAAEwAAABEAAAAlAAAAEQAAACAAAAAVAAAAFQAAABEAAAAVAAAADgAAAA0AAAANAAAAIAAAABIAAAARAAAAHgAAABQAAAATAAAAEQAAAEgAAAAXAAAADwAAABsAAAAcAAAAEgAAACsAAAAZAAAAFwAAACYAAAAVAAAAFwAAACUAAAASAAAAHwAAACcAAAAbAAAAFAAAAEMAAAAdAAAALQAAABYAAAAhAAAAEgAAABIAAAAPAAAAGgAAABAAAAAaAAAADwAAACgAAAAZAAAAIgAAABUAAAAlAAAAGAAAADUAAAArAAAAEwAAADoAAAAdAAAAFQAAAA8AAAAeAAAAGAAAABMAAAAPAAAANgAAACcAAABJAAAAGgAAABQAAAAkAAAAGwAAABMAAABCAAAB+gAAADAAAAATAAAALQAAAD0AAAAiAAAAEQAAAB8AAAA+AAAAJwAAABIAAAAjAAAAGQAAABMAAAAnAAAAIAAAACMAAAATAAAAHQAAABUAAAAOAAAADQAAAA0AAAAeAAAAEwAAAA0AAAARAAAARQAAAB0AAAARAAAAEgAAABgAAAAQAAAADwAAAA4AAAAUAAAADgAAAA0AAAANAAAAFQAAAA0AAAAUc3RjbwAAAAAAAAABAAAAMAAAAGF1ZHRhAAAAWW1ldGEAAAAAAAAAIWhkbHIAAAAAAAAAAG1kaXJhcHBsAAAAAAAAAAAAAAAALGlsc3QAAAAkqXRvbwAAABxkYXRhAAAAAQAAAABMYXZmNjEuNy4xMDA=\" type=\"video/mp4\">\n",
       " Your browser does not support the video tag.\n",
       " </video>"
      ],
      "text/plain": [
       "<IPython.core.display.Video object>"
      ]
     },
     "execution_count": 7,
     "metadata": {},
     "output_type": "execute_result"
    }
   ],
   "source": [
    "# Ruta al archivo de vídeo en tu sistema de ficheros\n",
    "video_path = \"./videos/random/breakout-episode-0.mp4\"\n",
    "\n",
    "# Muestra el vídeo\n",
    "Video(video_path, embed=True, width=600)"
   ]
  },
  {
   "cell_type": "markdown",
   "metadata": {
    "id": "2bYVG_TKt9I5"
   },
   "source": [
    "# Exploración del entorno"
   ]
  },
  {
   "cell_type": "code",
   "execution_count": 8,
   "metadata": {},
   "outputs": [
    {
     "name": "stdout",
     "output_type": "stream",
     "text": [
      "Actions shape: Discrete(4)\n",
      "Observation shape: (4, 84, 84)\n",
      "(4, 84, 84),\n",
      " 0,\n",
      " False,\n",
      " {'lives': 5, 'episode_frame_number': 12, 'frame_number': 552}\n"
     ]
    }
   ],
   "source": [
    "print(\"Actions shape:\",env.action_space)\n",
    "print(\"Observation shape:\",env.observation_space.shape)\n",
    "env.reset()\n",
    "next_state, reward, terminated, truncated, info = env.step(action=0)\n",
    "\n",
    "print(f\"{next_state.shape},\\n {reward},\\n {terminated},\\n {info}\")"
   ]
  },
  {
   "cell_type": "markdown",
   "metadata": {},
   "source": [
    "### Acciones\n",
    "..."
   ]
  },
  {
   "cell_type": "markdown",
   "metadata": {},
   "source": [
    "### Observaciones\n",
    "..."
   ]
  },
  {
   "cell_type": "markdown",
   "metadata": {
    "id": "XIHpwiaat9I7"
   },
   "source": [
    "# Deep Q Learning\n",
    "\n",
    "Deep Q Learning extiende el algoritmo clásico de Q-learning al emplear una **red neuronal profunda** como aproximador de la función de valor $Q(s,a)$. Inspirado en Mnih et al. (2013), este método utiliza una **red convolucional** para procesar directamente las imágenes del entorno Atari, un **replay buffer** para romper la correlación temporal de las muestras. La política sigue un esquema **ε-greedy**, balanceando exploración y explotación, y se entrena minimizando el error de la ecuación de Bellman sobre lotes de transiciones muestreadas de manera aleatoria.\n",
    "\n",
    "<p align=\"center\">\n",
    "  <img src=\"https://www.researchgate.net/profile/Faris-Mismar/publication/327045314/figure/fig4/AS:819677282455553@1572437701142/Structure-of-the-neural-network-used-for-the-Deep-Q-learning-Network-implementation-with.png\" alt=\"DQN\"/>\n",
    "</p>\n",
    "\n",
    "Fuente: [arXiv:1312.5602](https://arxiv.org/abs/1312.5602)"
   ]
  },
  {
   "cell_type": "markdown",
   "metadata": {
    "id": "ajTGajUftSgY",
    "pycharm": {
     "name": "#%% md\n"
    }
   },
   "source": [
    "## Memoria\n",
    "\n",
    "El algoritmo de Deep Q Learning presentado en el paper utiliza una memoria (llamada Replay Memory) para almacenar transiciones pasadas. Tuplas que contienen un estado base, la accion tomada, la recompensa obtenida, una bandera que indica si el siguiente estado es final o no; y el estado siguiente.\n",
    "\n",
    "Esta memoria es circular, es decir, tiene un límite maximo de elementos y una vez esté llena comienza a reemplazar los elementos más viejos.\n",
    "\n",
    "Vamos a necesitar crear una función **sample** que obtiene una mustra aleatoria de elementos de la memoria.  Esto puede ser una lista de Transiciones o listas separadas (pero alineadas) de los elementos que las componen.\n",
    "\n",
    "\n",
    "> Para implementar esta funcionalidad se debe modificar el archivo **replay_memory.py**"
   ]
  },
  {
   "cell_type": "code",
   "execution_count": 9,
   "metadata": {
    "id": "scPtpbz4tTAh",
    "outputId": "0890f48a-e673-4416-bd69-7dcf2730ba64",
    "pycharm": {
     "name": "#%%\n"
    }
   },
   "outputs": [
    {
     "name": "stdout",
     "output_type": "stream",
     "text": [
      "Memory size: 3\n",
      "\n",
      "Memory sample:\n",
      "Sample 0: Transition(state='state2', action='action2', reward='reward2', done='done2', next_state='next_state2')\n",
      "Sample 1: Transition(state='state4', action='action4', reward='reward4', done='done4', next_state='next_state4')\n"
     ]
    }
   ],
   "source": [
    "from replay_memory import ReplayMemory, Transition\n",
    "\n",
    "# Creamos la memoria de repetición\n",
    "replay_memory = ReplayMemory(3)\n",
    "\n",
    "# Añadimos transiciones a la memoria (solo las 3 últimas se guardan)\n",
    "replay_memory.add('state1', 'action1', 'reward1', 'done1', 'next_state1' )\n",
    "replay_memory.add('state2', 'action2', 'reward2', 'done2', 'next_state2')\n",
    "replay_memory.add('state3', 'action3', 'reward3', 'done3', 'next_state3')\n",
    "replay_memory.add('state4', 'action4', 'reward4', 'done4', 'next_state4')\n",
    "\n",
    "# Mostramos el tamaño de la memoria\n",
    "print(f\"Memory size: {len(replay_memory)}\\n\")\n",
    "\n",
    "# Mostramos un sample de la memoria\n",
    "sampled = replay_memory.sample(2)\n",
    "print(f\"Memory sample:\")\n",
    "for i, sample in enumerate(sampled):\n",
    "    print(f\"Sample {i}: {sample}\")\n"
   ]
  },
  {
   "cell_type": "markdown",
   "metadata": {
    "id": "j7Ygv5Mjtb-F",
    "pycharm": {
     "name": "#%% md\n"
    }
   },
   "source": [
    "## Modelo\n",
    "\n",
    "Vamos a usar un mismo modelo FeedForward para estos dos problemas (entrenado en cada problema particular). Recomendamos simplicidad en la creación del mismo, pero tienen total libertad al momento de implementarlo.\n",
    "\n",
    "> Para implementar esta funcionalidad se debe modificar el archivo **dqn_cnn_model.py**. Se recomienda empezar por una arquitectura simple como la que se muestra en el paper de Mnih et al. (2013) y luego experimentar con arquitecturas más complejas."
   ]
  },
  {
   "cell_type": "code",
   "execution_count": 10,
   "metadata": {
    "id": "bkNBvJB6ryp7",
    "pycharm": {
     "name": "#%%\n"
    }
   },
   "outputs": [
    {
     "name": "stderr",
     "output_type": "stream",
     "text": [
      "A.L.E: Arcade Learning Environment (version 0.10.2+unknown)\n",
      "[Powered by Stella]\n",
      "Game console created:\n",
      "  ROM file:  /opt/anaconda3/envs/obl_taller_ia/lib/python3.12/site-packages/ale_py/roms/breakout.bin\n",
      "  Cart Name: Breakout - Breakaway IV (1978) (Atari)\n",
      "  Cart MD5:  f34f08e5eb96e500e851a80be3277a56\n",
      "  Display Format:  AUTO-DETECT ==> NTSC\n",
      "  ROM Size:        2048\n",
      "  Bankswitch Type: AUTO-DETECT ==> 2K\n",
      "\n",
      "Running ROM file...\n",
      "Random seed is -1133689695\n",
      "/opt/anaconda3/envs/obl_taller_ia/lib/python3.12/site-packages/gymnasium/wrappers/rendering.py:416: UserWarning: \u001b[33mWARN: Unable to save last video! Did you call close()?\u001b[0m\n",
      "  logger.warn(\"Unable to save last video! Did you call close()?\")\n"
     ]
    },
    {
     "name": "stdout",
     "output_type": "stream",
     "text": [
      "Actions shape: Discrete(4)\n",
      "Observatiion shape: (4, 84, 84)\n"
     ]
    },
    {
     "data": {
      "text/plain": [
       "==========================================================================================\n",
       "Layer (type:depth-idx)                   Output Shape              Param #\n",
       "==========================================================================================\n",
       "DQN_CNN_Model                            [32, 4]                   --\n",
       "├─Conv2d: 1-1                            [32, 16, 20, 20]          4,112\n",
       "├─Conv2d: 1-2                            [32, 32, 9, 9]            8,224\n",
       "├─Linear: 1-3                            [32, 256]                 663,808\n",
       "├─Linear: 1-4                            [32, 4]                   1,028\n",
       "==========================================================================================\n",
       "Total params: 677,172\n",
       "Trainable params: 677,172\n",
       "Non-trainable params: 0\n",
       "Total mult-adds (Units.MEGABYTES): 95.22\n",
       "==========================================================================================\n",
       "Input size (MB): 3.61\n",
       "Forward/backward pass size (MB): 2.37\n",
       "Params size (MB): 2.71\n",
       "Estimated Total Size (MB): 8.69\n",
       "=========================================================================================="
      ]
     },
     "execution_count": 10,
     "metadata": {},
     "output_type": "execute_result"
    }
   ],
   "source": [
    "from dqn_cnn_model import DQN_CNN_Model\n",
    "\n",
    "env = make_env(ENV_NAME,\n",
    "                record_every=None,\n",
    "                grayscale=GRAY_SCALE,\n",
    "                screen_size=SCREEN_SIZE,\n",
    "                stack_frames=NUM_STACKED_FRAMES,\n",
    "                skip_frames=SKIP_FRAMES\n",
    "                )\n",
    "print(\"Actions shape:\",env.action_space)\n",
    "print(\"Observatiion shape:\",env.observation_space.shape)\n",
    "\n",
    "env.close()\n",
    "\n",
    "cnn_model = DQN_CNN_Model(env.observation_space.shape, env.action_space.n).to(DEVICE)\n",
    "summary(cnn_model, input_size=(32, SKIP_FRAMES, SCREEN_SIZE, SCREEN_SIZE), device=DEVICE) # 32 es el batch size"
   ]
  },
  {
   "cell_type": "markdown",
   "metadata": {},
   "source": [
    "La red esta definida para que reciba un tensor de 4 dimensiones (batch_size, num_frames, height, width) y devuelve un tensor de 2 dimensiones (batch_size, num_actions). La función `forward` es la encargada de definir el flujo de datos a través de la red. En este caso, se utiliza una red convolucional seguida de capas totalmente conectadas"
   ]
  },
  {
   "cell_type": "code",
   "execution_count": 11,
   "metadata": {},
   "outputs": [
    {
     "name": "stdout",
     "output_type": "stream",
     "text": [
      "Q-values shape: torch.Size([1, 4])\n"
     ]
    }
   ],
   "source": [
    "obs_tensor_batch = torch.rand((NUM_STACKED_FRAMES,SCREEN_SIZE,SCREEN_SIZE)).unsqueeze(0).to(DEVICE) # Añadimos una dimensión para el batch y lo pasamos al dispositivo\n",
    "print(f\"Q-values shape: {cnn_model(obs_tensor_batch).shape}\") # shape: (1, num_actions) "
   ]
  },
  {
   "cell_type": "markdown",
   "metadata": {},
   "source": [
    "Los valores de Q se obtienen a partir de la salida de la red, cada columna representa el valor Q para cada acción posible en el estado actual. "
   ]
  },
  {
   "cell_type": "code",
   "execution_count": 12,
   "metadata": {},
   "outputs": [
    {
     "data": {
      "text/plain": [
       "tensor([[-0.0188,  0.0008,  0.0328,  0.0380]], device='mps:0',\n",
       "       grad_fn=<LinearBackward0>)"
      ]
     },
     "execution_count": 12,
     "metadata": {},
     "output_type": "execute_result"
    }
   ],
   "source": [
    "cnn_model(obs_tensor_batch) "
   ]
  },
  {
   "cell_type": "markdown",
   "metadata": {},
   "source": [
    "Podemos preguntar cuál es la acción con mayor valor Q en un estado."
   ]
  },
  {
   "cell_type": "code",
   "execution_count": 13,
   "metadata": {},
   "outputs": [
    {
     "data": {
      "text/plain": [
       "torch.return_types.max(\n",
       "values=tensor([0.0380], device='mps:0', grad_fn=<MaxBackward0>),\n",
       "indices=tensor([3], device='mps:0'))"
      ]
     },
     "execution_count": 13,
     "metadata": {},
     "output_type": "execute_result"
    }
   ],
   "source": [
    "cnn_model(obs_tensor_batch).max(1)"
   ]
  },
  {
   "cell_type": "markdown",
   "metadata": {},
   "source": [
    "En el siguiente ejemplo vamos a ver cómo tomar los valores de acciones deseables para un conjunto de estados. "
   ]
  },
  {
   "cell_type": "code",
   "execution_count": 14,
   "metadata": {},
   "outputs": [
    {
     "name": "stdout",
     "output_type": "stream",
     "text": [
      "Batch shape: torch.Size([3, 4, 84, 84])\n",
      "Q-values: tensor([[-0.0399,  0.0014,  0.0332,  0.0316],\n",
      "        [-0.0319,  0.0112,  0.0292,  0.0156],\n",
      "        [-0.0356,  0.0033,  0.0296,  0.0224]], device='mps:0',\n",
      "       grad_fn=<LinearBackward0>)\n",
      "Q-values: tensor([[0.0014],\n",
      "        [0.0292],\n",
      "        [0.0224]], device='mps:0', grad_fn=<GatherBackward0>)\n"
     ]
    }
   ],
   "source": [
    "# Creamos 3 observaciones aleatorias para probar el modelo\n",
    "obs_ran1 = torch.rand(4, 84, 84)\n",
    "obs_ran2 = torch.rand(4, 84, 84)\n",
    "obs_ran3 = torch.rand(4, 84, 84)\n",
    "\n",
    "batch = torch.stack([obs_ran1, obs_ran2, obs_ran3], dim=0).to(DEVICE) # shape: (3, 4, 84, 84)\n",
    "print(f\"Batch shape: {batch.shape}\")\n",
    "\n",
    "actions =  torch.tensor([1, 2, 3], device=DEVICE).unsqueeze(1) # queremos la acción 1 para la primera observación, la acción 2 para la segunda y la acción 3 para la tercera\n",
    "\n",
    "Q_test = cnn_model(batch)\n",
    "print(f\"Q-values: {Q_test}\")\n",
    "print(f\"Q-values: {Q_test.gather(1, actions)}\") # https://pytorch.org/docs/main/generated/torch.gather.html"
   ]
  },
  {
   "cell_type": "markdown",
   "metadata": {},
   "source": [
    "## Phi \n",
    "\n",
    "La función para procesar los estados (phi en el paper) que es necesaria para poder usar el modelo de Pytorch con las representaciones de gym. Esta función pasa una observación de gym a un tensor de Pytorch y la normaliza.\n",
    "\n",
    "> Técnicamente la función phi tiene más responsabilidades, como la de apilar los frames y el downsampling. En nuestro caso se lo delegamos a los wrappers de gymnasium."
   ]
  },
  {
   "cell_type": "code",
   "execution_count": 15,
   "metadata": {
    "id": "oegpMg25t9I9",
    "pycharm": {
     "name": "#%%\n"
    }
   },
   "outputs": [
    {
     "name": "stdout",
     "output_type": "stream",
     "text": [
      "Observation shape: torch.Size([4, 84, 84])\n"
     ]
    }
   ],
   "source": [
    "def process_state(obs):\n",
    "    \"\"\"\n",
    "    Preprocess the state to be used as input for the model (transform to tensor).\n",
    "    \"\"\"\n",
    "    return torch.tensor(obs, dtype=torch.float32, device=DEVICE) / 255.0\n",
    "\n",
    "obs, _ = env.reset()\n",
    "obs_tensor = process_state(obs)\n",
    "print(f\"Observation shape: {obs_tensor.shape}\")"
   ]
  },
  {
   "cell_type": "markdown",
   "metadata": {
    "id": "z9B7ZY9Htj_F",
    "pycharm": {
     "name": "#%% md\n"
    }
   },
   "source": [
    "## Agente\n",
    "\n",
    "Vamos a definir una clase agente (abstracto), encargado de interactuar con el ambiente y entrenar los modelos. Los métdos definidos deben funcionar para ambos problemas simplemente cambiando el modelo a utilizar para cada ambiente.\n",
    "\n",
    "Abajo dejamos un esqueleto del mismo y las funciones a completar. Recomendamos no alterar la estructura del mismo, pero pueden definir las funciones auxiliares que consideren necesarias.\n",
    "\n",
    "> Para implementar esta funcionalidad se debe modificar los archivos **abstract_agent.py** y **dqn_agent.py**.\n",
    "\n",
    "Funciones a completar:\n",
    "\n",
    "\n",
    "1. **init**: que inicializa los parametros del agente.\n",
    "\n",
    "2. **compute_epsilon**: que computa el valor actual de epsilon en base al número de pasos actuales y si esta entrenando o no.\n",
    "\n",
    "3. **select_action**: Seleccionando acciones \"epsilongreedy-mente\" si estamos entranando y completamente greedy en otro caso.\n",
    "\n",
    "4. **train**: que entrena el agente por un número dado de episodios de largo determinado.\n",
    "\n",
    "5. **record_test_episode**: para grabar un episodio con el agente siempre seleccionando la mejor accion conocida."
   ]
  },
  {
   "cell_type": "markdown",
   "metadata": {
    "id": "BOD-ENZRtyMt",
    "pycharm": {
     "name": "#%% md\n"
    }
   },
   "source": [
    "## Entrenamiento"
   ]
  },
  {
   "cell_type": "code",
   "execution_count": null,
   "metadata": {},
   "outputs": [],
   "source": [
    "#Hiperparámetros de entrenamiento del agente DQN\n",
    "# TOTAL_STEPS = 10_000_000\n",
    "TOTAL_STEPS = 1_000_000\n",
    "EPISODES = 10_000\n",
    "STEPS_PER_EPISODE = 20_000\n",
    "\n",
    "EPSILON_INI = 1\n",
    "EPSILON_MIN = 0.05\n",
    "# EPSILON_ANNEAL_STEPS = 1_000_000\n",
    "EPSILON_ANNEAL_STEPS = 800_000\n",
    "\n",
    "EPISODE_BLOCK = 100\n",
    "\n",
    "BATCH_SIZE = 32\n",
    "BUFFER_SIZE = 50_000\n",
    "\n",
    "GAMMA = 0.995\n",
    "LEARNING_RATE = 1e-5"
   ]
  },
  {
   "cell_type": "code",
   "execution_count": 161,
   "metadata": {},
   "outputs": [
    {
     "name": "stderr",
     "output_type": "stream",
     "text": [
      "A.L.E: Arcade Learning Environment (version 0.10.2+unknown)\n",
      "[Powered by Stella]\n",
      "Game console created:\n",
      "  ROM file:  /opt/miniconda3/envs/obl_taller_ia/lib/python3.12/site-packages/ale_py/roms/breakout.bin\n",
      "  Cart Name: Breakout - Breakaway IV (1978) (Atari)\n",
      "  Cart MD5:  f34f08e5eb96e500e851a80be3277a56\n",
      "  Display Format:  AUTO-DETECT ==> NTSC\n",
      "  ROM Size:        2048\n",
      "  Bankswitch Type: AUTO-DETECT ==> 2K\n",
      "\n",
      "Running ROM file...\n",
      "Random seed is -420818835\n"
     ]
    }
   ],
   "source": [
    "env = make_env(ENV_NAME,\n",
    "                video_folder='./videos/dqn_training',\n",
    "                name_prefix=\"breakout\",\n",
    "                record_every=500,\n",
    "                grayscale=GRAY_SCALE,\n",
    "                screen_size=SCREEN_SIZE,\n",
    "                stack_frames=NUM_STACKED_FRAMES,\n",
    "                skip_frames=SKIP_FRAMES\n",
    "                )"
   ]
  },
  {
   "cell_type": "code",
   "execution_count": 56,
   "metadata": {},
   "outputs": [],
   "source": [
    "import importlib\n",
    "import replay_memory  # or whatever module you changed\n",
    "import dqn_cnn_model\n",
    "import dqn_agent\n",
    "import abstract_agent\n",
    "importlib.reload(replay_memory)\n",
    "importlib.reload(dqn_cnn_model)\n",
    "importlib.reload(dqn_agent)\n",
    "importlib.reload(abstract_agent)\n",
    "from dqn_cnn_model import DQN_CNN_Model\n",
    "from dqn_agent import DQNAgent\n",
    "\n",
    "from abstract_agent import Agent"
   ]
  },
  {
   "cell_type": "code",
   "execution_count": 57,
   "metadata": {},
   "outputs": [],
   "source": [
    "net = DQN_CNN_Model(env.observation_space.shape, env.action_space.n).to(DEVICE)"
   ]
  },
  {
   "cell_type": "code",
   "execution_count": 58,
   "metadata": {},
   "outputs": [],
   "source": [
    "dqn_agent = DQNAgent(env, net, process_state, BUFFER_SIZE, BATCH_SIZE, LEARNING_RATE, GAMMA, epsilon_i=EPSILON_INI, epsilon_f=EPSILON_MIN, epsilon_anneal_steps=EPSILON_ANNEAL_STEPS, episode_block=EPISODE_BLOCK, device=DEVICE)"
   ]
  },
  {
   "cell_type": "code",
   "execution_count": 59,
   "metadata": {
    "id": "BsTl-pFqt10b",
    "pycharm": {
     "name": "#%%\n"
    }
   },
   "outputs": [
    {
     "name": "stderr",
     "output_type": "stream",
     "text": [
      "Entrenando:   0%|          | 0/10000 [00:00<?, ?episode/s]"
     ]
    },
    {
     "name": "stderr",
     "output_type": "stream",
     "text": [
      "Entrenando:   2%|▏         | 225/10000 [11:41<8:27:55,  3.12s/episode, reward=1.1, epsilon=0.596, steps=42512]  \n"
     ]
    },
    {
     "ename": "KeyboardInterrupt",
     "evalue": "",
     "output_type": "error",
     "traceback": [
      "\u001b[31m---------------------------------------------------------------------------\u001b[39m",
      "\u001b[31mKeyboardInterrupt\u001b[39m                         Traceback (most recent call last)",
      "\u001b[36mCell\u001b[39m\u001b[36m \u001b[39m\u001b[32mIn[59]\u001b[39m\u001b[32m, line 1\u001b[39m\n\u001b[32m----> \u001b[39m\u001b[32m1\u001b[39m dqn_rewards = \u001b[43mdqn_agent\u001b[49m\u001b[43m.\u001b[49m\u001b[43mtrain\u001b[49m\u001b[43m(\u001b[49m\u001b[43mEPISODES\u001b[49m\u001b[43m,\u001b[49m\u001b[43m \u001b[49m\u001b[43mSTEPS_PER_EPISODE\u001b[49m\u001b[43m,\u001b[49m\u001b[43m \u001b[49m\u001b[43mTOTAL_STEPS\u001b[49m\u001b[43m)\u001b[49m\n\u001b[32m      3\u001b[39m env.close()\n",
      "\u001b[36mFile \u001b[39m\u001b[32m~/Desktop/Taller_AI/Obligatorio final/obligatorio-taller-ia/abstract_agent.py:60\u001b[39m, in \u001b[36mAgent.train\u001b[39m\u001b[34m(self, number_episodes, max_steps_episode, max_steps)\u001b[39m\n\u001b[32m     56\u001b[39m \u001b[38;5;66;03m# Bucle principal de pasos dentro de un episodio\u001b[39;00m\n\u001b[32m     57\u001b[39m \u001b[38;5;28;01mfor\u001b[39;00m _ \u001b[38;5;129;01min\u001b[39;00m \u001b[38;5;28mrange\u001b[39m(max_steps):\n\u001b[32m     58\u001b[39m \n\u001b[32m     59\u001b[39m     \u001b[38;5;66;03m# Seleccionar acción epsilon-greedy usando select_action()\u001b[39;00m\n\u001b[32m---> \u001b[39m\u001b[32m60\u001b[39m     action = \u001b[38;5;28;43mself\u001b[39;49m\u001b[43m.\u001b[49m\u001b[43mselect_action\u001b[49m\u001b[43m(\u001b[49m\u001b[43mstate_phi\u001b[49m\u001b[43m,\u001b[49m\u001b[43m \u001b[49m\u001b[43mtotal_steps\u001b[49m\u001b[43m,\u001b[49m\u001b[43m \u001b[49m\u001b[43mtrain\u001b[49m\u001b[43m=\u001b[49m\u001b[38;5;28;43;01mTrue\u001b[39;49;00m\u001b[43m)\u001b[49m\n\u001b[32m     62\u001b[39m     \u001b[38;5;66;03m# Ejecutar action = env.step(action)\u001b[39;00m\n\u001b[32m     63\u001b[39m     next_state, reward, terminated, truncated, _, = \u001b[38;5;28mself\u001b[39m.env.step(action)\n",
      "\u001b[36mFile \u001b[39m\u001b[32m~/Desktop/Taller_AI/Obligatorio final/obligatorio-taller-ia/dqn_agent.py:80\u001b[39m, in \u001b[36mDQNAgent.select_action\u001b[39m\u001b[34m(self, state, current_steps, train)\u001b[39m\n\u001b[32m     78\u001b[39m     q_values = \u001b[38;5;28mself\u001b[39m.policy_net(state_tensor)\n\u001b[32m     79\u001b[39m \u001b[38;5;66;03m# greedy_action\u001b[39;00m\n\u001b[32m---> \u001b[39m\u001b[32m80\u001b[39m \u001b[38;5;28;01mreturn\u001b[39;00m \u001b[43mq_values\u001b[49m\u001b[43m.\u001b[49m\u001b[43margmax\u001b[49m\u001b[43m(\u001b[49m\u001b[43mdim\u001b[49m\u001b[43m=\u001b[49m\u001b[32;43m1\u001b[39;49m\u001b[43m)\u001b[49m\u001b[43m.\u001b[49m\u001b[43mitem\u001b[49m\u001b[43m(\u001b[49m\u001b[43m)\u001b[49m\n",
      "\u001b[31mKeyboardInterrupt\u001b[39m: "
     ]
    }
   ],
   "source": [
    "dqn_rewards = dqn_agent.train(EPISODES, STEPS_PER_EPISODE, TOTAL_STEPS)\n",
    "\n",
    "env.close()"
   ]
  },
  {
   "cell_type": "code",
   "execution_count": null,
   "metadata": {},
   "outputs": [
    {
     "name": "stderr",
     "output_type": "stream",
     "text": [
      "c:\\Users\\Octav\\anaconda3\\envs\\obl_taller_ia\\Lib\\site-packages\\gymnasium\\wrappers\\rendering.py:283: UserWarning: \u001b[33mWARN: Overwriting existing videos at c:\\Users\\Octav\\postgrado\\taller ia\\obligatorio\\git\\obligatorio-taller-ia\\videos\\dqn_validation folder (try specifying a different `video_folder` for the `RecordVideo` wrapper if this is not desired)\u001b[0m\n",
      "  logger.warn(\n"
     ]
    }
   ],
   "source": [
    "env = make_env(ENV_NAME,\n",
    "                video_folder='./videos/dqn_validation',\n",
    "                name_prefix=\"breakout\",\n",
    "                record_every=1,\n",
    "                grayscale=GRAY_SCALE,\n",
    "                screen_size=SCREEN_SIZE,\n",
    "                stack_frames=NUM_STACKED_FRAMES,\n",
    "                skip_frames=SKIP_FRAMES\n",
    "                )\n",
    "\n"
   ]
  },
  {
   "cell_type": "code",
   "execution_count": null,
   "metadata": {},
   "outputs": [],
   "source": [
    "dqn_agent.play(env, episodes=1)\n",
    "\n",
    "env.close()"
   ]
  },
  {
   "cell_type": "code",
   "execution_count": null,
   "metadata": {},
   "outputs": [
    {
     "data": {
      "text/html": [
       "<video controls  width=\"600\" >\n",
       " <source src=\"data:video/mp4;base64,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\" type=\"video/mp4\">\n",
       " Your browser does not support the video tag.\n",
       " </video>"
      ],
      "text/plain": [
       "<IPython.core.display.Video object>"
      ]
     },
     "execution_count": 25,
     "metadata": {},
     "output_type": "execute_result"
    }
   ],
   "source": [
    "# Ruta al archivo de vídeo en tu sistema de ficheros\n",
    "video_path = \"./videos/dqn_validation/breakout-episode-0.mp4\"\n",
    "\n",
    "# Muestra el vídeo\n",
    "Video(video_path, embed=True, width=600)"
   ]
  },
  {
   "cell_type": "markdown",
   "metadata": {},
   "source": [
    "#### Graficas \n",
    "..."
   ]
  },
  {
   "cell_type": "markdown",
   "metadata": {
    "id": "QETh1K7pt9I_"
   },
   "source": [
    "# Double Deep Q Learning\n",
    "\n",
    "Double DQN mejora la versión clásica de DQN corrigiendo el sesgo de sobreestimación de los valores \n",
    "𝑄\n",
    "Q. Para ello, desacopla la selección de la acción de su evaluación: en cada paso, la red online elige la acción que maximiza \n",
    "𝑄\n",
    "Q, pero la red objetivo distinta estima el valor de esa acción. Esta separación reduce el sesgo hacia valores demasiado optimistas y aporta mayor estabilidad al entrenamiento. El resto de la estructura —replay buffer, política ε-greedy, etc— se mantiene igual que en DQN, aprovechando así un diseño casi idéntico al original pero con resultados más fiables .\n",
    "\n",
    "Fuente: [arXiv:1509.06461](https://arxiv.org/abs/1509.06461)\n",
    "\n",
    "> Vamos a utilizar el mismo modelo de red neuronal creado para el problema anterior y la misma implementación de memoria, dejamos un esqueleto de un agente de Double Deep Q learning para completar en el archivo **double_dqn_agent.py**"
   ]
  },
  {
   "cell_type": "code",
   "execution_count": null,
   "metadata": {
    "id": "kDNkAtdMt9I_",
    "pycharm": {
     "name": "#%%\n"
    }
   },
   "outputs": [
    {
     "name": "stdout",
     "output_type": "stream",
     "text": [
      "Output shape before conv1: (84, 84)\n",
      "Output shape after conv1: (20, 20)\n",
      "Output shape after conv2: (9, 9)\n",
      "Output shape before conv1: (84, 84)\n",
      "Output shape after conv1: (20, 20)\n",
      "Output shape after conv2: (9, 9)\n"
     ]
    },
    {
     "name": "stderr",
     "output_type": "stream",
     "text": [
      "Entrenando:   0%|          | 0/10000 [00:00<?, ?episode/s]\n"
     ]
    },
    {
     "ename": "TypeError",
     "evalue": "list indices must be integers or slices, not NoneType",
     "output_type": "error",
     "traceback": [
      "\u001b[31m---------------------------------------------------------------------------\u001b[39m",
      "\u001b[31mTypeError\u001b[39m                                 Traceback (most recent call last)",
      "\u001b[36mCell\u001b[39m\u001b[36m \u001b[39m\u001b[32mIn[26]\u001b[39m\u001b[32m, line 19\u001b[39m\n\u001b[32m     15\u001b[39m modelo_b = DQN_CNN_Model(env.observation_space.shape, env.action_space.n).to(DEVICE)\n\u001b[32m     17\u001b[39m ddqn_agent = DoubleDQNAgent(env, modelo_a, modelo_b, process_state, BUFFER_SIZE, BATCH_SIZE, LEARNING_RATE, GAMMA, epsilon_i= EPSILON_INI, epsilon_f=EPSILON_MIN, epsilon_anneal_steps=EPSILON_ANNEAL_STEPS, episode_block = EPISODE_BLOCK, device=DEVICE)\n\u001b[32m---> \u001b[39m\u001b[32m19\u001b[39m ddqn_rewards = \u001b[43mddqn_agent\u001b[49m\u001b[43m.\u001b[49m\u001b[43mtrain\u001b[49m\u001b[43m(\u001b[49m\u001b[43mEPISODES\u001b[49m\u001b[43m,\u001b[49m\u001b[43m \u001b[49m\u001b[43mSTEPS_PER_EPISODE\u001b[49m\u001b[43m,\u001b[49m\u001b[43m \u001b[49m\u001b[43mTOTAL_STEPS\u001b[49m\u001b[43m)\u001b[49m\n",
      "\u001b[36mFile \u001b[39m\u001b[32mc:\\Users\\Octav\\postgrado\\taller ia\\obligatorio\\git\\obligatorio-taller-ia\\abstract_agent.py:62\u001b[39m, in \u001b[36mAgent.train\u001b[39m\u001b[34m(self, number_episodes, max_steps_episode, max_steps)\u001b[39m\n\u001b[32m     59\u001b[39m action = \u001b[38;5;28mself\u001b[39m.select_action(state_phi, total_steps, train=\u001b[38;5;28;01mTrue\u001b[39;00m)\n\u001b[32m     61\u001b[39m \u001b[38;5;66;03m# Ejecutar action = env.step(action)\u001b[39;00m\n\u001b[32m---> \u001b[39m\u001b[32m62\u001b[39m next_state, reward, done, _, _, = \u001b[38;5;28;43mself\u001b[39;49m\u001b[43m.\u001b[49m\u001b[43menv\u001b[49m\u001b[43m.\u001b[49m\u001b[43mstep\u001b[49m\u001b[43m(\u001b[49m\u001b[43maction\u001b[49m\u001b[43m)\u001b[49m\n\u001b[32m     64\u001b[39m \u001b[38;5;66;03m# Procesar next_state con state_processing_function\u001b[39;00m\n\u001b[32m     65\u001b[39m next_state_phi = \u001b[38;5;28mself\u001b[39m.state_processing_function(next_state)\n",
      "\u001b[36mFile \u001b[39m\u001b[32mc:\\Users\\Octav\\anaconda3\\envs\\obl_taller_ia\\Lib\\site-packages\\gymnasium\\core.py:585\u001b[39m, in \u001b[36mRewardWrapper.step\u001b[39m\u001b[34m(self, action)\u001b[39m\n\u001b[32m    581\u001b[39m \u001b[38;5;28;01mdef\u001b[39;00m\u001b[38;5;250m \u001b[39m\u001b[34mstep\u001b[39m(\n\u001b[32m    582\u001b[39m     \u001b[38;5;28mself\u001b[39m, action: ActType\n\u001b[32m    583\u001b[39m ) -> \u001b[38;5;28mtuple\u001b[39m[ObsType, SupportsFloat, \u001b[38;5;28mbool\u001b[39m, \u001b[38;5;28mbool\u001b[39m, \u001b[38;5;28mdict\u001b[39m[\u001b[38;5;28mstr\u001b[39m, Any]]:\n\u001b[32m    584\u001b[39m \u001b[38;5;250m    \u001b[39m\u001b[33;03m\"\"\"Modifies the :attr:`env` :meth:`step` reward using :meth:`self.reward`.\"\"\"\u001b[39;00m\n\u001b[32m--> \u001b[39m\u001b[32m585\u001b[39m     observation, reward, terminated, truncated, info = \u001b[38;5;28;43mself\u001b[39;49m\u001b[43m.\u001b[49m\u001b[43menv\u001b[49m\u001b[43m.\u001b[49m\u001b[43mstep\u001b[49m\u001b[43m(\u001b[49m\u001b[43maction\u001b[49m\u001b[43m)\u001b[49m\n\u001b[32m    586\u001b[39m     \u001b[38;5;28;01mreturn\u001b[39;00m observation, \u001b[38;5;28mself\u001b[39m.reward(reward), terminated, truncated, info\n",
      "\u001b[36mFile \u001b[39m\u001b[32mc:\\Users\\Octav\\anaconda3\\envs\\obl_taller_ia\\Lib\\site-packages\\gymnasium\\wrappers\\stateful_observation.py:416\u001b[39m, in \u001b[36mFrameStackObservation.step\u001b[39m\u001b[34m(self, action)\u001b[39m\n\u001b[32m    405\u001b[39m \u001b[38;5;28;01mdef\u001b[39;00m\u001b[38;5;250m \u001b[39m\u001b[34mstep\u001b[39m(\n\u001b[32m    406\u001b[39m     \u001b[38;5;28mself\u001b[39m, action: WrapperActType\n\u001b[32m    407\u001b[39m ) -> \u001b[38;5;28mtuple\u001b[39m[WrapperObsType, SupportsFloat, \u001b[38;5;28mbool\u001b[39m, \u001b[38;5;28mbool\u001b[39m, \u001b[38;5;28mdict\u001b[39m[\u001b[38;5;28mstr\u001b[39m, Any]]:\n\u001b[32m    408\u001b[39m \u001b[38;5;250m    \u001b[39m\u001b[33;03m\"\"\"Steps through the environment, appending the observation to the frame buffer.\u001b[39;00m\n\u001b[32m    409\u001b[39m \n\u001b[32m    410\u001b[39m \u001b[33;03m    Args:\u001b[39;00m\n\u001b[32m   (...)\u001b[39m\u001b[32m    414\u001b[39m \u001b[33;03m        Stacked observations, reward, terminated, truncated, and info from the environment\u001b[39;00m\n\u001b[32m    415\u001b[39m \u001b[33;03m    \"\"\"\u001b[39;00m\n\u001b[32m--> \u001b[39m\u001b[32m416\u001b[39m     obs, reward, terminated, truncated, info = \u001b[38;5;28;43mself\u001b[39;49m\u001b[43m.\u001b[49m\u001b[43menv\u001b[49m\u001b[43m.\u001b[49m\u001b[43mstep\u001b[49m\u001b[43m(\u001b[49m\u001b[43maction\u001b[49m\u001b[43m)\u001b[49m\n\u001b[32m    417\u001b[39m     \u001b[38;5;28mself\u001b[39m.obs_queue.append(obs)\n\u001b[32m    419\u001b[39m     updated_obs = deepcopy(\n\u001b[32m    420\u001b[39m         concatenate(\u001b[38;5;28mself\u001b[39m.env.observation_space, \u001b[38;5;28mself\u001b[39m.obs_queue, \u001b[38;5;28mself\u001b[39m.stacked_obs)\n\u001b[32m    421\u001b[39m     )\n",
      "\u001b[36mFile \u001b[39m\u001b[32mc:\\Users\\Octav\\anaconda3\\envs\\obl_taller_ia\\Lib\\site-packages\\gymnasium\\wrappers\\atari_preprocessing.py:162\u001b[39m, in \u001b[36mAtariPreprocessing.step\u001b[39m\u001b[34m(self, action)\u001b[39m\n\u001b[32m    159\u001b[39m total_reward, terminated, truncated, info = \u001b[32m0.0\u001b[39m, \u001b[38;5;28;01mFalse\u001b[39;00m, \u001b[38;5;28;01mFalse\u001b[39;00m, {}\n\u001b[32m    161\u001b[39m \u001b[38;5;28;01mfor\u001b[39;00m t \u001b[38;5;129;01min\u001b[39;00m \u001b[38;5;28mrange\u001b[39m(\u001b[38;5;28mself\u001b[39m.frame_skip):\n\u001b[32m--> \u001b[39m\u001b[32m162\u001b[39m     _, reward, terminated, truncated, info = \u001b[38;5;28;43mself\u001b[39;49m\u001b[43m.\u001b[49m\u001b[43menv\u001b[49m\u001b[43m.\u001b[49m\u001b[43mstep\u001b[49m\u001b[43m(\u001b[49m\u001b[43maction\u001b[49m\u001b[43m)\u001b[49m\n\u001b[32m    163\u001b[39m     total_reward += reward\n\u001b[32m    164\u001b[39m     \u001b[38;5;28mself\u001b[39m.game_over = terminated\n",
      "\u001b[36mFile \u001b[39m\u001b[32mc:\\Users\\Octav\\anaconda3\\envs\\obl_taller_ia\\Lib\\site-packages\\gymnasium\\wrappers\\rendering.py:350\u001b[39m, in \u001b[36mRecordVideo.step\u001b[39m\u001b[34m(self, action)\u001b[39m\n\u001b[32m    346\u001b[39m \u001b[38;5;28;01mdef\u001b[39;00m\u001b[38;5;250m \u001b[39m\u001b[34mstep\u001b[39m(\n\u001b[32m    347\u001b[39m     \u001b[38;5;28mself\u001b[39m, action: ActType\n\u001b[32m    348\u001b[39m ) -> \u001b[38;5;28mtuple\u001b[39m[ObsType, SupportsFloat, \u001b[38;5;28mbool\u001b[39m, \u001b[38;5;28mbool\u001b[39m, \u001b[38;5;28mdict\u001b[39m[\u001b[38;5;28mstr\u001b[39m, Any]]:\n\u001b[32m    349\u001b[39m \u001b[38;5;250m    \u001b[39m\u001b[33;03m\"\"\"Steps through the environment using action, recording observations if :attr:`self.recording`.\"\"\"\u001b[39;00m\n\u001b[32m--> \u001b[39m\u001b[32m350\u001b[39m     obs, rew, terminated, truncated, info = \u001b[38;5;28;43mself\u001b[39;49m\u001b[43m.\u001b[49m\u001b[43menv\u001b[49m\u001b[43m.\u001b[49m\u001b[43mstep\u001b[49m\u001b[43m(\u001b[49m\u001b[43maction\u001b[49m\u001b[43m)\u001b[49m\n\u001b[32m    351\u001b[39m     \u001b[38;5;28mself\u001b[39m.step_id += \u001b[32m1\u001b[39m\n\u001b[32m    353\u001b[39m     \u001b[38;5;28;01mif\u001b[39;00m \u001b[38;5;28mself\u001b[39m.step_trigger \u001b[38;5;129;01mand\u001b[39;00m \u001b[38;5;28mself\u001b[39m.step_trigger(\u001b[38;5;28mself\u001b[39m.step_id):\n",
      "\u001b[36mFile \u001b[39m\u001b[32mc:\\Users\\Octav\\anaconda3\\envs\\obl_taller_ia\\Lib\\site-packages\\gymnasium\\wrappers\\common.py:393\u001b[39m, in \u001b[36mOrderEnforcing.step\u001b[39m\u001b[34m(self, action)\u001b[39m\n\u001b[32m    391\u001b[39m \u001b[38;5;28;01mif\u001b[39;00m \u001b[38;5;129;01mnot\u001b[39;00m \u001b[38;5;28mself\u001b[39m._has_reset:\n\u001b[32m    392\u001b[39m     \u001b[38;5;28;01mraise\u001b[39;00m ResetNeeded(\u001b[33m\"\u001b[39m\u001b[33mCannot call env.step() before calling env.reset()\u001b[39m\u001b[33m\"\u001b[39m)\n\u001b[32m--> \u001b[39m\u001b[32m393\u001b[39m \u001b[38;5;28;01mreturn\u001b[39;00m \u001b[38;5;28;43msuper\u001b[39;49m\u001b[43m(\u001b[49m\u001b[43m)\u001b[49m\u001b[43m.\u001b[49m\u001b[43mstep\u001b[49m\u001b[43m(\u001b[49m\u001b[43maction\u001b[49m\u001b[43m)\u001b[49m\n",
      "\u001b[36mFile \u001b[39m\u001b[32mc:\\Users\\Octav\\anaconda3\\envs\\obl_taller_ia\\Lib\\site-packages\\gymnasium\\core.py:322\u001b[39m, in \u001b[36mWrapper.step\u001b[39m\u001b[34m(self, action)\u001b[39m\n\u001b[32m    318\u001b[39m \u001b[38;5;28;01mdef\u001b[39;00m\u001b[38;5;250m \u001b[39m\u001b[34mstep\u001b[39m(\n\u001b[32m    319\u001b[39m     \u001b[38;5;28mself\u001b[39m, action: WrapperActType\n\u001b[32m    320\u001b[39m ) -> \u001b[38;5;28mtuple\u001b[39m[WrapperObsType, SupportsFloat, \u001b[38;5;28mbool\u001b[39m, \u001b[38;5;28mbool\u001b[39m, \u001b[38;5;28mdict\u001b[39m[\u001b[38;5;28mstr\u001b[39m, Any]]:\n\u001b[32m    321\u001b[39m \u001b[38;5;250m    \u001b[39m\u001b[33;03m\"\"\"Uses the :meth:`step` of the :attr:`env` that can be overwritten to change the returned data.\"\"\"\u001b[39;00m\n\u001b[32m--> \u001b[39m\u001b[32m322\u001b[39m     \u001b[38;5;28;01mreturn\u001b[39;00m \u001b[38;5;28;43mself\u001b[39;49m\u001b[43m.\u001b[49m\u001b[43menv\u001b[49m\u001b[43m.\u001b[49m\u001b[43mstep\u001b[49m\u001b[43m(\u001b[49m\u001b[43maction\u001b[49m\u001b[43m)\u001b[49m\n",
      "\u001b[36mFile \u001b[39m\u001b[32mc:\\Users\\Octav\\anaconda3\\envs\\obl_taller_ia\\Lib\\site-packages\\gymnasium\\wrappers\\common.py:285\u001b[39m, in \u001b[36mPassiveEnvChecker.step\u001b[39m\u001b[34m(self, action)\u001b[39m\n\u001b[32m    283\u001b[39m     \u001b[38;5;28;01mreturn\u001b[39;00m env_step_passive_checker(\u001b[38;5;28mself\u001b[39m.env, action)\n\u001b[32m    284\u001b[39m \u001b[38;5;28;01melse\u001b[39;00m:\n\u001b[32m--> \u001b[39m\u001b[32m285\u001b[39m     \u001b[38;5;28;01mreturn\u001b[39;00m \u001b[38;5;28;43mself\u001b[39;49m\u001b[43m.\u001b[49m\u001b[43menv\u001b[49m\u001b[43m.\u001b[49m\u001b[43mstep\u001b[49m\u001b[43m(\u001b[49m\u001b[43maction\u001b[49m\u001b[43m)\u001b[49m\n",
      "\u001b[36mFile \u001b[39m\u001b[32mc:\\Users\\Octav\\anaconda3\\envs\\obl_taller_ia\\Lib\\site-packages\\ale_py\\env.py:305\u001b[39m, in \u001b[36mAtariEnv.step\u001b[39m\u001b[34m(self, action)\u001b[39m\n\u001b[32m    303\u001b[39m     strength = action[\u001b[32m0\u001b[39m]\n\u001b[32m    304\u001b[39m \u001b[38;5;28;01melse\u001b[39;00m:\n\u001b[32m--> \u001b[39m\u001b[32m305\u001b[39m     action_idx = \u001b[38;5;28;43mself\u001b[39;49m\u001b[43m.\u001b[49m\u001b[43m_action_set\u001b[49m\u001b[43m[\u001b[49m\u001b[43maction\u001b[49m\u001b[43m]\u001b[49m\n\u001b[32m    306\u001b[39m     strength = \u001b[32m1.0\u001b[39m\n\u001b[32m    308\u001b[39m \u001b[38;5;66;03m# Frameskip\u001b[39;00m\n",
      "\u001b[31mTypeError\u001b[39m: list indices must be integers or slices, not NoneType"
     ]
    }
   ],
   "source": [
    "from double_dqn_agent import DoubleDQNAgent\n",
    "\n",
    "env = make_env(ENV_NAME,\n",
    "                video_folder='./videos/ddqn_training',\n",
    "                name_prefix=\"breakout\",\n",
    "                record_every=500,\n",
    "                grayscale=GRAY_SCALE,\n",
    "                screen_size=SCREEN_SIZE,\n",
    "                stack_frames=NUM_STACKED_FRAMES,\n",
    "                skip_frames=SKIP_FRAMES\n",
    "                )\n",
    "\n",
    "\n",
    "modelo_a = DQN_CNN_Model(env.observation_space.shape, env.action_space.n).to(DEVICE)\n",
    "modelo_b = DQN_CNN_Model(env.observation_space.shape, env.action_space.n).to(DEVICE)\n",
    "\n",
    "ddqn_agent = DoubleDQNAgent(env, modelo_a, modelo_b, process_state, BUFFER_SIZE, BATCH_SIZE, LEARNING_RATE, GAMMA, epsilon_i= EPSILON_INI, epsilon_f=EPSILON_MIN, epsilon_anneal_steps=EPSILON_ANNEAL_STEPS, episode_block = EPISODE_BLOCK, device=DEVICE)\n",
    "\n",
    "ddqn_rewards = ddqn_agent.train(EPISODES, STEPS_PER_EPISODE, TOTAL_STEPS)"
   ]
  },
  {
   "cell_type": "code",
   "execution_count": null,
   "metadata": {},
   "outputs": [],
   "source": [
    "env = make_env(ENV_NAME,\n",
    "                video_folder='./videos/ddqn_validation',\n",
    "                name_prefix=\"breakout\",\n",
    "                record_every=1,\n",
    "                grayscale=GRAY_SCALE,\n",
    "                screen_size=SCREEN_SIZE,\n",
    "                stack_frames=NUM_STACKED_FRAMES,\n",
    "                skip_frames=SKIP_FRAMES\n",
    "                )\n",
    "\n",
    "ddqn_agent.play(env, episodes=3)\n",
    "\n",
    "env.close()"
   ]
  },
  {
   "cell_type": "code",
   "execution_count": null,
   "metadata": {},
   "outputs": [],
   "source": [
    "# Ruta al archivo de vídeo en tu sistema de ficheros\n",
    "video_path = \"./videos/ddqn_validation/breakout-episode-0.mp4\"\n",
    "\n",
    "# Muestra el vídeo\n",
    "Video(video_path, embed=True, width=600)"
   ]
  },
  {
   "cell_type": "markdown",
   "metadata": {},
   "source": [
    "#### Graficas \n",
    "..."
   ]
  },
  {
   "cell_type": "markdown",
   "metadata": {},
   "source": [
    "# Experimentación\n",
    "Aquí con libertad total, pueden probar diferentes arquitecturas de red, diferentes hiperparámetros, diferentes técnicas de exploración, etc.\n",
    "..."
   ]
  },
  {
   "cell_type": "markdown",
   "metadata": {
    "id": "YNNvsKiEt9I_"
   },
   "source": [
    "# Comparaciones, Resultados, Comentarios...\n",
    "De aquí en adelante son libres de presentar como gusten los resultados comparativos de las técnicas.\n",
    "..."
   ]
  }
 ],
 "metadata": {
  "accelerator": "GPU",
  "colab": {
   "provenance": []
  },
  "kernelspec": {
   "display_name": "obl_taller_ia",
   "language": "python",
   "name": "python3"
  },
  "language_info": {
   "codemirror_mode": {
    "name": "ipython",
    "version": 3
   },
   "file_extension": ".py",
   "mimetype": "text/x-python",
   "name": "python",
   "nbconvert_exporter": "python",
   "pygments_lexer": "ipython3",
   "version": "3.12.10"
  }
 },
 "nbformat": 4,
 "nbformat_minor": 1
}
