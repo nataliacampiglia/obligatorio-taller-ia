{
 "cells": [
  {
   "cell_type": "markdown",
   "metadata": {},
   "source": [
    "# Obligatorio - Taller Agentes Inteligentes 2025\n",
    "\n",
    "En este trabajo obligatorio aplicaremos los conceptos vistos en el curso para diseñar, implementar y evaluar agentes capaces de aprender a jugar al clásico **Breakout** de Atari, utilizando el entorno provisto por Farama Gymnasium ([https://ale.farama.org/environments/breakout/](https://ale.farama.org/environments/breakout/)). \n",
    "\n",
    "<p align=\"center\">\n",
    "  <img src=\"https://media.tenor.com/oMxHgRrISJsAAAAM/atari-deep-learning.gif\" alt=\"Atari Deep Learning\"/>\n",
    "</p>\n",
    "\n",
    "\n",
    "El ejercicio se enmarca en un contexto de aprendizaje práctico, donde trabajaremos con las interfaces estándar de Gymnasium para:\n",
    "\n",
    "1. **Profundizar en algoritmos de valor**: implementaremos y compararemos dos variantes de Q-Learning basadas en redes neuronales profundas:\n",
    "   * **Deep Q Learning (DQN)**\n",
    "   * **Double Deep Q Learning (DDQN)**\n",
    "2. **Evaluar rendimiento y estabilidad**: registraremos las recompensas obtenidas durante el entrenamiento de cada agente y analizaremos su comportamiento mediante gráficas comparativas.\n",
    "3. **Demostrar resultados de forma visual**: capturaremos vídeos que muestren a cada agente “resolviendo” el entorno, entendido como la habilidad de romper al menos cinco bloques en una partida.\n",
    "\n",
    "Debido a las limitaciones de tiempo y cómputo propias de un entorno de curso, no se espera entrenar modelos durante más de diez horas por agente. Por ello, será fundamental:\n",
    "\n",
    "* Integrar puntos de **checkpoint** para guardar periódicamente los pesos de la red.\n",
    "* Seguir en los puntos 2 y 3 la arquitectura y técnicas originales propuestas en los papers seminales de DQN y DDQN, dejando la experimentación adicional para el punto extra.\n",
    "* Flexibilizar la notebook de guía: pueden reorganizarla o dividirla en múltiples archivos según su conveniencia.\n"
   ]
  },
  {
   "cell_type": "markdown",
   "metadata": {},
   "source": [
    "## Objetivos y tareas\n",
    "\n",
    "1. **Completar la implementación**\n",
    "   * Rellenar el código faltante en la notebook y en los módulos auxiliares para que los agentes puedan interactuar con el entorno de Breakout.\n",
    "2. **Entrenar agentes**\n",
    "   * Ajustar y entrenar un **DQN** que alcance la condición de “resolver” (romper ≥ 10 bloques).\n",
    "   * Ajustar y entrenar un **DDQN** con la misma meta de desempeño.\n",
    "3. **Visualizar y analizar resultados**\n",
    "   * Generar **gráficas comparativas** de las recompensas obtenidas por ambos agentes en el mismo entorno (una gráfica por ambiente). Además se sugiere gráficas que muestren el valor de la función de valor Q para cada agente.\n",
    "   * Extraer **al menos dos conclusiones** por gráfica, comentando diferencias en convergencia, estabilidad y comportamiento exploratorio.\n",
    "4. **Registro de demostraciones**\n",
    "   * Grabar y entregar un **video demostrativo** de cada agente resolviendo el entorno.\n",
    "5. **Experimentación**\n",
    "   * Probar otras arquitecturas, técnicas de mejora o módulos de procesamiento de entradas más avanzados, documentando brevemente su impacto/"
   ]
  },
  {
   "cell_type": "markdown",
   "metadata": {},
   "source": [
    "## Criterios de evaluación\n",
    "\n",
    "| Criterio                                  | Descripción                                                  | Peso |\n",
    "| ----------------------------------------- | ------------------------------------------------------------ | ---- |\n",
    "| **Implementación y rendimiento**          | DQN y DDQN completados; cada agente rompe ≥ 10 bloques       | 40%  |\n",
    "| **Estructura y narrativa de la notebook** | Secciones claras, explicación de decisiones, “historia”      | 20%  |\n",
    "| **Análisis de resultados**                | Gráficas comparativas; ≥ 2 conclusiones por gráfico          | 20%  |\n",
    "| **Presentación visual**                   | Vídeos demostrativos de cada agente                          | 10%  |\n",
    "| **Experimentación**                       | Experimentación adicional documentada y analizada brevemente | 10%  |"
   ]
  },
  {
   "cell_type": "markdown",
   "metadata": {},
   "source": [
    "## Bibliografía\n",
    "\n",
    "* **Mnih, V.**, Kavukcuoglu, K., Silver, D., Rusu, A. A., Veness, J., Bellemare, M. G., … Hassabis, D. (2013). *Playing Atari with Deep Reinforcement Learning*. [arXiv:1312.5602](https://arxiv.org/abs/1312.5602)\n",
    "* **van Hasselt, H.**, Guez, A., & Silver, D. (2015). *Deep Reinforcement Learning with Double Q-learning*. [arXiv:1509.06461](https://arxiv.org/abs/1509.06461)\n",
    "* **Sutton, R. S.**, & Barto, A. G. (2018). *Reinforcement Learning: An Introduction* (2nd ed.), capítulo 16.5: “Human-level Video Game Play”. MIT Press."
   ]
  },
  {
   "cell_type": "markdown",
   "metadata": {},
   "source": [
    "## Setup"
   ]
  },
  {
   "cell_type": "markdown",
   "metadata": {
    "id": "gc6t9etEt9I2",
    "pycharm": {
     "name": "#%%\n"
    }
   },
   "source": [
    "**Imports**"
   ]
  },
  {
   "cell_type": "code",
   "execution_count": 1,
   "metadata": {
    "id": "cwHCw6PMt9I3",
    "pycharm": {
     "name": "#%%\n"
    }
   },
   "outputs": [],
   "source": [
    "import os\n",
    "import torch\n",
    "import numpy as np\n",
    "import random\n",
    "import numpy as np\n",
    "import torch.nn as nn\n",
    "import torch.nn.functional as F\n",
    "from torchinfo import summary\n",
    "import gymnasium\n",
    "import ale_py\n",
    "from utils import make_env, show_observation_stack\n",
    "from IPython.display import Video\n"
   ]
  },
  {
   "cell_type": "markdown",
   "metadata": {},
   "source": [
    "ALE (Atari Learning Environment) es un entorno de aprendizaje para videojuegos de Atari. En este caso, utilizaremos el entorno de Breakout. Es necesario entender que se separa el entorno de los roms de Atari, que son los juegos en sí. El entorno de ALE permite interactuar con los juegos de Atari a través de una API estándar, facilitando la implementación de algoritmos de aprendizaje por refuerzo.\n",
    "\n",
    "Debemos instalar los roms por separado, para ello primero tenemos que saber donde están los roms de Atari. "
   ]
  },
  {
   "cell_type": "code",
   "execution_count": 2,
   "metadata": {},
   "outputs": [
    {
     "name": "stdout",
     "output_type": "stream",
     "text": [
      "c:\\Users\\Octav\\anaconda3\\envs\\obl_taller_ia\\Lib\\site-packages\\ale_py\\roms\n"
     ]
    }
   ],
   "source": [
    "gymnasium.register_envs(ale_py) # registramos todos los entornos de ale_py\n",
    "ruta_init = ale_py.roms.__file__ # debemos saber donde se encuentra la carpeta roms\n",
    "ALE_ROMS_PATH = os.path.dirname(ruta_init)\n",
    "print(ALE_ROMS_PATH)"
   ]
  },
  {
   "cell_type": "markdown",
   "metadata": {},
   "source": [
    "Podemos usar los siguientes comando para instalar los roms y colocalos en la carpeta correcta."
   ]
  },
  {
   "cell_type": "code",
   "execution_count": 3,
   "metadata": {},
   "outputs": [],
   "source": [
    "# !pip install \"autorom[accept-rom-license]\"\n",
    "# !AutoROM --accept-license --install-dir {ALE_ROMS_PATH}"
   ]
  },
  {
   "cell_type": "markdown",
   "metadata": {},
   "source": [
    "Fijamos la semilla para que los resultados sean reproducibles"
   ]
  },
  {
   "cell_type": "code",
   "execution_count": 4,
   "metadata": {},
   "outputs": [],
   "source": [
    "SEED = 23\n",
    "\n",
    "torch.manual_seed(SEED)\n",
    "torch.backends.cudnn.deterministic=True # https://discuss.pytorch.org/t/what-is-the-differenc-between-cudnn-deterministic-and-cudnn-benchmark/38054\n",
    "torch.backends.cudnn.benchmark=True # https://discuss.pytorch.org/t/what-does-torch-backends-cudnn-benchmark-do/5936/4\n",
    "np.random.seed(SEED)\n",
    "random.seed(SEED)"
   ]
  },
  {
   "cell_type": "markdown",
   "metadata": {},
   "source": [
    "Vemos que dispositivo tenemos, si es GPU, MPS o CPU. **El uso de GPU es altamente recomendable** para acelerar el entrenamiento de los modelos. "
   ]
  },
  {
   "cell_type": "code",
   "execution_count": 5,
   "metadata": {},
   "outputs": [
    {
     "name": "stdout",
     "output_type": "stream",
     "text": [
      "Device: cuda\n"
     ]
    }
   ],
   "source": [
    "# Algunas constantes\n",
    "\n",
    "# definimos el dispositivo que vamos a usar\n",
    "DEVICE = \"cpu\"  # por defecto, usamos la CPU\n",
    "if torch.cuda.is_available():\n",
    "    DEVICE = \"cuda\"  # si hay GPU, usamos la GPU\n",
    "elif torch.backends.mps.is_available():\n",
    "    DEVICE = \"mps\"  # si no hay GPU, pero hay MPS, usamos MPS\n",
    "\n",
    "print(f\"Device: {DEVICE}\")"
   ]
  },
  {
   "cell_type": "markdown",
   "metadata": {},
   "source": [
    "## Preprocesando Atari\n",
    "\n",
    "Para reproducir fielmente el enfoque de Mnih et al. (2013) y reducir la carga computacional al trabajar con imágenes de Atari (210 × 160 píxeles, 128 colores), aplicamos el siguiente preprocesado φ a las últimas **4** frames del entorno:\n",
    "\n",
    "1. **Conversión a escala de grises**\n",
    "   Eliminamos la información de color (GRAYSCALE = True), pues la luminosidad es suficiente para capturar la dinámica de juego y reduce drásticamente la dimensionalidad de la entrada.\n",
    "\n",
    "2. **Down-sampling y recorte**\n",
    "   * Redimensionamos la imagen original a 110 × 84 píxeles, manteniendo la proporción horizontal.\n",
    "   * Recortamos un área central de 84 × 84 píxeles que contiene la “zona de juego”, descartando bordes innecesarios.\n",
    "     Este paso (SCREEN_SIZE = 84) no solo concentra la atención del modelo en la región relevante, sino que también garantiza un tamaño cuadrado compatible con las implementaciones de convoluciones en GPU.\n",
    "\n",
    "3. **Saltos temporales (frame skipping)**\n",
    "   Procesamos cada 4 frames (SKIP_FRAMES = 4), repitiendo la misma acción durante esos pasos. Esto reduce la redundancia temporal, acelera el entrenamiento y mantiene la coherencia del movimiento de la paleta y la bola.\n",
    "\n",
    "4. **Apilamiento de frames**\n",
    "   Finalmente, acumulamos las últimas 4 imágenes preprocesadas (NUM_STACKED_FRAMES = 4) en un único tensor de entrada. Así el agente puede inferir la velocidad y dirección de los elementos móviles a partir de la diferencia entre frames.\n",
    "\n",
    "Este esquema de preprocesado es fundamental para disminuir el espacio de entrada, acelerar las convoluciones y proporcionar al Q-net una representación compacta y rica en información dinámica, tal como se describe en el algoritmo 1 del paper original .\n",
    "\n",
    "> Se recomienda ver el método `make_env` en el archivo `utils.py` para entender cómo se implementa este preprocesado. "
   ]
  },
  {
   "cell_type": "code",
   "execution_count": 6,
   "metadata": {},
   "outputs": [],
   "source": [
    "GRAY_SCALE = True # si True, convertimos la imagen a escala de grises\n",
    "SCREEN_SIZE = 84 # redimensionamos a SCREEN_SIZExSCREEN_SIZE\n",
    "NUM_STACKED_FRAMES = 4 # apilamos NUM_STACKED_FRAMES frames\n",
    "SKIP_FRAMES = 4 # saltamos SKIP_FRAMES frames (haciendo la misma acción)"
   ]
  },
  {
   "cell_type": "code",
   "execution_count": 7,
   "metadata": {
    "colab": {
     "base_uri": "https://localhost:8080/"
    },
    "id": "loVxQPrwt9I5",
    "outputId": "18b7ed97-88dd-4b1e-a2cc-b2636686bfc7"
   },
   "outputs": [
    {
     "name": "stderr",
     "output_type": "stream",
     "text": [
      "c:\\Users\\Octav\\anaconda3\\envs\\obl_taller_ia\\Lib\\site-packages\\gymnasium\\wrappers\\rendering.py:283: UserWarning: \u001b[33mWARN: Overwriting existing videos at c:\\Users\\Octav\\postgrado\\taller ia\\obligatorio\\git\\obligatorio-taller-ia\\videos\\random folder (try specifying a different `video_folder` for the `RecordVideo` wrapper if this is not desired)\u001b[0m\n",
      "  logger.warn(\n"
     ]
    },
    {
     "data": {
      "image/png": "[encoded data removed]",
      "text/plain": [
       "<Figure size 640x480 with 1 Axes>"
      ]
     },
     "metadata": {},
     "output_type": "display_data"
    },
    {
     "data": {
      "image/png": "[encoded data removed]",
      "text/plain": [
       "<Figure size 640x480 with 1 Axes>"
      ]
     },
     "metadata": {},
     "output_type": "display_data"
    },
    {
     "data": {
      "image/png": "[encoded data removed]",
      "text/plain": [
       "<Figure size 640x480 with 1 Axes>"
      ]
     },
     "metadata": {},
     "output_type": "display_data"
    },
    {
     "data": {
      "image/png": "[encoded data removed]",
      "text/plain": [
       "<Figure size 640x480 with 1 Axes>"
      ]
     },
     "metadata": {},
     "output_type": "display_data"
    },
    {
     "name": "stdout",
     "output_type": "stream",
     "text": [
      "Episode 1 finished with total reward: 3\n"
     ]
    }
   ],
   "source": [
    "# https://ale.farama.org/environments/breakout/\n",
    "ENV_NAME = \"ALE/Breakout-v5\" \n",
    "\n",
    "env = make_env(ENV_NAME,\n",
    "                video_folder='./videos/random',\n",
    "                name_prefix=\"breakout\",\n",
    "                record_every=1,\n",
    "                grayscale=GRAY_SCALE,\n",
    "                screen_size=SCREEN_SIZE,\n",
    "                stack_frames=NUM_STACKED_FRAMES,\n",
    "                skip_frames=SKIP_FRAMES\n",
    "                )\n",
    "\n",
    "for episode_num in range(1):\n",
    "    obs, info = env.reset()\n",
    "    show_observation_stack(obs)\n",
    "    reward_total = 0\n",
    "    episode_over = False\n",
    "    while not episode_over:\n",
    "        action = env.action_space.sample()  # seleccionamos una acción aleatoria\n",
    "        obs, reward, terminated, truncated, info = env.step(action)\n",
    "        reward_total += reward\n",
    "        episode_over = terminated or truncated\n",
    "    print(f\"Episode {episode_num + 1} finished with total reward: {reward_total}\")\n",
    "\n",
    "env.close()"
   ]
  },
  {
   "cell_type": "markdown",
   "metadata": {},
   "source": [
    "Además, podemos mostrar los videos capturados por el entorno de Atari de la siguiente manera:"
   ]
  },
  {
   "cell_type": "code",
   "execution_count": 8,
   "metadata": {},
   "outputs": [
    {
     "data": {
      "text/html": [
       "<video controls  width=\"600\" >\n",
       " <source src=\"data:video/mp4;base64,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\" type=\"video/mp4\">\n",
       " Your browser does not support the video tag.\n",
       " </video>"
      ],
      "text/plain": [
       "<IPython.core.display.Video object>"
      ]
     },
     "execution_count": 8,
     "metadata": {},
     "output_type": "execute_result"
    }
   ],
   "source": [
    "# Ruta al archivo de vídeo en tu sistema de ficheros\n",
    "video_path = \"./videos/random/breakout-episode-0.mp4\"\n",
    "\n",
    "# Muestra el vídeo\n",
    "Video(video_path, embed=True, width=600)"
   ]
  },
  {
   "cell_type": "markdown",
   "metadata": {
    "id": "2bYVG_TKt9I5"
   },
   "source": [
    "# Exploración del entorno"
   ]
  },
  {
   "cell_type": "code",
   "execution_count": 9,
   "metadata": {},
   "outputs": [
    {
     "name": "stdout",
     "output_type": "stream",
     "text": [
      "Actions shape: Discrete(4)\n",
      "Observation shape: (4, 84, 84)\n",
      "(4, 84, 84),\n",
      " 0,\n",
      " False,\n",
      " {'lives': 5, 'episode_frame_number': 14, 'frame_number': 1045}\n"
     ]
    }
   ],
   "source": [
    "print(\"Actions shape:\",env.action_space)\n",
    "print(\"Observation shape:\",env.observation_space.shape)\n",
    "env.reset()\n",
    "next_state, reward, terminated, truncated, info = env.step(action=0)\n",
    "\n",
    "print(f\"{next_state.shape},\\n {reward},\\n {terminated},\\n {info}\")"
   ]
  },
  {
   "cell_type": "markdown",
   "metadata": {},
   "source": [
    "### Acciones\n",
    "..."
   ]
  },
  {
   "cell_type": "markdown",
   "metadata": {},
   "source": [
    "### Observaciones\n",
    "..."
   ]
  },
  {
   "cell_type": "markdown",
   "metadata": {
    "id": "XIHpwiaat9I7"
   },
   "source": [
    "# Deep Q Learning\n",
    "\n",
    "Deep Q Learning extiende el algoritmo clásico de Q-learning al emplear una **red neuronal profunda** como aproximador de la función de valor $Q(s,a)$. Inspirado en Mnih et al. (2013), este método utiliza una **red convolucional** para procesar directamente las imágenes del entorno Atari, un **replay buffer** para romper la correlación temporal de las muestras. La política sigue un esquema **ε-greedy**, balanceando exploración y explotación, y se entrena minimizando el error de la ecuación de Bellman sobre lotes de transiciones muestreadas de manera aleatoria.\n",
    "\n",
    "<p align=\"center\">\n",
    "  <img src=\"https://www.researchgate.net/profile/Faris-Mismar/publication/327045314/figure/fig4/AS:819677282455553@1572437701142/Structure-of-the-neural-network-used-for-the-Deep-Q-learning-Network-implementation-with.png\" alt=\"DQN\"/>\n",
    "</p>\n",
    "\n",
    "Fuente: [arXiv:1312.5602](https://arxiv.org/abs/1312.5602)"
   ]
  },
  {
   "cell_type": "markdown",
   "metadata": {
    "id": "ajTGajUftSgY",
    "pycharm": {
     "name": "#%% md\n"
    }
   },
   "source": [
    "## Memoria\n",
    "\n",
    "El algoritmo de Deep Q Learning presentado en el paper utiliza una memoria (llamada Replay Memory) para almacenar transiciones pasadas. Tuplas que contienen un estado base, la accion tomada, la recompensa obtenida, una bandera que indica si el siguiente estado es final o no; y el estado siguiente.\n",
    "\n",
    "Esta memoria es circular, es decir, tiene un límite maximo de elementos y una vez esté llena comienza a reemplazar los elementos más viejos.\n",
    "\n",
    "Vamos a necesitar crear una función **sample** que obtiene una mustra aleatoria de elementos de la memoria.  Esto puede ser una lista de Transiciones o listas separadas (pero alineadas) de los elementos que las componen.\n",
    "\n",
    "\n",
    "> Para implementar esta funcionalidad se debe modificar el archivo **replay_memory.py**"
   ]
  },
  {
   "cell_type": "code",
   "execution_count": 10,
   "metadata": {
    "id": "scPtpbz4tTAh",
    "outputId": "0890f48a-e673-4416-bd69-7dcf2730ba64",
    "pycharm": {
     "name": "#%%\n"
    }
   },
   "outputs": [
    {
     "name": "stdout",
     "output_type": "stream",
     "text": [
      "Memory size: 3\n",
      "\n",
      "Memory sample:\n",
      "Sample 0: Transition(state='state2', action='action2', reward='reward2', done='done2', next_state='next_state2')\n",
      "Sample 1: Transition(state='state4', action='action4', reward='reward4', done='done4', next_state='next_state4')\n"
     ]
    }
   ],
   "source": [
    "from replay_memory import ReplayMemory, Transition\n",
    "\n",
    "# Creamos la memoria de repetición\n",
    "replay_memory = ReplayMemory(3)\n",
    "\n",
    "# Añadimos transiciones a la memoria (solo las 3 últimas se guardan)\n",
    "replay_memory.add('state1', 'action1', 'reward1', 'done1', 'next_state1' )\n",
    "replay_memory.add('state2', 'action2', 'reward2', 'done2', 'next_state2')\n",
    "replay_memory.add('state3', 'action3', 'reward3', 'done3', 'next_state3')\n",
    "replay_memory.add('state4', 'action4', 'reward4', 'done4', 'next_state4')\n",
    "\n",
    "# Mostramos el tamaño de la memoria\n",
    "print(f\"Memory size: {len(replay_memory)}\\n\")\n",
    "\n",
    "# Mostramos un sample de la memoria\n",
    "sampled = replay_memory.sample(2)\n",
    "print(f\"Memory sample:\")\n",
    "for i, sample in enumerate(sampled):\n",
    "    print(f\"Sample {i}: {sample}\")\n"
   ]
  },
  {
   "cell_type": "markdown",
   "metadata": {
    "id": "j7Ygv5Mjtb-F",
    "pycharm": {
     "name": "#%% md\n"
    }
   },
   "source": [
    "## Modelo\n",
    "\n",
    "Vamos a usar un mismo modelo FeedForward para estos dos problemas (entrenado en cada problema particular). Recomendamos simplicidad en la creación del mismo, pero tienen total libertad al momento de implementarlo.\n",
    "\n",
    "> Para implementar esta funcionalidad se debe modificar el archivo **dqn_cnn_model.py**. Se recomienda empezar por una arquitectura simple como la que se muestra en el paper de Mnih et al. (2013) y luego experimentar con arquitecturas más complejas."
   ]
  },
  {
   "cell_type": "code",
   "execution_count": 11,
   "metadata": {
    "id": "bkNBvJB6ryp7",
    "pycharm": {
     "name": "#%%\n"
    }
   },
   "outputs": [
    {
     "name": "stdout",
     "output_type": "stream",
     "text": [
      "Actions shape: Discrete(4)\n",
      "Observatiion shape: (4, 84, 84)\n",
      "Output shape before conv1: (84, 84)\n",
      "Output shape after conv1: (20, 20)\n",
      "Output shape after conv2: (9, 9)\n"
     ]
    },
    {
     "name": "stderr",
     "output_type": "stream",
     "text": [
      "c:\\Users\\Octav\\anaconda3\\envs\\obl_taller_ia\\Lib\\site-packages\\gymnasium\\wrappers\\rendering.py:416: UserWarning: \u001b[33mWARN: Unable to save last video! Did you call close()?\u001b[0m\n",
      "  logger.warn(\"Unable to save last video! Did you call close()?\")\n"
     ]
    },
    {
     "data": {
      "text/plain": [
       "==========================================================================================\n",
       "Layer (type:depth-idx)                   Output Shape              Param #\n",
       "==========================================================================================\n",
       "DQN_CNN_Model                            [32, 4]                   --\n",
       "├─Conv2d: 1-1                            [32, 16, 20, 20]          4,112\n",
       "├─Conv2d: 1-2                            [32, 32, 9, 9]            8,224\n",
       "├─Linear: 1-3                            [32, 256]                 663,808\n",
       "├─Linear: 1-4                            [32, 4]                   1,028\n",
       "==========================================================================================\n",
       "Total params: 677,172\n",
       "Trainable params: 677,172\n",
       "Non-trainable params: 0\n",
       "Total mult-adds (Units.MEGABYTES): 95.22\n",
       "==========================================================================================\n",
       "Input size (MB): 3.61\n",
       "Forward/backward pass size (MB): 2.37\n",
       "Params size (MB): 2.71\n",
       "Estimated Total Size (MB): 8.69\n",
       "=========================================================================================="
      ]
     },
     "execution_count": 11,
     "metadata": {},
     "output_type": "execute_result"
    }
   ],
   "source": [
    "from dqn_cnn_model import DQN_CNN_Model\n",
    "\n",
    "env = make_env(ENV_NAME,\n",
    "                record_every=None,\n",
    "                grayscale=GRAY_SCALE,\n",
    "                screen_size=SCREEN_SIZE,\n",
    "                stack_frames=NUM_STACKED_FRAMES,\n",
    "                skip_frames=SKIP_FRAMES\n",
    "                )\n",
    "print(\"Actions shape:\",env.action_space)\n",
    "print(\"Observatiion shape:\",env.observation_space.shape)\n",
    "\n",
    "env.close()\n",
    "\n",
    "cnn_model = DQN_CNN_Model(env.observation_space.shape, env.action_space.n).to(DEVICE)\n",
    "summary(cnn_model, input_size=(32, SKIP_FRAMES, SCREEN_SIZE, SCREEN_SIZE), device=DEVICE) # 32 es el batch size"
   ]
  },
  {
   "cell_type": "markdown",
   "metadata": {},
   "source": [
    "La red esta definida para que reciba un tensor de 4 dimensiones (batch_size, num_frames, height, width) y devuelve un tensor de 2 dimensiones (batch_size, num_actions). La función `forward` es la encargada de definir el flujo de datos a través de la red. En este caso, se utiliza una red convolucional seguida de capas totalmente conectadas"
   ]
  },
  {
   "cell_type": "code",
   "execution_count": 12,
   "metadata": {},
   "outputs": [
    {
     "name": "stdout",
     "output_type": "stream",
     "text": [
      "Q-values shape: torch.Size([1, 4])\n"
     ]
    }
   ],
   "source": [
    "obs_tensor_batch = torch.rand((NUM_STACKED_FRAMES,SCREEN_SIZE,SCREEN_SIZE)).unsqueeze(0).to(DEVICE) # Añadimos una dimensión para el batch y lo pasamos al dispositivo\n",
    "print(f\"Q-values shape: {cnn_model(obs_tensor_batch).shape}\") # shape: (1, num_actions) "
   ]
  },
  {
   "cell_type": "markdown",
   "metadata": {},
   "source": [
    "Los valores de Q se obtienen a partir de la salida de la red, cada columna representa el valor Q para cada acción posible en el estado actual. "
   ]
  },
  {
   "cell_type": "code",
   "execution_count": 13,
   "metadata": {},
   "outputs": [
    {
     "data": {
      "text/plain": [
       "tensor([[-0.0188,  0.0008,  0.0328,  0.0380]], device='cuda:0',\n",
       "       grad_fn=<AddmmBackward0>)"
      ]
     },
     "execution_count": 13,
     "metadata": {},
     "output_type": "execute_result"
    }
   ],
   "source": [
    "cnn_model(obs_tensor_batch) "
   ]
  },
  {
   "cell_type": "markdown",
   "metadata": {},
   "source": [
    "Podemos preguntar cuál es la acción con mayor valor Q en un estado."
   ]
  },
  {
   "cell_type": "code",
   "execution_count": 14,
   "metadata": {},
   "outputs": [
    {
     "data": {
      "text/plain": [
       "torch.return_types.max(\n",
       "values=tensor([0.0380], device='cuda:0', grad_fn=<MaxBackward0>),\n",
       "indices=tensor([3], device='cuda:0'))"
      ]
     },
     "execution_count": 14,
     "metadata": {},
     "output_type": "execute_result"
    }
   ],
   "source": [
    "cnn_model(obs_tensor_batch).max(1)"
   ]
  },
  {
   "cell_type": "markdown",
   "metadata": {},
   "source": [
    "En el siguiente ejemplo vamos a ver cómo tomar los valores de acciones deseables para un conjunto de estados. "
   ]
  },
  {
   "cell_type": "code",
   "execution_count": 15,
   "metadata": {},
   "outputs": [
    {
     "name": "stdout",
     "output_type": "stream",
     "text": [
      "Batch shape: torch.Size([3, 4, 84, 84])\n",
      "Q-values: tensor([[-0.0399,  0.0014,  0.0332,  0.0316],\n",
      "        [-0.0319,  0.0112,  0.0292,  0.0156],\n",
      "        [-0.0356,  0.0033,  0.0296,  0.0224]], device='cuda:0',\n",
      "       grad_fn=<AddmmBackward0>)\n",
      "Q-values: tensor([[0.0014],\n",
      "        [0.0292],\n",
      "        [0.0224]], device='cuda:0', grad_fn=<GatherBackward0>)\n"
     ]
    }
   ],
   "source": [
    "# Creamos 3 observaciones aleatorias para probar el modelo\n",
    "obs_ran1 = torch.rand(4, 84, 84)\n",
    "obs_ran2 = torch.rand(4, 84, 84)\n",
    "obs_ran3 = torch.rand(4, 84, 84)\n",
    "\n",
    "batch = torch.stack([obs_ran1, obs_ran2, obs_ran3], dim=0).to(DEVICE) # shape: (3, 4, 84, 84)\n",
    "print(f\"Batch shape: {batch.shape}\")\n",
    "\n",
    "actions =  torch.tensor([1, 2, 3], device=DEVICE).unsqueeze(1) # queremos la acción 1 para la primera observación, la acción 2 para la segunda y la acción 3 para la tercera\n",
    "\n",
    "Q_test = cnn_model(batch)\n",
    "print(f\"Q-values: {Q_test}\")\n",
    "print(f\"Q-values: {Q_test.gather(1, actions)}\") # https://pytorch.org/docs/main/generated/torch.gather.html"
   ]
  },
  {
   "cell_type": "markdown",
   "metadata": {},
   "source": [
    "## Phi \n",
    "\n",
    "La función para procesar los estados (phi en el paper) que es necesaria para poder usar el modelo de Pytorch con las representaciones de gym. Esta función pasa una observación de gym a un tensor de Pytorch y la normaliza.\n",
    "\n",
    "> Técnicamente la función phi tiene más responsabilidades, como la de apilar los frames y el downsampling. En nuestro caso se lo delegamos a los wrappers de gymnasium."
   ]
  },
  {
   "cell_type": "code",
   "execution_count": 16,
   "metadata": {
    "id": "oegpMg25t9I9",
    "pycharm": {
     "name": "#%%\n"
    }
   },
   "outputs": [
    {
     "name": "stdout",
     "output_type": "stream",
     "text": [
      "Observation shape: torch.Size([4, 84, 84])\n"
     ]
    }
   ],
   "source": [
    "def process_state(obs):\n",
    "    \"\"\"\n",
    "    Preprocess the state to be used as input for the model (transform to tensor).\n",
    "    \"\"\"\n",
    "    return torch.tensor(obs, dtype=torch.float32, device=DEVICE) / 255.0\n",
    "\n",
    "obs, _ = env.reset()\n",
    "obs_tensor = process_state(obs)\n",
    "print(f\"Observation shape: {obs_tensor.shape}\")"
   ]
  },
  {
   "cell_type": "markdown",
   "metadata": {
    "id": "z9B7ZY9Htj_F",
    "pycharm": {
     "name": "#%% md\n"
    }
   },
   "source": [
    "## Agente\n",
    "\n",
    "Vamos a definir una clase agente (abstracto), encargado de interactuar con el ambiente y entrenar los modelos. Los métdos definidos deben funcionar para ambos problemas simplemente cambiando el modelo a utilizar para cada ambiente.\n",
    "\n",
    "Abajo dejamos un esqueleto del mismo y las funciones a completar. Recomendamos no alterar la estructura del mismo, pero pueden definir las funciones auxiliares que consideren necesarias.\n",
    "\n",
    "> Para implementar esta funcionalidad se debe modificar los archivos **abstract_agent.py** y **dqn_agent.py**.\n",
    "\n",
    "Funciones a completar:\n",
    "\n",
    "\n",
    "1. **init**: que inicializa los parametros del agente.\n",
    "\n",
    "2. **compute_epsilon**: que computa el valor actual de epsilon en base al número de pasos actuales y si esta entrenando o no.\n",
    "\n",
    "3. **select_action**: Seleccionando acciones \"epsilongreedy-mente\" si estamos entranando y completamente greedy en otro caso.\n",
    "\n",
    "4. **train**: que entrena el agente por un número dado de episodios de largo determinado.\n",
    "\n",
    "5. **record_test_episode**: para grabar un episodio con el agente siempre seleccionando la mejor accion conocida."
   ]
  },
  {
   "cell_type": "markdown",
   "metadata": {
    "id": "BOD-ENZRtyMt",
    "pycharm": {
     "name": "#%% md\n"
    }
   },
   "source": [
    "## Entrenamiento"
   ]
  },
  {
   "cell_type": "code",
   "execution_count": 17,
   "metadata": {},
   "outputs": [],
   "source": [
    "#Hiperparámetros de entrenamiento del agente DQN\n",
    "# TOTAL_STEPS = 10_000_000\n",
    "TOTAL_STEPS = 2_500_000\n",
    "EPISODES = 10_000\n",
    "STEPS_PER_EPISODE = 20_000\n",
    "\n",
    "EPSILON_INI = 1\n",
    "EPSILON_MIN = 0.05\n",
    "# EPSILON_ANNEAL_STEPS = 1_000_000\n",
    "EPSILON_ANNEAL_STEPS = 1_000_000\n",
    "\n",
    "EPISODE_BLOCK = 100\n",
    "\n",
    "BATCH_SIZE = 32\n",
    "BUFFER_SIZE = 50_000\n",
    "\n",
    "GAMMA = 0.995\n",
    "LEARNING_RATE = 1e-5"
   ]
  },
  {
   "cell_type": "code",
   "execution_count": 18,
   "metadata": {},
   "outputs": [
    {
     "name": "stderr",
     "output_type": "stream",
     "text": [
      "c:\\Users\\Octav\\anaconda3\\envs\\obl_taller_ia\\Lib\\site-packages\\gymnasium\\wrappers\\rendering.py:283: UserWarning: \u001b[33mWARN: Overwriting existing videos at c:\\Users\\Octav\\postgrado\\taller ia\\obligatorio\\git\\obligatorio-taller-ia\\videos\\dqn_training folder (try specifying a different `video_folder` for the `RecordVideo` wrapper if this is not desired)\u001b[0m\n",
      "  logger.warn(\n"
     ]
    }
   ],
   "source": [
    "env = make_env(ENV_NAME,\n",
    "                video_folder='./videos/dqn_training',\n",
    "                name_prefix=\"breakout\",\n",
    "                record_every=500,\n",
    "                grayscale=GRAY_SCALE,\n",
    "                screen_size=SCREEN_SIZE,\n",
    "                stack_frames=NUM_STACKED_FRAMES,\n",
    "                skip_frames=SKIP_FRAMES\n",
    "                )"
   ]
  },
  {
   "cell_type": "code",
   "execution_count": 19,
   "metadata": {},
   "outputs": [],
   "source": [
    "import importlib\n",
    "import replay_memory  # or whatever module you changed\n",
    "import dqn_cnn_model\n",
    "import dqn_agent\n",
    "import abstract_agent\n",
    "importlib.reload(replay_memory)\n",
    "importlib.reload(dqn_cnn_model)\n",
    "importlib.reload(dqn_agent)\n",
    "importlib.reload(abstract_agent)\n",
    "from dqn_cnn_model import DQN_CNN_Model\n",
    "from dqn_agent import DQNAgent\n",
    "\n",
    "from abstract_agent import Agent"
   ]
  },
  {
   "cell_type": "code",
   "execution_count": 20,
   "metadata": {},
   "outputs": [
    {
     "name": "stdout",
     "output_type": "stream",
     "text": [
      "Output shape before conv1: (84, 84)\n",
      "Output shape after conv1: (20, 20)\n",
      "Output shape after conv2: (9, 9)\n"
     ]
    }
   ],
   "source": [
    "net = DQN_CNN_Model(env.observation_space.shape, env.action_space.n).to(DEVICE)"
   ]
  },
  {
   "cell_type": "code",
   "execution_count": 21,
   "metadata": {},
   "outputs": [],
   "source": [
    "dqn_agent = DQNAgent(env, net, process_state, BUFFER_SIZE, BATCH_SIZE, LEARNING_RATE, GAMMA, epsilon_i=EPSILON_INI, epsilon_f=EPSILON_MIN, epsilon_anneal_steps=EPSILON_ANNEAL_STEPS, episode_block=EPISODE_BLOCK, device=DEVICE)"
   ]
  },
  {
   "cell_type": "code",
   "execution_count": null,
   "metadata": {
    "id": "BsTl-pFqt10b",
    "pycharm": {
     "name": "#%%\n"
    }
   },
   "outputs": [
    {
     "name": "stderr",
     "output_type": "stream",
     "text": [
      "Entrenando:   0%|          | 5/10000 [00:02<1:24:44,  1.97episode/s, reward=1.2, epsilon=0.999, steps=932] c:\\Users\\Octav\\postgrado\\taller ia\\obligatorio\\git\\obligatorio-taller-ia\\dqn_agent.py:70: UserWarning: To copy construct from a tensor, it is recommended to use sourceTensor.clone().detach() or sourceTensor.clone().detach().requires_grad_(True), rather than torch.tensor(sourceTensor).\n",
      "  state_tensor = torch.tensor(\n",
      "Entrenando:  30%|██▉       | 2996/10000 [42:18<1:36:25,  1.21episode/s, reward=2.97, epsilon=0.404, steps=627206]"
     ]
    }
   ],
   "source": [
    "dqn_rewards = dqn_agent.train(EPISODES, STEPS_PER_EPISODE, TOTAL_STEPS)\n",
    "\n",
    "env.close()"
   ]
  },
  {
   "cell_type": "code",
   "execution_count": null,
   "metadata": {},
   "outputs": [
    {
     "name": "stderr",
     "output_type": "stream",
     "text": [
      "c:\\Users\\Octav\\anaconda3\\envs\\obl_taller_ia\\Lib\\site-packages\\gymnasium\\wrappers\\rendering.py:283: UserWarning: \u001b[33mWARN: Overwriting existing videos at c:\\Users\\Octav\\postgrado\\taller ia\\obligatorio\\git\\obligatorio-taller-ia\\videos\\dqn_validation folder (try specifying a different `video_folder` for the `RecordVideo` wrapper if this is not desired)\u001b[0m\n",
      "  logger.warn(\n"
     ]
    }
   ],
   "source": [
    "env = make_env(ENV_NAME,\n",
    "                video_folder='./videos/dqn_validation',\n",
    "                name_prefix=\"breakout\",\n",
    "                record_every=1,\n",
    "                grayscale=GRAY_SCALE,\n",
    "                screen_size=SCREEN_SIZE,\n",
    "                stack_frames=NUM_STACKED_FRAMES,\n",
    "                skip_frames=SKIP_FRAMES\n",
    "                )\n",
    "\n"
   ]
  },
  {
   "cell_type": "code",
   "execution_count": null,
   "metadata": {},
   "outputs": [],
   "source": [
    "dqn_agent.play(env, episodes=1)\n",
    "\n",
    "env.close()"
   ]
  },
  {
   "cell_type": "code",
   "execution_count": null,
   "metadata": {},
   "outputs": [
    {
     "data": {
      "text/html": [
       "<video controls  width=\"600\" >\n",
       " <source src=\"data:video/mp4;base64,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\" type=\"video/mp4\">\n",
       " Your browser does not support the video tag.\n",
       " </video>"
      ],
      "text/plain": [
       "<IPython.core.display.Video object>"
      ]
     },
     "execution_count": 25,
     "metadata": {},
     "output_type": "execute_result"
    }
   ],
   "source": [
    "# Ruta al archivo de vídeo en tu sistema de ficheros\n",
    "video_path = \"./videos/dqn_validation/breakout-episode-0.mp4\"\n",
    "\n",
    "# Muestra el vídeo\n",
    "Video(video_path, embed=True, width=600)"
   ]
  },
  {
   "cell_type": "markdown",
   "metadata": {},
   "source": [
    "#### Graficas \n",
    "..."
   ]
  },
  {
   "cell_type": "markdown",
   "metadata": {
    "id": "QETh1K7pt9I_"
   },
   "source": [
    "# Double Deep Q Learning\n",
    "\n",
    "Double DQN mejora la versión clásica de DQN corrigiendo el sesgo de sobreestimación de los valores \n",
    "𝑄\n",
    "Q. Para ello, desacopla la selección de la acción de su evaluación: en cada paso, la red online elige la acción que maximiza \n",
    "𝑄\n",
    "Q, pero la red objetivo distinta estima el valor de esa acción. Esta separación reduce el sesgo hacia valores demasiado optimistas y aporta mayor estabilidad al entrenamiento. El resto de la estructura —replay buffer, política ε-greedy, etc— se mantiene igual que en DQN, aprovechando así un diseño casi idéntico al original pero con resultados más fiables .\n",
    "\n",
    "Fuente: [arXiv:1509.06461](https://arxiv.org/abs/1509.06461)\n",
    "\n",
    "> Vamos a utilizar el mismo modelo de red neuronal creado para el problema anterior y la misma implementación de memoria, dejamos un esqueleto de un agente de Double Deep Q learning para completar en el archivo **double_dqn_agent.py**"
   ]
  },
  {
   "cell_type": "code",
   "execution_count": null,
   "metadata": {
    "id": "kDNkAtdMt9I_",
    "pycharm": {
     "name": "#%%\n"
    }
   },
   "outputs": [
    {
     "name": "stdout",
     "output_type": "stream",
     "text": [
      "Output shape before conv1: (84, 84)\n",
      "Output shape after conv1: (20, 20)\n",
      "Output shape after conv2: (9, 9)\n",
      "Output shape before conv1: (84, 84)\n",
      "Output shape after conv1: (20, 20)\n",
      "Output shape after conv2: (9, 9)\n"
     ]
    },
    {
     "name": "stderr",
     "output_type": "stream",
     "text": [
      "Entrenando:   0%|          | 0/10000 [00:00<?, ?episode/s]\n"
     ]
    },
    {
     "ename": "TypeError",
     "evalue": "list indices must be integers or slices, not NoneType",
     "output_type": "error",
     "traceback": [
      "\u001b[31m---------------------------------------------------------------------------\u001b[39m",
      "\u001b[31mTypeError\u001b[39m                                 Traceback (most recent call last)",
      "\u001b[36mCell\u001b[39m\u001b[36m \u001b[39m\u001b[32mIn[26]\u001b[39m\u001b[32m, line 19\u001b[39m\n\u001b[32m     15\u001b[39m modelo_b = DQN_CNN_Model(env.observation_space.shape, env.action_space.n).to(DEVICE)\n\u001b[32m     17\u001b[39m ddqn_agent = DoubleDQNAgent(env, modelo_a, modelo_b, process_state, BUFFER_SIZE, BATCH_SIZE, LEARNING_RATE, GAMMA, epsilon_i= EPSILON_INI, epsilon_f=EPSILON_MIN, epsilon_anneal_steps=EPSILON_ANNEAL_STEPS, episode_block = EPISODE_BLOCK, device=DEVICE)\n\u001b[32m---> \u001b[39m\u001b[32m19\u001b[39m ddqn_rewards = \u001b[43mddqn_agent\u001b[49m\u001b[43m.\u001b[49m\u001b[43mtrain\u001b[49m\u001b[43m(\u001b[49m\u001b[43mEPISODES\u001b[49m\u001b[43m,\u001b[49m\u001b[43m \u001b[49m\u001b[43mSTEPS_PER_EPISODE\u001b[49m\u001b[43m,\u001b[49m\u001b[43m \u001b[49m\u001b[43mTOTAL_STEPS\u001b[49m\u001b[43m)\u001b[49m\n",
      "\u001b[36mFile \u001b[39m\u001b[32mc:\\Users\\Octav\\postgrado\\taller ia\\obligatorio\\git\\obligatorio-taller-ia\\abstract_agent.py:62\u001b[39m, in \u001b[36mAgent.train\u001b[39m\u001b[34m(self, number_episodes, max_steps_episode, max_steps)\u001b[39m\n\u001b[32m     59\u001b[39m action = \u001b[38;5;28mself\u001b[39m.select_action(state_phi, total_steps, train=\u001b[38;5;28;01mTrue\u001b[39;00m)\n\u001b[32m     61\u001b[39m \u001b[38;5;66;03m# Ejecutar action = env.step(action)\u001b[39;00m\n\u001b[32m---> \u001b[39m\u001b[32m62\u001b[39m next_state, reward, done, _, _, = \u001b[38;5;28;43mself\u001b[39;49m\u001b[43m.\u001b[49m\u001b[43menv\u001b[49m\u001b[43m.\u001b[49m\u001b[43mstep\u001b[49m\u001b[43m(\u001b[49m\u001b[43maction\u001b[49m\u001b[43m)\u001b[49m\n\u001b[32m     64\u001b[39m \u001b[38;5;66;03m# Procesar next_state con state_processing_function\u001b[39;00m\n\u001b[32m     65\u001b[39m next_state_phi = \u001b[38;5;28mself\u001b[39m.state_processing_function(next_state)\n",
      "\u001b[36mFile \u001b[39m\u001b[32mc:\\Users\\Octav\\anaconda3\\envs\\obl_taller_ia\\Lib\\site-packages\\gymnasium\\core.py:585\u001b[39m, in \u001b[36mRewardWrapper.step\u001b[39m\u001b[34m(self, action)\u001b[39m\n\u001b[32m    581\u001b[39m \u001b[38;5;28;01mdef\u001b[39;00m\u001b[38;5;250m \u001b[39m\u001b[34mstep\u001b[39m(\n\u001b[32m    582\u001b[39m     \u001b[38;5;28mself\u001b[39m, action: ActType\n\u001b[32m    583\u001b[39m ) -> \u001b[38;5;28mtuple\u001b[39m[ObsType, SupportsFloat, \u001b[38;5;28mbool\u001b[39m, \u001b[38;5;28mbool\u001b[39m, \u001b[38;5;28mdict\u001b[39m[\u001b[38;5;28mstr\u001b[39m, Any]]:\n\u001b[32m    584\u001b[39m \u001b[38;5;250m    \u001b[39m\u001b[33;03m\"\"\"Modifies the :attr:`env` :meth:`step` reward using :meth:`self.reward`.\"\"\"\u001b[39;00m\n\u001b[32m--> \u001b[39m\u001b[32m585\u001b[39m     observation, reward, terminated, truncated, info = \u001b[38;5;28;43mself\u001b[39;49m\u001b[43m.\u001b[49m\u001b[43menv\u001b[49m\u001b[43m.\u001b[49m\u001b[43mstep\u001b[49m\u001b[43m(\u001b[49m\u001b[43maction\u001b[49m\u001b[43m)\u001b[49m\n\u001b[32m    586\u001b[39m     \u001b[38;5;28;01mreturn\u001b[39;00m observation, \u001b[38;5;28mself\u001b[39m.reward(reward), terminated, truncated, info\n",
      "\u001b[36mFile \u001b[39m\u001b[32mc:\\Users\\Octav\\anaconda3\\envs\\obl_taller_ia\\Lib\\site-packages\\gymnasium\\wrappers\\stateful_observation.py:416\u001b[39m, in \u001b[36mFrameStackObservation.step\u001b[39m\u001b[34m(self, action)\u001b[39m\n\u001b[32m    405\u001b[39m \u001b[38;5;28;01mdef\u001b[39;00m\u001b[38;5;250m \u001b[39m\u001b[34mstep\u001b[39m(\n\u001b[32m    406\u001b[39m     \u001b[38;5;28mself\u001b[39m, action: WrapperActType\n\u001b[32m    407\u001b[39m ) -> \u001b[38;5;28mtuple\u001b[39m[WrapperObsType, SupportsFloat, \u001b[38;5;28mbool\u001b[39m, \u001b[38;5;28mbool\u001b[39m, \u001b[38;5;28mdict\u001b[39m[\u001b[38;5;28mstr\u001b[39m, Any]]:\n\u001b[32m    408\u001b[39m \u001b[38;5;250m    \u001b[39m\u001b[33;03m\"\"\"Steps through the environment, appending the observation to the frame buffer.\u001b[39;00m\n\u001b[32m    409\u001b[39m \n\u001b[32m    410\u001b[39m \u001b[33;03m    Args:\u001b[39;00m\n\u001b[32m   (...)\u001b[39m\u001b[32m    414\u001b[39m \u001b[33;03m        Stacked observations, reward, terminated, truncated, and info from the environment\u001b[39;00m\n\u001b[32m    415\u001b[39m \u001b[33;03m    \"\"\"\u001b[39;00m\n\u001b[32m--> \u001b[39m\u001b[32m416\u001b[39m     obs, reward, terminated, truncated, info = \u001b[38;5;28;43mself\u001b[39;49m\u001b[43m.\u001b[49m\u001b[43menv\u001b[49m\u001b[43m.\u001b[49m\u001b[43mstep\u001b[49m\u001b[43m(\u001b[49m\u001b[43maction\u001b[49m\u001b[43m)\u001b[49m\n\u001b[32m    417\u001b[39m     \u001b[38;5;28mself\u001b[39m.obs_queue.append(obs)\n\u001b[32m    419\u001b[39m     updated_obs = deepcopy(\n\u001b[32m    420\u001b[39m         concatenate(\u001b[38;5;28mself\u001b[39m.env.observation_space, \u001b[38;5;28mself\u001b[39m.obs_queue, \u001b[38;5;28mself\u001b[39m.stacked_obs)\n\u001b[32m    421\u001b[39m     )\n",
      "\u001b[36mFile \u001b[39m\u001b[32mc:\\Users\\Octav\\anaconda3\\envs\\obl_taller_ia\\Lib\\site-packages\\gymnasium\\wrappers\\atari_preprocessing.py:162\u001b[39m, in \u001b[36mAtariPreprocessing.step\u001b[39m\u001b[34m(self, action)\u001b[39m\n\u001b[32m    159\u001b[39m total_reward, terminated, truncated, info = \u001b[32m0.0\u001b[39m, \u001b[38;5;28;01mFalse\u001b[39;00m, \u001b[38;5;28;01mFalse\u001b[39;00m, {}\n\u001b[32m    161\u001b[39m \u001b[38;5;28;01mfor\u001b[39;00m t \u001b[38;5;129;01min\u001b[39;00m \u001b[38;5;28mrange\u001b[39m(\u001b[38;5;28mself\u001b[39m.frame_skip):\n\u001b[32m--> \u001b[39m\u001b[32m162\u001b[39m     _, reward, terminated, truncated, info = \u001b[38;5;28;43mself\u001b[39;49m\u001b[43m.\u001b[49m\u001b[43menv\u001b[49m\u001b[43m.\u001b[49m\u001b[43mstep\u001b[49m\u001b[43m(\u001b[49m\u001b[43maction\u001b[49m\u001b[43m)\u001b[49m\n\u001b[32m    163\u001b[39m     total_reward += reward\n\u001b[32m    164\u001b[39m     \u001b[38;5;28mself\u001b[39m.game_over = terminated\n",
      "\u001b[36mFile \u001b[39m\u001b[32mc:\\Users\\Octav\\anaconda3\\envs\\obl_taller_ia\\Lib\\site-packages\\gymnasium\\wrappers\\rendering.py:350\u001b[39m, in \u001b[36mRecordVideo.step\u001b[39m\u001b[34m(self, action)\u001b[39m\n\u001b[32m    346\u001b[39m \u001b[38;5;28;01mdef\u001b[39;00m\u001b[38;5;250m \u001b[39m\u001b[34mstep\u001b[39m(\n\u001b[32m    347\u001b[39m     \u001b[38;5;28mself\u001b[39m, action: ActType\n\u001b[32m    348\u001b[39m ) -> \u001b[38;5;28mtuple\u001b[39m[ObsType, SupportsFloat, \u001b[38;5;28mbool\u001b[39m, \u001b[38;5;28mbool\u001b[39m, \u001b[38;5;28mdict\u001b[39m[\u001b[38;5;28mstr\u001b[39m, Any]]:\n\u001b[32m    349\u001b[39m \u001b[38;5;250m    \u001b[39m\u001b[33;03m\"\"\"Steps through the environment using action, recording observations if :attr:`self.recording`.\"\"\"\u001b[39;00m\n\u001b[32m--> \u001b[39m\u001b[32m350\u001b[39m     obs, rew, terminated, truncated, info = \u001b[38;5;28;43mself\u001b[39;49m\u001b[43m.\u001b[49m\u001b[43menv\u001b[49m\u001b[43m.\u001b[49m\u001b[43mstep\u001b[49m\u001b[43m(\u001b[49m\u001b[43maction\u001b[49m\u001b[43m)\u001b[49m\n\u001b[32m    351\u001b[39m     \u001b[38;5;28mself\u001b[39m.step_id += \u001b[32m1\u001b[39m\n\u001b[32m    353\u001b[39m     \u001b[38;5;28;01mif\u001b[39;00m \u001b[38;5;28mself\u001b[39m.step_trigger \u001b[38;5;129;01mand\u001b[39;00m \u001b[38;5;28mself\u001b[39m.step_trigger(\u001b[38;5;28mself\u001b[39m.step_id):\n",
      "\u001b[36mFile \u001b[39m\u001b[32mc:\\Users\\Octav\\anaconda3\\envs\\obl_taller_ia\\Lib\\site-packages\\gymnasium\\wrappers\\common.py:393\u001b[39m, in \u001b[36mOrderEnforcing.step\u001b[39m\u001b[34m(self, action)\u001b[39m\n\u001b[32m    391\u001b[39m \u001b[38;5;28;01mif\u001b[39;00m \u001b[38;5;129;01mnot\u001b[39;00m \u001b[38;5;28mself\u001b[39m._has_reset:\n\u001b[32m    392\u001b[39m     \u001b[38;5;28;01mraise\u001b[39;00m ResetNeeded(\u001b[33m\"\u001b[39m\u001b[33mCannot call env.step() before calling env.reset()\u001b[39m\u001b[33m\"\u001b[39m)\n\u001b[32m--> \u001b[39m\u001b[32m393\u001b[39m \u001b[38;5;28;01mreturn\u001b[39;00m \u001b[38;5;28;43msuper\u001b[39;49m\u001b[43m(\u001b[49m\u001b[43m)\u001b[49m\u001b[43m.\u001b[49m\u001b[43mstep\u001b[49m\u001b[43m(\u001b[49m\u001b[43maction\u001b[49m\u001b[43m)\u001b[49m\n",
      "\u001b[36mFile \u001b[39m\u001b[32mc:\\Users\\Octav\\anaconda3\\envs\\obl_taller_ia\\Lib\\site-packages\\gymnasium\\core.py:322\u001b[39m, in \u001b[36mWrapper.step\u001b[39m\u001b[34m(self, action)\u001b[39m\n\u001b[32m    318\u001b[39m \u001b[38;5;28;01mdef\u001b[39;00m\u001b[38;5;250m \u001b[39m\u001b[34mstep\u001b[39m(\n\u001b[32m    319\u001b[39m     \u001b[38;5;28mself\u001b[39m, action: WrapperActType\n\u001b[32m    320\u001b[39m ) -> \u001b[38;5;28mtuple\u001b[39m[WrapperObsType, SupportsFloat, \u001b[38;5;28mbool\u001b[39m, \u001b[38;5;28mbool\u001b[39m, \u001b[38;5;28mdict\u001b[39m[\u001b[38;5;28mstr\u001b[39m, Any]]:\n\u001b[32m    321\u001b[39m \u001b[38;5;250m    \u001b[39m\u001b[33;03m\"\"\"Uses the :meth:`step` of the :attr:`env` that can be overwritten to change the returned data.\"\"\"\u001b[39;00m\n\u001b[32m--> \u001b[39m\u001b[32m322\u001b[39m     \u001b[38;5;28;01mreturn\u001b[39;00m \u001b[38;5;28;43mself\u001b[39;49m\u001b[43m.\u001b[49m\u001b[43menv\u001b[49m\u001b[43m.\u001b[49m\u001b[43mstep\u001b[49m\u001b[43m(\u001b[49m\u001b[43maction\u001b[49m\u001b[43m)\u001b[49m\n",
      "\u001b[36mFile \u001b[39m\u001b[32mc:\\Users\\Octav\\anaconda3\\envs\\obl_taller_ia\\Lib\\site-packages\\gymnasium\\wrappers\\common.py:285\u001b[39m, in \u001b[36mPassiveEnvChecker.step\u001b[39m\u001b[34m(self, action)\u001b[39m\n\u001b[32m    283\u001b[39m     \u001b[38;5;28;01mreturn\u001b[39;00m env_step_passive_checker(\u001b[38;5;28mself\u001b[39m.env, action)\n\u001b[32m    284\u001b[39m \u001b[38;5;28;01melse\u001b[39;00m:\n\u001b[32m--> \u001b[39m\u001b[32m285\u001b[39m     \u001b[38;5;28;01mreturn\u001b[39;00m \u001b[38;5;28;43mself\u001b[39;49m\u001b[43m.\u001b[49m\u001b[43menv\u001b[49m\u001b[43m.\u001b[49m\u001b[43mstep\u001b[49m\u001b[43m(\u001b[49m\u001b[43maction\u001b[49m\u001b[43m)\u001b[49m\n",
      "\u001b[36mFile \u001b[39m\u001b[32mc:\\Users\\Octav\\anaconda3\\envs\\obl_taller_ia\\Lib\\site-packages\\ale_py\\env.py:305\u001b[39m, in \u001b[36mAtariEnv.step\u001b[39m\u001b[34m(self, action)\u001b[39m\n\u001b[32m    303\u001b[39m     strength = action[\u001b[32m0\u001b[39m]\n\u001b[32m    304\u001b[39m \u001b[38;5;28;01melse\u001b[39;00m:\n\u001b[32m--> \u001b[39m\u001b[32m305\u001b[39m     action_idx = \u001b[38;5;28;43mself\u001b[39;49m\u001b[43m.\u001b[49m\u001b[43m_action_set\u001b[49m\u001b[43m[\u001b[49m\u001b[43maction\u001b[49m\u001b[43m]\u001b[49m\n\u001b[32m    306\u001b[39m     strength = \u001b[32m1.0\u001b[39m\n\u001b[32m    308\u001b[39m \u001b[38;5;66;03m# Frameskip\u001b[39;00m\n",
      "\u001b[31mTypeError\u001b[39m: list indices must be integers or slices, not NoneType"
     ]
    }
   ],
   "source": [
    "from double_dqn_agent import DoubleDQNAgent\n",
    "\n",
    "env = make_env(ENV_NAME,\n",
    "                video_folder='./videos/ddqn_training',\n",
    "                name_prefix=\"breakout\",\n",
    "                record_every=500,\n",
    "                grayscale=GRAY_SCALE,\n",
    "                screen_size=SCREEN_SIZE,\n",
    "                stack_frames=NUM_STACKED_FRAMES,\n",
    "                skip_frames=SKIP_FRAMES\n",
    "                )\n",
    "\n",
    "\n",
    "modelo_a = DQN_CNN_Model(env.observation_space.shape, env.action_space.n).to(DEVICE)\n",
    "modelo_b = DQN_CNN_Model(env.observation_space.shape, env.action_space.n).to(DEVICE)\n",
    "\n",
    "ddqn_agent = DoubleDQNAgent(env, modelo_a, modelo_b, process_state, BUFFER_SIZE, BATCH_SIZE, LEARNING_RATE, GAMMA, epsilon_i= EPSILON_INI, epsilon_f=EPSILON_MIN, epsilon_anneal_steps=EPSILON_ANNEAL_STEPS, episode_block = EPISODE_BLOCK, device=DEVICE)\n",
    "\n",
    "ddqn_rewards = ddqn_agent.train(EPISODES, STEPS_PER_EPISODE, TOTAL_STEPS)"
   ]
  },
  {
   "cell_type": "code",
   "execution_count": null,
   "metadata": {},
   "outputs": [],
   "source": [
    "env = make_env(ENV_NAME,\n",
    "                video_folder='./videos/ddqn_validation',\n",
    "                name_prefix=\"breakout\",\n",
    "                record_every=1,\n",
    "                grayscale=GRAY_SCALE,\n",
    "                screen_size=SCREEN_SIZE,\n",
    "                stack_frames=NUM_STACKED_FRAMES,\n",
    "                skip_frames=SKIP_FRAMES\n",
    "                )\n",
    "\n",
    "ddqn_agent.play(env, episodes=3)\n",
    "\n",
    "env.close()"
   ]
  },
  {
   "cell_type": "code",
   "execution_count": null,
   "metadata": {},
   "outputs": [],
   "source": [
    "# Ruta al archivo de vídeo en tu sistema de ficheros\n",
    "video_path = \"./videos/ddqn_validation/breakout-episode-0.mp4\"\n",
    "\n",
    "# Muestra el vídeo\n",
    "Video(video_path, embed=True, width=600)"
   ]
  },
  {
   "cell_type": "markdown",
   "metadata": {},
   "source": [
    "#### Graficas \n",
    "..."
   ]
  },
  {
   "cell_type": "markdown",
   "metadata": {},
   "source": [
    "# Experimentación\n",
    "Aquí con libertad total, pueden probar diferentes arquitecturas de red, diferentes hiperparámetros, diferentes técnicas de exploración, etc.\n",
    "..."
   ]
  },
  {
   "cell_type": "markdown",
   "metadata": {
    "id": "YNNvsKiEt9I_"
   },
   "source": [
    "# Comparaciones, Resultados, Comentarios...\n",
    "De aquí en adelante son libres de presentar como gusten los resultados comparativos de las técnicas.\n",
    "..."
   ]
  }
 ],
 "metadata": {
  "accelerator": "GPU",
  "colab": {
   "provenance": []
  },
  "kernelspec": {
   "display_name": "obl_taller_ia",
   "language": "python",
   "name": "python3"
  },
  "language_info": {
   "codemirror_mode": {
    "name": "ipython",
    "version": 3
   },
   "file_extension": ".py",
   "mimetype": "text/x-python",
   "name": "python",
   "nbconvert_exporter": "python",
   "pygments_lexer": "ipython3",
   "version": "3.11.12"
  },
  "vscode": {
   "interpreter": {
    "hash": "654d30e281ea4991f82051f147fbd22a65ce2ea742e27edf10b646598953974d"
   }
  }
 },
 "nbformat": 4,
 "nbformat_minor": 1
}
