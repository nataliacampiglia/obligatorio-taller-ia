{
 "cells": [
  {
   "cell_type": "markdown",
   "metadata": {},
   "source": [
    "# Obligatorio - Taller Agentes Inteligentes 2025\n",
    "\n",
    "En este trabajo obligatorio aplicaremos los conceptos vistos en el curso para diseñar, implementar y evaluar agentes capaces de aprender a jugar al clásico **Breakout** de Atari, utilizando el entorno provisto por Farama Gymnasium ([https://ale.farama.org/environments/breakout/](https://ale.farama.org/environments/breakout/)). \n",
    "\n",
    "<p align=\"center\">\n",
    "  <img src=\"https://media.tenor.com/oMxHgRrISJsAAAAM/atari-deep-learning.gif\" alt=\"Atari Deep Learning\"/>\n",
    "</p>\n",
    "\n",
    "\n",
    "El ejercicio se enmarca en un contexto de aprendizaje práctico, donde trabajaremos con las interfaces estándar de Gymnasium para:\n",
    "\n",
    "1. **Profundizar en algoritmos de valor**: implementaremos y compararemos dos variantes de Q-Learning basadas en redes neuronales profundas:\n",
    "   * **Deep Q Learning (DQN)**\n",
    "   * **Double Deep Q Learning (DDQN)**\n",
    "2. **Evaluar rendimiento y estabilidad**: registraremos las recompensas obtenidas durante el entrenamiento de cada agente y analizaremos su comportamiento mediante gráficas comparativas.\n",
    "3. **Demostrar resultados de forma visual**: capturaremos vídeos que muestren a cada agente “resolviendo” el entorno, entendido como la habilidad de romper al menos cinco bloques en una partida.\n",
    "\n",
    "Debido a las limitaciones de tiempo y cómputo propias de un entorno de curso, no se espera entrenar modelos durante más de diez horas por agente. Por ello, será fundamental:\n",
    "\n",
    "* Integrar puntos de **checkpoint** para guardar periódicamente los pesos de la red.\n",
    "* Seguir en los puntos 2 y 3 la arquitectura y técnicas originales propuestas en los papers seminales de DQN y DDQN, dejando la experimentación adicional para el punto extra.\n",
    "* Flexibilizar la notebook de guía: pueden reorganizarla o dividirla en múltiples archivos según su conveniencia.\n"
   ]
  },
  {
   "cell_type": "markdown",
   "metadata": {},
   "source": [
    "## Objetivos y tareas\n",
    "\n",
    "1. **Completar la implementación**\n",
    "   * Rellenar el código faltante en la notebook y en los módulos auxiliares para que los agentes puedan interactuar con el entorno de Breakout.\n",
    "2. **Entrenar agentes**\n",
    "   * Ajustar y entrenar un **DQN** que alcance la condición de “resolver” (romper ≥ 10 bloques).\n",
    "   * Ajustar y entrenar un **DDQN** con la misma meta de desempeño.\n",
    "3. **Visualizar y analizar resultados**\n",
    "   * Generar **gráficas comparativas** de las recompensas obtenidas por ambos agentes en el mismo entorno (una gráfica por ambiente). Además se sugiere gráficas que muestren el valor de la función de valor Q para cada agente.\n",
    "   * Extraer **al menos dos conclusiones** por gráfica, comentando diferencias en convergencia, estabilidad y comportamiento exploratorio.\n",
    "4. **Registro de demostraciones**\n",
    "   * Grabar y entregar un **video demostrativo** de cada agente resolviendo el entorno.\n",
    "5. **Experimentación**\n",
    "   * Probar otras arquitecturas, técnicas de mejora o módulos de procesamiento de entradas más avanzados, documentando brevemente su impacto/"
   ]
  },
  {
   "cell_type": "markdown",
   "metadata": {},
   "source": [
    "## Criterios de evaluación\n",
    "\n",
    "| Criterio                                  | Descripción                                                  | Peso |\n",
    "| ----------------------------------------- | ------------------------------------------------------------ | ---- |\n",
    "| **Implementación y rendimiento**          | DQN y DDQN completados; cada agente rompe ≥ 10 bloques       | 40%  |\n",
    "| **Estructura y narrativa de la notebook** | Secciones claras, explicación de decisiones, “historia”      | 20%  |\n",
    "| **Análisis de resultados**                | Gráficas comparativas; ≥ 2 conclusiones por gráfico          | 20%  |\n",
    "| **Presentación visual**                   | Vídeos demostrativos de cada agente                          | 10%  |\n",
    "| **Experimentación**                       | Experimentación adicional documentada y analizada brevemente | 10%  |"
   ]
  },
  {
   "cell_type": "markdown",
   "metadata": {},
   "source": [
    "## Bibliografía\n",
    "\n",
    "* **Mnih, V.**, Kavukcuoglu, K., Silver, D., Rusu, A. A., Veness, J., Bellemare, M. G., … Hassabis, D. (2013). *Playing Atari with Deep Reinforcement Learning*. [arXiv:1312.5602](https://arxiv.org/abs/1312.5602)\n",
    "* **van Hasselt, H.**, Guez, A., & Silver, D. (2015). *Deep Reinforcement Learning with Double Q-learning*. [arXiv:1509.06461](https://arxiv.org/abs/1509.06461)\n",
    "* **Sutton, R. S.**, & Barto, A. G. (2018). *Reinforcement Learning: An Introduction* (2nd ed.), capítulo 16.5: “Human-level Video Game Play”. MIT Press."
   ]
  },
  {
   "attachments": {},
   "cell_type": "markdown",
   "metadata": {},
   "source": [
    "# Import from github"
   ]
  },
  {
   "cell_type": "code",
   "execution_count": null,
   "metadata": {},
   "outputs": [],
   "source": [
    "# !git clone https://github.com/nataliacampiglia/obligatorio-taller-ia.git\n",
    "# %cd obligatorio-taller-ia\n",
    "# !git pull"
   ]
  },
  {
   "cell_type": "markdown",
   "metadata": {},
   "source": [
    "## Setup"
   ]
  },
  {
   "cell_type": "markdown",
   "metadata": {
    "id": "gc6t9etEt9I2",
    "pycharm": {
     "name": "#%%\n"
    }
   },
   "source": [
    "**Imports**"
   ]
  },
  {
   "cell_type": "code",
   "execution_count": 144,
   "metadata": {
    "id": "cwHCw6PMt9I3",
    "pycharm": {
     "name": "#%%\n"
    }
   },
   "outputs": [],
   "source": [
    "import os\n",
    "import torch\n",
    "import numpy as np\n",
    "import random\n",
    "import numpy as np\n",
    "import torch.nn as nn\n",
    "import torch.nn.functional as F\n",
    "from torchinfo import summary\n",
    "import gymnasium\n",
    "import ale_py\n",
    "from utils import make_env, show_observation_stack\n",
    "from IPython.display import Video\n"
   ]
  },
  {
   "cell_type": "markdown",
   "metadata": {},
   "source": [
    "ALE (Atari Learning Environment) es un entorno de aprendizaje para videojuegos de Atari. En este caso, utilizaremos el entorno de Breakout. Es necesario entender que se separa el entorno de los roms de Atari, que son los juegos en sí. El entorno de ALE permite interactuar con los juegos de Atari a través de una API estándar, facilitando la implementación de algoritmos de aprendizaje por refuerzo.\n",
    "\n",
    "Debemos instalar los roms por separado, para ello primero tenemos que saber donde están los roms de Atari. "
   ]
  },
  {
   "cell_type": "code",
   "execution_count": 145,
   "metadata": {},
   "outputs": [
    {
     "name": "stdout",
     "output_type": "stream",
     "text": [
      "/opt/miniconda3/envs/obl_taller_ia/lib/python3.12/site-packages/ale_py/roms\n"
     ]
    }
   ],
   "source": [
    "gymnasium.register_envs(ale_py) # registramos todos los entornos de ale_py\n",
    "ruta_init = ale_py.roms.__file__ # debemos saber donde se encuentra la carpeta roms\n",
    "ALE_ROMS_PATH = os.path.dirname(ruta_init)\n",
    "print(ALE_ROMS_PATH)"
   ]
  },
  {
   "cell_type": "markdown",
   "metadata": {},
   "source": [
    "Podemos usar los siguientes comando para instalar los roms y colocalos en la carpeta correcta."
   ]
  },
  {
   "cell_type": "code",
   "execution_count": 146,
   "metadata": {},
   "outputs": [],
   "source": [
    "# !pip install \"autorom[accept-rom-license]\"\n",
    "# !AutoROM --accept-license --install-dir {ALE_ROMS_PATH}"
   ]
  },
  {
   "cell_type": "markdown",
   "metadata": {},
   "source": [
    "Fijamos la semilla para que los resultados sean reproducibles"
   ]
  },
  {
   "cell_type": "code",
   "execution_count": 147,
   "metadata": {},
   "outputs": [],
   "source": [
    "SEED = 23\n",
    "\n",
    "torch.manual_seed(SEED)\n",
    "torch.backends.cudnn.deterministic=True # https://discuss.pytorch.org/t/what-is-the-differenc-between-cudnn-deterministic-and-cudnn-benchmark/38054\n",
    "torch.backends.cudnn.benchmark=True # https://discuss.pytorch.org/t/what-does-torch-backends-cudnn-benchmark-do/5936/4\n",
    "np.random.seed(SEED)\n",
    "random.seed(SEED)"
   ]
  },
  {
   "cell_type": "markdown",
   "metadata": {},
   "source": [
    "Vemos que dispositivo tenemos, si es GPU, MPS o CPU. **El uso de GPU es altamente recomendable** para acelerar el entrenamiento de los modelos. "
   ]
  },
  {
   "cell_type": "code",
   "execution_count": 148,
   "metadata": {},
   "outputs": [
    {
     "name": "stdout",
     "output_type": "stream",
     "text": [
      "Device: mps\n"
     ]
    }
   ],
   "source": [
    "# Algunas constantes\n",
    "\n",
    "# definimos el dispositivo que vamos a usar\n",
    "DEVICE = \"cpu\"  # por defecto, usamos la CPU\n",
    "if torch.cuda.is_available():\n",
    "    DEVICE = \"cuda\"  # si hay GPU, usamos la GPU\n",
    "elif torch.backends.mps.is_available():\n",
    "    DEVICE = \"mps\"  # si no hay GPU, pero hay MPS, usamos MPS\n",
    "\n",
    "print(f\"Device: {DEVICE}\")"
   ]
  },
  {
   "cell_type": "markdown",
   "metadata": {},
   "source": [
    "## Preprocesando Atari\n",
    "\n",
    "Para reproducir fielmente el enfoque de Mnih et al. (2013) y reducir la carga computacional al trabajar con imágenes de Atari (210 × 160 píxeles, 128 colores), aplicamos el siguiente preprocesado φ a las últimas **4** frames del entorno:\n",
    "\n",
    "1. **Conversión a escala de grises**\n",
    "   Eliminamos la información de color (GRAYSCALE = True), pues la luminosidad es suficiente para capturar la dinámica de juego y reduce drásticamente la dimensionalidad de la entrada.\n",
    "\n",
    "2. **Down-sampling y recorte**\n",
    "   * Redimensionamos la imagen original a 110 × 84 píxeles, manteniendo la proporción horizontal.\n",
    "   * Recortamos un área central de 84 × 84 píxeles que contiene la “zona de juego”, descartando bordes innecesarios.\n",
    "     Este paso (SCREEN_SIZE = 84) no solo concentra la atención del modelo en la región relevante, sino que también garantiza un tamaño cuadrado compatible con las implementaciones de convoluciones en GPU.\n",
    "\n",
    "3. **Saltos temporales (frame skipping)**\n",
    "   Procesamos cada 4 frames (SKIP_FRAMES = 4), repitiendo la misma acción durante esos pasos. Esto reduce la redundancia temporal, acelera el entrenamiento y mantiene la coherencia del movimiento de la paleta y la bola.\n",
    "\n",
    "4. **Apilamiento de frames**\n",
    "   Finalmente, acumulamos las últimas 4 imágenes preprocesadas (NUM_STACKED_FRAMES = 4) en un único tensor de entrada. Así el agente puede inferir la velocidad y dirección de los elementos móviles a partir de la diferencia entre frames.\n",
    "\n",
    "Este esquema de preprocesado es fundamental para disminuir el espacio de entrada, acelerar las convoluciones y proporcionar al Q-net una representación compacta y rica en información dinámica, tal como se describe en el algoritmo 1 del paper original .\n",
    "\n",
    "> Se recomienda ver el método `make_env` en el archivo `utils.py` para entender cómo se implementa este preprocesado. "
   ]
  },
  {
   "cell_type": "code",
   "execution_count": 149,
   "metadata": {},
   "outputs": [],
   "source": [
    "GRAY_SCALE = True # si True, convertimos la imagen a escala de grises\n",
    "SCREEN_SIZE = 84 # redimensionamos a SCREEN_SIZExSCREEN_SIZE\n",
    "NUM_STACKED_FRAMES = 4 # apilamos NUM_STACKED_FRAMES frames\n",
    "SKIP_FRAMES = 4 # saltamos SKIP_FRAMES frames (haciendo la misma acción)"
   ]
  },
  {
   "cell_type": "code",
   "execution_count": 150,
   "metadata": {
    "colab": {
     "base_uri": "https://localhost:8080/"
    },
    "id": "loVxQPrwt9I5",
    "outputId": "18b7ed97-88dd-4b1e-a2cc-b2636686bfc7"
   },
   "outputs": [
    {
     "name": "stderr",
     "output_type": "stream",
     "text": [
      "A.L.E: Arcade Learning Environment (version 0.10.2+unknown)\n",
      "[Powered by Stella]\n",
      "Game console created:\n",
      "  ROM file:  /opt/miniconda3/envs/obl_taller_ia/lib/python3.12/site-packages/ale_py/roms/breakout.bin\n",
      "  Cart Name: Breakout - Breakaway IV (1978) (Atari)\n",
      "  Cart MD5:  f34f08e5eb96e500e851a80be3277a56\n",
      "  Display Format:  AUTO-DETECT ==> NTSC\n",
      "  ROM Size:        2048\n",
      "  Bankswitch Type: AUTO-DETECT ==> 2K\n",
      "\n",
      "Running ROM file...\n",
      "Random seed is 993706076\n"
     ]
    },
    {
     "data": {
      "image/png": "[encoded data removed]",
      "text/plain": [
       "<Figure size 640x480 with 1 Axes>"
      ]
     },
     "metadata": {},
     "output_type": "display_data"
    },
    {
     "data": {
      "image/png": "[encoded data removed]",
      "text/plain": [
       "<Figure size 640x480 with 1 Axes>"
      ]
     },
     "metadata": {},
     "output_type": "display_data"
    },
    {
     "data": {
      "image/png": "[encoded data removed]",
      "text/plain": [
       "<Figure size 640x480 with 1 Axes>"
      ]
     },
     "metadata": {},
     "output_type": "display_data"
    },
    {
     "data": {
      "image/png": "[encoded data removed]",
      "text/plain": [
       "<Figure size 640x480 with 1 Axes>"
      ]
     },
     "metadata": {},
     "output_type": "display_data"
    },
    {
     "name": "stdout",
     "output_type": "stream",
     "text": [
      "Episode 1 finished with total reward: 2\n"
     ]
    },
    {
     "name": "stderr",
     "output_type": "stream",
     "text": [
      "python(73213) MallocStackLogging: can't turn off malloc stack logging because it was not enabled.\n"
     ]
    }
   ],
   "source": [
    "# https://ale.farama.org/environments/breakout/\n",
    "ENV_NAME = \"ALE/Breakout-v5\" \n",
    "\n",
    "env = make_env(ENV_NAME,\n",
    "                video_folder='./videos/random',\n",
    "                name_prefix=\"breakout\",\n",
    "                record_every=1,\n",
    "                grayscale=GRAY_SCALE,\n",
    "                screen_size=SCREEN_SIZE,\n",
    "                stack_frames=NUM_STACKED_FRAMES,\n",
    "                skip_frames=SKIP_FRAMES\n",
    "                )\n",
    "\n",
    "for episode_num in range(1):\n",
    "    obs, info = env.reset()\n",
    "    show_observation_stack(obs)\n",
    "    reward_total = 0\n",
    "    episode_over = False\n",
    "    while not episode_over:\n",
    "        action = env.action_space.sample()  # seleccionamos una acción aleatoria\n",
    "        obs, reward, terminated, truncated, info = env.step(action)\n",
    "        reward_total += reward\n",
    "        episode_over = terminated or truncated\n",
    "    print(f\"Episode {episode_num + 1} finished with total reward: {reward_total}\")\n",
    "\n",
    "env.close()"
   ]
  },
  {
   "cell_type": "markdown",
   "metadata": {},
   "source": [
    "Además, podemos mostrar los videos capturados por el entorno de Atari de la siguiente manera:"
   ]
  },
  {
   "cell_type": "code",
   "execution_count": 151,
   "metadata": {},
   "outputs": [
    {
     "data": {
      "text/html": [
       "<video controls  width=\"600\" >\n",
       " <source src=\"data:video/mp4;base64,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\" type=\"video/mp4\">\n",
       " Your browser does not support the video tag.\n",
       " </video>"
      ],
      "text/plain": [
       "<IPython.core.display.Video object>"
      ]
     },
     "execution_count": 151,
     "metadata": {},
     "output_type": "execute_result"
    }
   ],
   "source": [
    "# Ruta al archivo de vídeo en tu sistema de ficheros\n",
    "video_path = \"./videos/random/breakout-episode-0.mp4\"\n",
    "\n",
    "# Muestra el vídeo\n",
    "Video(video_path, embed=True, width=600)"
   ]
  },
  {
   "cell_type": "markdown",
   "metadata": {
    "id": "2bYVG_TKt9I5"
   },
   "source": [
    "# Exploración del entorno"
   ]
  },
  {
   "cell_type": "code",
   "execution_count": 152,
   "metadata": {},
   "outputs": [
    {
     "name": "stdout",
     "output_type": "stream",
     "text": [
      "Actions shape: Discrete(4)\n",
      "Observation shape: (4, 84, 84)\n",
      "(4, 84, 84),\n",
      " 0,\n",
      " False,\n",
      " {'lives': 5, 'episode_frame_number': 12, 'frame_number': 869}\n"
     ]
    }
   ],
   "source": [
    "print(\"Actions shape:\",env.action_space)\n",
    "print(\"Observation shape:\",env.observation_space.shape)\n",
    "env.reset()\n",
    "next_state, reward, terminated, truncated, info = env.step(action=0)\n",
    "\n",
    "print(f\"{next_state.shape},\\n {reward},\\n {terminated},\\n {info}\")"
   ]
  },
  {
   "cell_type": "markdown",
   "metadata": {},
   "source": [
    "### Acciones\n",
    "..."
   ]
  },
  {
   "cell_type": "markdown",
   "metadata": {},
   "source": [
    "### Observaciones\n",
    "..."
   ]
  },
  {
   "cell_type": "markdown",
   "metadata": {
    "id": "XIHpwiaat9I7"
   },
   "source": [
    "# Deep Q Learning\n",
    "\n",
    "Deep Q Learning extiende el algoritmo clásico de Q-learning al emplear una **red neuronal profunda** como aproximador de la función de valor $Q(s,a)$. Inspirado en Mnih et al. (2013), este método utiliza una **red convolucional** para procesar directamente las imágenes del entorno Atari, un **replay buffer** para romper la correlación temporal de las muestras. La política sigue un esquema **ε-greedy**, balanceando exploración y explotación, y se entrena minimizando el error de la ecuación de Bellman sobre lotes de transiciones muestreadas de manera aleatoria.\n",
    "\n",
    "<p align=\"center\">\n",
    "  <img src=\"https://www.researchgate.net/profile/Faris-Mismar/publication/327045314/figure/fig4/AS:819677282455553@1572437701142/Structure-of-the-neural-network-used-for-the-Deep-Q-learning-Network-implementation-with.png\" alt=\"DQN\"/>\n",
    "</p>\n",
    "\n",
    "Fuente: [arXiv:1312.5602](https://arxiv.org/abs/1312.5602)"
   ]
  },
  {
   "cell_type": "markdown",
   "metadata": {
    "id": "ajTGajUftSgY",
    "pycharm": {
     "name": "#%% md\n"
    }
   },
   "source": [
    "## Memoria\n",
    "\n",
    "El algoritmo de Deep Q Learning presentado en el paper utiliza una memoria (llamada Replay Memory) para almacenar transiciones pasadas. Tuplas que contienen un estado base, la accion tomada, la recompensa obtenida, una bandera que indica si el siguiente estado es final o no; y el estado siguiente.\n",
    "\n",
    "Esta memoria es circular, es decir, tiene un límite maximo de elementos y una vez esté llena comienza a reemplazar los elementos más viejos.\n",
    "\n",
    "Vamos a necesitar crear una función **sample** que obtiene una mustra aleatoria de elementos de la memoria.  Esto puede ser una lista de Transiciones o listas separadas (pero alineadas) de los elementos que las componen.\n",
    "\n",
    "\n",
    "> Para implementar esta funcionalidad se debe modificar el archivo **replay_memory.py**"
   ]
  },
  {
   "cell_type": "code",
   "execution_count": 153,
   "metadata": {
    "id": "scPtpbz4tTAh",
    "outputId": "0890f48a-e673-4416-bd69-7dcf2730ba64",
    "pycharm": {
     "name": "#%%\n"
    }
   },
   "outputs": [
    {
     "name": "stdout",
     "output_type": "stream",
     "text": [
      "Memory size: 3\n",
      "\n",
      "Memory sample:\n",
      "Sample 0: Transition(state='state2', action='action2', reward='reward2', done='done2', next_state='next_state2')\n",
      "Sample 1: Transition(state='state4', action='action4', reward='reward4', done='done4', next_state='next_state4')\n"
     ]
    }
   ],
   "source": [
    "from replay_memory import ReplayMemory, Transition\n",
    "\n",
    "# Creamos la memoria de repetición\n",
    "replay_memory = ReplayMemory(3)\n",
    "\n",
    "# Añadimos transiciones a la memoria (solo las 3 últimas se guardan)\n",
    "replay_memory.add('state1', 'action1', 'reward1', 'done1', 'next_state1' )\n",
    "replay_memory.add('state2', 'action2', 'reward2', 'done2', 'next_state2')\n",
    "replay_memory.add('state3', 'action3', 'reward3', 'done3', 'next_state3')\n",
    "replay_memory.add('state4', 'action4', 'reward4', 'done4', 'next_state4')\n",
    "\n",
    "# Mostramos el tamaño de la memoria\n",
    "print(f\"Memory size: {len(replay_memory)}\\n\")\n",
    "\n",
    "# Mostramos un sample de la memoria\n",
    "sampled = replay_memory.sample(2)\n",
    "print(f\"Memory sample:\")\n",
    "for i, sample in enumerate(sampled):\n",
    "    print(f\"Sample {i}: {sample}\")\n"
   ]
  },
  {
   "cell_type": "markdown",
   "metadata": {
    "id": "j7Ygv5Mjtb-F",
    "pycharm": {
     "name": "#%% md\n"
    }
   },
   "source": [
    "## Modelo\n",
    "\n",
    "Vamos a usar un mismo modelo FeedForward para estos dos problemas (entrenado en cada problema particular). Recomendamos simplicidad en la creación del mismo, pero tienen total libertad al momento de implementarlo.\n",
    "\n",
    "> Para implementar esta funcionalidad se debe modificar el archivo **dqn_cnn_model.py**. Se recomienda empezar por una arquitectura simple como la que se muestra en el paper de Mnih et al. (2013) y luego experimentar con arquitecturas más complejas."
   ]
  },
  {
   "cell_type": "code",
   "execution_count": 154,
   "metadata": {
    "id": "bkNBvJB6ryp7",
    "pycharm": {
     "name": "#%%\n"
    }
   },
   "outputs": [
    {
     "name": "stdout",
     "output_type": "stream",
     "text": [
      "Actions shape: Discrete(4)\n",
      "Observatiion shape: (4, 84, 84)\n",
      "4 84 84\n",
      "conv1 20 20\n",
      "conv2 9 9\n",
      "Linear(in_features=256, out_features=4, bias=True)\n"
     ]
    },
    {
     "name": "stderr",
     "output_type": "stream",
     "text": [
      "A.L.E: Arcade Learning Environment (version 0.10.2+unknown)\n",
      "[Powered by Stella]\n",
      "Game console created:\n",
      "  ROM file:  /opt/miniconda3/envs/obl_taller_ia/lib/python3.12/site-packages/ale_py/roms/breakout.bin\n",
      "  Cart Name: Breakout - Breakaway IV (1978) (Atari)\n",
      "  Cart MD5:  f34f08e5eb96e500e851a80be3277a56\n",
      "  Display Format:  AUTO-DETECT ==> NTSC\n",
      "  ROM Size:        2048\n",
      "  Bankswitch Type: AUTO-DETECT ==> 2K\n",
      "\n",
      "Running ROM file...\n",
      "Random seed is 1675210582\n"
     ]
    },
    {
     "name": "stdout",
     "output_type": "stream",
     "text": [
      " obs.shape = torch.Size([32, 4, 84, 84])\n",
      " x.shape = torch.Size([32, 16, 20, 20])\n",
      " x.shape = torch.Size([32, 32, 9, 9])\n",
      " x.shape = torch.Size([32, 32, 9, 9])\n",
      " x.shape = torch.Size([32, 2592])\n",
      " x.shape = torch.Size([32, 256])\n"
     ]
    },
    {
     "data": {
      "text/plain": [
       "==========================================================================================\n",
       "Layer (type:depth-idx)                   Output Shape              Param #\n",
       "==========================================================================================\n",
       "DQN_CNN_Model                            [32, 4]                   --\n",
       "├─Conv2d: 1-1                            [32, 16, 20, 20]          4,112\n",
       "├─Conv2d: 1-2                            [32, 32, 9, 9]            8,224\n",
       "├─Linear: 1-3                            [32, 256]                 663,808\n",
       "├─Linear: 1-4                            [32, 4]                   1,028\n",
       "==========================================================================================\n",
       "Total params: 677,172\n",
       "Trainable params: 677,172\n",
       "Non-trainable params: 0\n",
       "Total mult-adds (Units.MEGABYTES): 95.22\n",
       "==========================================================================================\n",
       "Input size (MB): 3.61\n",
       "Forward/backward pass size (MB): 2.37\n",
       "Params size (MB): 2.71\n",
       "Estimated Total Size (MB): 8.69\n",
       "=========================================================================================="
      ]
     },
     "execution_count": 154,
     "metadata": {},
     "output_type": "execute_result"
    }
   ],
   "source": [
    "from dqn_cnn_model import DQN_CNN_Model\n",
    "\n",
    "env = make_env(ENV_NAME,\n",
    "                record_every=None,\n",
    "                grayscale=GRAY_SCALE,\n",
    "                screen_size=SCREEN_SIZE,\n",
    "                stack_frames=NUM_STACKED_FRAMES,\n",
    "                skip_frames=SKIP_FRAMES\n",
    "                )\n",
    "print(\"Actions shape:\",env.action_space)\n",
    "print(\"Observatiion shape:\",env.observation_space.shape)\n",
    "\n",
    "env.close()\n",
    "\n",
    "cnn_model = DQN_CNN_Model(env.observation_space.shape, env.action_space.n).to(DEVICE)\n",
    "summary(cnn_model, input_size=(32, SKIP_FRAMES, SCREEN_SIZE, SCREEN_SIZE), device=DEVICE) # 32 es el batch size"
   ]
  },
  {
   "cell_type": "markdown",
   "metadata": {},
   "source": [
    "La red esta definida para que reciba un tensor de 4 dimensiones (batch_size, num_frames, height, width) y devuelve un tensor de 2 dimensiones (batch_size, num_actions). La función `forward` es la encargada de definir el flujo de datos a través de la red. En este caso, se utiliza una red convolucional seguida de capas totalmente conectadas"
   ]
  },
  {
   "cell_type": "code",
   "execution_count": 155,
   "metadata": {},
   "outputs": [
    {
     "name": "stdout",
     "output_type": "stream",
     "text": [
      " obs.shape = torch.Size([1, 4, 84, 84])\n",
      " x.shape = torch.Size([1, 16, 20, 20])\n",
      " x.shape = torch.Size([1, 32, 9, 9])\n",
      " x.shape = torch.Size([1, 32, 9, 9])\n",
      " x.shape = torch.Size([1, 2592])\n",
      " x.shape = torch.Size([1, 256])\n",
      "Q-values shape: torch.Size([1, 4])\n"
     ]
    }
   ],
   "source": [
    "obs_tensor_batch = torch.rand((NUM_STACKED_FRAMES,SCREEN_SIZE,SCREEN_SIZE)).unsqueeze(0).to(DEVICE) # Añadimos una dimensión para el batch y lo pasamos al dispositivo\n",
    "print(f\"Q-values shape: {cnn_model(obs_tensor_batch).shape}\") # shape: (1, num_actions) "
   ]
  },
  {
   "cell_type": "markdown",
   "metadata": {},
   "source": [
    "Los valores de Q se obtienen a partir de la salida de la red, cada columna representa el valor Q para cada acción posible en el estado actual. "
   ]
  },
  {
   "cell_type": "code",
   "execution_count": 156,
   "metadata": {},
   "outputs": [
    {
     "name": "stdout",
     "output_type": "stream",
     "text": [
      " obs.shape = torch.Size([1, 4, 84, 84])\n",
      " x.shape = torch.Size([1, 16, 20, 20])\n",
      " x.shape = torch.Size([1, 32, 9, 9])\n",
      " x.shape = torch.Size([1, 32, 9, 9])\n",
      " x.shape = torch.Size([1, 2592])\n",
      " x.shape = torch.Size([1, 256])\n"
     ]
    },
    {
     "data": {
      "text/plain": [
       "tensor([[-0.0188,  0.0008,  0.0328,  0.0380]], device='mps:0',\n",
       "       grad_fn=<LinearBackward0>)"
      ]
     },
     "execution_count": 156,
     "metadata": {},
     "output_type": "execute_result"
    }
   ],
   "source": [
    "cnn_model(obs_tensor_batch) "
   ]
  },
  {
   "cell_type": "markdown",
   "metadata": {},
   "source": [
    "Podemos preguntar cuál es la acción con mayor valor Q en un estado."
   ]
  },
  {
   "cell_type": "code",
   "execution_count": 157,
   "metadata": {},
   "outputs": [
    {
     "name": "stdout",
     "output_type": "stream",
     "text": [
      " obs.shape = torch.Size([1, 4, 84, 84])\n",
      " x.shape = torch.Size([1, 16, 20, 20])\n",
      " x.shape = torch.Size([1, 32, 9, 9])\n",
      " x.shape = torch.Size([1, 32, 9, 9])\n",
      " x.shape = torch.Size([1, 2592])\n",
      " x.shape = torch.Size([1, 256])\n"
     ]
    },
    {
     "data": {
      "text/plain": [
       "torch.return_types.max(\n",
       "values=tensor([0.0380], device='mps:0', grad_fn=<MaxBackward0>),\n",
       "indices=tensor([3], device='mps:0'))"
      ]
     },
     "execution_count": 157,
     "metadata": {},
     "output_type": "execute_result"
    }
   ],
   "source": [
    "cnn_model(obs_tensor_batch).max(1)"
   ]
  },
  {
   "cell_type": "markdown",
   "metadata": {},
   "source": [
    "En el siguiente ejemplo vamos a ver cómo tomar los valores de acciones deseables para un conjunto de estados. "
   ]
  },
  {
   "cell_type": "code",
   "execution_count": 158,
   "metadata": {},
   "outputs": [
    {
     "name": "stdout",
     "output_type": "stream",
     "text": [
      "Batch shape: torch.Size([3, 4, 84, 84])\n",
      " obs.shape = torch.Size([3, 4, 84, 84])\n",
      " x.shape = torch.Size([3, 16, 20, 20])\n",
      " x.shape = torch.Size([3, 32, 9, 9])\n",
      " x.shape = torch.Size([3, 32, 9, 9])\n",
      " x.shape = torch.Size([3, 2592])\n",
      " x.shape = torch.Size([3, 256])\n",
      "Q-values: tensor([[-0.0399,  0.0014,  0.0332,  0.0316],\n",
      "        [-0.0319,  0.0112,  0.0292,  0.0156],\n",
      "        [-0.0356,  0.0033,  0.0296,  0.0224]], device='mps:0',\n",
      "       grad_fn=<LinearBackward0>)\n",
      "Q-values: tensor([[0.0014],\n",
      "        [0.0292],\n",
      "        [0.0224]], device='mps:0', grad_fn=<GatherBackward0>)\n"
     ]
    }
   ],
   "source": [
    "# Creamos 3 observaciones aleatorias para probar el modelo\n",
    "obs_ran1 = torch.rand(4, 84, 84)\n",
    "obs_ran2 = torch.rand(4, 84, 84)\n",
    "obs_ran3 = torch.rand(4, 84, 84)\n",
    "\n",
    "batch = torch.stack([obs_ran1, obs_ran2, obs_ran3], dim=0).to(DEVICE) # shape: (3, 4, 84, 84)\n",
    "print(f\"Batch shape: {batch.shape}\")\n",
    "\n",
    "actions =  torch.tensor([1, 2, 3], device=DEVICE).unsqueeze(1) # queremos la acción 1 para la primera observación, la acción 2 para la segunda y la acción 3 para la tercera\n",
    "\n",
    "Q_test = cnn_model(batch)\n",
    "print(f\"Q-values: {Q_test}\")\n",
    "print(f\"Q-values: {Q_test.gather(1, actions)}\") # https://pytorch.org/docs/main/generated/torch.gather.html"
   ]
  },
  {
   "cell_type": "markdown",
   "metadata": {},
   "source": [
    "## Phi \n",
    "\n",
    "La función para procesar los estados (phi en el paper) que es necesaria para poder usar el modelo de Pytorch con las representaciones de gym. Esta función pasa una observación de gym a un tensor de Pytorch y la normaliza.\n",
    "\n",
    "> Técnicamente la función phi tiene más responsabilidades, como la de apilar los frames y el downsampling. En nuestro caso se lo delegamos a los wrappers de gymnasium."
   ]
  },
  {
   "cell_type": "code",
   "execution_count": 159,
   "metadata": {
    "id": "oegpMg25t9I9",
    "pycharm": {
     "name": "#%%\n"
    }
   },
   "outputs": [
    {
     "name": "stdout",
     "output_type": "stream",
     "text": [
      "Observation shape: torch.Size([4, 84, 84])\n"
     ]
    }
   ],
   "source": [
    "def process_state(obs):\n",
    "    \"\"\"\n",
    "    Preprocess the state to be used as input for the model (transform to tensor).\n",
    "    \"\"\"\n",
    "    return torch.tensor(obs, dtype=torch.float32, device=DEVICE) / 255.0\n",
    "\n",
    "obs, _ = env.reset()\n",
    "obs_tensor = process_state(obs)\n",
    "print(f\"Observation shape: {obs_tensor.shape}\")"
   ]
  },
  {
   "cell_type": "markdown",
   "metadata": {
    "id": "z9B7ZY9Htj_F",
    "pycharm": {
     "name": "#%% md\n"
    }
   },
   "source": [
    "## Agente\n",
    "\n",
    "Vamos a definir una clase agente (abstracto), encargado de interactuar con el ambiente y entrenar los modelos. Los métdos definidos deben funcionar para ambos problemas simplemente cambiando el modelo a utilizar para cada ambiente.\n",
    "\n",
    "Abajo dejamos un esqueleto del mismo y las funciones a completar. Recomendamos no alterar la estructura del mismo, pero pueden definir las funciones auxiliares que consideren necesarias.\n",
    "\n",
    "> Para implementar esta funcionalidad se debe modificar los archivos **abstract_agent.py** y **dqn_agent.py**.\n",
    "\n",
    "Funciones a completar:\n",
    "\n",
    "\n",
    "1. **init**: que inicializa los parametros del agente.\n",
    "\n",
    "2. **compute_epsilon**: que computa el valor actual de epsilon en base al número de pasos actuales y si esta entrenando o no.\n",
    "\n",
    "3. **select_action**: Seleccionando acciones \"epsilongreedy-mente\" si estamos entranando y completamente greedy en otro caso.\n",
    "\n",
    "4. **train**: que entrena el agente por un número dado de episodios de largo determinado.\n",
    "\n",
    "5. **record_test_episode**: para grabar un episodio con el agente siempre seleccionando la mejor accion conocida."
   ]
  },
  {
   "cell_type": "markdown",
   "metadata": {
    "id": "BOD-ENZRtyMt",
    "pycharm": {
     "name": "#%% md\n"
    }
   },
   "source": [
    "## Entrenamiento"
   ]
  },
  {
   "cell_type": "code",
   "execution_count": 160,
   "metadata": {},
   "outputs": [],
   "source": [
    "#Hiperparámetros de entrenamiento del agente DQN\n",
    "# TOTAL_STEPS = 10_000_000\n",
    "TOTAL_STEPS = 2_500_000\n",
    "EPISODES = 10_000\n",
    "STEPS_PER_EPISODE = 20_000\n",
    "\n",
    "EPSILON_INI = 1\n",
    "EPSILON_MIN = 0.05\n",
    "# EPSILON_ANNEAL_STEPS = 1_000_000\n",
    "EPSILON_ANNEAL_STEPS = 1_000_000\n",
    "\n",
    "EPISODE_BLOCK = 100\n",
    "\n",
    "BATCH_SIZE = 32\n",
    "BUFFER_SIZE = 50_000\n",
    "\n",
    "GAMMA = 0.995\n",
    "LEARNING_RATE = 1e-5"
   ]
  },
  {
   "cell_type": "code",
   "execution_count": 161,
   "metadata": {},
   "outputs": [
    {
     "name": "stderr",
     "output_type": "stream",
     "text": [
      "A.L.E: Arcade Learning Environment (version 0.10.2+unknown)\n",
      "[Powered by Stella]\n",
      "Game console created:\n",
      "  ROM file:  /opt/miniconda3/envs/obl_taller_ia/lib/python3.12/site-packages/ale_py/roms/breakout.bin\n",
      "  Cart Name: Breakout - Breakaway IV (1978) (Atari)\n",
      "  Cart MD5:  f34f08e5eb96e500e851a80be3277a56\n",
      "  Display Format:  AUTO-DETECT ==> NTSC\n",
      "  ROM Size:        2048\n",
      "  Bankswitch Type: AUTO-DETECT ==> 2K\n",
      "\n",
      "Running ROM file...\n",
      "Random seed is -420818835\n"
     ]
    }
   ],
   "source": [
    "env = make_env(ENV_NAME,\n",
    "                video_folder='./videos/dqn_training',\n",
    "                name_prefix=\"breakout\",\n",
    "                record_every=500,\n",
    "                grayscale=GRAY_SCALE,\n",
    "                screen_size=SCREEN_SIZE,\n",
    "                stack_frames=NUM_STACKED_FRAMES,\n",
    "                skip_frames=SKIP_FRAMES\n",
    "                )"
   ]
  },
  {
   "cell_type": "code",
   "execution_count": 162,
   "metadata": {},
   "outputs": [],
   "source": [
    "import importlib\n",
    "import replay_memory  # or whatever module you changed\n",
    "import dqn_cnn_model\n",
    "import dqn_agent\n",
    "import abstract_agent\n",
    "importlib.reload(replay_memory)\n",
    "importlib.reload(dqn_cnn_model)\n",
    "importlib.reload(dqn_agent)\n",
    "importlib.reload(abstract_agent)\n",
    "from dqn_cnn_model import DQN_CNN_Model\n",
    "from dqn_agent import DQNAgent\n",
    "\n",
    "from abstract_agent import Agent"
   ]
  },
  {
   "cell_type": "code",
   "execution_count": 163,
   "metadata": {},
   "outputs": [
    {
     "name": "stdout",
     "output_type": "stream",
     "text": [
      "Output shape before conv1: (84, 84)\n",
      "Output shape after conv1: (20, 20)\n",
      "Output shape after conv2: (9, 9)\n"
     ]
    }
   ],
   "source": [
    "net = DQN_CNN_Model(env.observation_space.shape, env.action_space.n).to(DEVICE)"
   ]
  },
  {
   "cell_type": "code",
   "execution_count": 164,
   "metadata": {},
   "outputs": [],
   "source": [
    "dqn_agent = DQNAgent(env, net, process_state, BUFFER_SIZE, BATCH_SIZE, LEARNING_RATE, GAMMA, epsilon_i=EPSILON_INI, epsilon_f=EPSILON_MIN, epsilon_anneal_steps=EPSILON_ANNEAL_STEPS, episode_block=EPISODE_BLOCK, device=DEVICE)"
   ]
  },
  {
   "cell_type": "code",
   "execution_count": 165,
   "metadata": {
    "id": "BsTl-pFqt10b",
    "pycharm": {
     "name": "#%%\n"
    }
   },
   "outputs": [
    {
     "name": "stderr",
     "output_type": "stream",
     "text": [
      "Entrenando:   0%|          | 1/10000 [00:01<5:14:43,  1.89s/episode, reward=0, epsilon=1, steps=126]python(73221) MallocStackLogging: can't turn off malloc stack logging because it was not enabled.\n",
      "Entrenando:   0%|          | 6/10000 [00:10<4:26:38,  1.60s/episode, reward=1, epsilon=0.999, steps=1052]  /Users/nataliacampigliastemphelet/master/obligatorio-taller-ia/dqn_agent.py:70: UserWarning: To copy construct from a tensor, it is recommended to use sourceTensor.detach().clone() or sourceTensor.detach().clone().requires_grad_(True), rather than torch.tensor(sourceTensor).\n",
      "  dones = torch.FloatTensor(batch.done).unsqueeze(1).to(self.device)\n",
      "Entrenando:   1%|          | 61/10000 [46:34<126:28:50, 45.81s/episode, reward=1.39, epsilon=0.989, steps=11671] \n"
     ]
    },
    {
     "ename": "KeyboardInterrupt",
     "evalue": "",
     "output_type": "error",
     "traceback": [
      "\u001b[31m---------------------------------------------------------------------------\u001b[39m",
      "\u001b[31mKeyboardInterrupt\u001b[39m                         Traceback (most recent call last)",
      "\u001b[36mCell\u001b[39m\u001b[36m \u001b[39m\u001b[32mIn[165]\u001b[39m\u001b[32m, line 1\u001b[39m\n\u001b[32m----> \u001b[39m\u001b[32m1\u001b[39m dqn_rewards = \u001b[43mdqn_agent\u001b[49m\u001b[43m.\u001b[49m\u001b[43mtrain\u001b[49m\u001b[43m(\u001b[49m\u001b[43mEPISODES\u001b[49m\u001b[43m,\u001b[49m\u001b[43m \u001b[49m\u001b[43mSTEPS_PER_EPISODE\u001b[49m\u001b[43m,\u001b[49m\u001b[43m \u001b[49m\u001b[43mTOTAL_STEPS\u001b[49m\u001b[43m)\u001b[49m\n\u001b[32m      3\u001b[39m env.close()\n",
      "\u001b[36mFile \u001b[39m\u001b[32m~/master/obligatorio-taller-ia/abstract_agent.py:77\u001b[39m, in \u001b[36mtrain\u001b[39m\u001b[34m(self, number_episodes, max_steps_episode, max_steps)\u001b[39m\n\u001b[32m      0\u001b[39m <Error retrieving source code with stack_data see ipython/ipython#13598>\n",
      "\u001b[36mFile \u001b[39m\u001b[32m~/master/obligatorio-taller-ia/dqn_agent.py:107\u001b[39m, in \u001b[36mDQNAgent.update_weights\u001b[39m\u001b[34m(self)\u001b[39m\n\u001b[32m    104\u001b[39m q_current = \u001b[38;5;28mself\u001b[39m.policy_net(states).gather(\u001b[32m1\u001b[39m, actions)\n\u001b[32m    106\u001b[39m \u001b[38;5;66;03m# 4) Con torch.no_grad(): calcular max_q_next_state = policy_net(next_states).max(dim=1)[0] * (1 - dones)\u001b[39;00m\n\u001b[32m--> \u001b[39m\u001b[32m107\u001b[39m \u001b[43m\u001b[49m\u001b[38;5;28;43;01mwith\u001b[39;49;00m\u001b[43m \u001b[49m\u001b[43mtorch\u001b[49m\u001b[43m.\u001b[49m\u001b[43mno_grad\u001b[49m\u001b[43m(\u001b[49m\u001b[43m)\u001b[49m\u001b[43m:\u001b[49m\n\u001b[32m    108\u001b[39m \u001b[43m    \u001b[49m\u001b[43mmax_q_next_state\u001b[49m\u001b[43m \u001b[49m\u001b[43m=\u001b[49m\u001b[43m \u001b[49m\u001b[38;5;28;43mself\u001b[39;49m\u001b[43m.\u001b[49m\u001b[43mpolicy_net\u001b[49m\u001b[43m(\u001b[49m\u001b[43mnext_states\u001b[49m\u001b[43m)\u001b[49m\u001b[43m.\u001b[49m\u001b[43mmax\u001b[49m\u001b[43m(\u001b[49m\u001b[43mdim\u001b[49m\u001b[43m=\u001b[49m\u001b[32;43m1\u001b[39;49m\u001b[43m,\u001b[49m\u001b[43m \u001b[49m\u001b[43mkeepdim\u001b[49m\u001b[43m=\u001b[49m\u001b[38;5;28;43;01mTrue\u001b[39;49;00m\u001b[43m)\u001b[49m\u001b[43m[\u001b[49m\u001b[32;43m0\u001b[39;49m\u001b[43m]\u001b[49m\u001b[43m \u001b[49m\u001b[43m*\u001b[49m\u001b[43m \u001b[49m\u001b[43m(\u001b[49m\u001b[32;43m1\u001b[39;49m\u001b[43m \u001b[49m\u001b[43m-\u001b[49m\u001b[43m \u001b[49m\u001b[43mdones\u001b[49m\u001b[43m)\u001b[49m\n\u001b[32m    109\u001b[39m \u001b[43m    \u001b[49m\u001b[38;5;66;43;03m# 5) Calcular target = rewards + gamma * max_q_next_state\u001b[39;49;00m\n\u001b[32m    110\u001b[39m \u001b[43m    \u001b[49m\u001b[38;5;66;43;03m# q_target = rewards + self.gamma * max_q_next_state * (1 - dones)\u001b[39;49;00m\n\u001b[32m    111\u001b[39m \u001b[43m    \u001b[49m\u001b[38;5;66;43;03m#q_target = rewards + self.gamma * max_q_next_state\u001b[39;49;00m\n",
      "\u001b[36mFile \u001b[39m\u001b[32m/opt/miniconda3/envs/obl_taller_ia/lib/python3.12/site-packages/torch/autograd/grad_mode.py:84\u001b[39m, in \u001b[36mno_grad.__exit__\u001b[39m\u001b[34m(self, exc_type, exc_value, traceback)\u001b[39m\n\u001b[32m     81\u001b[39m     \u001b[38;5;28mself\u001b[39m.prev = torch.is_grad_enabled()\n\u001b[32m     82\u001b[39m     torch.set_grad_enabled(\u001b[38;5;28;01mFalse\u001b[39;00m)\n\u001b[32m---> \u001b[39m\u001b[32m84\u001b[39m \u001b[38;5;28;01mdef\u001b[39;00m\u001b[38;5;250m \u001b[39m\u001b[34m__exit__\u001b[39m(\u001b[38;5;28mself\u001b[39m, exc_type: Any, exc_value: Any, traceback: Any) -> \u001b[38;5;28;01mNone\u001b[39;00m:\n\u001b[32m     85\u001b[39m     torch.set_grad_enabled(\u001b[38;5;28mself\u001b[39m.prev)\n",
      "\u001b[31mKeyboardInterrupt\u001b[39m: "
     ]
    }
   ],
   "source": [
    "dqn_rewards = dqn_agent.train(EPISODES, STEPS_PER_EPISODE, TOTAL_STEPS)\n",
    "\n",
    "env.close()"
   ]
  },
  {
   "cell_type": "code",
   "execution_count": null,
   "metadata": {},
   "outputs": [
    {
     "name": "stderr",
     "output_type": "stream",
     "text": [
      "c:\\Users\\Octav\\anaconda3\\envs\\obl_taller_ia\\Lib\\site-packages\\gymnasium\\wrappers\\rendering.py:283: UserWarning: \u001b[33mWARN: Overwriting existing videos at c:\\Users\\Octav\\postgrado\\taller ia\\obligatorio\\git\\obligatorio-taller-ia\\videos\\dqn_validation folder (try specifying a different `video_folder` for the `RecordVideo` wrapper if this is not desired)\u001b[0m\n",
      "  logger.warn(\n"
     ]
    }
   ],
   "source": [
    "env = make_env(ENV_NAME,\n",
    "                video_folder='./videos/dqn_validation',\n",
    "                name_prefix=\"breakout\",\n",
    "                record_every=1,\n",
    "                grayscale=GRAY_SCALE,\n",
    "                screen_size=SCREEN_SIZE,\n",
    "                stack_frames=NUM_STACKED_FRAMES,\n",
    "                skip_frames=SKIP_FRAMES\n",
    "                )\n",
    "\n"
   ]
  },
  {
   "cell_type": "code",
   "execution_count": null,
   "metadata": {},
   "outputs": [],
   "source": [
    "dqn_agent.play(env, episodes=1)\n",
    "\n",
    "env.close()"
   ]
  },
  {
   "cell_type": "code",
   "execution_count": null,
   "metadata": {},
   "outputs": [
    {
     "data": {
      "text/html": [
       "<video controls  width=\"600\" >\n",
       " <source src=\"data:video/mp4;base64,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\" type=\"video/mp4\">\n",
       " Your browser does not support the video tag.\n",
       " </video>"
      ],
      "text/plain": [
       "<IPython.core.display.Video object>"
      ]
     },
     "execution_count": 25,
     "metadata": {},
     "output_type": "execute_result"
    }
   ],
   "source": [
    "# Ruta al archivo de vídeo en tu sistema de ficheros\n",
    "video_path = \"./videos/dqn_validation/breakout-episode-0.mp4\"\n",
    "\n",
    "# Muestra el vídeo\n",
    "Video(video_path, embed=True, width=600)"
   ]
  },
  {
   "cell_type": "markdown",
   "metadata": {},
   "source": [
    "#### Graficas \n",
    "..."
   ]
  },
  {
   "cell_type": "markdown",
   "metadata": {
    "id": "QETh1K7pt9I_"
   },
   "source": [
    "# Double Deep Q Learning\n",
    "\n",
    "Double DQN mejora la versión clásica de DQN corrigiendo el sesgo de sobreestimación de los valores \n",
    "𝑄\n",
    "Q. Para ello, desacopla la selección de la acción de su evaluación: en cada paso, la red online elige la acción que maximiza \n",
    "𝑄\n",
    "Q, pero la red objetivo distinta estima el valor de esa acción. Esta separación reduce el sesgo hacia valores demasiado optimistas y aporta mayor estabilidad al entrenamiento. El resto de la estructura —replay buffer, política ε-greedy, etc— se mantiene igual que en DQN, aprovechando así un diseño casi idéntico al original pero con resultados más fiables .\n",
    "\n",
    "Fuente: [arXiv:1509.06461](https://arxiv.org/abs/1509.06461)\n",
    "\n",
    "> Vamos a utilizar el mismo modelo de red neuronal creado para el problema anterior y la misma implementación de memoria, dejamos un esqueleto de un agente de Double Deep Q learning para completar en el archivo **double_dqn_agent.py**"
   ]
  },
  {
   "cell_type": "code",
   "execution_count": null,
   "metadata": {
    "id": "kDNkAtdMt9I_",
    "pycharm": {
     "name": "#%%\n"
    }
   },
   "outputs": [
    {
     "name": "stdout",
     "output_type": "stream",
     "text": [
      "Output shape before conv1: (84, 84)\n",
      "Output shape after conv1: (20, 20)\n",
      "Output shape after conv2: (9, 9)\n",
      "Output shape before conv1: (84, 84)\n",
      "Output shape after conv1: (20, 20)\n",
      "Output shape after conv2: (9, 9)\n"
     ]
    },
    {
     "name": "stderr",
     "output_type": "stream",
     "text": [
      "Entrenando:   0%|          | 0/10000 [00:00<?, ?episode/s]\n"
     ]
    },
    {
     "ename": "TypeError",
     "evalue": "list indices must be integers or slices, not NoneType",
     "output_type": "error",
     "traceback": [
      "\u001b[31m---------------------------------------------------------------------------\u001b[39m",
      "\u001b[31mTypeError\u001b[39m                                 Traceback (most recent call last)",
      "\u001b[36mCell\u001b[39m\u001b[36m \u001b[39m\u001b[32mIn[26]\u001b[39m\u001b[32m, line 19\u001b[39m\n\u001b[32m     15\u001b[39m modelo_b = DQN_CNN_Model(env.observation_space.shape, env.action_space.n).to(DEVICE)\n\u001b[32m     17\u001b[39m ddqn_agent = DoubleDQNAgent(env, modelo_a, modelo_b, process_state, BUFFER_SIZE, BATCH_SIZE, LEARNING_RATE, GAMMA, epsilon_i= EPSILON_INI, epsilon_f=EPSILON_MIN, epsilon_anneal_steps=EPSILON_ANNEAL_STEPS, episode_block = EPISODE_BLOCK, device=DEVICE)\n\u001b[32m---> \u001b[39m\u001b[32m19\u001b[39m ddqn_rewards = \u001b[43mddqn_agent\u001b[49m\u001b[43m.\u001b[49m\u001b[43mtrain\u001b[49m\u001b[43m(\u001b[49m\u001b[43mEPISODES\u001b[49m\u001b[43m,\u001b[49m\u001b[43m \u001b[49m\u001b[43mSTEPS_PER_EPISODE\u001b[49m\u001b[43m,\u001b[49m\u001b[43m \u001b[49m\u001b[43mTOTAL_STEPS\u001b[49m\u001b[43m)\u001b[49m\n",
      "\u001b[36mFile \u001b[39m\u001b[32mc:\\Users\\Octav\\postgrado\\taller ia\\obligatorio\\git\\obligatorio-taller-ia\\abstract_agent.py:62\u001b[39m, in \u001b[36mAgent.train\u001b[39m\u001b[34m(self, number_episodes, max_steps_episode, max_steps)\u001b[39m\n\u001b[32m     59\u001b[39m action = \u001b[38;5;28mself\u001b[39m.select_action(state_phi, total_steps, train=\u001b[38;5;28;01mTrue\u001b[39;00m)\n\u001b[32m     61\u001b[39m \u001b[38;5;66;03m# Ejecutar action = env.step(action)\u001b[39;00m\n\u001b[32m---> \u001b[39m\u001b[32m62\u001b[39m next_state, reward, done, _, _, = \u001b[38;5;28;43mself\u001b[39;49m\u001b[43m.\u001b[49m\u001b[43menv\u001b[49m\u001b[43m.\u001b[49m\u001b[43mstep\u001b[49m\u001b[43m(\u001b[49m\u001b[43maction\u001b[49m\u001b[43m)\u001b[49m\n\u001b[32m     64\u001b[39m \u001b[38;5;66;03m# Procesar next_state con state_processing_function\u001b[39;00m\n\u001b[32m     65\u001b[39m next_state_phi = \u001b[38;5;28mself\u001b[39m.state_processing_function(next_state)\n",
      "\u001b[36mFile \u001b[39m\u001b[32mc:\\Users\\Octav\\anaconda3\\envs\\obl_taller_ia\\Lib\\site-packages\\gymnasium\\core.py:585\u001b[39m, in \u001b[36mRewardWrapper.step\u001b[39m\u001b[34m(self, action)\u001b[39m\n\u001b[32m    581\u001b[39m \u001b[38;5;28;01mdef\u001b[39;00m\u001b[38;5;250m \u001b[39m\u001b[34mstep\u001b[39m(\n\u001b[32m    582\u001b[39m     \u001b[38;5;28mself\u001b[39m, action: ActType\n\u001b[32m    583\u001b[39m ) -> \u001b[38;5;28mtuple\u001b[39m[ObsType, SupportsFloat, \u001b[38;5;28mbool\u001b[39m, \u001b[38;5;28mbool\u001b[39m, \u001b[38;5;28mdict\u001b[39m[\u001b[38;5;28mstr\u001b[39m, Any]]:\n\u001b[32m    584\u001b[39m \u001b[38;5;250m    \u001b[39m\u001b[33;03m\"\"\"Modifies the :attr:`env` :meth:`step` reward using :meth:`self.reward`.\"\"\"\u001b[39;00m\n\u001b[32m--> \u001b[39m\u001b[32m585\u001b[39m     observation, reward, terminated, truncated, info = \u001b[38;5;28;43mself\u001b[39;49m\u001b[43m.\u001b[49m\u001b[43menv\u001b[49m\u001b[43m.\u001b[49m\u001b[43mstep\u001b[49m\u001b[43m(\u001b[49m\u001b[43maction\u001b[49m\u001b[43m)\u001b[49m\n\u001b[32m    586\u001b[39m     \u001b[38;5;28;01mreturn\u001b[39;00m observation, \u001b[38;5;28mself\u001b[39m.reward(reward), terminated, truncated, info\n",
      "\u001b[36mFile \u001b[39m\u001b[32mc:\\Users\\Octav\\anaconda3\\envs\\obl_taller_ia\\Lib\\site-packages\\gymnasium\\wrappers\\stateful_observation.py:416\u001b[39m, in \u001b[36mFrameStackObservation.step\u001b[39m\u001b[34m(self, action)\u001b[39m\n\u001b[32m    405\u001b[39m \u001b[38;5;28;01mdef\u001b[39;00m\u001b[38;5;250m \u001b[39m\u001b[34mstep\u001b[39m(\n\u001b[32m    406\u001b[39m     \u001b[38;5;28mself\u001b[39m, action: WrapperActType\n\u001b[32m    407\u001b[39m ) -> \u001b[38;5;28mtuple\u001b[39m[WrapperObsType, SupportsFloat, \u001b[38;5;28mbool\u001b[39m, \u001b[38;5;28mbool\u001b[39m, \u001b[38;5;28mdict\u001b[39m[\u001b[38;5;28mstr\u001b[39m, Any]]:\n\u001b[32m    408\u001b[39m \u001b[38;5;250m    \u001b[39m\u001b[33;03m\"\"\"Steps through the environment, appending the observation to the frame buffer.\u001b[39;00m\n\u001b[32m    409\u001b[39m \n\u001b[32m    410\u001b[39m \u001b[33;03m    Args:\u001b[39;00m\n\u001b[32m   (...)\u001b[39m\u001b[32m    414\u001b[39m \u001b[33;03m        Stacked observations, reward, terminated, truncated, and info from the environment\u001b[39;00m\n\u001b[32m    415\u001b[39m \u001b[33;03m    \"\"\"\u001b[39;00m\n\u001b[32m--> \u001b[39m\u001b[32m416\u001b[39m     obs, reward, terminated, truncated, info = \u001b[38;5;28;43mself\u001b[39;49m\u001b[43m.\u001b[49m\u001b[43menv\u001b[49m\u001b[43m.\u001b[49m\u001b[43mstep\u001b[49m\u001b[43m(\u001b[49m\u001b[43maction\u001b[49m\u001b[43m)\u001b[49m\n\u001b[32m    417\u001b[39m     \u001b[38;5;28mself\u001b[39m.obs_queue.append(obs)\n\u001b[32m    419\u001b[39m     updated_obs = deepcopy(\n\u001b[32m    420\u001b[39m         concatenate(\u001b[38;5;28mself\u001b[39m.env.observation_space, \u001b[38;5;28mself\u001b[39m.obs_queue, \u001b[38;5;28mself\u001b[39m.stacked_obs)\n\u001b[32m    421\u001b[39m     )\n",
      "\u001b[36mFile \u001b[39m\u001b[32mc:\\Users\\Octav\\anaconda3\\envs\\obl_taller_ia\\Lib\\site-packages\\gymnasium\\wrappers\\atari_preprocessing.py:162\u001b[39m, in \u001b[36mAtariPreprocessing.step\u001b[39m\u001b[34m(self, action)\u001b[39m\n\u001b[32m    159\u001b[39m total_reward, terminated, truncated, info = \u001b[32m0.0\u001b[39m, \u001b[38;5;28;01mFalse\u001b[39;00m, \u001b[38;5;28;01mFalse\u001b[39;00m, {}\n\u001b[32m    161\u001b[39m \u001b[38;5;28;01mfor\u001b[39;00m t \u001b[38;5;129;01min\u001b[39;00m \u001b[38;5;28mrange\u001b[39m(\u001b[38;5;28mself\u001b[39m.frame_skip):\n\u001b[32m--> \u001b[39m\u001b[32m162\u001b[39m     _, reward, terminated, truncated, info = \u001b[38;5;28;43mself\u001b[39;49m\u001b[43m.\u001b[49m\u001b[43menv\u001b[49m\u001b[43m.\u001b[49m\u001b[43mstep\u001b[49m\u001b[43m(\u001b[49m\u001b[43maction\u001b[49m\u001b[43m)\u001b[49m\n\u001b[32m    163\u001b[39m     total_reward += reward\n\u001b[32m    164\u001b[39m     \u001b[38;5;28mself\u001b[39m.game_over = terminated\n",
      "\u001b[36mFile \u001b[39m\u001b[32mc:\\Users\\Octav\\anaconda3\\envs\\obl_taller_ia\\Lib\\site-packages\\gymnasium\\wrappers\\rendering.py:350\u001b[39m, in \u001b[36mRecordVideo.step\u001b[39m\u001b[34m(self, action)\u001b[39m\n\u001b[32m    346\u001b[39m \u001b[38;5;28;01mdef\u001b[39;00m\u001b[38;5;250m \u001b[39m\u001b[34mstep\u001b[39m(\n\u001b[32m    347\u001b[39m     \u001b[38;5;28mself\u001b[39m, action: ActType\n\u001b[32m    348\u001b[39m ) -> \u001b[38;5;28mtuple\u001b[39m[ObsType, SupportsFloat, \u001b[38;5;28mbool\u001b[39m, \u001b[38;5;28mbool\u001b[39m, \u001b[38;5;28mdict\u001b[39m[\u001b[38;5;28mstr\u001b[39m, Any]]:\n\u001b[32m    349\u001b[39m \u001b[38;5;250m    \u001b[39m\u001b[33;03m\"\"\"Steps through the environment using action, recording observations if :attr:`self.recording`.\"\"\"\u001b[39;00m\n\u001b[32m--> \u001b[39m\u001b[32m350\u001b[39m     obs, rew, terminated, truncated, info = \u001b[38;5;28;43mself\u001b[39;49m\u001b[43m.\u001b[49m\u001b[43menv\u001b[49m\u001b[43m.\u001b[49m\u001b[43mstep\u001b[49m\u001b[43m(\u001b[49m\u001b[43maction\u001b[49m\u001b[43m)\u001b[49m\n\u001b[32m    351\u001b[39m     \u001b[38;5;28mself\u001b[39m.step_id += \u001b[32m1\u001b[39m\n\u001b[32m    353\u001b[39m     \u001b[38;5;28;01mif\u001b[39;00m \u001b[38;5;28mself\u001b[39m.step_trigger \u001b[38;5;129;01mand\u001b[39;00m \u001b[38;5;28mself\u001b[39m.step_trigger(\u001b[38;5;28mself\u001b[39m.step_id):\n",
      "\u001b[36mFile \u001b[39m\u001b[32mc:\\Users\\Octav\\anaconda3\\envs\\obl_taller_ia\\Lib\\site-packages\\gymnasium\\wrappers\\common.py:393\u001b[39m, in \u001b[36mOrderEnforcing.step\u001b[39m\u001b[34m(self, action)\u001b[39m\n\u001b[32m    391\u001b[39m \u001b[38;5;28;01mif\u001b[39;00m \u001b[38;5;129;01mnot\u001b[39;00m \u001b[38;5;28mself\u001b[39m._has_reset:\n\u001b[32m    392\u001b[39m     \u001b[38;5;28;01mraise\u001b[39;00m ResetNeeded(\u001b[33m\"\u001b[39m\u001b[33mCannot call env.step() before calling env.reset()\u001b[39m\u001b[33m\"\u001b[39m)\n\u001b[32m--> \u001b[39m\u001b[32m393\u001b[39m \u001b[38;5;28;01mreturn\u001b[39;00m \u001b[38;5;28;43msuper\u001b[39;49m\u001b[43m(\u001b[49m\u001b[43m)\u001b[49m\u001b[43m.\u001b[49m\u001b[43mstep\u001b[49m\u001b[43m(\u001b[49m\u001b[43maction\u001b[49m\u001b[43m)\u001b[49m\n",
      "\u001b[36mFile \u001b[39m\u001b[32mc:\\Users\\Octav\\anaconda3\\envs\\obl_taller_ia\\Lib\\site-packages\\gymnasium\\core.py:322\u001b[39m, in \u001b[36mWrapper.step\u001b[39m\u001b[34m(self, action)\u001b[39m\n\u001b[32m    318\u001b[39m \u001b[38;5;28;01mdef\u001b[39;00m\u001b[38;5;250m \u001b[39m\u001b[34mstep\u001b[39m(\n\u001b[32m    319\u001b[39m     \u001b[38;5;28mself\u001b[39m, action: WrapperActType\n\u001b[32m    320\u001b[39m ) -> \u001b[38;5;28mtuple\u001b[39m[WrapperObsType, SupportsFloat, \u001b[38;5;28mbool\u001b[39m, \u001b[38;5;28mbool\u001b[39m, \u001b[38;5;28mdict\u001b[39m[\u001b[38;5;28mstr\u001b[39m, Any]]:\n\u001b[32m    321\u001b[39m \u001b[38;5;250m    \u001b[39m\u001b[33;03m\"\"\"Uses the :meth:`step` of the :attr:`env` that can be overwritten to change the returned data.\"\"\"\u001b[39;00m\n\u001b[32m--> \u001b[39m\u001b[32m322\u001b[39m     \u001b[38;5;28;01mreturn\u001b[39;00m \u001b[38;5;28;43mself\u001b[39;49m\u001b[43m.\u001b[49m\u001b[43menv\u001b[49m\u001b[43m.\u001b[49m\u001b[43mstep\u001b[49m\u001b[43m(\u001b[49m\u001b[43maction\u001b[49m\u001b[43m)\u001b[49m\n",
      "\u001b[36mFile \u001b[39m\u001b[32mc:\\Users\\Octav\\anaconda3\\envs\\obl_taller_ia\\Lib\\site-packages\\gymnasium\\wrappers\\common.py:285\u001b[39m, in \u001b[36mPassiveEnvChecker.step\u001b[39m\u001b[34m(self, action)\u001b[39m\n\u001b[32m    283\u001b[39m     \u001b[38;5;28;01mreturn\u001b[39;00m env_step_passive_checker(\u001b[38;5;28mself\u001b[39m.env, action)\n\u001b[32m    284\u001b[39m \u001b[38;5;28;01melse\u001b[39;00m:\n\u001b[32m--> \u001b[39m\u001b[32m285\u001b[39m     \u001b[38;5;28;01mreturn\u001b[39;00m \u001b[38;5;28;43mself\u001b[39;49m\u001b[43m.\u001b[49m\u001b[43menv\u001b[49m\u001b[43m.\u001b[49m\u001b[43mstep\u001b[49m\u001b[43m(\u001b[49m\u001b[43maction\u001b[49m\u001b[43m)\u001b[49m\n",
      "\u001b[36mFile \u001b[39m\u001b[32mc:\\Users\\Octav\\anaconda3\\envs\\obl_taller_ia\\Lib\\site-packages\\ale_py\\env.py:305\u001b[39m, in \u001b[36mAtariEnv.step\u001b[39m\u001b[34m(self, action)\u001b[39m\n\u001b[32m    303\u001b[39m     strength = action[\u001b[32m0\u001b[39m]\n\u001b[32m    304\u001b[39m \u001b[38;5;28;01melse\u001b[39;00m:\n\u001b[32m--> \u001b[39m\u001b[32m305\u001b[39m     action_idx = \u001b[38;5;28;43mself\u001b[39;49m\u001b[43m.\u001b[49m\u001b[43m_action_set\u001b[49m\u001b[43m[\u001b[49m\u001b[43maction\u001b[49m\u001b[43m]\u001b[49m\n\u001b[32m    306\u001b[39m     strength = \u001b[32m1.0\u001b[39m\n\u001b[32m    308\u001b[39m \u001b[38;5;66;03m# Frameskip\u001b[39;00m\n",
      "\u001b[31mTypeError\u001b[39m: list indices must be integers or slices, not NoneType"
     ]
    }
   ],
   "source": [
    "from double_dqn_agent import DoubleDQNAgent\n",
    "\n",
    "env = make_env(ENV_NAME,\n",
    "                video_folder='./videos/ddqn_training',\n",
    "                name_prefix=\"breakout\",\n",
    "                record_every=500,\n",
    "                grayscale=GRAY_SCALE,\n",
    "                screen_size=SCREEN_SIZE,\n",
    "                stack_frames=NUM_STACKED_FRAMES,\n",
    "                skip_frames=SKIP_FRAMES\n",
    "                )\n",
    "\n",
    "\n",
    "modelo_a = DQN_CNN_Model(env.observation_space.shape, env.action_space.n).to(DEVICE)\n",
    "modelo_b = DQN_CNN_Model(env.observation_space.shape, env.action_space.n).to(DEVICE)\n",
    "\n",
    "ddqn_agent = DoubleDQNAgent(env, modelo_a, modelo_b, process_state, BUFFER_SIZE, BATCH_SIZE, LEARNING_RATE, GAMMA, epsilon_i= EPSILON_INI, epsilon_f=EPSILON_MIN, epsilon_anneal_steps=EPSILON_ANNEAL_STEPS, episode_block = EPISODE_BLOCK, device=DEVICE)\n",
    "\n",
    "ddqn_rewards = ddqn_agent.train(EPISODES, STEPS_PER_EPISODE, TOTAL_STEPS)"
   ]
  },
  {
   "cell_type": "code",
   "execution_count": null,
   "metadata": {},
   "outputs": [],
   "source": [
    "env = make_env(ENV_NAME,\n",
    "                video_folder='./videos/ddqn_validation',\n",
    "                name_prefix=\"breakout\",\n",
    "                record_every=1,\n",
    "                grayscale=GRAY_SCALE,\n",
    "                screen_size=SCREEN_SIZE,\n",
    "                stack_frames=NUM_STACKED_FRAMES,\n",
    "                skip_frames=SKIP_FRAMES\n",
    "                )\n",
    "\n",
    "ddqn_agent.play(env, episodes=3)\n",
    "\n",
    "env.close()"
   ]
  },
  {
   "cell_type": "code",
   "execution_count": null,
   "metadata": {},
   "outputs": [],
   "source": [
    "# Ruta al archivo de vídeo en tu sistema de ficheros\n",
    "video_path = \"./videos/ddqn_validation/breakout-episode-0.mp4\"\n",
    "\n",
    "# Muestra el vídeo\n",
    "Video(video_path, embed=True, width=600)"
   ]
  },
  {
   "cell_type": "markdown",
   "metadata": {},
   "source": [
    "#### Graficas \n",
    "..."
   ]
  },
  {
   "cell_type": "markdown",
   "metadata": {},
   "source": [
    "# Experimentación\n",
    "Aquí con libertad total, pueden probar diferentes arquitecturas de red, diferentes hiperparámetros, diferentes técnicas de exploración, etc.\n",
    "..."
   ]
  },
  {
   "cell_type": "markdown",
   "metadata": {
    "id": "YNNvsKiEt9I_"
   },
   "source": [
    "# Comparaciones, Resultados, Comentarios...\n",
    "De aquí en adelante son libres de presentar como gusten los resultados comparativos de las técnicas.\n",
    "..."
   ]
  }
 ],
 "metadata": {
  "accelerator": "GPU",
  "colab": {
   "provenance": []
  },
  "kernelspec": {
   "display_name": "obl_taller_ia",
   "language": "python",
   "name": "python3"
  },
  "language_info": {
   "codemirror_mode": {
    "name": "ipython",
    "version": 3
   },
   "file_extension": ".py",
   "mimetype": "text/x-python",
   "name": "python",
   "nbconvert_exporter": "python",
   "pygments_lexer": "ipython3",
   "version": "3.11.12"
  },
  "vscode": {
   "interpreter": {
    "hash": "654d30e281ea4991f82051f147fbd22a65ce2ea742e27edf10b646598953974d"
   }
  }
 },
 "nbformat": 4,
 "nbformat_minor": 1
}
