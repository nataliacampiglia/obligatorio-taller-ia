{
 "cells": [
  {
   "cell_type": "markdown",
   "metadata": {},
   "source": [
    "# Obligatorio - Taller Agentes Inteligentes 2025\n",
    "\n",
    "En este trabajo obligatorio aplicaremos los conceptos vistos en el curso para diseñar, implementar y evaluar agentes capaces de aprender a jugar al clásico **Breakout** de Atari, utilizando el entorno provisto por Farama Gymnasium ([https://ale.farama.org/environments/breakout/](https://ale.farama.org/environments/breakout/)). \n",
    "\n",
    "<p align=\"center\">\n",
    "  <img src=\"https://media.tenor.com/oMxHgRrISJsAAAAM/atari-deep-learning.gif\" alt=\"Atari Deep Learning\"/>\n",
    "</p>\n",
    "\n",
    "\n",
    "El ejercicio se enmarca en un contexto de aprendizaje práctico, donde trabajaremos con las interfaces estándar de Gymnasium para:\n",
    "\n",
    "1. **Profundizar en algoritmos de valor**: implementaremos y compararemos dos variantes de Q-Learning basadas en redes neuronales profundas:\n",
    "   * **Deep Q Learning (DQN)**\n",
    "   * **Double Deep Q Learning (DDQN)**\n",
    "2. **Evaluar rendimiento y estabilidad**: registraremos las recompensas obtenidas durante el entrenamiento de cada agente y analizaremos su comportamiento mediante gráficas comparativas.\n",
    "3. **Demostrar resultados de forma visual**: capturaremos vídeos que muestren a cada agente “resolviendo” el entorno, entendido como la habilidad de romper al menos cinco bloques en una partida.\n",
    "\n",
    "Debido a las limitaciones de tiempo y cómputo propias de un entorno de curso, no se espera entrenar modelos durante más de diez horas por agente. Por ello, será fundamental:\n",
    "\n",
    "* Integrar puntos de **checkpoint** para guardar periódicamente los pesos de la red.\n",
    "* Seguir en los puntos 2 y 3 la arquitectura y técnicas originales propuestas en los papers seminales de DQN y DDQN, dejando la experimentación adicional para el punto extra.\n",
    "* Flexibilizar la notebook de guía: pueden reorganizarla o dividirla en múltiples archivos según su conveniencia.\n"
   ]
  },
  {
   "cell_type": "markdown",
   "metadata": {},
   "source": [
    "## Objetivos y tareas\n",
    "\n",
    "1. **Completar la implementación**\n",
    "   * Rellenar el código faltante en la notebook y en los módulos auxiliares para que los agentes puedan interactuar con el entorno de Breakout.\n",
    "2. **Entrenar agentes**\n",
    "   * Ajustar y entrenar un **DQN** que alcance la condición de “resolver” (romper ≥ 10 bloques).\n",
    "   * Ajustar y entrenar un **DDQN** con la misma meta de desempeño.\n",
    "3. **Visualizar y analizar resultados**\n",
    "   * Generar **gráficas comparativas** de las recompensas obtenidas por ambos agentes en el mismo entorno (una gráfica por ambiente). Además se sugiere gráficas que muestren el valor de la función de valor Q para cada agente.\n",
    "   * Extraer **al menos dos conclusiones** por gráfica, comentando diferencias en convergencia, estabilidad y comportamiento exploratorio.\n",
    "4. **Registro de demostraciones**\n",
    "   * Grabar y entregar un **video demostrativo** de cada agente resolviendo el entorno.\n",
    "5. **Experimentación**\n",
    "   * Probar otras arquitecturas, técnicas de mejora o módulos de procesamiento de entradas más avanzados, documentando brevemente su impacto/"
   ]
  },
  {
   "cell_type": "markdown",
   "metadata": {},
   "source": [
    "## Criterios de evaluación\n",
    "\n",
    "| Criterio                                  | Descripción                                                  | Peso |\n",
    "| ----------------------------------------- | ------------------------------------------------------------ | ---- |\n",
    "| **Implementación y rendimiento**          | DQN y DDQN completados; cada agente rompe ≥ 10 bloques       | 40%  |\n",
    "| **Estructura y narrativa de la notebook** | Secciones claras, explicación de decisiones, “historia”      | 20%  |\n",
    "| **Análisis de resultados**                | Gráficas comparativas; ≥ 2 conclusiones por gráfico          | 20%  |\n",
    "| **Presentación visual**                   | Vídeos demostrativos de cada agente                          | 10%  |\n",
    "| **Experimentación**                       | Experimentación adicional documentada y analizada brevemente | 10%  |"
   ]
  },
  {
   "cell_type": "markdown",
   "metadata": {},
   "source": [
    "## Bibliografía\n",
    "\n",
    "* **Mnih, V.**, Kavukcuoglu, K., Silver, D., Rusu, A. A., Veness, J., Bellemare, M. G., … Hassabis, D. (2013). *Playing Atari with Deep Reinforcement Learning*. [arXiv:1312.5602](https://arxiv.org/abs/1312.5602)\n",
    "* **van Hasselt, H.**, Guez, A., & Silver, D. (2015). *Deep Reinforcement Learning with Double Q-learning*. [arXiv:1509.06461](https://arxiv.org/abs/1509.06461)\n",
    "* **Sutton, R. S.**, & Barto, A. G. (2018). *Reinforcement Learning: An Introduction* (2nd ed.), capítulo 16.5: “Human-level Video Game Play”. MIT Press."
   ]
  },
  {
   "cell_type": "markdown",
   "metadata": {},
   "source": [
    "## Setup"
   ]
  },
  {
   "cell_type": "markdown",
   "metadata": {
    "id": "gc6t9etEt9I2",
    "pycharm": {
     "name": "#%%\n"
    }
   },
   "source": [
    "**Imports**"
   ]
  },
  {
   "cell_type": "code",
   "execution_count": 1,
   "metadata": {
    "id": "cwHCw6PMt9I3",
    "pycharm": {
     "name": "#%%\n"
    }
   },
   "outputs": [],
   "source": [
    "import os\n",
    "import torch\n",
    "import numpy as np\n",
    "import random\n",
    "import numpy as np\n",
    "import torch.nn as nn\n",
    "import torch.nn.functional as F\n",
    "from torchinfo import summary\n",
    "import gymnasium\n",
    "import ale_py\n",
    "from utils import make_env, show_observation_stack\n",
    "from IPython.display import Video"
   ]
  },
  {
   "cell_type": "markdown",
   "metadata": {},
   "source": [
    "ALE (Atari Learning Environment) es un entorno de aprendizaje para videojuegos de Atari. En este caso, utilizaremos el entorno de Breakout. Es necesario entender que se separa el entorno de los roms de Atari, que son los juegos en sí. El entorno de ALE permite interactuar con los juegos de Atari a través de una API estándar, facilitando la implementación de algoritmos de aprendizaje por refuerzo.\n",
    "\n",
    "Debemos instalar los roms por separado, para ello primero tenemos que saber donde están los roms de Atari. "
   ]
  },
  {
   "cell_type": "code",
   "execution_count": 2,
   "metadata": {},
   "outputs": [
    {
     "name": "stdout",
     "output_type": "stream",
     "text": [
      "/opt/anaconda3/envs/obl_taller_ia/lib/python3.12/site-packages/ale_py/roms\n"
     ]
    }
   ],
   "source": [
    "gymnasium.register_envs(ale_py) # registramos todos los entornos de ale_py\n",
    "ruta_init = ale_py.roms.__file__ # debemos saber donde se encuentra la carpeta roms\n",
    "ALE_ROMS_PATH = os.path.dirname(ruta_init)\n",
    "print(ALE_ROMS_PATH)"
   ]
  },
  {
   "cell_type": "markdown",
   "metadata": {},
   "source": [
    "Podemos usar los siguientes comando para instalar los roms y colocalos en la carpeta correcta."
   ]
  },
  {
   "cell_type": "code",
   "execution_count": null,
   "metadata": {},
   "outputs": [],
   "source": [
    "# !pip install \"autorom[accept-rom-license]\"\n",
    "# !AutoROM --accept-license --install-dir {ALE_ROMS_PATH}"
   ]
  },
  {
   "cell_type": "markdown",
   "metadata": {},
   "source": [
    "Fijamos la semilla para que los resultados sean reproducibles"
   ]
  },
  {
   "cell_type": "code",
   "execution_count": 3,
   "metadata": {},
   "outputs": [],
   "source": [
    "SEED = 23\n",
    "\n",
    "torch.manual_seed(SEED)\n",
    "torch.backends.cudnn.deterministic=True # https://discuss.pytorch.org/t/what-is-the-differenc-between-cudnn-deterministic-and-cudnn-benchmark/38054\n",
    "torch.backends.cudnn.benchmark=True # https://discuss.pytorch.org/t/what-does-torch-backends-cudnn-benchmark-do/5936/4\n",
    "np.random.seed(SEED)\n",
    "random.seed(SEED)"
   ]
  },
  {
   "cell_type": "markdown",
   "metadata": {},
   "source": [
    "Vemos que dispositivo tenemos, si es GPU, MPS o CPU. **El uso de GPU es altamente recomendable** para acelerar el entrenamiento de los modelos. "
   ]
  },
  {
   "cell_type": "code",
   "execution_count": 4,
   "metadata": {},
   "outputs": [
    {
     "name": "stdout",
     "output_type": "stream",
     "text": [
      "Device: mps\n"
     ]
    }
   ],
   "source": [
    "# Algunas constantes\n",
    "\n",
    "# definimos el dispositivo que vamos a usar\n",
    "DEVICE = \"cpu\"  # por defecto, usamos la CPU\n",
    "if torch.cuda.is_available():\n",
    "    DEVICE = \"cuda\"  # si hay GPU, usamos la GPU\n",
    "elif torch.backends.mps.is_available():\n",
    "    DEVICE = \"mps\"  # si no hay GPU, pero hay MPS, usamos MPS\n",
    "\n",
    "print(f\"Device: {DEVICE}\")"
   ]
  },
  {
   "cell_type": "markdown",
   "metadata": {},
   "source": [
    "## Preprocesando Atari\n",
    "\n",
    "Para reproducir fielmente el enfoque de Mnih et al. (2013) y reducir la carga computacional al trabajar con imágenes de Atari (210 × 160 píxeles, 128 colores), aplicamos el siguiente preprocesado φ a las últimas **4** frames del entorno:\n",
    "\n",
    "1. **Conversión a escala de grises**\n",
    "   Eliminamos la información de color (GRAYSCALE = True), pues la luminosidad es suficiente para capturar la dinámica de juego y reduce drásticamente la dimensionalidad de la entrada.\n",
    "\n",
    "2. **Down-sampling y recorte**\n",
    "   * Redimensionamos la imagen original a 110 × 84 píxeles, manteniendo la proporción horizontal.\n",
    "   * Recortamos un área central de 84 × 84 píxeles que contiene la “zona de juego”, descartando bordes innecesarios.\n",
    "     Este paso (SCREEN_SIZE = 84) no solo concentra la atención del modelo en la región relevante, sino que también garantiza un tamaño cuadrado compatible con las implementaciones de convoluciones en GPU.\n",
    "\n",
    "3. **Saltos temporales (frame skipping)**\n",
    "   Procesamos cada 4 frames (SKIP_FRAMES = 4), repitiendo la misma acción durante esos pasos. Esto reduce la redundancia temporal, acelera el entrenamiento y mantiene la coherencia del movimiento de la paleta y la bola.\n",
    "\n",
    "4. **Apilamiento de frames**\n",
    "   Finalmente, acumulamos las últimas 4 imágenes preprocesadas (NUM_STACKED_FRAMES = 4) en un único tensor de entrada. Así el agente puede inferir la velocidad y dirección de los elementos móviles a partir de la diferencia entre frames.\n",
    "\n",
    "Este esquema de preprocesado es fundamental para disminuir el espacio de entrada, acelerar las convoluciones y proporcionar al Q-net una representación compacta y rica en información dinámica, tal como se describe en el algoritmo 1 del paper original .\n",
    "\n",
    "> Se recomienda ver el método `make_env` en el archivo `utils.py` para entender cómo se implementa este preprocesado. "
   ]
  },
  {
   "cell_type": "code",
   "execution_count": 5,
   "metadata": {},
   "outputs": [],
   "source": [
    "GRAY_SCALE = True # si True, convertimos la imagen a escala de grises\n",
    "SCREEN_SIZE = 84 # redimensionamos a SCREEN_SIZExSCREEN_SIZE\n",
    "NUM_STACKED_FRAMES = 4 # apilamos NUM_STACKED_FRAMES frames\n",
    "SKIP_FRAMES = 4 # saltamos SKIP_FRAMES frames (haciendo la misma acción)"
   ]
  },
  {
   "cell_type": "code",
   "execution_count": 6,
   "metadata": {
    "colab": {
     "base_uri": "https://localhost:8080/"
    },
    "id": "loVxQPrwt9I5",
    "outputId": "18b7ed97-88dd-4b1e-a2cc-b2636686bfc7"
   },
   "outputs": [
    {
     "name": "stderr",
     "output_type": "stream",
     "text": [
      "A.L.E: Arcade Learning Environment (version 0.10.2+unknown)\n",
      "[Powered by Stella]\n",
      "Game console created:\n",
      "  ROM file:  /opt/anaconda3/envs/obl_taller_ia/lib/python3.12/site-packages/ale_py/roms/breakout.bin\n",
      "  Cart Name: Breakout - Breakaway IV (1978) (Atari)\n",
      "  Cart MD5:  f34f08e5eb96e500e851a80be3277a56\n",
      "  Display Format:  AUTO-DETECT ==> NTSC\n",
      "  ROM Size:        2048\n",
      "  Bankswitch Type: AUTO-DETECT ==> 2K\n",
      "\n",
      "Running ROM file...\n",
      "Random seed is -3715475\n"
     ]
    },
    {
     "data": {
      "image/png": "[encoded data removed]",
      "text/plain": [
       "<Figure size 640x480 with 1 Axes>"
      ]
     },
     "metadata": {},
     "output_type": "display_data"
    },
    {
     "data": {
      "image/png": "[encoded data removed]",
      "text/plain": [
       "<Figure size 640x480 with 1 Axes>"
      ]
     },
     "metadata": {},
     "output_type": "display_data"
    },
    {
     "data": {
      "image/png": "[encoded data removed]",
      "text/plain": [
       "<Figure size 640x480 with 1 Axes>"
      ]
     },
     "metadata": {},
     "output_type": "display_data"
    },
    {
     "data": {
      "image/png": "[encoded data removed]",
      "text/plain": [
       "<Figure size 640x480 with 1 Axes>"
      ]
     },
     "metadata": {},
     "output_type": "display_data"
    },
    {
     "name": "stdout",
     "output_type": "stream",
     "text": [
      "Episode 1 finished with total reward: 2\n"
     ]
    }
   ],
   "source": [
    "# https://ale.farama.org/environments/breakout/\n",
    "ENV_NAME = \"ALE/Breakout-v5\" \n",
    "\n",
    "env = make_env(ENV_NAME,\n",
    "                video_folder='./videos/random',\n",
    "                name_prefix=\"breakout\",\n",
    "                record_every=1,\n",
    "                grayscale=GRAY_SCALE,\n",
    "                screen_size=SCREEN_SIZE,\n",
    "                stack_frames=NUM_STACKED_FRAMES,\n",
    "                skip_frames=SKIP_FRAMES\n",
    "                )\n",
    "\n",
    "for episode_num in range(1):\n",
    "    obs, info = env.reset()\n",
    "    show_observation_stack(obs)\n",
    "    reward_total = 0\n",
    "    episode_over = False\n",
    "    while not episode_over:\n",
    "        action = env.action_space.sample()  # seleccionamos una acción aleatoria\n",
    "        obs, reward, terminated, truncated, info = env.step(action)\n",
    "        reward_total += reward\n",
    "        episode_over = terminated or truncated\n",
    "    print(f\"Episode {episode_num + 1} finished with total reward: {reward_total}\")\n",
    "\n",
    "env.close()"
   ]
  },
  {
   "cell_type": "markdown",
   "metadata": {},
   "source": [
    "Además, podemos mostrar los videos capturados por el entorno de Atari de la siguiente manera:"
   ]
  },
  {
   "cell_type": "code",
   "execution_count": 7,
   "metadata": {},
   "outputs": [
    {
     "data": {
      "text/html": [
       "<video controls  width=\"600\" >\n",
       " <source src=\"data:video/mp4;base64,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\" type=\"video/mp4\">\n",
       " Your browser does not support the video tag.\n",
       " </video>"
      ],
      "text/plain": [
       "<IPython.core.display.Video object>"
      ]
     },
     "execution_count": 7,
     "metadata": {},
     "output_type": "execute_result"
    }
   ],
   "source": [
    "# Ruta al archivo de vídeo en tu sistema de ficheros\n",
    "video_path = \"./videos/random/breakout-episode-0.mp4\"\n",
    "\n",
    "# Muestra el vídeo\n",
    "Video(video_path, embed=True, width=600)"
   ]
  },
  {
   "cell_type": "markdown",
   "metadata": {
    "id": "2bYVG_TKt9I5"
   },
   "source": [
    "# Exploración del entorno"
   ]
  },
  {
   "cell_type": "markdown",
   "metadata": {},
   "source": [
    "Para comprender en detalle cómo se comporta nuestro agente y facilitar la depuración, hemos añadido prints extra en el siguiente código"
   ]
  },
  {
   "cell_type": "code",
   "execution_count": 13,
   "metadata": {},
   "outputs": [
    {
     "name": "stdout",
     "output_type": "stream",
     "text": [
      "Actions shape: Discrete(4)\n",
      "Observation shape: (4, 84, 84)\n",
      "(4, 84, 84),\n",
      " 0,\n",
      " False,\n",
      " {'lives': 5, 'episode_frame_number': 9, 'frame_number': 921}\n",
      "Tipo de datos: uint8\n",
      "Valores píxel min/max: 0 / 148\n"
     ]
    }
   ],
   "source": [
    "print(\"Actions shape:\",env.action_space)\n",
    "print(\"Observation shape:\",env.observation_space.shape)\n",
    "\n",
    "# 1. Resetear el entorno\n",
    "env.reset()\n",
    "next_state, reward, terminated, truncated, info = env.step(action=0)\n",
    "\n",
    "print(f\"{next_state.shape},\\n {reward},\\n {terminated},\\n {info}\")\n",
    "\n",
    "# 2. Inspeccionar observación y metadatos\n",
    "print(\"Tipo de datos:\", obs.dtype)\n",
    "print(\"Valores píxel min/max:\", obs.min(), \"/\", obs.max())"
   ]
  },
  {
   "cell_type": "markdown",
   "metadata": {},
   "source": [
    "### Acciones\n",
    "\n",
    "En el entorno de Breakout de Gymnasium disponemos de un conjunto discreto de acciones que el agente puede ejecutar en cada frame. Sabemos, por el action_space, que se tienen 4 acciones: \n",
    "\n",
    "- **0 – NOOP**: No hacer nada. Es la acción por defecto, útil para “esperar” y ver cómo cae la bola sin mover la paleta.  \n",
    "- **1 – FIRE**: Iniciar la bola al comienzo de cada vida. Sin esta acción, la bola nunca sale del “cajón” inicial.  \n",
    "- **2 – RIGHT**: Mover la paleta un paso a la derecha. Indispensable para golpear la bola y controlar su trayectoria.  \n",
    "- **3 – LEFT**: Mover la paleta un paso a la izquierda. Igual de importante que RIGHT, pero en sentido contrario.\n",
    "\n",
    "> **¿Por qué explorar las acciones?**  \n",
    ">  \n",
    "> 1. **Contextualizar el espacio de acción**: Antes de diseñar cualquier agente, es vital saber qué decisiones puede tomar. Conocer cada acción nos ayuda a imaginar estrategias (¿cuándo es mejor quedarse quieto? ¿qué pasa si movemos demasiado rápido?).  \n",
    "> 2. **Detectar restricciones del juego**: Por ejemplo, la acción FIRE solo sirve al inicio de una vida; si la usamos en medio de la partida, no sucede nada. Entender estas sutilezas evita que nuestro agente pierda pasos inútilmente.  \n",
    "> 3. **Alinear con el paper de DQN**: En “Playing Atari with Deep Reinforcement Learning” se usan estas mismas acciones discretas. Explorar cómo afectan cada estado y observación nos prepara para replicar fielmente la arquitectura original y, al mismo tiempo, ver oportunidades de mejora.  "
   ]
  },
  {
   "cell_type": "markdown",
   "metadata": {},
   "source": [
    "### Observaciones\n",
    "\n",
    "Antes de lanzarnos al entrenamiento, se quiso inspeccionar a fondo qué devuelve realmente el entorno y cuáles son las transformaciones clave que debemos aplicar:\n",
    "\n",
    "- **Formato y rango de la observación**  \n",
    "  El entorno nos entrega un array RGB de forma `(210, 160, 3)` con valores enteros entre 0 y 255.  \n",
    "- **Información extra en `info`**  \n",
    "  Además del frame, Gymnasium incluye un diccionario `info` donde podemos leer, por ejemplo, el número de vidas (`info[\"lives\"]`), útil para detectar vidas perdidas y terminar el episodio cuando corresponda.  \n",
    "- **Preprocesamiento según el paper**  \n",
    "  - **Recorte**: descartamos la zona superior (marcadores) y la inferior (área muerta) para quedarnos con la cancha de juego.  \n",
    "  - **Escala de grises**: convertimos de RGB a una sola capa para simplificar la entrada.  \n",
    "  - **Redimensionado**: reescalamos a `84×84` píxeles, tal como en “Playing Atari with Deep Reinforcement Learning”.  \n",
    "- **Frame stacking**  \n",
    "  Para capturar movimiento, apilamos 4 frames consecutivos, formando una entrada de forma `(4, 84, 84)` que le da al agente información sobre velocidad y dirección de la bola.  \n",
    "- **Normalización**  \n",
    "  Dividir los valores por 255.0 deja el rango en `[0.0, 1.0]`, lo que facilita la convergencia de la red neuronal.  \n",
    "\n",
    "> **¿Por qué investigar todo esto?**  \n",
    "> 1. Asegura que replicamos fielmente la arquitectura y preprocesos del paper.  \n",
    "> 2. Evita sorpresas durante el entrenamiento: si olvidamos normalizar o recortar mal, los datos no representarán bien el juego.  \n",
    "> 3. Permite depurar rápidamente: conociendo el rango y la forma de los datos, detectamos errores de forma o tipo antes de empezar a tunear hiperparámetros."
   ]
  },
  {
   "cell_type": "markdown",
   "metadata": {
    "id": "XIHpwiaat9I7"
   },
   "source": [
    "# Deep Q Learning\n",
    "\n",
    "Deep Q Learning extiende el algoritmo clásico de Q-learning al emplear una **red neuronal profunda** como aproximador de la función de valor $Q(s,a)$. Inspirado en Mnih et al. (2013), este método utiliza una **red convolucional** para procesar directamente las imágenes del entorno Atari, un **replay buffer** para romper la correlación temporal de las muestras. La política sigue un esquema **ε-greedy**, balanceando exploración y explotación, y se entrena minimizando el error de la ecuación de Bellman sobre lotes de transiciones muestreadas de manera aleatoria.\n",
    "\n",
    "<p align=\"center\">\n",
    "  <img src=\"https://www.researchgate.net/profile/Faris-Mismar/publication/327045314/figure/fig4/AS:819677282455553@1572437701142/Structure-of-the-neural-network-used-for-the-Deep-Q-learning-Network-implementation-with.png\" alt=\"DQN\"/>\n",
    "</p>\n",
    "\n",
    "Fuente: [arXiv:1312.5602](https://arxiv.org/abs/1312.5602)"
   ]
  },
  {
   "cell_type": "markdown",
   "metadata": {
    "id": "ajTGajUftSgY",
    "pycharm": {
     "name": "#%% md\n"
    }
   },
   "source": [
    "## Memoria\n",
    "\n",
    "El algoritmo de Deep Q Learning presentado en el paper utiliza una memoria (llamada Replay Memory) para almacenar transiciones pasadas. Tuplas que contienen un estado base, la accion tomada, la recompensa obtenida, una bandera que indica si el siguiente estado es final o no; y el estado siguiente.\n",
    "\n",
    "Esta memoria es circular, es decir, tiene un límite maximo de elementos y una vez esté llena comienza a reemplazar los elementos más viejos.\n",
    "\n",
    "Vamos a necesitar crear una función **sample** que obtiene una mustra aleatoria de elementos de la memoria.  Esto puede ser una lista de Transiciones o listas separadas (pero alineadas) de los elementos que las componen.\n",
    "\n",
    "\n",
    "> Para implementar esta funcionalidad se debe modificar el archivo **replay_memory.py**"
   ]
  },
  {
   "cell_type": "code",
   "execution_count": 20,
   "metadata": {
    "id": "scPtpbz4tTAh",
    "outputId": "0890f48a-e673-4416-bd69-7dcf2730ba64",
    "pycharm": {
     "name": "#%%\n"
    }
   },
   "outputs": [
    {
     "name": "stdout",
     "output_type": "stream",
     "text": [
      "Memory size: 3\n",
      "\n",
      "Memory sample:\n",
      "Sample 0: Transition(state='state4', action='action4', reward='reward4', done='done4', next_state='next_state4')\n",
      "Sample 1: Transition(state='state3', action='action3', reward='reward3', done='done3', next_state='next_state3')\n"
     ]
    }
   ],
   "source": [
    "from replay_memory import ReplayMemory, Transition\n",
    "\n",
    "# Creamos la memoria de repetición\n",
    "replay_memory = ReplayMemory(3)\n",
    "\n",
    "# Añadimos transiciones a la memoria (solo las 3 últimas se guardan)\n",
    "replay_memory.add('state1', 'action1', 'reward1', 'done1', 'next_state1' )\n",
    "replay_memory.add('state2', 'action2', 'reward2', 'done2', 'next_state2')\n",
    "replay_memory.add('state3', 'action3', 'reward3', 'done3', 'next_state3')\n",
    "replay_memory.add('state4', 'action4', 'reward4', 'done4', 'next_state4')\n",
    "\n",
    "# Mostramos el tamaño de la memoria\n",
    "print(f\"Memory size: {len(replay_memory)}\\n\")\n",
    "\n",
    "# Mostramos un sample de la memoria\n",
    "sampled = replay_memory.sample(2)\n",
    "print(f\"Memory sample:\")\n",
    "for i, sample in enumerate(sampled):\n",
    "    print(f\"Sample {i}: {sample}\")\n"
   ]
  },
  {
   "cell_type": "markdown",
   "metadata": {
    "id": "j7Ygv5Mjtb-F",
    "pycharm": {
     "name": "#%% md\n"
    }
   },
   "source": [
    "## Modelo\n",
    "\n",
    "Vamos a usar un mismo modelo FeedForward para estos dos problemas (entrenado en cada problema particular). Recomendamos simplicidad en la creación del mismo, pero tienen total libertad al momento de implementarlo.\n",
    "\n",
    "> Para implementar esta funcionalidad se debe modificar el archivo **dqn_cnn_model.py**. Se recomienda empezar por una arquitectura simple como la que se muestra en el paper de Mnih et al. (2013) y luego experimentar con arquitecturas más complejas."
   ]
  },
  {
   "cell_type": "code",
   "execution_count": 33,
   "metadata": {
    "id": "bkNBvJB6ryp7",
    "pycharm": {
     "name": "#%%\n"
    }
   },
   "outputs": [
    {
     "name": "stdout",
     "output_type": "stream",
     "text": [
      "The autoreload extension is already loaded. To reload it, use:\n",
      "  %reload_ext autoreload\n",
      "Actions shape: Discrete(4)\n",
      "Observatiion shape: (4, 84, 84)\n",
      "Forma de salida después de conv1: 20x20\n",
      "Forma de salida después de conv2: 9x9\n",
      "Tamaño aplanado: 2592\n",
      "Forma después de convoluciones: torch.Size([32, 32, 9, 9])\n",
      "Forma después de aplanamiento: torch.Size([32, 2592])\n",
      "Forma después de capa fully-connected: torch.Size([32, 256])\n"
     ]
    },
    {
     "name": "stderr",
     "output_type": "stream",
     "text": [
      "A.L.E: Arcade Learning Environment (version 0.10.2+unknown)\n",
      "[Powered by Stella]\n",
      "Game console created:\n",
      "  ROM file:  /opt/anaconda3/envs/obl_taller_ia/lib/python3.12/site-packages/ale_py/roms/breakout.bin\n",
      "  Cart Name: Breakout - Breakaway IV (1978) (Atari)\n",
      "  Cart MD5:  f34f08e5eb96e500e851a80be3277a56\n",
      "  Display Format:  AUTO-DETECT ==> NTSC\n",
      "  ROM Size:        2048\n",
      "  Bankswitch Type: AUTO-DETECT ==> 2K\n",
      "\n",
      "Running ROM file...\n",
      "Random seed is -913419349\n"
     ]
    },
    {
     "data": {
      "text/plain": [
       "==========================================================================================\n",
       "Layer (type:depth-idx)                   Output Shape              Param #\n",
       "==========================================================================================\n",
       "DQN_CNN_Model                            [32, 4]                   --\n",
       "├─Conv2d: 1-1                            [32, 16, 20, 20]          4,112\n",
       "├─Conv2d: 1-2                            [32, 32, 9, 9]            8,224\n",
       "├─Linear: 1-3                            [32, 256]                 663,808\n",
       "├─Linear: 1-4                            [32, 4]                   1,028\n",
       "==========================================================================================\n",
       "Total params: 677,172\n",
       "Trainable params: 677,172\n",
       "Non-trainable params: 0\n",
       "Total mult-adds (Units.MEGABYTES): 95.22\n",
       "==========================================================================================\n",
       "Input size (MB): 3.61\n",
       "Forward/backward pass size (MB): 2.37\n",
       "Params size (MB): 2.71\n",
       "Estimated Total Size (MB): 8.69\n",
       "=========================================================================================="
      ]
     },
     "execution_count": 33,
     "metadata": {},
     "output_type": "execute_result"
    }
   ],
   "source": [
    "%load_ext autoreload\n",
    "%autoreload 2\n",
    "from dqn_cnn_model import DQN_CNN_Model\n",
    "\n",
    "env = make_env(ENV_NAME,\n",
    "                record_every=None,\n",
    "                grayscale=GRAY_SCALE,\n",
    "                screen_size=SCREEN_SIZE,\n",
    "                stack_frames=NUM_STACKED_FRAMES,\n",
    "                skip_frames=SKIP_FRAMES\n",
    "                )\n",
    "print(\"Actions shape:\",env.action_space)\n",
    "print(\"Observatiion shape:\",env.observation_space.shape)\n",
    "\n",
    "env.close()\n",
    "\n",
    "cnn_model = DQN_CNN_Model(env.observation_space.shape, env.action_space.n).to(DEVICE)\n",
    "summary(cnn_model, input_size=(32, SKIP_FRAMES, SCREEN_SIZE, SCREEN_SIZE), device=DEVICE) # 32 es el batch size"
   ]
  },
  {
   "cell_type": "markdown",
   "metadata": {},
   "source": [
    "La red esta definida para que reciba un tensor de 4 dimensiones (batch_size, num_frames, height, width) y devuelve un tensor de 2 dimensiones (batch_size, num_actions). La función `forward` es la encargada de definir el flujo de datos a través de la red. En este caso, se utiliza una red convolucional seguida de capas totalmente conectadas"
   ]
  },
  {
   "cell_type": "code",
   "execution_count": 34,
   "metadata": {},
   "outputs": [
    {
     "name": "stdout",
     "output_type": "stream",
     "text": [
      "Forma después de convoluciones: torch.Size([1, 32, 9, 9])\n",
      "Forma después de aplanamiento: torch.Size([1, 2592])\n",
      "Forma después de capa fully-connected: torch.Size([1, 256])\n",
      "Q-values shape: torch.Size([1, 4])\n"
     ]
    }
   ],
   "source": [
    "obs_tensor_batch = torch.rand((NUM_STACKED_FRAMES,SCREEN_SIZE,SCREEN_SIZE)).unsqueeze(0).to(DEVICE) # Añadimos una dimensión para el batch y lo pasamos al dispositivo\n",
    "print(f\"Q-values shape: {cnn_model(obs_tensor_batch).shape}\") # shape: (1, num_actions) "
   ]
  },
  {
   "cell_type": "markdown",
   "metadata": {},
   "source": [
    "Los valores de Q se obtienen a partir de la salida de la red, cada columna representa el valor Q para cada acción posible en el estado actual. "
   ]
  },
  {
   "cell_type": "code",
   "execution_count": 35,
   "metadata": {},
   "outputs": [
    {
     "name": "stdout",
     "output_type": "stream",
     "text": [
      "Forma después de convoluciones: torch.Size([1, 32, 9, 9])\n",
      "Forma después de aplanamiento: torch.Size([1, 2592])\n",
      "Forma después de capa fully-connected: torch.Size([1, 256])\n"
     ]
    },
    {
     "data": {
      "text/plain": [
       "tensor([[ 0.0566, -0.0542,  0.0373, -0.0594]], device='mps:0',\n",
       "       grad_fn=<LinearBackward0>)"
      ]
     },
     "execution_count": 35,
     "metadata": {},
     "output_type": "execute_result"
    }
   ],
   "source": [
    "cnn_model(obs_tensor_batch) "
   ]
  },
  {
   "cell_type": "markdown",
   "metadata": {},
   "source": [
    "Podemos preguntar cuál es la acción con mayor valor Q en un estado."
   ]
  },
  {
   "cell_type": "code",
   "execution_count": 36,
   "metadata": {},
   "outputs": [
    {
     "name": "stdout",
     "output_type": "stream",
     "text": [
      "Forma después de convoluciones: torch.Size([1, 32, 9, 9])\n",
      "Forma después de aplanamiento: torch.Size([1, 2592])\n",
      "Forma después de capa fully-connected: torch.Size([1, 256])\n"
     ]
    },
    {
     "data": {
      "text/plain": [
       "torch.return_types.max(\n",
       "values=tensor([0.0566], device='mps:0', grad_fn=<MaxBackward0>),\n",
       "indices=tensor([0], device='mps:0'))"
      ]
     },
     "execution_count": 36,
     "metadata": {},
     "output_type": "execute_result"
    }
   ],
   "source": [
    "cnn_model(obs_tensor_batch).max(1)"
   ]
  },
  {
   "cell_type": "markdown",
   "metadata": {},
   "source": [
    "En el siguiente ejemplo vamos a ver cómo tomar los valores de acciones deseables para un conjunto de estados. "
   ]
  },
  {
   "cell_type": "code",
   "execution_count": 37,
   "metadata": {},
   "outputs": [
    {
     "name": "stdout",
     "output_type": "stream",
     "text": [
      "Batch shape: torch.Size([3, 4, 84, 84])\n",
      "Forma después de convoluciones: torch.Size([3, 32, 9, 9])\n",
      "Forma después de aplanamiento: torch.Size([3, 2592])\n",
      "Forma después de capa fully-connected: torch.Size([3, 256])\n",
      "Q-values: tensor([[ 0.0735, -0.0620,  0.0338, -0.0620],\n",
      "        [ 0.0730, -0.0756,  0.0552, -0.0538],\n",
      "        [ 0.0628, -0.0648,  0.0555, -0.0593]], device='mps:0',\n",
      "       grad_fn=<LinearBackward0>)\n",
      "Q-values: tensor([[-0.0620],\n",
      "        [ 0.0552],\n",
      "        [-0.0593]], device='mps:0', grad_fn=<GatherBackward0>)\n"
     ]
    }
   ],
   "source": [
    "# Creamos 3 observaciones aleatorias para probar el modelo\n",
    "obs_ran1 = torch.rand(4, 84, 84)\n",
    "obs_ran2 = torch.rand(4, 84, 84)\n",
    "obs_ran3 = torch.rand(4, 84, 84)\n",
    "\n",
    "batch = torch.stack([obs_ran1, obs_ran2, obs_ran3], dim=0).to(DEVICE) # shape: (3, 4, 84, 84)\n",
    "print(f\"Batch shape: {batch.shape}\")\n",
    "\n",
    "actions =  torch.tensor([1, 2, 3], device=DEVICE).unsqueeze(1) # queremos la acción 1 para la primera observación, la acción 2 para la segunda y la acción 3 para la tercera\n",
    "\n",
    "Q_test = cnn_model(batch)\n",
    "print(f\"Q-values: {Q_test}\")\n",
    "print(f\"Q-values: {Q_test.gather(1, actions)}\") # https://pytorch.org/docs/main/generated/torch.gather.html"
   ]
  },
  {
   "cell_type": "markdown",
   "metadata": {},
   "source": [
    "## Phi \n",
    "\n",
    "La función para procesar los estados (phi en el paper) que es necesaria para poder usar el modelo de Pytorch con las representaciones de gym. Esta función pasa una observación de gym a un tensor de Pytorch y la normaliza.\n",
    "\n",
    "> Técnicamente la función phi tiene más responsabilidades, como la de apilar los frames y el downsampling. En nuestro caso se lo delegamos a los wrappers de gymnasium."
   ]
  },
  {
   "cell_type": "code",
   "execution_count": 38,
   "metadata": {
    "id": "oegpMg25t9I9",
    "pycharm": {
     "name": "#%%\n"
    }
   },
   "outputs": [
    {
     "name": "stdout",
     "output_type": "stream",
     "text": [
      "Observation shape: torch.Size([4, 84, 84])\n"
     ]
    }
   ],
   "source": [
    "def process_state(obs):\n",
    "    \"\"\"\n",
    "    Preprocess the state to be used as input for the model (transform to tensor).\n",
    "    \"\"\"\n",
    "    return torch.tensor(obs, dtype=torch.float32, device=DEVICE) / 255.0\n",
    "\n",
    "obs, _ = env.reset()\n",
    "obs_tensor = process_state(obs)\n",
    "print(f\"Observation shape: {obs_tensor.shape}\")"
   ]
  },
  {
   "cell_type": "markdown",
   "metadata": {
    "id": "z9B7ZY9Htj_F",
    "pycharm": {
     "name": "#%% md\n"
    }
   },
   "source": [
    "## Agente\n",
    "\n",
    "Vamos a definir una clase agente (abstracto), encargado de interactuar con el ambiente y entrenar los modelos. Los métdos definidos deben funcionar para ambos problemas simplemente cambiando el modelo a utilizar para cada ambiente.\n",
    "\n",
    "Abajo dejamos un esqueleto del mismo y las funciones a completar. Recomendamos no alterar la estructura del mismo, pero pueden definir las funciones auxiliares que consideren necesarias.\n",
    "\n",
    "> Para implementar esta funcionalidad se debe modificar los archivos **abstract_agent.py** y **dqn_agent.py**.\n",
    "\n",
    "Funciones a completar:\n",
    "\n",
    "\n",
    "1. **init**: que inicializa los parametros del agente.\n",
    "\n",
    "2. **compute_epsilon**: que computa el valor actual de epsilon en base al número de pasos actuales y si esta entrenando o no.\n",
    "\n",
    "3. **select_action**: Seleccionando acciones \"epsilongreedy-mente\" si estamos entranando y completamente greedy en otro caso.\n",
    "\n",
    "4. **train**: que entrena el agente por un número dado de episodios de largo determinado.\n",
    "\n",
    "5. **record_test_episode**: para grabar un episodio con el agente siempre seleccionando la mejor accion conocida."
   ]
  },
  {
   "cell_type": "markdown",
   "metadata": {
    "id": "BOD-ENZRtyMt",
    "pycharm": {
     "name": "#%% md\n"
    }
   },
   "source": [
    "## Entrenamiento"
   ]
  },
  {
   "cell_type": "code",
   "execution_count": null,
   "metadata": {},
   "outputs": [],
   "source": [
    "#Hiperparámetros de entrenamiento del agente DQN\n",
    "TOTAL_STEPS = 10_000_000\n",
    "EPISODES = 10_000\n",
    "STEPS_PER_EPISODE = 20_000\n",
    "\n",
    "EPSILON_INI = 1\n",
    "EPSILON_MIN = 0.05\n",
    "EPSILON_ANNEAL_STEPS = 1_000_000\n",
    "\n",
    "EPISODE_BLOCK = 100\n",
    "\n",
    "BATCH_SIZE = 32\n",
    "BUFFER_SIZE = 30_000\n",
    "\n",
    "GAMMA = 0.995\n",
    "LEARNING_RATE = 1e-5"
   ]
  },
  {
   "cell_type": "code",
   "execution_count": 56,
   "metadata": {
    "id": "BsTl-pFqt10b",
    "pycharm": {
     "name": "#%%\n"
    }
   },
   "outputs": [
    {
     "name": "stderr",
     "output_type": "stream",
     "text": [
      "A.L.E: Arcade Learning Environment (version 0.10.2+unknown)\n",
      "[Powered by Stella]\n",
      "Game console created:\n",
      "  ROM file:  /opt/anaconda3/envs/obl_taller_ia/lib/python3.12/site-packages/ale_py/roms/breakout.bin\n",
      "  Cart Name: Breakout - Breakaway IV (1978) (Atari)\n",
      "  Cart MD5:  f34f08e5eb96e500e851a80be3277a56\n",
      "  Display Format:  AUTO-DETECT ==> NTSC\n",
      "  ROM Size:        2048\n",
      "  Bankswitch Type: AUTO-DETECT ==> 2K\n",
      "\n",
      "Running ROM file...\n",
      "Random seed is 481575448\n",
      "Entrenando:   1%|          | 77/10000 [02:51<6:07:21,  2.22s/episode, reward=1.22, epsilon=0.987, steps=14160]\n"
     ]
    },
    {
     "ename": "RuntimeError",
     "evalue": "MPS backend out of memory (MPS allocated: 18.12 GB, other allocations: 10.78 MB, max allowed: 18.13 GB). Tried to allocate 256 bytes on private pool. Use PYTORCH_MPS_HIGH_WATERMARK_RATIO=0.0 to disable upper limit for memory allocations (may cause system failure).",
     "output_type": "error",
     "traceback": [
      "\u001b[31m---------------------------------------------------------------------------\u001b[39m",
      "\u001b[31mRuntimeError\u001b[39m                              Traceback (most recent call last)",
      "\u001b[36mCell\u001b[39m\u001b[36m \u001b[39m\u001b[32mIn[56]\u001b[39m\u001b[32m, line 17\u001b[39m\n\u001b[32m     13\u001b[39m net = DQN_CNN_Model(env.observation_space.shape, env.action_space.n).to(DEVICE)\n\u001b[32m     15\u001b[39m dqn_agent = DQNAgent(env, net, process_state, BUFFER_SIZE, BATCH_SIZE, LEARNING_RATE, GAMMA, epsilon_i=EPSILON_INI, epsilon_f=EPSILON_MIN, epsilon_anneal_steps=EPSILON_ANNEAL_STEPS, episode_block=EPISODE_BLOCK, device=DEVICE)\n\u001b[32m---> \u001b[39m\u001b[32m17\u001b[39m dqn_rewards = \u001b[43mdqn_agent\u001b[49m\u001b[43m.\u001b[49m\u001b[43mtrain\u001b[49m\u001b[43m(\u001b[49m\u001b[43mEPISODES\u001b[49m\u001b[43m,\u001b[49m\u001b[43m \u001b[49m\u001b[43mSTEPS_PER_EPISODE\u001b[49m\u001b[43m,\u001b[49m\u001b[43m \u001b[49m\u001b[43mTOTAL_STEPS\u001b[49m\u001b[43m)\u001b[49m\n\u001b[32m     19\u001b[39m env.close()\n",
      "\u001b[36mFile \u001b[39m\u001b[32m~/Desktop/obligatorio (1)/abstract_agent.py:78\u001b[39m, in \u001b[36mAgent.train\u001b[39m\u001b[34m(self, number_episodes, max_steps_episode, max_steps)\u001b[39m\n\u001b[32m     75\u001b[39m \u001b[38;5;28mself\u001b[39m.memory.add(state_phi, action, reward, done, next_phi)\n\u001b[32m     77\u001b[39m \u001b[38;5;66;03m# Llamar a update_weights() para entrenar modelo\u001b[39;00m\n\u001b[32m---> \u001b[39m\u001b[32m78\u001b[39m \u001b[38;5;28;43mself\u001b[39;49m\u001b[43m.\u001b[49m\u001b[43mupdate_weights\u001b[49m\u001b[43m(\u001b[49m\u001b[43m)\u001b[49m\n\u001b[32m     80\u001b[39m \u001b[38;5;66;03m# Actualizar state y state_phi al siguiente estado\u001b[39;00m\n\u001b[32m     81\u001b[39m state_phi = next_phi\n",
      "\u001b[36mFile \u001b[39m\u001b[32m<string>:30\u001b[39m, in \u001b[36mupdate_weights\u001b[39m\u001b[34m(self)\u001b[39m\n",
      "\u001b[36mFile \u001b[39m\u001b[32m/opt/anaconda3/envs/obl_taller_ia/lib/python3.12/site-packages/torch/_tensor.py:648\u001b[39m, in \u001b[36mTensor.backward\u001b[39m\u001b[34m(self, gradient, retain_graph, create_graph, inputs)\u001b[39m\n\u001b[32m    638\u001b[39m \u001b[38;5;28;01mif\u001b[39;00m has_torch_function_unary(\u001b[38;5;28mself\u001b[39m):\n\u001b[32m    639\u001b[39m     \u001b[38;5;28;01mreturn\u001b[39;00m handle_torch_function(\n\u001b[32m    640\u001b[39m         Tensor.backward,\n\u001b[32m    641\u001b[39m         (\u001b[38;5;28mself\u001b[39m,),\n\u001b[32m   (...)\u001b[39m\u001b[32m    646\u001b[39m         inputs=inputs,\n\u001b[32m    647\u001b[39m     )\n\u001b[32m--> \u001b[39m\u001b[32m648\u001b[39m \u001b[43mtorch\u001b[49m\u001b[43m.\u001b[49m\u001b[43mautograd\u001b[49m\u001b[43m.\u001b[49m\u001b[43mbackward\u001b[49m\u001b[43m(\u001b[49m\n\u001b[32m    649\u001b[39m \u001b[43m    \u001b[49m\u001b[38;5;28;43mself\u001b[39;49m\u001b[43m,\u001b[49m\u001b[43m \u001b[49m\u001b[43mgradient\u001b[49m\u001b[43m,\u001b[49m\u001b[43m \u001b[49m\u001b[43mretain_graph\u001b[49m\u001b[43m,\u001b[49m\u001b[43m \u001b[49m\u001b[43mcreate_graph\u001b[49m\u001b[43m,\u001b[49m\u001b[43m \u001b[49m\u001b[43minputs\u001b[49m\u001b[43m=\u001b[49m\u001b[43minputs\u001b[49m\n\u001b[32m    650\u001b[39m \u001b[43m\u001b[49m\u001b[43m)\u001b[49m\n",
      "\u001b[36mFile \u001b[39m\u001b[32m/opt/anaconda3/envs/obl_taller_ia/lib/python3.12/site-packages/torch/autograd/__init__.py:353\u001b[39m, in \u001b[36mbackward\u001b[39m\u001b[34m(tensors, grad_tensors, retain_graph, create_graph, grad_variables, inputs)\u001b[39m\n\u001b[32m    348\u001b[39m     retain_graph = create_graph\n\u001b[32m    350\u001b[39m \u001b[38;5;66;03m# The reason we repeat the same comment below is that\u001b[39;00m\n\u001b[32m    351\u001b[39m \u001b[38;5;66;03m# some Python versions print out the first line of a multi-line function\u001b[39;00m\n\u001b[32m    352\u001b[39m \u001b[38;5;66;03m# calls in the traceback and some print out the last line\u001b[39;00m\n\u001b[32m--> \u001b[39m\u001b[32m353\u001b[39m \u001b[43m_engine_run_backward\u001b[49m\u001b[43m(\u001b[49m\n\u001b[32m    354\u001b[39m \u001b[43m    \u001b[49m\u001b[43mtensors\u001b[49m\u001b[43m,\u001b[49m\n\u001b[32m    355\u001b[39m \u001b[43m    \u001b[49m\u001b[43mgrad_tensors_\u001b[49m\u001b[43m,\u001b[49m\n\u001b[32m    356\u001b[39m \u001b[43m    \u001b[49m\u001b[43mretain_graph\u001b[49m\u001b[43m,\u001b[49m\n\u001b[32m    357\u001b[39m \u001b[43m    \u001b[49m\u001b[43mcreate_graph\u001b[49m\u001b[43m,\u001b[49m\n\u001b[32m    358\u001b[39m \u001b[43m    \u001b[49m\u001b[43minputs\u001b[49m\u001b[43m,\u001b[49m\n\u001b[32m    359\u001b[39m \u001b[43m    \u001b[49m\u001b[43mallow_unreachable\u001b[49m\u001b[43m=\u001b[49m\u001b[38;5;28;43;01mTrue\u001b[39;49;00m\u001b[43m,\u001b[49m\n\u001b[32m    360\u001b[39m \u001b[43m    \u001b[49m\u001b[43maccumulate_grad\u001b[49m\u001b[43m=\u001b[49m\u001b[38;5;28;43;01mTrue\u001b[39;49;00m\u001b[43m,\u001b[49m\n\u001b[32m    361\u001b[39m \u001b[43m\u001b[49m\u001b[43m)\u001b[49m\n",
      "\u001b[36mFile \u001b[39m\u001b[32m/opt/anaconda3/envs/obl_taller_ia/lib/python3.12/site-packages/torch/autograd/graph.py:824\u001b[39m, in \u001b[36m_engine_run_backward\u001b[39m\u001b[34m(t_outputs, *args, **kwargs)\u001b[39m\n\u001b[32m    822\u001b[39m     unregister_hooks = _register_logging_hooks_on_whole_graph(t_outputs)\n\u001b[32m    823\u001b[39m \u001b[38;5;28;01mtry\u001b[39;00m:\n\u001b[32m--> \u001b[39m\u001b[32m824\u001b[39m     \u001b[38;5;28;01mreturn\u001b[39;00m \u001b[43mVariable\u001b[49m\u001b[43m.\u001b[49m\u001b[43m_execution_engine\u001b[49m\u001b[43m.\u001b[49m\u001b[43mrun_backward\u001b[49m\u001b[43m(\u001b[49m\u001b[43m  \u001b[49m\u001b[38;5;66;43;03m# Calls into the C++ engine to run the backward pass\u001b[39;49;00m\n\u001b[32m    825\u001b[39m \u001b[43m        \u001b[49m\u001b[43mt_outputs\u001b[49m\u001b[43m,\u001b[49m\u001b[43m \u001b[49m\u001b[43m*\u001b[49m\u001b[43margs\u001b[49m\u001b[43m,\u001b[49m\u001b[43m \u001b[49m\u001b[43m*\u001b[49m\u001b[43m*\u001b[49m\u001b[43mkwargs\u001b[49m\n\u001b[32m    826\u001b[39m \u001b[43m    \u001b[49m\u001b[43m)\u001b[49m  \u001b[38;5;66;03m# Calls into the C++ engine to run the backward pass\u001b[39;00m\n\u001b[32m    827\u001b[39m \u001b[38;5;28;01mfinally\u001b[39;00m:\n\u001b[32m    828\u001b[39m     \u001b[38;5;28;01mif\u001b[39;00m attach_logging_hooks:\n",
      "\u001b[31mRuntimeError\u001b[39m: MPS backend out of memory (MPS allocated: 18.12 GB, other allocations: 10.78 MB, max allowed: 18.13 GB). Tried to allocate 256 bytes on private pool. Use PYTORCH_MPS_HIGH_WATERMARK_RATIO=0.0 to disable upper limit for memory allocations (may cause system failure)."
     ]
    }
   ],
   "source": [
    "from dqn_agent import DQNAgent\n",
    "\n",
    "env = make_env(ENV_NAME,\n",
    "                video_folder='./videos/dqn_training',\n",
    "                name_prefix=\"breakout\",\n",
    "                record_every=500,\n",
    "                grayscale=GRAY_SCALE,\n",
    "                screen_size=SCREEN_SIZE,\n",
    "                stack_frames=NUM_STACKED_FRAMES,\n",
    "                skip_frames=SKIP_FRAMES\n",
    "                )\n",
    "\n",
    "net = DQN_CNN_Model(env.observation_space.shape, env.action_space.n).to(DEVICE)\n",
    "\n",
    "dqn_agent = DQNAgent(env, net, process_state, BUFFER_SIZE, BATCH_SIZE, LEARNING_RATE, GAMMA, epsilon_i=EPSILON_INI, epsilon_f=EPSILON_MIN, epsilon_anneal_steps=EPSILON_ANNEAL_STEPS, episode_block=EPISODE_BLOCK, device=DEVICE)\n",
    "\n",
    "dqn_rewards = dqn_agent.train(EPISODES, STEPS_PER_EPISODE, TOTAL_STEPS)\n",
    "\n",
    "env.close()"
   ]
  },
  {
   "cell_type": "code",
   "execution_count": null,
   "metadata": {},
   "outputs": [],
   "source": [
    "env = make_env(ENV_NAME,\n",
    "                video_folder='./videos/dqn_validation',\n",
    "                name_prefix=\"breakout\",\n",
    "                record_every=1,\n",
    "                grayscale=GRAY_SCALE,\n",
    "                screen_size=SCREEN_SIZE,\n",
    "                stack_frames=NUM_STACKED_FRAMES,\n",
    "                skip_frames=SKIP_FRAMES\n",
    "                )\n",
    "\n",
    "dqn_agent.play(env, episodes=3)\n",
    "\n",
    "env.close()"
   ]
  },
  {
   "cell_type": "code",
   "execution_count": null,
   "metadata": {},
   "outputs": [],
   "source": [
    "# Ruta al archivo de vídeo en tu sistema de ficheros\n",
    "video_path = \"./videos/dqn_validation/breakout-episode-0.mp4\"\n",
    "\n",
    "# Muestra el vídeo\n",
    "Video(video_path, embed=True, width=600)"
   ]
  },
  {
   "cell_type": "markdown",
   "metadata": {},
   "source": [
    "#### Graficas \n",
    "..."
   ]
  },
  {
   "cell_type": "markdown",
   "metadata": {
    "id": "QETh1K7pt9I_"
   },
   "source": [
    "# Double Deep Q Learning\n",
    "\n",
    "Double DQN mejora la versión clásica de DQN corrigiendo el sesgo de sobreestimación de los valores \n",
    "𝑄\n",
    "Q. Para ello, desacopla la selección de la acción de su evaluación: en cada paso, la red online elige la acción que maximiza \n",
    "𝑄\n",
    "Q, pero la red objetivo distinta estima el valor de esa acción. Esta separación reduce el sesgo hacia valores demasiado optimistas y aporta mayor estabilidad al entrenamiento. El resto de la estructura —replay buffer, política ε-greedy, etc— se mantiene igual que en DQN, aprovechando así un diseño casi idéntico al original pero con resultados más fiables .\n",
    "\n",
    "Fuente: [arXiv:1509.06461](https://arxiv.org/abs/1509.06461)\n",
    "\n",
    "> Vamos a utilizar el mismo modelo de red neuronal creado para el problema anterior y la misma implementación de memoria, dejamos un esqueleto de un agente de Double Deep Q learning para completar en el archivo **double_dqn_agent.py**"
   ]
  },
  {
   "cell_type": "code",
   "execution_count": null,
   "metadata": {
    "id": "kDNkAtdMt9I_",
    "pycharm": {
     "name": "#%%\n"
    }
   },
   "outputs": [],
   "source": [
    "from double_dqn_agent import DoubleDQNAgent\n",
    "\n",
    "env = make_env(ENV_NAME,\n",
    "                video_folder='./videos/ddqn_training',\n",
    "                name_prefix=\"breakout\",\n",
    "                record_every=500,\n",
    "                grayscale=GRAY_SCALE,\n",
    "                screen_size=SCREEN_SIZE,\n",
    "                stack_frames=NUM_STACKED_FRAMES,\n",
    "                skip_frames=SKIP_FRAMES\n",
    "                )\n",
    "\n",
    "\n",
    "modelo_a = DQN_CNN_Model(env.observation_space.shape, env.action_space.n).to(DEVICE)\n",
    "modelo_b = DQN_CNN_Model(env.observation_space.shape, env.action_space.n).to(DEVICE)\n",
    "\n",
    "ddqn_agent = DoubleDQNAgent(env, modelo_a, modelo_b, process_state, BUFFER_SIZE, BATCH_SIZE, LEARNING_RATE, GAMMA, epsilon_i= EPSILON_INI, epsilon_f=EPSILON_MIN, epsilon_anneal_steps=EPSILON_ANNEAL_STEPS, episode_block = EPISODE_BLOCK, device=DEVICE)\n",
    "\n",
    "ddqn_rewards = ddqn_agent.train(EPISODES, STEPS_PER_EPISODE, TOTAL_STEPS)"
   ]
  },
  {
   "cell_type": "code",
   "execution_count": null,
   "metadata": {},
   "outputs": [],
   "source": [
    "env = make_env(ENV_NAME,\n",
    "                video_folder='./videos/ddqn_validation',\n",
    "                name_prefix=\"breakout\",\n",
    "                record_every=1,\n",
    "                grayscale=GRAY_SCALE,\n",
    "                screen_size=SCREEN_SIZE,\n",
    "                stack_frames=NUM_STACKED_FRAMES,\n",
    "                skip_frames=SKIP_FRAMES\n",
    "                )\n",
    "\n",
    "ddqn_agent.play(env, episodes=3)\n",
    "\n",
    "env.close()"
   ]
  },
  {
   "cell_type": "code",
   "execution_count": null,
   "metadata": {},
   "outputs": [],
   "source": [
    "# Ruta al archivo de vídeo en tu sistema de ficheros\n",
    "video_path = \"./videos/ddqn_validation/breakout-episode-0.mp4\"\n",
    "\n",
    "# Muestra el vídeo\n",
    "Video(video_path, embed=True, width=600)"
   ]
  },
  {
   "cell_type": "markdown",
   "metadata": {},
   "source": [
    "#### Graficas \n",
    "..."
   ]
  },
  {
   "cell_type": "markdown",
   "metadata": {},
   "source": [
    "# Experimentación\n",
    "Aquí con libertad total, pueden probar diferentes arquitecturas de red, diferentes hiperparámetros, diferentes técnicas de exploración, etc.\n",
    "..."
   ]
  },
  {
   "cell_type": "markdown",
   "metadata": {
    "id": "YNNvsKiEt9I_"
   },
   "source": [
    "# Comparaciones, Resultados, Comentarios...\n",
    "De aquí en adelante son libres de presentar como gusten los resultados comparativos de las técnicas.\n",
    "..."
   ]
  }
 ],
 "metadata": {
  "accelerator": "GPU",
  "colab": {
   "provenance": []
  },
  "kernelspec": {
   "display_name": "obl_taller_ia",
   "language": "python",
   "name": "python3"
  },
  "language_info": {
   "codemirror_mode": {
    "name": "ipython",
    "version": 3
   },
   "file_extension": ".py",
   "mimetype": "text/x-python",
   "name": "python",
   "nbconvert_exporter": "python",
   "pygments_lexer": "ipython3",
   "version": "3.12.10"
  }
 },
 "nbformat": 4,
 "nbformat_minor": 1
}
