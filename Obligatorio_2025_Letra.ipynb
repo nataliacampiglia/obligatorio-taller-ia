{
 "cells": [
  {
   "cell_type": "markdown",
   "metadata": {},
   "source": [
    "# Obligatorio - Taller Agentes Inteligentes 2025\n",
    "\n",
    "En este trabajo obligatorio aplicaremos los conceptos vistos en el curso para diseñar, implementar y evaluar agentes capaces de aprender a jugar al clásico **Breakout** de Atari, utilizando el entorno provisto por Farama Gymnasium ([https://ale.farama.org/environments/breakout/](https://ale.farama.org/environments/breakout/)). \n",
    "\n",
    "<p align=\"center\">\n",
    "  <img src=\"https://media.tenor.com/oMxHgRrISJsAAAAM/atari-deep-learning.gif\" alt=\"Atari Deep Learning\"/>\n",
    "</p>\n",
    "\n",
    "\n",
    "El ejercicio se enmarca en un contexto de aprendizaje práctico, donde trabajaremos con las interfaces estándar de Gymnasium para:\n",
    "\n",
    "1. **Profundizar en algoritmos de valor**: implementaremos y compararemos dos variantes de Q-Learning basadas en redes neuronales profundas:\n",
    "   * **Deep Q Learning (DQN)**\n",
    "   * **Double Deep Q Learning (DDQN)**\n",
    "2. **Evaluar rendimiento y estabilidad**: registraremos las recompensas obtenidas durante el entrenamiento de cada agente y analizaremos su comportamiento mediante gráficas comparativas.\n",
    "3. **Demostrar resultados de forma visual**: capturaremos vídeos que muestren a cada agente “resolviendo” el entorno, entendido como la habilidad de romper al menos cinco bloques en una partida.\n",
    "\n",
    "Debido a las limitaciones de tiempo y cómputo propias de un entorno de curso, no se espera entrenar modelos durante más de diez horas por agente. Por ello, será fundamental:\n",
    "\n",
    "* Integrar puntos de **checkpoint** para guardar periódicamente los pesos de la red.\n",
    "* Seguir en los puntos 2 y 3 la arquitectura y técnicas originales propuestas en los papers seminales de DQN y DDQN, dejando la experimentación adicional para el punto extra.\n",
    "* Flexibilizar la notebook de guía: pueden reorganizarla o dividirla en múltiples archivos según su conveniencia.\n"
   ]
  },
  {
   "cell_type": "markdown",
   "metadata": {},
   "source": [
    "## Objetivos y tareas\n",
    "\n",
    "1. **Completar la implementación**\n",
    "   * Rellenar el código faltante en la notebook y en los módulos auxiliares para que los agentes puedan interactuar con el entorno de Breakout.\n",
    "2. **Entrenar agentes**\n",
    "   * Ajustar y entrenar un **DQN** que alcance la condición de “resolver” (romper ≥ 10 bloques).\n",
    "   * Ajustar y entrenar un **DDQN** con la misma meta de desempeño.\n",
    "3. **Visualizar y analizar resultados**\n",
    "   * Generar **gráficas comparativas** de las recompensas obtenidas por ambos agentes en el mismo entorno (una gráfica por ambiente). Además se sugiere gráficas que muestren el valor de la función de valor Q para cada agente.\n",
    "   * Extraer **al menos dos conclusiones** por gráfica, comentando diferencias en convergencia, estabilidad y comportamiento exploratorio.\n",
    "4. **Registro de demostraciones**\n",
    "   * Grabar y entregar un **video demostrativo** de cada agente resolviendo el entorno.\n",
    "5. **Experimentación**\n",
    "   * Probar otras arquitecturas, técnicas de mejora o módulos de procesamiento de entradas más avanzados, documentando brevemente su impacto/"
   ]
  },
  {
   "cell_type": "markdown",
   "metadata": {},
   "source": [
    "## Criterios de evaluación\n",
    "\n",
    "| Criterio                                  | Descripción                                                  | Peso |\n",
    "| ----------------------------------------- | ------------------------------------------------------------ | ---- |\n",
    "| **Implementación y rendimiento**          | DQN y DDQN completados; cada agente rompe ≥ 10 bloques       | 40%  |\n",
    "| **Estructura y narrativa de la notebook** | Secciones claras, explicación de decisiones, “historia”      | 20%  |\n",
    "| **Análisis de resultados**                | Gráficas comparativas; ≥ 2 conclusiones por gráfico          | 20%  |\n",
    "| **Presentación visual**                   | Vídeos demostrativos de cada agente                          | 10%  |\n",
    "| **Experimentación**                       | Experimentación adicional documentada y analizada brevemente | 10%  |"
   ]
  },
  {
   "cell_type": "markdown",
   "metadata": {},
   "source": [
    "## Bibliografía\n",
    "\n",
    "* **Mnih, V.**, Kavukcuoglu, K., Silver, D., Rusu, A. A., Veness, J., Bellemare, M. G., … Hassabis, D. (2013). *Playing Atari with Deep Reinforcement Learning*. [arXiv:1312.5602](https://arxiv.org/abs/1312.5602)\n",
    "* **van Hasselt, H.**, Guez, A., & Silver, D. (2015). *Deep Reinforcement Learning with Double Q-learning*. [arXiv:1509.06461](https://arxiv.org/abs/1509.06461)\n",
    "* **Sutton, R. S.**, & Barto, A. G. (2018). *Reinforcement Learning: An Introduction* (2nd ed.), capítulo 16.5: “Human-level Video Game Play”. MIT Press."
   ]
  },
  {
   "attachments": {},
   "cell_type": "markdown",
   "metadata": {},
   "source": [
    "# Import from github"
   ]
  },
  {
   "cell_type": "code",
   "execution_count": 1,
   "metadata": {},
   "outputs": [],
   "source": [
    "# !git clone https://github.com/nataliacampiglia/obligatorio-taller-ia.git\n",
    "# %cd obligatorio-taller-ia\n",
    "# !git pull"
   ]
  },
  {
   "cell_type": "markdown",
   "metadata": {},
   "source": [
    "## Setup"
   ]
  },
  {
   "cell_type": "markdown",
   "metadata": {
    "id": "gc6t9etEt9I2",
    "pycharm": {
     "name": "#%%\n"
    }
   },
   "source": [
    "**Imports**"
   ]
  },
  {
   "cell_type": "code",
   "execution_count": 2,
   "metadata": {
    "id": "cwHCw6PMt9I3",
    "pycharm": {
     "name": "#%%\n"
    }
   },
   "outputs": [],
   "source": [
    "import os\n",
    "import torch\n",
    "import numpy as np\n",
    "import random\n",
    "import numpy as np\n",
    "import torch.nn as nn\n",
    "import torch.nn.functional as F\n",
    "from torchinfo import summary\n",
    "import gymnasium\n",
    "import ale_py\n",
    "from utils import make_env, show_observation_stack\n",
    "from IPython.display import Video\n"
   ]
  },
  {
   "cell_type": "code",
   "execution_count": 3,
   "metadata": {},
   "outputs": [
    {
     "name": "stdout",
     "output_type": "stream",
     "text": [
      "Device: mps\n"
     ]
    }
   ],
   "source": [
    "# Import constants\n",
    "from constants import (\n",
    "    SEED, ENV_NAME, DEVICE, GRAY_SCALE, SCREEN_SIZE, NUM_STACKED_FRAMES, SKIP_FRAMES,\n",
    "    # training\n",
    "    TOTAL_STEPS, EPISODES, STEPS_PER_EPISODE,\n",
    "    BUFFER_SIZE, BATCH_SIZE, LEARNING_RATE, GAMMA, EPSILON_INI, EPSILON_MIN, EPSILON_ANNEAL_STEPS, EPISODE_BLOCK\n",
    ")\n"
   ]
  },
  {
   "cell_type": "markdown",
   "metadata": {},
   "source": [
    "ALE (Atari Learning Environment) es un entorno de aprendizaje para videojuegos de Atari. En este caso, utilizaremos el entorno de Breakout. Es necesario entender que se separa el entorno de los roms de Atari, que son los juegos en sí. El entorno de ALE permite interactuar con los juegos de Atari a través de una API estándar, facilitando la implementación de algoritmos de aprendizaje por refuerzo.\n",
    "\n",
    "Debemos instalar los roms por separado, para ello primero tenemos que saber donde están los roms de Atari. "
   ]
  },
  {
   "cell_type": "code",
   "execution_count": 4,
   "metadata": {},
   "outputs": [
    {
     "name": "stdout",
     "output_type": "stream",
     "text": [
      "/opt/miniconda3/envs/obl_taller_ia/lib/python3.12/site-packages/ale_py/roms\n"
     ]
    }
   ],
   "source": [
    "gymnasium.register_envs(ale_py) # registramos todos los entornos de ale_py\n",
    "ruta_init = ale_py.roms.__file__ # debemos saber donde se encuentra la carpeta roms\n",
    "ALE_ROMS_PATH = os.path.dirname(ruta_init)\n",
    "print(ALE_ROMS_PATH)"
   ]
  },
  {
   "cell_type": "markdown",
   "metadata": {},
   "source": [
    "Podemos usar los siguientes comando para instalar los roms y colocalos en la carpeta correcta."
   ]
  },
  {
   "cell_type": "code",
   "execution_count": 5,
   "metadata": {},
   "outputs": [],
   "source": [
    "# !pip install \"autorom[accept-rom-license]\"\n",
    "# !AutoROM --accept-license --install-dir {ALE_ROMS_PATH}"
   ]
  },
  {
   "cell_type": "markdown",
   "metadata": {},
   "source": [
    "Fijamos la semilla para que los resultados sean reproducibles"
   ]
  },
  {
   "cell_type": "code",
   "execution_count": 6,
   "metadata": {},
   "outputs": [],
   "source": [
    "torch.manual_seed(SEED)\n",
    "torch.backends.cudnn.deterministic=True # https://discuss.pytorch.org/t/what-is-the-differenc-between-cudnn-deterministic-and-cudnn-benchmark/38054\n",
    "torch.backends.cudnn.benchmark=True # https://discuss.pytorch.org/t/what-does-torch-backends-cudnn-benchmark-do/5936/4\n",
    "np.random.seed(SEED)\n",
    "random.seed(SEED)"
   ]
  },
  {
   "cell_type": "markdown",
   "metadata": {},
   "source": [
    "## Preprocesando Atari\n",
    "\n",
    "Para reproducir fielmente el enfoque de Mnih et al. (2013) y reducir la carga computacional al trabajar con imágenes de Atari (210 × 160 píxeles, 128 colores), aplicamos el siguiente preprocesado φ a las últimas **4** frames del entorno:\n",
    "\n",
    "1. **Conversión a escala de grises**\n",
    "   Eliminamos la información de color (GRAYSCALE = True), pues la luminosidad es suficiente para capturar la dinámica de juego y reduce drásticamente la dimensionalidad de la entrada.\n",
    "\n",
    "2. **Down-sampling y recorte**\n",
    "   * Redimensionamos la imagen original a 110 × 84 píxeles, manteniendo la proporción horizontal.\n",
    "   * Recortamos un área central de 84 × 84 píxeles que contiene la “zona de juego”, descartando bordes innecesarios.\n",
    "     Este paso (SCREEN_SIZE = 84) no solo concentra la atención del modelo en la región relevante, sino que también garantiza un tamaño cuadrado compatible con las implementaciones de convoluciones en GPU.\n",
    "\n",
    "3. **Saltos temporales (frame skipping)**\n",
    "   Procesamos cada 4 frames (SKIP_FRAMES = 4), repitiendo la misma acción durante esos pasos. Esto reduce la redundancia temporal, acelera el entrenamiento y mantiene la coherencia del movimiento de la paleta y la bola.\n",
    "\n",
    "4. **Apilamiento de frames**\n",
    "   Finalmente, acumulamos las últimas 4 imágenes preprocesadas (NUM_STACKED_FRAMES = 4) en un único tensor de entrada. Así el agente puede inferir la velocidad y dirección de los elementos móviles a partir de la diferencia entre frames.\n",
    "\n",
    "Este esquema de preprocesado es fundamental para disminuir el espacio de entrada, acelerar las convoluciones y proporcionar al Q-net una representación compacta y rica en información dinámica, tal como se describe en el algoritmo 1 del paper original .\n",
    "\n",
    "> Se recomienda ver el método `make_env` en el archivo `utils.py` para entender cómo se implementa este preprocesado. "
   ]
  },
  {
   "cell_type": "code",
   "execution_count": 7,
   "metadata": {
    "colab": {
     "base_uri": "https://localhost:8080/"
    },
    "id": "loVxQPrwt9I5",
    "outputId": "18b7ed97-88dd-4b1e-a2cc-b2636686bfc7"
   },
   "outputs": [
    {
     "name": "stderr",
     "output_type": "stream",
     "text": [
      "A.L.E: Arcade Learning Environment (version 0.10.2+unknown)\n",
      "[Powered by Stella]\n",
      "Game console created:\n",
      "  ROM file:  /opt/miniconda3/envs/obl_taller_ia/lib/python3.12/site-packages/ale_py/roms/breakout.bin\n",
      "  Cart Name: Breakout - Breakaway IV (1978) (Atari)\n",
      "  Cart MD5:  f34f08e5eb96e500e851a80be3277a56\n",
      "  Display Format:  AUTO-DETECT ==> NTSC\n",
      "  ROM Size:        2048\n",
      "  Bankswitch Type: AUTO-DETECT ==> 2K\n",
      "\n",
      "Running ROM file...\n",
      "Random seed is 1439959257\n",
      "/opt/miniconda3/envs/obl_taller_ia/lib/python3.12/site-packages/gymnasium/wrappers/rendering.py:283: UserWarning: \u001b[33mWARN: Overwriting existing videos at /Users/nataliacampigliastemphelet/master/obligatorio-taller-ia/videos/random folder (try specifying a different `video_folder` for the `RecordVideo` wrapper if this is not desired)\u001b[0m\n",
      "  logger.warn(\n"
     ]
    },
    {
     "data": {
      "image/png": "[encoded data removed]",
      "text/plain": [
       "<Figure size 640x480 with 1 Axes>"
      ]
     },
     "metadata": {},
     "output_type": "display_data"
    },
    {
     "data": {
      "image/png": "[encoded data removed]",
      "text/plain": [
       "<Figure size 640x480 with 1 Axes>"
      ]
     },
     "metadata": {},
     "output_type": "display_data"
    },
    {
     "data": {
      "image/png": "[encoded data removed]",
      "text/plain": [
       "<Figure size 640x480 with 1 Axes>"
      ]
     },
     "metadata": {},
     "output_type": "display_data"
    },
    {
     "data": {
      "image/png": "[encoded data removed]",
      "text/plain": [
       "<Figure size 640x480 with 1 Axes>"
      ]
     },
     "metadata": {},
     "output_type": "display_data"
    },
    {
     "name": "stdout",
     "output_type": "stream",
     "text": [
      "Episode 1 finished with total reward: 1\n"
     ]
    }
   ],
   "source": [
    "env = make_env(ENV_NAME,\n",
    "                video_folder='./videos/random',\n",
    "                name_prefix=\"breakout\",\n",
    "                record_every=1,\n",
    "                grayscale=GRAY_SCALE,\n",
    "                screen_size=SCREEN_SIZE,\n",
    "                stack_frames=NUM_STACKED_FRAMES,\n",
    "                skip_frames=SKIP_FRAMES\n",
    "                )\n",
    "\n",
    "for episode_num in range(1):\n",
    "    obs, info = env.reset()\n",
    "    show_observation_stack(obs)\n",
    "    reward_total = 0\n",
    "    episode_over = False\n",
    "    while not episode_over:\n",
    "        action = env.action_space.sample()  # seleccionamos una acción aleatoria\n",
    "        obs, reward, terminated, truncated, info = env.step(action)\n",
    "        reward_total += reward\n",
    "        episode_over = terminated or truncated\n",
    "    print(f\"Episode {episode_num + 1} finished with total reward: {reward_total}\")\n",
    "\n",
    "env.close()"
   ]
  },
  {
   "cell_type": "markdown",
   "metadata": {},
   "source": [
    "Además, podemos mostrar los videos capturados por el entorno de Atari de la siguiente manera:"
   ]
  },
  {
   "cell_type": "code",
   "execution_count": 8,
   "metadata": {},
   "outputs": [
    {
     "data": {
      "text/html": [
       "<video controls  width=\"600\" >\n",
       " <source src=\"data:video/mp4;base64,AAAAIGZ0eXBpc29tAAACAGlzb21pc28yYXZjMW1wNDEAAAAIZnJlZQAAUwRtZGF0AAACrgYF//+q3EXpvebZSLeWLNgg2SPu73gyNjQgLSBjb3JlIDE2NCByMzA5NSBiYWVlNDAwIC0gSC4yNjQvTVBFRy00IEFWQyBjb2RlYyAtIENvcHlsZWZ0IDIwMDMtMjAyMiAtIGh0dHA6Ly93d3cudmlkZW9sYW4ub3JnL3gyNjQuaHRtbCAtIG9wdGlvbnM6IGNhYmFjPTEgcmVmPTMgZGVibG9jaz0xOjA6MCBhbmFseXNlPTB4MzoweDExMyBtZT1oZXggc3VibWU9NyBwc3k9MSBwc3lfcmQ9MS4wMDowLjAwIG1peGVkX3JlZj0xIG1lX3JhbmdlPTE2IGNocm9tYV9tZT0xIHRyZWxsaXM9MSA4eDhkY3Q9MSBjcW09MCBkZWFkem9uZT0yMSwxMSBmYXN0X3Bza2lwPTEgY2hyb21hX3FwX29mZnNldD0tMiB0aHJlYWRzPTcgbG9va2FoZWFkX3RocmVhZHM9MSBzbGljZWRfdGhyZWFkcz0wIG5yPTAgZGVjaW1hdGU9MSBpbnRlcmxhY2VkPTAgYmx1cmF5X2NvbXBhdD0wIGNvbnN0cmFpbmVkX2ludHJhPTAgYmZyYW1lcz0zIGJfcHlyYW1pZD0yIGJfYWRhcHQ9MSBiX2JpYXM9MCBkaXJlY3Q9MSB3ZWlnaHRiPTEgb3Blbl9nb3A9MCB3ZWlnaHRwPTIga2V5aW50PTI1MCBrZXlpbnRfbWluPTI1IHNjZW5lY3V0PTQwIGludHJhX3JlZnJlc2g9MCByY19sb29rYWhlYWQ9NDAgcmM9Y3JmIG1idHJlZT0xIGNyZj0yMy4wIHFjb21wPTAuNjAgcXBtaW49MCBxcG1heD02OSBxcHN0ZXA9NCBpcF9yYXRpbz0xLjQwIGFxPTE6MS4wMACAAAAB8WWIhAAn//71sXwKaunqiXVOGaYIMAdNAfruTNfrGwYhk+DxpZScsziWQgfGLXjVJKqqRdSxA/2Kz0RBPXyYktQhY888x+iNuwyDcObrmdr7BdpXkDikYGYnVcqmnJSn+cK25yvi5+TukyKs0HO8B/jVIxfbnYV5lTcU8IhcWAnQ1mkqQhqkCDBFlqXLz6LEDAsZzEqOO+sG6x4kBUnSw6ZP+AxRPSK0+3vR1e0s8UvJUb8E820AQrbCysEqvo+dKutcgoL7/S7xC1Szux/R36xbPy1Z/0AAGukyDfPcCsZdGtiV3rAAZpwna5jaA+Z+2n3G4EwAAKKYYk+zWZYtltWsjdA3rpEFeh9TANpZnM/ROs/YUYNd7OSA0bhCkbNFYAZBeUTgcfMpv8aQpYCE2JJk399xAfU+6rJYSJ7skmJxPG3DeTHsPIbg08ROvG9vp+zoWER8cG/lxUKWvRJ/RZeEGPxLQgP1crofxdj7hy7V6yuMbnx+geTZir01BbLAK505F9a/Jonn36JS7Pwat5FAt8NPFZdexctr8L+Rx+mxXKdZ/fnLmF7fPFqAFDf4yG+wtVZ0M6ZTDTNSmaHRt7PGsb5Y/GamiA40w/15Zh8bSmhky0c+Zici1FGKkQGbKidLfj9pOrD2T5SI3XMPYMoRAAAAPkGaJGxCf/3xAGcbQ0AbPWM6V9P+G9SBrvrYYoNXzf0ynlvKc3R/N3MR3CS1Zqs8Uo3Uuf1UxwO0T37aKivwAAAAEEGeQniN/wDzVXf5oiI9pLkAAAAJAZ5hdEX/AKmAAAAADQGeY2pF/wE18p6GwIcAAAAcQZpnSahBaJlMCEf//eEAFzZaFNzz8SOmeHpl+QAAABJBnoVFESxfAT6u/bt5fTstPcEAAAAPAZ6makX/AT3T5DToZ88JAAAAREGaq0moQWyZTAhH//3hAEd4ahTrGoAFglM7dEerjCKA1WLPUHy51dmQgIKWmd9oxVY+hFAmAmI6T22SL7H1yfMSEHNcAAAAFkGeyUUVLG8C/lWZseIHUt7SXlhMKYQAAAAaAZ7odEX/A8oEkMsAD/QPyp30744PslwVW5EAAAAZAZ7qakX/A8CPljIYAfHjQGBQ8tV6ZXlOgwAAACNBmu1JqEFsmUwUTH/8hAEUWNmbejYMABQAkChkcyoAL3HplAAAABIBnwxqRf8Dym+f8YFmg53seF8AAAAjQZsPSeEKUmUwUsX/+lgCI9BRPUzEycInBo+WD+g9wjeKZEEAAAAUAZ8uakX/A8sCFtkH09XHnTTYyZEAAAAqQZsxSeEOiZTBRMf//J87Gb2mGEvPqW1/UAfhOzrjiDRRhmeczCfJIBs8AAAAFAGfUGpF/wL7NWH9zGwuEsBZH4noAAAAJUGbUknhDyZTAj///IQA13wlIBsAVCbZMCgfG54gA8x+HC4ooYEAAAAfQZt0SeEPJlMFETxf+lgBp8U2JrM8Dln8ObpxaDLPmwAAABABn5NqRf8C+zVh/bfQfji3AAAAHkGblknhDyZTBTwj//3hADclMxi1XXe/IZfyDGfbwQAAABQBn7VqRf8C+zVh/brdWmd6rMY8EAAAAChBm7pJ4Q8mUwI///yEANbIF3dLEAACWJy2m7sB1kzyFJjYeSYicUOBAAAAF0Gf2EURPG8CVuCEzFWqhO4WYjmQzj/fAAAAEgGf93RF/wL6ra/UndyfXx8ZCAAAABIBn/lqRf8C58+AETVfyqJqMCcAAAA3QZv7SahBaJlMCP/8hADS6chUTNwAHQFQYUfqqR3AAU2FJYHjzYrCtkqyyS/WTepi3PxQPvs/fwAAACJBmh1J4QpSZTBREsb/+lgBnpAGVzOqHQRDBxbo0mQZjfKXAAAAFQGePGpF/wLnz3/nw4vUhN/fRU0kgQAAAClBmiBJ4Q6JlMCEf/3hADX/fSeppT+EhgmMBi00C2FzooWjayHt7+lVQAAAABVBnl5FFTxfAug/yM2pdDlZeba5RBQAAAARAZ5/akX/AjpgkCGzeDX4x8EAAAAcQZphSahBaJlMCEf//eEAKc3hSjMaR84K7mngugAAADxBmoNJ4QpSZTBREsI//eEAKcz6JAzb6o+gBNXecBH+JgSwS5fFQMVIdvucN6g7Ed3o38xQLm6BZQT5byEAAAAaAZ6iakX/AjpgkMsAD/dUEWRJrgrpr+Tav3AAAAAsQZqlSeEOiZTBRMJ//fEANwEicqgqFHmN9fPOdXcFUlGSNDiQnAMrxZwz2pkAAAATAZ7EakX/AjpgkCIG4aRpLWK68QAAACRBmslJ4Q8mUwIR//3hACocnuVociFaukquaexCiPc5S1MKoYEAAAATQZ7nRRE8bwHCU3VivsTohSzkLQAAABcBnwZ0Rf8COhHAcIAH9h7S078kliRREAAAAA0BnwhqRf8COq3zhUroAAAAF0GbC0moQWiZTBTwj/3hACis+iQIoJCbAAAADQGfKmpF/wIqYJAGquwAAAAXQZstSeEKUmUwUsf//IQAnl24WGCYd9AAAAAOAZ9MakX/Aipgj/jAr2EAAAA5QZtPSeEOiZTBRMX/+lgBOedYYI2YzJcWCNYApGrm41lZ69yUz2RPm3hbE04iSkI+DARtMLTihJvpAAAAGwGfbmpF/wIqvNLApgAM8P3W9WL0q3ttnT5VwQAAACBBm3FJ4Q8mUwU8X/pYAO4dMxOsDp0u2+kyCkKEHaQCgAAAABIBn5BqRf8Br5qxGB5eirHs0RQAAAAiQZuTSeEPJlMFPCP//eEAHvp2cYchjVIBEfAseuz1RdfYiQAAABEBn7JqRf8Br5qxEocnk49/8AAAABVBm7VJ4Q8mUwU8I//94QAe+nZxg7EAAAAMAZ/UakX/Aa+asP1JAAAAF0Gb2UnhDyZTAj///IQAeff7pnit9yYgAAAAD0Gf90URPG8BV/lFYr7CewAAABMBnhZ0Rf8Br1bYyGAHxh7S06vRAAAADQGeGGpF/wGvzwnCpzQAAAAlQZobSahBaJlMFPF/+lgCqxsCJKO0i3CoAKQxcoLsafNdsC5akQAAAA0BnjpqRf8BpZqw7Xr6AAAAK0GaPUnhClJlMFLG//pYAqsu875wfsPD+GEZPhc82NP5u2h3xxki8hD9QpkAAAAUAZ5cakX/AaWasRey4ndfPhV8voEAAAAoQZpBSeEOiZTAhH/94QAeff9uBIj+iyuiEJhiR6d9mKNRbqzNm4EvYAAAABNBnn9FFTxvAU8zu/KGgg9b8IJoAAAAIgGennRF/wGlfgF41YcUlb0BY84AIA/2r4VjjdeXTmI8HJUAAAAMAZ6AakX/AUbnwAmoAAAAFkGag0moQWiZTBTwj/3hABfRfRIGNoEAAAAMAZ6iakX/AUbnwAmoAAAAIkGapUnhClJlMFLCf/3xADrIIAp6k+MOKrKX917vfIKpJZ0AAAAMAZ7EakX/AUbnwAmpAAAAF0GayUnhDomUwIR//eEAF/3/UzQ5EKvFAAAAD0Ge50UVPG8A/am6sV9hwwAAABMBnwZ0Rf8BR9Sa9YAH9h7TA5oQAAAADQGfCGpF/wFHGAnCqcgAAAAXQZsLSahBaJlMFPCP/eEAFzZ9EgRQSZcAAAANAZ8qakX/AT3nv/xHKgAAABdBmy1J4QpSZTBSwj/94QAXNn0SBFBJlgAAAA4Bn0xqRf8BPee/8+HJUQAAACpBm1BJ4Q6JlMCP//yEAU+4Lan06rFYPbKUgZp5vWtO7PwAZsA1Jbb1Nc0AAAANQZ9uRRU8XwE+IFuh+wAAAA4Bn49qRf8A8kaFzF0aoAAAAEFBm5JJqEFomUwU8b/6WAKrLvO+cH7Dw/k4UMCL3Nizs7iQGHtxZbC0HH8ojd7WfIArG00mARaLmxSU7cQe/850gAAAABMBn7FqRf8Bag3gIaLZsJW1gMnBAAAAMkGbtUnhClJlMCN/+lgCqy7z2XiTQ/K4YRk+FzzYsxnKV2p0R0ptA6QLnQEBRrUZNvy4AAAAEEGf00U0TF8Ba0ij2daREGIAAAAOAZ/0akX/AWHl6dV70vUAAAAiQZv5SahBaJlMCN/6WAKWJ8b6vD9h+VwwjQ22c/6raY6FdQAAAA5BnhdFESxvARVvD2S7qQAAAA0BnjZ0Rf8BYdyDQa53AAAACQGeOGpF/wCpgAAAACdBmj1JqEFsmUwI3/pYApYnxwhMSaHh/JwozrZz/JLdHkVSB75hUYEAAAAPQZ5bRRUsbwEV9XnnChqAAAAACQGeenRF/wCpgQAAAA8BnnxqRf8BXepeEGKODsEAAAAsQZphSahBbJlMCL/6WAKWGAIhErHacKfKRsCSoK51bzi2Q4BnoKsp1Z1niSIAAAARQZ6fRRUsbwEVbnJENAWLN6IAAAARAZ6+dEX/AWHd+FRGEdPziIEAAAANAZ6gakX/AVnNHobAXQAAACtBmqNJqEFsmUwUTG/6WAKrLvO+cJND8rhhGT4XPNivylKAz1fT6j32jdWpAAAAEAGewmpF/wFixwUtiTJDyWAAAAAgQZrHSeEKUmUwIR/94QAZt8hepY59HkigAmW2NPB1mcEAAAAQQZ7lRTRMbwEVQ+qvfKrmoQAAAA8BnwR0Rf8BYbA8jis1mPUAAAAOAZ8GakX/AWHoOhp70vUAAABGQZsLSahBaJlMCL/73sVgPvF//xhANj3LUw4VS/8k91B6fLn2DVs+9BvxDMMmcdRS5QoIP/OSg+s78M+ChY9ZtfCKtwcPLAAAABBBnylFESxvUW26mjgrIfqzAAAADAGfSHRF/1tn0ZeztwAAAAwBn0pqRf8DiHZgJrgAAAAeQZtNSahBbJlMFExf+lgB8jl2JkxdGu0SB0DVx+8FAAAAFQGfbGpF/wOIdl+FlnB4F3svb3LJHQAAAB1Bm25J4QpSZTAi//pYAfJFw0gRZ57P/8YAWSabaQAAAC1Bm49J4Q6JlMCE//3xADV187LoKhW3SURvTk3QR7xJyRf+YD2sxY5uPp1Os4EAAAAjQZuySeEPJlMCEf/94QAzIgMxLhT41tKgEQ+a1zofAxmoiqAAAAAUQZ/QRRE8XwLFc0qeV4TdrNfFW4AAAAAYAZ/xakX/AsPUIOEAEAdGKWHeT02MkqhBAAAAJkGb9EmoQWiZTBTwn/3xADV18nKpFNR5jnG2VEtORl3MgDPIXZGAAAAAEgGeE2pF/wLD1CASLxlCj2aMggAAAC9BmhZJ4QpSZTBSwn/98QA6yCHGAuG844FFEyWNYv2PEjVW/9MG/BHBCXmuJHTgwQAAABQBnjVqRf8Cw9QgEiWqnEw5KMNIgAAAAB5BmjpJ4Q6JlMCEf/3hADRiSEQHCsGsx0+8XIU4KcEAAAAWQZ5YRRU8bwI2iQrFfYYQh3lEh9e5IQAAABEBnnd0Rf8C1+jUgqinM9AMZQAAABQBnnlqRf8C1dQfbSAU+FW1lIP7IQAAACNBmnxJqEFomUwU8I/94QA0YuokCKCSfDNmE7sdQnjPV26cDAAAABUBnptqRf8C1dQf+I152tnJAJDh3NEAAAAsQZqeSeEKUmUwUsJ//fEAOsggCnp9JTbRkCq3y14yay6+rGHmWdEyqOWC0EEAAAATAZ69akX/AtXUH+fDi7HWwgCWwgAAABdBmqJJ4Q6JlMCEf/3hADS7/tjPIRD6vAAAAA5BnsBFFTxvAjbn7xLPqwAAAA0Bnv90Rf8C1cFtZWVmAAAADAGe4WpF/wIqZHAXCQAAABZBmuRJqEFomUwU8I/94QAorOokC72AAAAADAGfA2pF/wIqZHAXCQAAABZBmwZJ4QpSZTBSwj/94QAorOokC72BAAAADAGfJWpF/wIqZHAXCQAAACFBmypJ4Q6JlMCL//pYAUAGXeSHBhJxnh0Pw8aJ8aMnYuEAAAAWQZ9IRRU8bwHCVGVivsR8Vl3TyFMreAAAABEBn2d0Rf8CPDiLDXhoioXRFAAAABQBn2lqRf8COmRvmaL3T4HXOgHCgQAAAB5Bm2xJqEFomUwU8X/6WAFAEEYmTF1/lLL6RyrDU6AAAAAVAZ+LakX/AjpkcAawWVdahgwHSQcUAAAAMkGbjUnhClJlMCL/+lgBQBtKuTF25aAgA6OrmVgC916/hgPGLEPbTEx8Wi1K/8JicE1BAAAAJUGbrknhDomUwIv/+lgBQLZviV6s/60VAWATnTibR4f5Cv1QDUkAAAAjQZvQSeEPJlMFETwj//3hACnWcSt9or4l2c0L592U0cOPB8sAAAARAZ/vakX/Ajq81RBKfZsf62AAAAAWQZvySeEPJlMFPCP//eEAH6ppMYOqgAAAAAwBnhFqRf8BuZ2A/PkAAAAUQZoUSeEPJlMFPH/8hAB73yebljwAAAAMAZ4zakX/AbmdgPz4AAAAIkGaNknhDyZTBTxf+lgCqxsCIRKx2nCnykZ9yGrscAQ9sfkAAAAMAZ5VakX/AbmdgPz4AAAAJkGaWEnhDyZTBTwn//3xADrIIat6fSU20ZAqt8teMmr2AisVd5XZAAAADQGed2pF/wHFakogeLUAAAAZQZp8SeEPJlMCEf/94QAgmkhEByTfbh1BgAAAABBBnppFETxvAWn6NWpwzHThAAAADQGeuXRF/wHFhsK/w24AAAANAZ67akX/AcQ7MAar/QAAAChBmqBJqEFomUwIR//94QAg3sVPdPHAA/DyJfxEC7CpTFsdC9lIp57nAAAAD0Ge3kURLG8Baq/fDNj7+wAAAAwBnv10Rf8BxYbDJuQAAAAOAZ7/akX/AcSDAO2VnzEAAAAfQZrhSahBbJlMCEf//eEAGaxbTjtEXWQAkb96yV+E0AAAACRBmwJJ4QpSZTAhP/3xADrIIAp5NSLuW+vgetsQgmrrFHGw+fkAAAAyQZskSeEOiZTBTRMJ//3xADrIIat6fSU20ZAqt8teMmrrFCTq2WDABM7MdDbx32GIg4AAAAAYAZ9DakX/AWDaGCZbQALppOiMhMUbgjOJAAAAP0GbRknhDyZTBTwn//3xADrIIAp5NSLuW+vgetsQgmrrHU3zBCxkcAA4o5SzY/vfa+OUDkP5tc39a+qHYwAgOQAAABYBn2VqRf8BXZYkEQs6UQAsdmGTDyahAAAALkGbaknhDyZTAhP//fEAOsghq3p9JTbRkCq3y14yausXCO9ekwBD2sBidfBNwcEAAAAiQZ+IRRE8bwEcmD7uugAJQ0/K2gG6m5fcozHRvox2UpjNwAAAABcBn6d0Rf8BbBsH0O+ACwI+30xazqhhwAAAABIBn6lqRf8BYjvRACvIPtz+TUEAAAA+QZuuSahBaJlMCE///fEAOsggCnk1Iu5b6+B62xCCauvUnrCAFwR6ZPOQGFtWJGd5Ug0Wv/k/CVsrX5QnYZwAAAAeQZ/MRREsbwEe/60ABDZ5Mh4Q2hgId1mrY7gsWJzgAAAAGQGf63RF/wFsHGM2ZgALnqNRhh4cZUZFveEAAAAWAZ/takX/AWxDimgARAP3QLUaFBIz+QAAAC9Bm/JJqEFsmUwIT//98QA6yCGren0lNtGQKrfLXjJq91XOggAurNP1q155uoXqYQAAABFBnhBFFSxvAXPaIN9CeUicQAAAAA4Bni90Rf8BZrALdMMWgAAAABEBnjFqRf8ByjLtyTk0/lQXQQAAAEZBmjZJqEFsmUwIT//98QA6yCAKeTUi7lvr4HrbEIJq94rEqQAVF3mpDsvdCdEIk71OHTvL0c/Fl2EXUQZPjddsL2KmQzyAAAAAGUGeVEUVLG8BcoPRBAABMrf2/00vUzyLNmsAAAANAZ5zdEX/Ac5gdkwvFQAAABkBnnVqRf8BziEtl5xgA+LeMQplyXoqOuOkAAAAKUGaekmoQWyZTAhH//3hACGn9Mf2kACGNX/NGsuIhi85SuDTC6IX222hAAAAK0GemEUVLG8Bb+sVDPjQAePtN9nLTMKrmCN8z6xrHrf7mzUkmUf3aJQO8hkAAAAUAZ63dEX/Ac3R8nl0O95rC2QsihAAAAAVAZ65akX/Ac4hLZcmhcXrKJq+Ex7ZAAAAHkGavUmoQWyZTAj//IQApyLMJeAAK1rhB1DuL+xXsAAAABlBnttFFSxfAl3vYgBNSe71MHYNBl2eMGPlAAAAGAGe/GpF/wJY+udtldhPj00AOLVB9tVu4QAAACxBmuBJqEFsmUwIv/pYAUrzRVyPgACcKlc3j4UpIssH1Ui54pEoIJtparygBQAAABJBnx5FFSxfAkvCivhtOyHdGoAAAAAQAZ8/akX/AkpgeIDauequbwAAACVBmyJJqEFsmUwUTF/6WAFJES5JwAKPJkCHaaFM2ZF0MXHnvEKAAAAAHwGfQWpF/wJKYHiAwC+/W82bZDhBAAkGA7i2udn15SEAAAAkQZtESeEKUmUwUsX/+lgBSbR2PA4ZXhg6pHOewE7zKnJW8UCAAAAAEwGfY2pF/wJKYHiASmqS4ppMPHEAAAAgQZtlSeEOiZTAi//6WAFJHThlgA3OZYOOOBQ1aIJ+FkcAAAAiQZuHSeEPJlMFFTwj//3hADcEL5bbKLoSCWJaNxSfSCmzQQAAABIBn6ZqRf8C+zVqYm1MJFw71wkAAAAiQZuoSeEPJlMCEf/94QA3BFl0oVVL8Tjzy472j11/AMnIYgAAAEFBm8pJ4Q8mUwURPCf//fEAOsghq3p9JTbRkCq3y14yaz2K2d/PfmBzCegAVNu/1Jk+Xf+rWH0VaSdeFmIMid5soAAAABMBn+lqRf8C/O4QCNh6u5z9A1aVAAAAOUGb7knhDyZTAhH//eEANyyh5jJY/81ABBCacmi0TOgQlusHq18hJ/y3X8B8glFn9et214Qxw5UdIAAAABZBngxFETxvAvWRdTm6CiiwwfilqGpsAAAAFgGeK3RF/wL9Pm/DZHEf/LpWU2yhcdEAAAAPAZ4takX/A7bi6Xq4c3tNAAAAPkGaMEmoQWiZTBTwj/3hAILsroAh/6fC881J2l1vsJx8zVBLvXmRFJscQ4+zbIgSD7egTNxq8mN2oYLZ/wqhAAAAEQGeT2pF/wSX15LyWcXEYhM4AAAALkGaU0nhClJlMCEf/eEAgtXfwJOyAFfd7wXmzjhZUYIgcefNR1SpkCEx6BfuPWAAAAATQZ5xRTRMXwSWRuT4rA4K9ZvEHQAAAA4BnpJqRf8DzNSLDV4VtgAAAC9BmpVJqEFomUwU8f/8hAHxaF4C/JgFn2SazAEpDKhnhrRHoVHOSZceJk0kdOpZtAAAABABnrRqRf8F9IKXG7CrLJuDAAAALEGat0nhClJlMFLH//yEAVq4LYIOR5cHSrNr1L4/HJZ2qb9n5zRVAVIF3cGAAAAADgGe1mpF/wPK+QAD+J5DAAAAOUGa2UnhDomUwUTF//pYAqsbAOPSPXAkPa6WYYAQJushJJxwTWcU0rTM9fkCIjo9ZJdM3JSHTdqauwAAABEBnvhqRf8Dtp5rKFQfPLdpMAAAADJBmvpJ4Q8mUwIv//pYA7U6AS7nsnowYK9YWdesiwVqI4rtpWomtELiOeLGXnIx38zu4wAAACVBmxtJ4Q8mUwIR//3hAFxdLkwtAKIzCmFqzACK5A8jOP5GI4TQAAAALEGbPUnhDyZTBRE8I//94QBcipq6Z4Kzq0Y77rUDfRNuVNSj9jPiI31/gd7BAAAAGAGfXGpF/wTUwSjOA1AW6kWpj/lHUbJW8QAAADFBm15J4Q8mUwIT//3xAFJ4VVP1ujUDL6L6Gc+idUBGRDbzIWHIG09J0vqzmTYF9ffgAAAALEGbYknhDyZTAhH//eEAkmouAE4sUol4vPNIxjCxAExoYWoAxEbls2hflOdcAAAAEkGfgEURPG8DrrBeOeTpkTPtuQAAABIBn790Rf8Et/0B9QQ93771AmAAAAAMAZ+hakX/BLeFMBHdAAAALUGbpEmoQWiZTBTwj/3hAJJO/8CTsgFF39s6YOBF5QkzvQ8gUBK5XTC1P4Cs8wAAAA4Bn8NqRf8GQ2Z8KyNlkQAAADhBm8ZJ4QpSZTBSwj/94QCIjGPoAc7f0cRE3qTOwrlSDJ+ojybHOyUNuLaim3+p+7T/G4h3SR1/JwAAABUBn+VqRf8GFjFNNVTE3AA/88HGpSkAAAA6QZvoSeEOiZTBRMI//eEAh8RO9oDsQBq/bAmtVJJLGgr7bgfhEy37B3qRYS1kNOviWOoLqyVH6UhBYQAAAA4BngdqRf8GHdjHoUDBcAAAAD1BmgpJ4Q8mUwU8I//8NCNP9ouIPIno9/A4Vd0wDLUBqJRy4i6WzNKXBfhJJLxg7bMyb73Kd97Zf5JJ7CfyAAAAEwGeKWpF/3j9MKBtC4U38OntI/0AAAAhQZosSeEPJlMFPCP//eEAfHoLimKDQ81I5XrHpROqZA99AAAAFQGeS2pF/wXQjN1W0cC9NwlPloasIAAAADVBmlBJ4Q8mUwIv//pYArGvY+YCpigFztk9dIvQH0i/3sL7NLUgndTpkILpTrj2zyP5/iP0wQAAABhBnm5FETxvBKve/YSqeQ87dSSDt2zfUYEAAAATAZ6NdEX/BLSDHwDvCYHJsp/gHwAAABMBno9qRf8ElMEgLe/nOvKvB+YwAAAAI0GakUmoQWiZTAi/+lgDs91xfbg0W3ABnHaHILo4sdkQgsKgAAAAHkGas0nhClJlMFESxv/6WAKVxTVegr2JF5kibweeIQAAAA8BntJqRf8ElXoiClQg8DwAAAAwQZrXSeEOiZTAhH/94QBWqRbJ0/2qACYpx2pqP40pdh4TF97/sUsGM5lPY21syDSMAAAAHUGe9UUVPG8DlzgssdUADQdQGprKU0KRXMmSJJDBAAAAFQGfFHRF/wSUlNCuh5i3vDnFGWNCSAAAAA8BnxZqRf8DiQrAtTSidIEAAAAyQZsYSahBaJlMCEf//eEAQXhrMf0yuAAnWEZA1Rw/KjoQw45Y4ISWdQOPURKQ348EeskAAAAoQZs5SeEKUmUwIv/6WAHyNK2/YAIo1/Oxe0XgPbGCQoafIsK22nBVYAAAAjdliIIAC//+9q78yyt0fpS884dpg5QCEv/e1vgN+c4VLZkrsN8wwklqGt1ILCvMH+KDdrWQMFRq82q3rEefiWihDFL3MW6RnODlb8IUv9p3YX+7NAMw3MJe3z/C/SL5Yf6Va/zRfkEfOuMv9AVklUY4yl/G34+KLoIiCrkWDeC2sUpE6U8pkzs5fu5jka134MjeEX0TucqFmeuW3Wn9pVUzNrUURfji55o8wmCFMxzS1YmkReWD+OQjk84uROFKDbBCMgngI/YpUe2OqNJOAAEaAqfneC6E2D2TGKIoWmQUY7SJ3/sX88lXL+N7XIdP8XF9QAAN0Mg9ibJAgOkqyqTm+JmOCJnPPShuwjDYJ2W2hA0AslUh8VUTAxqhAUAZx+Vt/1PDEIYYGO0WAYxOQMdDpbdWDYLLr4qP/0AUNdLUvfJee55QQRU6paC/FDLV/HqLWRDLF0iOduViVoJxFn0mnmQVH3Ff8lUfZ5pVhhxI+RF0/co24sKhC2+D6EwKkLH3KEb4c1u4KFgCgaRlvhav6UrQ5STqQ5b/6xlyZuqTE6sIlrAEFmO41r2Wc6nWs9Lwy9xhv9QStvL53KzPANpOcJnfVti0VXVOUkB8cSP+gWzJ7J5w1Lzc/qMvP0bgX8HoX8vlhnpk/gd1l63gKLNOArEiKn/8V6+FYw3TlEKxSo1QiLXkXf1eVQ0u0z7rdEfwjQiDsu4ahtsn5jWyKUHL1dEn8q7SmeHAUvcNsYX0NK4T1m2VcsEAAAAvQZoibEI//eEAolLUAIPt6OIjZ/lDQ+ekbO7XleLe9ClD2KuNTaihQKau82c4iMAAAAASAZ5BeRf/A4t1NhqbU7XZV/2xAAAAH0GaQzwhkymEI//94QBBfdOQ7xhp/CXzsy3xyaHrakEAAAAiQZplSeEPJlMFPCP//eEAPyi/gty+pn+w6/RezwJf+L6w1wAAABYBnoRqRf8DczU2NTa/01nIYEwoPCiAAAAAJkGaiUnhDyZTAhH//eEAMgCZ2ufBADMs4nCCUncgyqo4PzI8XOvxAAAAFUGep0URPG8CFodsdF/KnepzDvBU4QAAABEBnsZ0Rf8CsYSbKZgVaVHZQQAAABABnshqRf8Cs5951q2ChityAAAAH0GaykmoQWiZTAhH//3hADHj4UoxKTxXBNKLuiciGr0AAAAdQZrsSeEKUmUwURLCP/3hADHvpO+Ue9PMmuc0CSMAAAAOAZ8LakX/ArJDi0z8flEAAAAfQZsNSeEOiZTAhH/94QAx4vmiWlBJPzoQIo/yL3qDMwAAACZBmy9J4Q8mUwUVPCP//eEAMj6OBj2AjRAD5yga2LrSqawC1/ZWgAAAABQBn05qRf8Csc9hvGBh6rl91MIbgAAAACBBm1FJ4Q8mUwU8I//94QAmmvmiXGXk9zlqE6WOo6STPQAAABEBn3BqRf8CC+qx9Qd0XDxDQAAAACJBm3NJ4Q8mUwU8J//98QAYj005UHdf3rY4AXW+jRwJNmyAAAAAEwGfkmpF/wIKYHWDgThRjxl0KOEAAAAcQZuXSeEPJlMCEf/94QAlmgvkDjGl+ewezTwlQQAAABNBn7VFETxvAZmrv+4yfrJazi1nAAAAEQGf1HRF/wH8iRMr4u73KsSAAAAADgGf1mpF/wH7hfzjoKBJAAAAIkGb2EmoQWiZTAhH//3hACWa+aJaUErN/2HLXqdW5X2WWykAAAAzQZv8SeEKUmUwIR/94QAl3RNtHYopAHKAPWGUeUAa92jK3LcLjtlCrIG7PbJV9jqFcU8UAAAAFUGeGkU0TG8BmeLSAy/vq6ufPYL3gAAAABIBnjl0Rf8B/IkCJnJlUdhUVCEAAAAOAZ47akX/AZKSLYqkI38AAAAnQZo9SahBaJlMCEf//eEAetGTqd69tx45ZxbicQBMnD/hEVHDtjtbAAAAMEGaX0nhClJlMFESwj/94QB8WX/AsVaCml96G5HV3uM5eXt+jJNwpDUc0OpnUhX0WwAAABABnn5qRf8F0z5oeFnWVZHwAAAAMEGaYEnhDomUwIR//eEAfH9Sg6bBrBTNz9S6U+GUx5hO0FI+b/zYFSjYxRHGJblW6QAAACxBmoJJ4Q8mUwUVPCP//eEAHOp2AXovApJeNgBfhNWDh7EePQ/cLA4MYL+dIAAAABUBnqFqRf8BkncBCmsecc0B5R3OBtMAAAAgQZqkSeEPJlMFPCP//eEAHR9GIfNEvqxp0JbWv/FxYYEAAAAUAZ7DakX/AZHPCcLDXWM1qdMbvoAAAAAeQZrGSeEPJlMFPCP//eEAHERfwhXmFABPzGJ7yPNUAAAADAGe5WpF/wGH1w3IgQAAABVBmudJ4Q8mUwIT//3xAA3JYmiPJSAAAAAVQZsKSeEPJlMCE//98QANyWJojyUhAAAADUGfKEURPF8BLTA698wAAAALAZ9JakX/AS1gGoEAAAAYQZtOSahBaJlMCE///fEADcxiL+C8OUsPAAAAD0GfbEURLG8A7S/Yb6NKgQAAABMBn4t0Rf8BLQjgOEAD+x/OnO8RAAAADgGfjWpF/wEtYMK86uaAAAAAF0GbkkmoQWyZTAhP//3xAA3fpvA5psOAAAAAFUGfsEUVLG8A7U4kLAARNTKScLddQQAAAA0Bn890Rf8BLSU0LYtjAAAACwGf0WpF/wDnwzaAAAAAGEGb1kmoQWyZTAhP//3xAA7NjzA2kc9clQAAAA9Bn/RFFSxvAP47d+Q7OIEAAAAJAZ4TdEX/AKmBAAAADQGeFWpF/wFHzR6GwHEAAAAZQZoZSahBbJlMCE///fEADs28FE2Fl0XcFAAAABBBnjdFFSxfAUbQxD8atjqhAAAADQGeWGpF/wFHGNApM6AAAAAeQZpdSahBbJlMCE///fEADueZwheQx6+lOG7FW7hAAAAAEUGee0UVLG8A/clykW9D/R9hAAAAEAGemnRF/wFG3EXxN/HIp9AAAAANAZ6cakX/AT4Y0Ck1IQAAAB5Bmp9JqEFsmUwUTCf//fEADo7/rL9PgdVRNEVXb8EAAAARAZ6+akX/AT6tI3UJ8zSAZIAAAAA0QZqiSeEKUmUwIT/93p+JyIAKC1v/8ISATPOjgXqOzWl1IUBxABk+E5rYz+cArsJOuDGqIQAAABRBnsBFNExfWvprHdY0MJArHEQfgAAAABMBnuFqRf9a+msdA8G4Q3jr0U0hAAAAK0Ga5UmoQWiZTAhP//3xAA3e/6zC85zdnAC3ClZ3y60/OTMABZ9Uy1ixr8EAAAARQZ8DRREsXwEt2FmbXKHSesAAAAAOAZ8kakX/AS3ymqRszoAAAAAbQZspSahBbJlMCE///fEADYApjtRSpda7gfAfAAAAEEGfR0UVLG8A567rYoAwr6UAAAAPAZ9mdEX/ASUH7mWwKiKFAAAADgGfaGpF/wEl8paxNCnAAAAAEUGbbUmoQWyZTAhP//3xAAelAAAACkGfi0UVLG8Ag4EAAAAJAZ+qdEX/AKmBAAAACQGfrGpF/wCpgQAAACNBm7FJqEFsmUwIR//94QA6+/owAmWDOCG7uAZnWLn71ksc4gAAAA1Bn89FFSxvAomQM6TQAAAACQGf7nRF/wCpgQAAAAwBn/BqRf8DOSRdp6AAAAAYQZvzSahBbJlMFEwj//3hADr2BXgfO5jgAAAADAGeEmpF/wM3rhqegQAAABhBmhRJ4QpSZTAhP/3xACW8QiOZ4sWavr8AAAAcQZo2SeEOiZTBTRMJ//3xACXUc7FSuLMcjPX18QAAAA8BnlVqRf8DNzsBwmx8CeAAAAAXQZpaSeEPJlMCEf/94QA7Xo4GHOlP2OAAAAAOQZ54RRE8bwKIYhIKz38AAAAMAZ6XdEX/AzmX0ESAAAAAEwGemWpF/wJ9c0r1gAgEO45YcGAAAAAhQZqdSahBaJlMCEf//eEALkwDMS4QmlyWd5MJmRjTV5uBAAAAD0Geu0URLF8CfZ91enybXwAAABIBntxqRf8CfWhGH3/iy5kOA6EAAAAjQZreSahBbJlMCEf//eEALk26TmwAzjJT4gOzEOuRI9E6rEEAAAA+QZrgSeEKUmUwUVLCf/3xAB2LrsTaPLZOzFaEtbCuSB9mwEgHt1lM9adkWsg5eBEsuFiohBfRxYuZMJy/YpAAAAAWAZ8fakX/Ao+WAPEDz4pe8k3Ih0qIMQAAACtBmwJJ4Q6JlMFEwn/98QAdjCu/AACL8372mH6ugmv6q97JfK0Gl1HFGoBJAAAAEQGfIWpF/wKOMafaBNYgKXn5AAAAKkGbJknhDyZTAhH//eEAL33evAC3AWQ76TkIFqMhmcaQ7v30LnXj81gUewAAABVBn0RFETxvAfliD9kxn2bCGVLuR3MAAAAaAZ9jdEX/Ao2HgZDAD4qBDgU+3N5Eyr1kUuAAAAAPAZ9lakX/Ao5AG7gs7niXAAAAN0GbaUmoQWiZTAhH//3hAC++tl8cAPAA4MGQ76TkDgEgIMXxGMgwLJuCfVYzKY9KSYgFsg4cFoAAAAAWQZ+HRREsXwKOPrLVliLLkqw3fMWRSQAAABEBn6hqRf8B8DswIOpIXmrjwAAAAC5Bm6tJqEFsmUwUTCP//eEAJJqaje1gBNWmvqDFSoXNGbMWw1GmUMC5cL/LY7FBAAAAEAGfympF/wHxcP8NA0K8Va0AAAA2QZvNSeEKUmUwUsI//eEAJJqT8x0AG5lqPj0P73ozONId2/NK0qatcBtKuKmrMASBYAguXHurAAAAGQGf7GpF/wHuzL1xaQBBsHaPLPYZB/ueoMEAAAAiQZvvSeEOiZTBRMI//eEAJJrqJRsAKgxOwUuh0athqTCD4AAAABMBng5qRf8B/Q75IKsaOqwulaVAAAAAKEGaEUnhDyZTBTwn//3xABfIJSJ2bE+hM+wBcAHH91irKyVtNLYTxCEAAAAPAZ4wakX/Aft6DxAJ027cAAAAN0GaNUnhDyZTAhH//eEAJdw1AegbYAWukV6HRm9SeSzCwLiZ/0k5L8bRJnRGy1yqcec87dEW1gIAAAAWQZ5TRRE8bwGZrhimgBT5IGcjF0nlQQAAAA4BnnJ0Rf8B/Hp2DVV4UQAAAA0BnnRqRf8B+4P5cNZPAAAAI0GadkmoQWiZTAhP//3xABfWodinpr/l58Ip1HwAFQ+x2/ZgAAAAMUGamknhClJlMCEf/eEAJd7qyc4Th8ypADau49i2W5pvmYoNMQ6RvKly2T8sfeFDFE4AAAAUQZ64RTRMbwGZ4nRauNBMBh8FWHEAAAAOAZ7XdEX/AfstYPDIYzAAAAAPAZ7ZakX/AZKTdDSV437wAAAASkGa3EmoQWiZTBTwn/3xABJuGXfbj+fmAK1OniFcMR66G+ek4tzhrLxAWoPYbrChDidHrbrUcIPMi8CTfMnt9MtTRR2pZBwIwaGTAAAAFAGe+2pF/wGSdeGbXqc8sy+xuY1QAAAAIUGa/knhClJlMFLCf/3xABJOIRHDm8rhhL/BYn5xaY6yoQAAABMBnx1qRf8BjX1AfZgap3aNr9H5AAAAHUGbAknhDomUwIT//fEAEtRSfakiTot+n26AtqgoAAAAGkGfIEUVPG8BRsRcap+PAAgQP0k1yfdpTztlAAAAEAGfX3RF/wGcw9QAU7aibIAAAAARAZ9BakX/AZxvuwYuJgCDHa0AAAAjQZtGSahBaJlMCE///fEAEs3eCJpnf6qQ5K/ZeB9z+cxXJUkAAAAVQZ9kRREsbwFGtHVPlvVEHAbWChCEAAAADwGfg3RF/wGbfT3jJ8eIgAAAABMBn4VqRf8Bm52BDdu3XAH1SIfzAAAALUGbikmoQWyZTAhH//3hAB3PRwiOHrB4AHAaR4qH8TK0TSU5IpsgAAfPMV2XQAAAABRBn6hFFSxvAUKQ+dt4bDjuBubXwQAAAA4Bn8d0Rf8Bm3sl11h+eAAAABEBn8lqRf8BnJGsUdkeaOSTwQAAACVBm8xJqEFsmUwUTCf//fEAEu+AcgrMSj3IAWrLtOy+GwoBw/8hAAAADwGf62pF/wGdE7yR325zgQAAAClBm+5J4QpSZTBSwn/98QAOiJ/5fOhABxRylmx/e+18cmYzVVLjsmXtSQAAABUBng1qRf8BPBwAkEKgAWIeCWV22EAAAAAvQZoSSeEOiZTAhH/94QAX0SQh9BKb4AX+xiyh1vNZmx6WdM0xOoVVbckneJeY5UYAAAAcQZ4wRRU8bwD9ReiV00+uAATHI6FubJj9YPjrgQAAAAwBnk90Rf8BR/e7TYAAAAAYAZ5RakX/AUYoQIOEAD+v1H1BciW3AjB2AAAAIkGaVEmoQWiZTBTwn/3xAA7N12KbndRVvI3hLWGeuLXYZG8AAAAQAZ5zakX/AUfL1CaUPIvZSQAAAB9BmnZJ4QpSZTBSwn/98QAOzddir2uJYCJBBzEhYc0tAAAAFAGelWpF/wFG6hAxjsYtdPic7czAAAAAJUGamUnhDomUwIT//fEADueZ/rIxDNTscyYAEqQ76++ureDPjWwAAAARQZ63RRU8XwFH0VFugkFJJmEAAAAdAZ7YakX/AUcmInmeg4ARXOGTE8Hsn4ZfagEUxmAAAAAVQZrdSahBaJlMCE///fEAC6+xGo2AAAAADEGe+0URLG8AyPIogQAAAAsBnxp0Rf8A+BdnQAAAAAkBnxxqRf8AqYEAAAARQZsBSahBbJlMCE///fEAB6UAAAAKQZ8/RRUsbwCDgAAAAAkBn150Rf8AqYEAAAAJAZ9AakX/AKmAAAAAHkGbREmoQWyZTAhP//3xAA51wcIBEqQj1Jkx9tJXTQAAABBBn2JFFSxfAT7NGrsNWzSBAAAAEQGfg2pF/wE+y86uo/LDNJWgAAAAHkGbh0moQWyZTAhP//3xAA7NxyYCRqQj1Jkx9tJXPQAAABJBn6VFFSxfAUfM8QT/rKk7yfUAAAAPAZ/GakX/AUfNGrsNWy9AAAAAH0Gby0moQWyZTAhP//3xAA7NqzvA0fgDKnys6uT26cEAAAAQQZ/pRRUsbwD9sBtn9rKIQAAAAA8Bngh0Rf8BRsKhX9tZl0EAAAANAZ4KakX/AUcY0CkzoQAAACFBmg9JqEFsmUwIT//98QAO5v8PVw0Z2SkTUUcKAPzTooEAAAAPQZ4tRRUsbwD+O3fkOziBAAAACQGeTHRF/wCpgAAAAA8Bnk5qRf8BRsxcPxq2OqAAAAA2QZpTSahBbJlMCE///dfq9AE53v/b3Gw0TnM3t/W78BiFp9uccg4fwbdFNAK2xMkPnlGfGN/hAAAAE0GecUUVLG9STCgjynJ/Sg4Aq4AAAAANAZ6QdEX/AT3cg0Gu4gAAABABnpJqRf9Z9cnLnPX9IqQJAAAAHkGal0moQWyZTAhP//43rx9xWAP1URV5xAJTeb7TAwAAABBBnrVFFSxvRZhrkcdtbcVBAAAADwGe1HRF/07LqTup3LHHTAAAAAkBntZqRf8AqYAAAAARQZrbSahBbJlMCE///fEAB6UAAAAKQZ75RRUsbwCDgAAAAAkBnxh0Rf8AqYAAAAAJAZ8aakX/AKmBAAAAHkGbH0moQWyZTAhP//3xAA6O/6y/UJn3oLUqs5SEgAAAABBBnz1FFSxvAPi7dOR725DRAAAACQGfXHRF/wCpgQAAABEBn15qRf8BPhqueTKQ0DvZwAAAABlBm0NJqEFsmUwIT//98QAOHbwUTYWXRdxlAAAAE0GfYUUVLG8A8IICRdiAVvhdQnwAAAAOAZ+AdEX/ATYcrz6EOiUAAAAPAZ+CakX/ATXymrsNWzqBAAAAGkGbh0moQWyZTAhP//3xAA4oqNhgzdakya2AAAAAEEGfpUUVLG8A8qItusbTe3gAAAANAZ/EdEX/ATYcviuNeQAAAA0Bn8ZqRf8BNfKehsCHAAAAIEGbyUmoQWyZTBRMJ//98QAONv9JwFQoDEW8oqnnlr+BAAAAEQGf6GpF/wE1HMcjI+lSEaaoAAAAQEGb7UnhClJlMCEf/eEAR3hqFM4lQALBKZ26I9XGEUBqsWeoPGwVCA8kgg/Ci7DFVj6EUCW4QH0NaaPaUEO5EbkAAAAoQZ4LRTRMbwMJPG/ADdJg0f1uhH0Q0Khs4chBj+TBqfxVeR0xb3EwYQAAABABnip0Rf8Dyls2hxBskxzBAAAAEwGeLGpF/wPMjSaZI5IrelgDiwcAAAAuQZowSahBaJlMCEf//eEARxHpXY60ACcNLyuecD+an+qWR97I/XrM14CTFj54oAAAABVBnk5FESxfA8pK9dxgWB9jdScAOOMAAAAQAZ5vakX/A8zf+8PYVy1SWQAAACNBmnNJqEFsmUwIR//94QA3FLPO6uVdb9zdZtbTtfDxSrxwIAAAABNBnpFFFSxfAvs1Yft6cU5JJhTLAAAADgGesmpF/wL7sUy1NKKbAAAAHEGatUmoQWyZTBRMf/yEANZ8y6SdN41TgnTcrukAAAAWAZ7UakX/Avs1YyGAHy6oIruARnzBTQAAABVBmtdJ4QpSZTBSxv/6WAGn2IYkKJAAAAAMAZ72akX/AvzuEyQcAAAAGUGa+0nhDomUwIR//eEANz+Zaa7W0ORwe2cAAAATQZ8ZRRU8bwL/hqEpibm0upmcIAAAABQBnzh0Rf8Dyloz4FMABmy/cub48AAAAA0BnzpqRf8DzN/5F2ghAAAAF0GbPUmoQWiZTBTwn/3xACG8UiOZ4uCpAAAAFQGfXGpF/wPOItRaselAD48aAtqv/wAAABdBm19J4QpSZTBSwn/98QAhvFIjmeLgqQAAAAwBn35qRf8C6Z6EniAAAAAeQZtjSeEOiZTAhH/94QA1+/7Yz0OQ/fQ98SehBj5BAAAAF0GfgUUVPG8C/4ahKo0ToCFmxdNutCNEAAAAFQGfoHRF/wPKXhxWQuIxQA+n+1ekYQAAABEBn6JqRf8DzOHlcNbI/RQLoQAAACFBm6VJqEFomUwU8I/94QApzPokDItIAPTg4cblKKA1820AAAAbAZ/EakX/A84ik4vgUwAGcV8BEBAw1xJ6TrVfAAAAJEGbx0nhClJlMFLCf/3xABpCxRHOmEqAepG96RXiQBXzZVXibQAAABQBn+ZqRf8COmCQH6xsEfLAO6eCqAAAADZBm+tJ4Q6JlMCEf/3hACoetiyoxPIVgBspx7Fst0CJsYoNRloBuZ8wNkyq5OixboAvg0NK4h0AAAAgQZ4JRRU8bwL/hqEqTv0ibvABT80OXIWdBndYI399J9sAAAAQAZ4odEX/A8pdSH3dplZS4wAAABYBnipqRf8DzOHkRUgtb7aV5p+slfc1AAAALUGaLUmoQWiZTBTwj/3hACi7LDoARHWvLWu22dtANQZUJFVMxNUuQvDxBNjHrwAAABEBnkxqRf8DziKQOoOMh02KeQAAACFBmk5J4QpSZTAhP/3xABmixRHM8W9eNwmRqgmr9XTzYtwAAAAfQZpwSeEOiZTBTRMJ//3xABmjOKQzxcaR4A19lMRMQAAAAA8Bno9qRf8CKr0SStcu3UkAAAA7QZqUSeEPJlMCE//98QAZzf9uNTR2gC0GpaBm6+iM+R6AXGOx1h+8kIdkq2lDQwl4aCof0ch9c2EEMcAAAAAhQZ6yRRE8bwL/hqEqSaUjAPLF/wBPuiW1RWZT4zVgzT9wAAAAFwGe0XRF/wPKXTqfEsi8bEB+8LVPztlxAAAAEgGe02pF/wPM4dRSDvRdpWBWiQAAABxBmthJqEFomUwIT//98QAT13Bx/zyvwhluBkn9AAAAFEGe9kURLG8DCf15kWbIMKOcJlXIAAAAEwGfFXRF/wPKXNr9sxTQUdsed4AAAAANAZ8XakX/A8zhgvoygQAAABlBmxlJqEFsmUwIv/pYAO4dMw+IdSiLB1WAAAACR2WIhAAv//72rvzLK3R+lLzzh2mDlAIS/97W+A35zhUtmSuw3zDCSWoa3UgsK8wf4oN2tZAwVGrzaresR5+JaKEMUvcxbpGc4OVvwhS/2ndhf7s0AzDcwl7fP8L9Ivlh/pVr/OGRZWjn22v60jmF2svpVd037lzUlrGdknldDeb/lKyt2LcpCAxr8084dwFcPFR/+8LE5I97wTucqGASyWCzxSm5i/Y5Kwn/dwbpKPTckKfbGhO4DOPOCU+gBk3ENvK4BHvt6EZBPAR+xSo9sdUaUMAALMVwDO8F0JsHsmMURQtMhENJkJFTvXa5fxva5Dp/i4vqAABqnyTZIEB0lWVSc3xYvBHkjdXEZChRXJ6yGRY4o8Ju34FaomBjVCAoAzj8rb/pUSA1JZzROcTz+kgY6HS26sGwWXZO/FKmB5/EkSBxqIbbPbbT2NkEIlXVgGkqEJsfhFiMrJavrNty/nuEI/S+YTSQyBFWSj6dwki0Fw9O7lunqMfJWtEWq8rXKciwV4pc7Pa7h2zDE4sN7tN9bwV62CV/KhZPqVU+Et/9MDSeEm9Ca/MARyyDdKSKXBx0fswHbcFjLTMe+CctYJxkM8fzA+AB8/neTgO/bNtYRkvB/paKMO/U3HXbHisoJh5wuRYklh+nvay08ujJeTI+3yKHR6E4k4SAY3EgXbLir/usYCEDoZDcr6LGFuYIp4lvRpwQEwbVUOf2GW9Uw9XvL6czBo/g2IrAhWZjUrjMToQu/JHS3qd4a65mzhaF1yDl5taOIuAAAAAnQZoibEI//eEAolLUAIPt6OIjXYuDXZNr5pw4g5H5LhqqEe3NYp5hAAAAEAGeQXkX/wGmzauB1ODH7aAAAAA6QZpDPCGTKYQn//3xAE9rP8IFgI/saOP8cP00WsDX7iPnVGCv1b+xXI0ukTJakkQbWJzhRHhvJ4vbkQAAADxBmmZJ4Q8mUwIT//3xAE9rP9qYrXZ7mG+bUYw5xPvvyDUNSWsxzdxkeFdjuQ+bV4ojJm8FaG8XoGR6mxEAAAAVQZ6ERRE8XwXQhZxVgAOTQAWdvN6QAAAAEAGepWpF/wGmki915g75/vEAAAAxQZqpSahBaJlMCE///fEAUl0h/Tje/1Ylkz9uoAZ1Hgh6SlG0Kc0CfmGDoE5aLXdKMAAAABZBnsdFESxfBfSFjMjlj4tS7y+cmY7hAAAADgGe6GpF/wFHGKYA4smBAAAAHEGa7EmoQWyZTAhH//3hABfRBeh3ngL+j1DCcIAAAAARQZ8KRRUsXwFHtJsGAT1vBaAAAAAKAZ8rakX/AUch2QAAAB9Bmy9JqEFsmUwIR//94QAX0Shx8/Y7eEAfw/Ly5RqIAAAAEUGfTUUVLF8BR7qdNLxKbyptAAAAEgGfbmpF/wFGKC39QWWeeXceYAAAACpBm3FJqEFsmUwUTCP//eEAF/3+eYz0tbYoBctTzcmkwMrvkOGKuperxWkAAAAQAZ+QakX/AUfNGq694AM9gQAAABxBm5JJ4QpSZTAhP/3xAA513SJA45CpTyKRWLphAAAAG0GbtUnhDomUwIT//fEADnXdIkQfWJBLCRWJhwAAABJBn9NFETxfAT3nv7YCeEYHZqAAAAAMAZ/0akX/AT7PQnKgAAAAHUGb+UmoQWiZTAhP//3xAA6O/65VVxUBtnT05bSBAAAAJEGeF0URLG8A+EsAMKISAPEEEpRG1HbUxsxRChRyV7oyJlwAgAAAABcBnjZ0Rf8BPd+GI4ixIAQ5SVxmW5RR0AAAAA8BnjhqRf8BNfKgJpBd0IEAAAAdQZo8SahBbJlMCEf//eEAFzZNJNlX0jhA87XUTw0AAAASQZ5aRRUsXwE+rvoo5R5hG56BAAAADQGee2pF/wE+zR6GwHsAAAAeQZp9SahBbJlMCE///fEADs2/EbWveozMBp0k9UegAAAAHUGagUnhClJlMCE//fEADyXHJgJGpCPUmTH20lcvAAAAEkGev0U0TG8BBfVWq8HWDqJ05QAAAA0Bnt50Rf8BRtyDQa7CAAAAEQGewGpF/wFQy8yij8sM0kuBAAAAIUGaxUmoQWiZTAhP//3xAA8mDXuARD7rqOwmJgNQJfaOwAAAAA5BnuNFESxvAQVvD2S8WQAAAA0BnwJ0Rf8BT9yDQa6rAAAACQGfBGpF/wCpgAAAABlBmwlJqEFsmUwIT//98QAPJbtnzQMXRdvtAAAAD0GfJ0UVLG8BBfV55wolgAAAAAkBn0Z0Rf8AqYEAAAAPAZ9IakX/AVCs37QtfTsLAAAAGUGbS0moQWyZTBRMJ//98QAPJas/jaRz1xsAAAANAZ9qakX/AVDNHobAZwAAABxBm29J4QpSZTAhH/3hABkXx5MpKcfYTZL3+kURAAAAEUGfjUU0TG8BDU1DUyuBdbdAAAAAEQGfrHRF/wFXy0rSVSkc9g6BAAAADQGfrmpF/wFZzR6GwF0AAAAmQZuzSahBaJlMCP/+HgHoiDhQH+uC/m5wGUjYYOw26EgomYTwDxkAAAAMQZ/RRREsb1Ftt62BAAAACgGf8HRF/1tnzQMAAAAJAZ/yakX/AKmBAAAAHkGb9kmoQWyZTAi/+lgAwIEi/jmwg6dcSsqRp2juwAAAABBBnhRFFSxfAVjRUNOhnzfgAAAADQGeNWpF/wFZGNApMOEAAAAxQZo5SahBbJlMCEf//e3lUtmCNKW1IO4/KQAC7NYtn4OFQ4qt6XcQGtGJWJwdDFvkQAAAABJBnldFFSxfAWKx94Y29T8bfqgAAAANAZ54akX/AWtI0LA8CwAAACxBmn1JqEFsmUwIR//94QA6+8pAB93cdqX/8aUuw6evZp220xtPuCAzblFSOQAAABdBnptFFSxvAogMcMGADPksMo4Ii3GQNwAAABMBnrp0Rf8DOZnSFFr1+VdVd7P+AAAACwGevGpF/wM3sH6AAAAAIkGavkmoQWyZTAhH//3hADsI4uQARkDd1VvQTAxkNlI4s4kAAAAYQZrfSeEKUmUwIR/94QA69NJjAaVLwC+AAAAAGUGa4UnhDomUwU0TCP/94QA69gV4RQHUAL4AAAAMAZ8AakX/AzeuGp6BAAAALkGbBUnhDyZTAhH//eEAO1v+2jzpajuagBOe1o8oA17sMrctwuOuLPdP3BOCDMAAAAAVQZ8jRRE8bwKIYhwg6oAJ/utVI7JhAAAAEwGfQnRF/wM29xdh4wAGcdC1kHEAAAAKAZ9EakX/AnxCuQAAAC1Bm0lJqEFomUwIv/pYAWQGXeWDrbaABBkYtN+cnFihNyr6Wd0ZO5CjqKcTw4EAAAASQZ9nRREsbwHpVxcBGrWPyKqEAAAADAGfhnRF/wJ9k3w9cwAAAA8Bn4hqRf8CfZ+dppCQ2zEAAAA1QZuKSahBbJlMCL/6WAFvKAzpYIp17B2FnLk4YaEjrYaDYAJQbEIufonOl9l7gm8y1ipTVLIAAAArQZusSeEKUmUwUVLH//yEALkr1Y0rz5Zyq9PV8AiOCNASdjKHQxA8b3WobAAAAA8Bn8tqRf8CjjG7ZHc73TkAAABIQZvOSeEOiZTBRMb/+lgBb9soD4XSALRZBa3Qk5rkO7uCXajXs5/2grbP6rNmuSbB4DOTKAGiDaBgizilA+KfZySgKh6YKLzIAAAAFwGf7WpF/wKPc0qTiTRGSUnlxeU+NMRBAAAAP0Gb8knhDyZTAi//+lgBb+OU9rLJEnIuAGuRm5FnYLDOby9dB320xv8KgzbLhYbkBqYitq9qSnG0xWvkG1gdQAAAACFBnhBFETxvAfRAdaW7Oc0lKAFQ8PWn2Z9IOf6u/UwF9iUAAAARAZ4vdEX/Ao25BoNdql3lwKEAAAAWAZ4xakX/Ao9zSoyvDzL4gJgQVDxqgQAAACZBmjRJqEFomUwU8b/6WAEYkVDdPZsANAlC1Y6rL2v7+M4NXTutIQAAAA8BnlNqRf8CjkAcDFQd7pwAAAAbQZpXSeEKUmUwIv/6WAEXfKDDBL4zy1cm/XpgAAAAHkGedUU0TF8Cjj6EmIIY+7sADaalaMRsV6LYluK4cQAAABABnpZqRf8B/Q8oe7gRIUFEAAAAH0GamEmoQWiZTAi/+lgBIedW1/WDQQT211j7VtlcXIAAAAAfQZq5SeEKUmUwI3/6WAEh51gfgmk7DAxAidC6r6C2WwAAACdBmtxJ4Q6JlMCEf/3hACWa6iMOG74tj+h3W60I4qutiAoGZsJoOUkAAAAUQZ76RRE8XwH7Oy9HAjlCb5AK2MEAAAANAZ8bakX/AfxsRv0MoAAAABZBmx9JqEFomUwI3/pYASAOdgx1A4o4AAAADkGfPUURLF8B+zswBqtNAAAADAGfXmpF/wH7g5megAAAAE1Bm0NJqEFsmUwIR//94QAl3urJzj+p+y4HgBwYFrTz5PmIFT0e9mXX+58F4XEXqNs8XBCLBL5EsQqF1PLpK0j0YgV06pk+krLljpeyqAAAABhBn2FFFSxvAZWq+nNmgk/IA/giY6cSMMEAAAATAZ+AdEX/AfyGwxR6YfyFvdPZYAAAABMBn4JqRf8B/G+BKc/8PQeDSoWhAAAAKEGbhEmoQWyZTAhH//3hABzh8Uw4GTItw72J6AZ01tIQaU+V8nW4Oz8AAAAUQZunSeEKUmUwIR/94QAc6mkxg8kAAAAWQZ/FRTRMXwH8x/rTcQpgAVIatxqTgQAAAAsBn+ZqRf8BkpLWQAAAABZBm+hJqEFomUwIT//98QASUspmI8ZJAAAAG0GaDEnhClJlMCEf/eEAHZnzpQ+iYKx4WKOowQAAABVBnipFNExvAUbD2IttFABPocAMfCMAAAALAZ5JdEX/AZF8ZoAAAAAOAZ5LakX/AZx14U5kv40AAAAYQZpPSahBaJlMCEf//eEAHaI53/JJU9TIAAAAFEGebUURLF8Bm52BkMAZWAxp5m4pAAAADAGejmpF/wGcki7vYAAAABdBmpBJqEFsmUwIT//98QASziERzPFw+QAAACpBmrRJ4QpSZTAhH/3hAB3N/2yLTI1AHC8yN7/MA03zMvjTVn+m6eVLkw0AAAAUQZ7SRTRMbwFGMVZWxKACfogRcfsAAAAMAZ7xdEX/AZt7KZ7BAAAAEgGe82pF/wE96hBwgAgDoxSxbAAAABtBmvZJqEFomUwU8I/94QAXNt0nNgBnogu2rTMAAAALAZ8VakX/AT7PxsEAAAAkQZsZSeEKUmUwIR/94QAXNji5joALbeI8RoXytEz5lU7pp8TMAAAADUGfN0U0TF8BPrQjD+EAAAAKAZ9YakX/AT4h4QAAAC1Bm1pJqEFomUwIT//98QAQUQoaACdY+KiMhJXjVLYEti36xkN7AHYAwBTV2mEAAAA/QZt+SeEKUmUwIR/94QAaWTeeFAAutMiEePSkpxEbqR5+8M0CriaU9HfPdveErftvAPLT6snxTSyFqObCG0fjAAAAGUGfnEU0TG8BHF3/S5vfLjhzAASyYYkf/SIAAAAUAZ+7dEX/AWr0zTNstxcvm3ZkpiAAAAAPAZ+9akX/AWvgA/FBiXtBAAAAIkGbv0moQWiZTAhH//3hABppY8J3lcrcUwbkkgeoS2XI5IAAAAAfQZvDSeEKUmUwI//8hABdeOM5BtHwBeVA00MHOrbF6AAAABBBn+FFNExvAU8xVlapOF7NAAAADQGeAHRF/wGmKOlvM+AAAAAWAZ4CakX/AaXXDGZqJpgCqMrXrcUnwQAAACpBmgVJqEFomUwU8X/6WADKE8xAJmjFpYh4tbjvixMvPaub8Rw160/JlBkAAAAPAZ4kakX/AWvgA4xsXMLAAAAAIEGaJknhClJlMCL/+lgAysZ4xZQEIXHS+Lii1i70nK3BAAAAGkGaSEnhDomUwU0TF//6WADFgQQXQJjohpXAAAAADQGeZ2pF/wFiGNApL6EAAAAXQZppSeEPJlMCL//6WADE3nwextFYf50AAAAiQZqKSeEPJlMCE//98QAP7v8M4CnxLJgCn7+3nT1lVPKXgAAAABxBmq5J4Q8mUwIT//3xAA+W/6zAxCgMRbhtU822AAAAE0GezEURPG8BDTyXdaN+yxf0N+UAAAANAZ7rdEX/AVjcg0GujgAAABEBnu1qRf8BWNq6CY8Y24rtgQAAAB1BmvJJqEFomUwIT//98QAPgSaz/ODXX6DzoeSTYAAAABBBnxBFESxvAQ31dnZ7oV2hAAAACQGfL3RF/wCpgQAAABABnzFqRf8BWNFRPqsOy1KhAAAAGUGbNkmoQWyZTAhH//3hABkRSXMGCwteCPkAAAAQQZ9URRUsbwENO4AHvlVz8AAAAA0Bn3N0Rf8BWfe2K4v4AAAADwGfdWpF/wFY6DoaHtODgQAAABhBm3pJqEFsmUwI3/pYAL/qELPoBDUrWyAAAAAPQZ+YRRUsbwEN9XnnCh+AAAAACQGft3RF/wCpgQAAAA8Bn7lqRf8BVOpeEGKOEcEAAAAQQZu7SahBbJlMCL/6WABeQQAAIJltb292AAAAbG12aGQAAAAAAAAAAAAAAAAAAAPoAAAVWwABAAABAAAAAAAAAAAAAAAAAQAAAAAAAAAAAAAAAAAAAAEAAAAAAAAAAAAAAAAAAEAAAAAAAAAAAAAAAAAAAAAAAAAAAAAAAAAAAAAAAAACAAAfxHRyYWsAAABcdGtoZAAAAAMAAAAAAAAAAAAAAAEAAAAAAAAVWwAAAAAAAAAAAAAAAAAAAAAAAQAAAAAAAAAAAAAAAAAAAAEAAAAAAAAAAAAAAAAAAEAAAAAAoAAAANIAAAAAACRlZHRzAAAAHGVsc3QAAAAAAAAAAQAAFVsAAAEAAAEAAAAAHzxtZGlhAAAAIG1kaGQAAAAAAAAAAAAAAAAAADwAAAFIAFXEAAAAAAAtaGRscgAAAAAAAAAAdmlkZQAAAAAAAAAAAAAAAFZpZGVvSGFuZGxlcgAAAB7nbWluZgAAABR2bWhkAAAAAQAAAAAAAAAAAAAAJGRpbmYAAAAcZHJlZgAAAAAAAAABAAAADHVybCAAAAABAAAep3N0YmwAAACvc3RzZAAAAAAAAAABAAAAn2F2YzEAAAAAAAAAAQAAAAAAAAAAAAAAAAAAAAAAoADSAEgAAABIAAAAAAAAAAEVTGF2YzYxLjE5LjEwMSBsaWJ4MjY0AAAAAAAAAAAAAAAY//8AAAA1YXZjQwFkABX/4QAYZ2QAFazZQod+IhAAAAMAEAAADwDxYtlgAQAGaOvjyyLA/fj4AAAAABRidHJ0AAAAAAAAeXAAAAAAAAAAGHN0dHMAAAAAAAAAAQAAApAAAACAAAAAHHN0c3MAAAAAAAAAAwAAAAEAAAD7AAAB9QAAEzhjdHRzAAAAAAAAAmUAAAABAAABAAAAAAEAAAKAAAAAAQAAAQAAAAABAAAAAAAAAAEAAACAAAAAAQAAAgAAAAACAAAAgAAAAAEAAAKAAAAAAQAAAQAAAAABAAAAAAAAAAEAAACAAAAAAQAAAYAAAAABAAAAgAAAAAEAAAGAAAAAAQAAAIAAAAABAAABgAAAAAEAAACAAAAAAQAAAQAAAAABAAABgAAAAAEAAACAAAAAAQAAAYAAAAABAAAAgAAAAAEAAAKAAAAAAQAAAQAAAAABAAAAAAAAAAEAAACAAAAAAQAAAQAAAAABAAABgAAAAAEAAACAAAAAAQAAAgAAAAACAAAAgAAAAAEAAAEAAAAAAQAAAYAAAAABAAAAgAAAAAEAAAGAAAAAAQAAAIAAAAABAAACgAAAAAEAAAEAAAAAAQAAAAAAAAABAAAAgAAAAAEAAAGAAAAAAQAAAIAAAAABAAABgAAAAAEAAACAAAAAAQAAAYAAAAABAAAAgAAAAAEAAAGAAAAAAQAAAIAAAAABAAABgAAAAAEAAACAAAAAAQAAAYAAAAABAAAAgAAAAAEAAAKAAAAAAQAAAQAAAAABAAAAAAAAAAEAAACAAAAAAQAAAYAAAAABAAAAgAAAAAEAAAGAAAAAAQAAAIAAAAABAAACgAAAAAEAAAEAAAAAAQAAAAAAAAABAAAAgAAAAAEAAAGAAAAAAQAAAIAAAAABAAABgAAAAAEAAACAAAAAAQAAAoAAAAABAAABAAAAAAEAAAAAAAAAAQAAAIAAAAABAAABgAAAAAEAAACAAAAAAQAAAYAAAAABAAAAgAAAAAEAAAIAAAAAAgAAAIAAAAABAAABgAAAAAEAAACAAAAAAQAAAgAAAAACAAAAgAAAAAEAAAKAAAAAAQAAAQAAAAABAAAAAAAAAAEAAACAAAAAAQAAAoAAAAABAAABAAAAAAEAAAAAAAAAAQAAAIAAAAABAAACgAAAAAEAAAEAAAAAAQAAAAAAAAABAAAAgAAAAAEAAAGAAAAAAQAAAIAAAAABAAACgAAAAAEAAAEAAAAAAQAAAAAAAAABAAAAgAAAAAEAAAKAAAAAAQAAAQAAAAABAAAAAAAAAAEAAACAAAAAAQAAAYAAAAABAAAAgAAAAAIAAAEAAAAAAQAAAgAAAAACAAAAgAAAAAEAAAGAAAAAAQAAAIAAAAABAAABgAAAAAEAAACAAAAAAQAAAoAAAAABAAABAAAAAAEAAAAAAAAAAQAAAIAAAAABAAABgAAAAAEAAACAAAAAAQAAAYAAAAABAAAAgAAAAAEAAAKAAAAAAQAAAQAAAAABAAAAAAAAAAEAAACAAAAAAQAAAYAAAAABAAAAgAAAAAEAAAGAAAAAAQAAAIAAAAABAAACgAAAAAEAAAEAAAAAAQAAAAAAAAABAAAAgAAAAAEAAAGAAAAAAQAAAIAAAAACAAABAAAAAAEAAAGAAAAAAQAAAIAAAAABAAABgAAAAAEAAACAAAAAAQAAAYAAAAABAAAAgAAAAAEAAAGAAAAAAQAAAIAAAAABAAABgAAAAAEAAACAAAAAAQAAAoAAAAABAAABAAAAAAEAAAAAAAAAAQAAAIAAAAABAAACgAAAAAEAAAEAAAAAAQAAAAAAAAABAAAAgAAAAAIAAAEAAAAAAQAAAYAAAAABAAAAgAAAAAEAAAGAAAAAAQAAAIAAAAABAAACgAAAAAEAAAEAAAAAAQAAAAAAAAABAAAAgAAAAAEAAAKAAAAAAQAAAQAAAAABAAAAAAAAAAEAAACAAAAAAQAAAoAAAAABAAABAAAAAAEAAAAAAAAAAQAAAIAAAAABAAACgAAAAAEAAAEAAAAAAQAAAAAAAAABAAAAgAAAAAEAAAKAAAAAAQAAAQAAAAABAAAAAAAAAAEAAACAAAAAAQAAAgAAAAACAAAAgAAAAAEAAAIAAAAAAgAAAIAAAAABAAABgAAAAAEAAACAAAAAAQAAAYAAAAABAAAAgAAAAAEAAAEAAAAAAQAAAYAAAAABAAAAgAAAAAEAAAEAAAAAAQAAAYAAAAABAAAAgAAAAAEAAAKAAAAAAQAAAQAAAAABAAAAAAAAAAEAAACAAAAAAQAAAYAAAAABAAAAgAAAAAEAAAIAAAAAAgAAAIAAAAABAAABgAAAAAEAAACAAAAAAQAAAYAAAAABAAAAgAAAAAEAAAGAAAAAAQAAAIAAAAACAAABAAAAAAEAAAGAAAAAAQAAAIAAAAABAAABAAAAAAEAAAKAAAAAAQAAAQAAAAABAAAAAAAAAAEAAACAAAAAAQAAAYAAAAABAAAAgAAAAAEAAAGAAAAAAQAAAIAAAAABAAABgAAAAAEAAACAAAAAAQAAAYAAAAABAAAAgAAAAAEAAAGAAAAAAQAAAIAAAAABAAACgAAAAAEAAAEAAAAAAQAAAAAAAAABAAAAgAAAAAEAAAEAAAAAAQAAAYAAAAABAAAAgAAAAAEAAAKAAAAAAQAAAQAAAAABAAAAAAAAAAEAAACAAAAAAwAAAQAAAAABAAABgAAAAAEAAACAAAAAAQAAAQAAAAABAAABgAAAAAEAAACAAAAAAQAAAoAAAAABAAABAAAAAAEAAAAAAAAAAQAAAIAAAAABAAABAAAAAAEAAAGAAAAAAQAAAIAAAAABAAABAAAAAAEAAAGAAAAAAQAAAIAAAAABAAABgAAAAAEAAACAAAAAAQAAAYAAAAABAAAAgAAAAAEAAAKAAAAAAQAAAQAAAAABAAAAAAAAAAEAAACAAAAAAQAAAQAAAAABAAACgAAAAAEAAAEAAAAAAQAAAAAAAAABAAAAgAAAAAEAAAEAAAAAAQAAAYAAAAABAAAAgAAAAAEAAAEAAAAAAQAAAYAAAAABAAAAgAAAAAEAAAGAAAAAAQAAAIAAAAABAAABgAAAAAEAAACAAAAAAQAAAQAAAAABAAACAAAAAAIAAACAAAAAAQAAAoAAAAABAAABAAAAAAEAAAAAAAAAAQAAAIAAAAABAAACgAAAAAEAAAEAAAAAAQAAAAAAAAABAAAAgAAAAAEAAAKAAAAAAQAAAQAAAAABAAAAAAAAAAEAAACAAAAAAQAAAgAAAAACAAAAgAAAAAEAAAKAAAAAAQAAAQAAAAABAAAAAAAAAAEAAACAAAAAAQAAAYAAAAABAAAAgAAAAAEAAAIAAAAAAgAAAIAAAAABAAACAAAAAAIAAACAAAAAAQAAAoAAAAABAAABAAAAAAEAAAAAAAAAAQAAAIAAAAABAAACgAAAAAEAAAEAAAAAAQAAAAAAAAABAAAAgAAAAAEAAAKAAAAAAQAAAQAAAAABAAAAAAAAAAEAAACAAAAAAQAAAYAAAAABAAAAgAAAAAEAAAEAAAAAAQAAAYAAAAABAAAAgAAAAAEAAAKAAAAAAQAAAQAAAAABAAAAAAAAAAEAAACAAAAAAQAAAgAAAAACAAAAgAAAAAEAAAEAAAAAAQAAAYAAAAABAAAAgAAAAAEAAAGAAAAAAQAAAIAAAAABAAACgAAAAAEAAAEAAAAAAQAAAAAAAAABAAAAgAAAAAEAAAIAAAAAAgAAAIAAAAABAAABgAAAAAEAAACAAAAAAQAAAYAAAAABAAAAgAAAAAEAAAGAAAAAAQAAAIAAAAABAAABgAAAAAEAAACAAAAAAQAAAoAAAAABAAABAAAAAAEAAAAAAAAAAQAAAIAAAAABAAABAAAAAAEAAAKAAAAAAQAAAQAAAAABAAAAAAAAAAEAAACAAAAAAQAAAYAAAAABAAAAgAAAAAEAAAGAAAAAAQAAAIAAAAABAAACgAAAAAEAAAEAAAAAAQAAAAAAAAABAAAAgAAAAAEAAAKAAAAAAQAAAQAAAAABAAAAAAAAAAEAAACAAAAAAQAAAoAAAAABAAABAAAAAAEAAAAAAAAAAQAAAIAAAAABAAABgAAAAAEAAACAAAAAAQAAAYAAAAABAAAAgAAAAAEAAAKAAAAAAQAAAQAAAAABAAAAAAAAAAEAAACAAAAAAQAAAYAAAAABAAAAgAAAAAEAAAGAAAAAAQAAAIAAAAABAAACAAAAAAIAAACAAAAAAQAAAoAAAAABAAABAAAAAAEAAAAAAAAAAQAAAIAAAAABAAACgAAAAAEAAAEAAAAAAQAAAAAAAAABAAAAgAAAAAEAAAIAAAAAAgAAAIAAAAABAAACAAAAAAIAAACAAAAAAQAAAoAAAAABAAABAAAAAAEAAAAAAAAAAQAAAIAAAAABAAACgAAAAAEAAAEAAAAAAQAAAAAAAAABAAAAgAAAAAEAAAKAAAAAAQAAAQAAAAABAAAAAAAAAAEAAACAAAAAAQAAAoAAAAABAAABAAAAAAEAAAAAAAAAAQAAAIAAAAABAAACgAAAAAEAAAEAAAAAAQAAAAAAAAABAAAAgAAAAAEAAAKAAAAAAQAAAQAAAAABAAAAAAAAAAEAAACAAAAAAQAAAoAAAAABAAABAAAAAAEAAAAAAAAAAQAAAIAAAAABAAACgAAAAAEAAAEAAAAAAQAAAAAAAAABAAAAgAAAAAEAAAGAAAAAAQAAAIAAAAABAAACgAAAAAEAAAEAAAAAAQAAAAAAAAABAAAAgAAAAAEAAAIAAAAAAgAAAIAAAAABAAACAAAAAAIAAACAAAAAAQAAAYAAAAABAAAAgAAAAAEAAAGAAAAAAQAAAIAAAAABAAACgAAAAAEAAAEAAAAAAQAAAAAAAAABAAAAgAAAAAEAAAGAAAAAAQAAAIAAAAABAAABgAAAAAEAAACAAAAAAQAAAoAAAAABAAABAAAAAAEAAAAAAAAAAQAAAIAAAAABAAABgAAAAAEAAACAAAAAAQAAAYAAAAABAAAAgAAAAAEAAAKAAAAAAQAAAQAAAAABAAAAAAAAAAEAAACAAAAAAQAAAYAAAAABAAAAgAAAAAEAAAEAAAAAAQAAAYAAAAABAAAAgAAAAAEAAAKAAAAAAQAAAQAAAAABAAAAAAAAAAEAAACAAAAAAQAAAoAAAAABAAABAAAAAAEAAAAAAAAAAQAAAIAAAAACAAABAAAAAAEAAAGAAAAAAQAAAIAAAAABAAABAAAAAAEAAAIAAAAAAgAAAIAAAAABAAACAAAAAAIAAACAAAAAAQAAAgAAAAACAAAAgAAAAAEAAAIAAAAAAgAAAIAAAAABAAABgAAAAAEAAACAAAAAAQAAAQAAAAABAAACAAAAAAIAAACAAAAAAQAAAoAAAAABAAABAAAAAAEAAAAAAAAAAQAAAIAAAAABAAACAAAAAAIAAACAAAAAAQAAAQAAAAABAAACgAAAAAEAAAEAAAAAAQAAAAAAAAABAAAAgAAAAAEAAAKAAAAAAQAAAQAAAAABAAAAAAAAAAEAAACAAAAAAQAAAoAAAAABAAABAAAAAAEAAAAAAAAAAQAAAIAAAAABAAABgAAAAAEAAACAAAAAAQAAAoAAAAABAAABAAAAAAEAAAAAAAAAAQAAAIAAAAABAAACgAAAAAEAAAEAAAAAAQAAAAAAAAABAAAAgAAAAAEAAAIAAAAAAgAAAIAAAAABAAACAAAAAAIAAACAAAAAAQAAAoAAAAABAAABAAAAAAEAAAAAAAAAAQAAAIAAAAACAAABAAAAAAEAAAGAAAAAAQAAAIAAAAABAAACgAAAAAEAAAEAAAAAAQAAAAAAAAABAAAAgAAAAAEAAAKAAAAAAQAAAQAAAAABAAAAAAAAAAEAAACAAAAAAQAAAQAAAAABAAABgAAAAAEAAACAAAAAAQAAAYAAAAABAAAAgAAAAAEAAAKAAAAAAQAAAQAAAAABAAAAAAAAAAEAAACAAAAAAQAAAYAAAAABAAAAgAAAAAEAAAIAAAAAAgAAAIAAAAACAAABAAAAAAEAAAIAAAAAAgAAAIAAAAABAAACAAAAAAIAAACAAAAAAQAAAoAAAAABAAABAAAAAAEAAAAAAAAAAQAAAIAAAAABAAABAAAAAAEAAAIAAAAAAgAAAIAAAAABAAABAAAAAAEAAAKAAAAAAQAAAQAAAAABAAAAAAAAAAEAAACAAAAAAQAAAgAAAAACAAAAgAAAAAEAAAEAAAAAAQAAAoAAAAABAAABAAAAAAEAAAAAAAAAAQAAAIAAAAABAAABgAAAAAEAAACAAAAAAQAAAgAAAAACAAAAgAAAAAEAAAEAAAAAAQAAAoAAAAABAAABAAAAAAEAAAAAAAAAAQAAAIAAAAABAAABAAAAAAEAAAKAAAAAAQAAAQAAAAABAAAAAAAAAAEAAACAAAAAAQAAAYAAAAABAAAAgAAAAAEAAAEAAAAAAQAAAYAAAAABAAAAgAAAAAIAAAEAAAAAAQAAAoAAAAABAAABAAAAAAEAAAAAAAAAAQAAAIAAAAABAAACgAAAAAEAAAEAAAAAAQAAAAAAAAABAAAAgAAAAAEAAAKAAAAAAQAAAQAAAAABAAAAAAAAAAEAAACAAAAAAQAAAoAAAAABAAABAAAAAAEAAAAAAAAAAQAAAIAAAAABAAABAAAAABxzdHNjAAAAAAAAAAEAAAABAAACkAAAAAEAAApUc3RzegAAAAAAAAAAAAACkAAABKcAAABCAAAAFAAAAA0AAAARAAAAIAAAABYAAAATAAAASAAAABoAAAAeAAAAHQAAACcAAAAWAAAAJwAAABgAAAAuAAAAGAAAACkAAAAjAAAAFAAAACIAAAAYAAAALAAAABsAAAAWAAAAFgAAADsAAAAmAAAAGQAAAC0AAAAZAAAAFQAAACAAAABAAAAAHgAAADAAAAAXAAAAKAAAABcAAAAbAAAAEQAAABsAAAARAAAAGwAAABIAAAA9AAAAHwAAACQAAAAWAAAAJgAAABUAAAAZAAAAEAAAABsAAAATAAAAFwAAABEAAAApAAAAEQAAAC8AAAAYAAAALAAAABcAAAAmAAAAEAAAABoAAAAQAAAAJgAAABAAAAAbAAAAEwAAABcAAAARAAAAGwAAABEAAAAbAAAAEgAAAC4AAAARAAAAEgAAAEUAAAAXAAAANgAAABQAAAASAAAAJgAAABIAAAARAAAADQAAACsAAAATAAAADQAAABMAAAAwAAAAFQAAABUAAAARAAAALwAAABQAAAAkAAAAFAAAABMAAAASAAAASgAAABQAAAAQAAAAEAAAACIAAAAZAAAAIQAAADEAAAAnAAAAGAAAABwAAAAqAAAAFgAAADMAAAAYAAAAIgAAABoAAAAVAAAAGAAAACcAAAAZAAAAMAAAABcAAAAbAAAAEgAAABEAAAAQAAAAGgAAABAAAAAaAAAAEAAAACUAAAAaAAAAFQAAABgAAAAiAAAAGQAAADYAAAApAAAAJwAAABUAAAAaAAAAEAAAABgAAAAQAAAAJgAAABAAAAAqAAAAEQAAAB0AAAAUAAAAEQAAABEAAAAsAAAAEwAAABAAAAASAAAAIwAAACgAAAA2AAAAHAAAAEMAAAAaAAAAMgAAACYAAAAbAAAAFgAAAEIAAAAiAAAAHQAAABoAAAAzAAAAFQAAABIAAAAVAAAASgAAAB0AAAARAAAAHQAAAC0AAAAvAAAAGAAAABkAAAAiAAAAHQAAABwAAAAwAAAAFgAAABQAAAApAAAAIwAAACgAAAAXAAAAJAAAACYAAAAWAAAAJgAAAEUAAAAXAAAAPQAAABoAAAAaAAAAEwAAAEIAAAAVAAAAMgAAABcAAAASAAAAMwAAABQAAAAwAAAAEgAAAD0AAAAVAAAANgAAACkAAAAwAAAAHAAAADUAAAAwAAAAFgAAABYAAAAQAAAAMQAAABIAAAA8AAAAGQAAAD4AAAASAAAAQQAAABcAAAAlAAAAGQAAADkAAAAcAAAAFwAAABcAAAAnAAAAIgAAABMAAAA0AAAAIQAAABkAAAATAAAANgAAACwAAAI7AAAAMwAAABYAAAAjAAAAJgAAABoAAAAqAAAAGQAAABUAAAAUAAAAIwAAACEAAAASAAAAIwAAACoAAAAYAAAAJAAAABUAAAAmAAAAFwAAACAAAAAXAAAAFQAAABIAAAAmAAAANwAAABkAAAAWAAAAEgAAACsAAAA0AAAAFAAAADQAAAAwAAAAGQAAACQAAAAYAAAAIgAAABAAAAAZAAAAGQAAABEAAAAPAAAAHAAAABMAAAAXAAAAEgAAABsAAAAZAAAAEQAAAA8AAAAcAAAAEwAAAA0AAAARAAAAHQAAABQAAAARAAAAIgAAABUAAAAUAAAAEQAAACIAAAAVAAAAOAAAABgAAAAXAAAALwAAABUAAAASAAAAHwAAABQAAAATAAAAEgAAABUAAAAOAAAADQAAAA0AAAAnAAAAEQAAAA0AAAAQAAAAHAAAABAAAAAcAAAAIAAAABMAAAAbAAAAEgAAABAAAAAXAAAAJQAAABMAAAAWAAAAJwAAAEIAAAAaAAAALwAAABUAAAAuAAAAGQAAAB4AAAATAAAAOwAAABoAAAAVAAAAMgAAABQAAAA6AAAAHQAAACYAAAAXAAAALAAAABMAAAA7AAAAGgAAABIAAAARAAAAJwAAADUAAAAYAAAAEgAAABMAAABOAAAAGAAAACUAAAAXAAAAIQAAAB4AAAAUAAAAFQAAACcAAAAZAAAAEwAAABcAAAAxAAAAGAAAABIAAAAVAAAAKQAAABMAAAAtAAAAGQAAADMAAAAgAAAAEAAAABwAAAAmAAAAFAAAACMAAAAYAAAAKQAAABUAAAAhAAAAGQAAABAAAAAPAAAADQAAABUAAAAOAAAADQAAAA0AAAAiAAAAFAAAABUAAAAiAAAAFgAAABMAAAAjAAAAFAAAABMAAAARAAAAJQAAABMAAAANAAAAEwAAADoAAAAXAAAAEQAAABQAAAAiAAAAFAAAABMAAAANAAAAFQAAAA4AAAANAAAADQAAACIAAAAUAAAADQAAABUAAAAdAAAAFwAAABIAAAATAAAAHgAAABQAAAARAAAAEQAAACQAAAAVAAAARAAAACwAAAAUAAAAFwAAADIAAAAZAAAAFAAAACcAAAAXAAAAEgAAACAAAAAaAAAAGQAAABAAAAAdAAAAFwAAABgAAAARAAAAGwAAABkAAAAbAAAAEAAAACIAAAAbAAAAGQAAABUAAAAlAAAAHwAAACgAAAAYAAAAOgAAACQAAAAUAAAAGgAAADEAAAAVAAAAJQAAACMAAAATAAAAPwAAACUAAAAbAAAAFgAAACAAAAAYAAAAFwAAABEAAAAdAAACSwAAACsAAAAUAAAAPgAAAEAAAAAZAAAAFAAAADUAAAAaAAAAEgAAACAAAAAVAAAADgAAACMAAAAVAAAAFgAAAC4AAAAUAAAAIAAAAB8AAAAWAAAAEAAAACEAAAAoAAAAGwAAABMAAAAhAAAAFgAAABEAAAAiAAAAIQAAABYAAAARAAAAFQAAACUAAAASAAAAEQAAAA0AAAAdAAAAEwAAAA0AAAATAAAAHQAAABEAAAAgAAAAFQAAABUAAAARAAAAKgAAABAAAAAOAAAADQAAACIAAAAUAAAAEQAAADUAAAAWAAAAEQAAADAAAAAbAAAAFwAAAA8AAAAmAAAAHAAAAB0AAAAQAAAAMgAAABkAAAAXAAAADgAAADEAAAAWAAAAEAAAABMAAAA5AAAALwAAABMAAABMAAAAGwAAAEMAAAAlAAAAFQAAABoAAAAqAAAAEwAAAB8AAAAiAAAAFAAAACMAAAAjAAAAKwAAABgAAAARAAAAGgAAABIAAAAQAAAAUQAAABwAAAAXAAAAFwAAACwAAAAYAAAAGgAAAA8AAAAaAAAAHwAAABkAAAAPAAAAEgAAABwAAAAYAAAAEAAAABsAAAAuAAAAGAAAABAAAAAWAAAAHwAAAA8AAAAoAAAAEQAAAA4AAAAxAAAAQwAAAB0AAAAYAAAAEwAAACYAAAAjAAAAFAAAABEAAAAaAAAALgAAABMAAAAkAAAAHgAAABEAAAAbAAAAJgAAACAAAAAXAAAAEQAAABUAAAAhAAAAFAAAAA0AAAAUAAAAHQAAABQAAAARAAAAEwAAABwAAAATAAAADQAAABMAAAAUAAAAFHN0Y28AAAAAAAAAAQAAADAAAABhdWR0YQAAAFltZXRhAAAAAAAAACFoZGxyAAAAAAAAAABtZGlyYXBwbAAAAAAAAAAAAAAAACxpbHN0AAAAJKl0b28AAAAcZGF0YQAAAAEAAAAATGF2ZjYxLjcuMTAw\" type=\"video/mp4\">\n",
       " Your browser does not support the video tag.\n",
       " </video>"
      ],
      "text/plain": [
       "<IPython.core.display.Video object>"
      ]
     },
     "execution_count": 8,
     "metadata": {},
     "output_type": "execute_result"
    }
   ],
   "source": [
    "# Ruta al archivo de vídeo en tu sistema de ficheros\n",
    "video_path = \"./videos/random/breakout-episode-0.mp4\"\n",
    "\n",
    "# Muestra el vídeo\n",
    "Video(video_path, embed=True, width=600)"
   ]
  },
  {
   "cell_type": "markdown",
   "metadata": {
    "id": "2bYVG_TKt9I5"
   },
   "source": [
    "# Exploración del entorno"
   ]
  },
  {
   "cell_type": "code",
   "execution_count": 9,
   "metadata": {},
   "outputs": [
    {
     "name": "stdout",
     "output_type": "stream",
     "text": [
      "Actions shape: Discrete(4)\n",
      "Observation shape: (4, 84, 84)\n",
      "(4, 84, 84),\n",
      " 0,\n",
      " False,\n",
      " {'lives': 5, 'episode_frame_number': 5, 'frame_number': 660}\n"
     ]
    }
   ],
   "source": [
    "print(\"Actions shape:\",env.action_space)\n",
    "print(\"Observation shape:\",env.observation_space.shape)\n",
    "env.reset()\n",
    "next_state, reward, terminated, truncated, info = env.step(action=0)\n",
    "\n",
    "print(f\"{next_state.shape},\\n {reward},\\n {terminated},\\n {info}\")"
   ]
  },
  {
   "cell_type": "markdown",
   "metadata": {},
   "source": [
    "### Acciones\n",
    "..."
   ]
  },
  {
   "cell_type": "markdown",
   "metadata": {},
   "source": [
    "### Observaciones\n",
    "..."
   ]
  },
  {
   "cell_type": "markdown",
   "metadata": {
    "id": "XIHpwiaat9I7"
   },
   "source": [
    "# Deep Q Learning\n",
    "\n",
    "Deep Q Learning extiende el algoritmo clásico de Q-learning al emplear una **red neuronal profunda** como aproximador de la función de valor $Q(s,a)$. Inspirado en Mnih et al. (2013), este método utiliza una **red convolucional** para procesar directamente las imágenes del entorno Atari, un **replay buffer** para romper la correlación temporal de las muestras. La política sigue un esquema **ε-greedy**, balanceando exploración y explotación, y se entrena minimizando el error de la ecuación de Bellman sobre lotes de transiciones muestreadas de manera aleatoria.\n",
    "\n",
    "<p align=\"center\">\n",
    "  <img src=\"https://www.researchgate.net/profile/Faris-Mismar/publication/327045314/figure/fig4/AS:819677282455553@1572437701142/Structure-of-the-neural-network-used-for-the-Deep-Q-learning-Network-implementation-with.png\" alt=\"DQN\"/>\n",
    "</p>\n",
    "\n",
    "Fuente: [arXiv:1312.5602](https://arxiv.org/abs/1312.5602)"
   ]
  },
  {
   "cell_type": "markdown",
   "metadata": {
    "id": "ajTGajUftSgY",
    "pycharm": {
     "name": "#%% md\n"
    }
   },
   "source": [
    "## Memoria\n",
    "\n",
    "El algoritmo de Deep Q Learning presentado en el paper utiliza una memoria (llamada Replay Memory) para almacenar transiciones pasadas. Tuplas que contienen un estado base, la accion tomada, la recompensa obtenida, una bandera que indica si el siguiente estado es final o no; y el estado siguiente.\n",
    "\n",
    "Esta memoria es circular, es decir, tiene un límite maximo de elementos y una vez esté llena comienza a reemplazar los elementos más viejos.\n",
    "\n",
    "Vamos a necesitar crear una función **sample** que obtiene una mustra aleatoria de elementos de la memoria.  Esto puede ser una lista de Transiciones o listas separadas (pero alineadas) de los elementos que las componen.\n",
    "\n",
    "\n",
    "> Para implementar esta funcionalidad se debe modificar el archivo **replay_memory.py**"
   ]
  },
  {
   "cell_type": "code",
   "execution_count": 10,
   "metadata": {
    "id": "scPtpbz4tTAh",
    "outputId": "0890f48a-e673-4416-bd69-7dcf2730ba64",
    "pycharm": {
     "name": "#%%\n"
    }
   },
   "outputs": [
    {
     "name": "stdout",
     "output_type": "stream",
     "text": [
      "WARNING: State no es un tensor, se convertirá a tensor.\n"
     ]
    },
    {
     "ename": "ValueError",
     "evalue": "could not convert string to float: 'state1'",
     "output_type": "error",
     "traceback": [
      "\u001b[31m---------------------------------------------------------------------------\u001b[39m",
      "\u001b[31mValueError\u001b[39m                                Traceback (most recent call last)",
      "\u001b[36mCell\u001b[39m\u001b[36m \u001b[39m\u001b[32mIn[10]\u001b[39m\u001b[32m, line 7\u001b[39m\n\u001b[32m      4\u001b[39m replay_memory = ReplayMemory(\u001b[32m3\u001b[39m)\n\u001b[32m      6\u001b[39m \u001b[38;5;66;03m# Añadimos transiciones a la memoria (solo las 3 últimas se guardan)\u001b[39;00m\n\u001b[32m----> \u001b[39m\u001b[32m7\u001b[39m \u001b[43mreplay_memory\u001b[49m\u001b[43m.\u001b[49m\u001b[43madd\u001b[49m\u001b[43m(\u001b[49m\u001b[33;43m'\u001b[39;49m\u001b[33;43mstate1\u001b[39;49m\u001b[33;43m'\u001b[39;49m\u001b[43m,\u001b[49m\u001b[43m \u001b[49m\u001b[33;43m'\u001b[39;49m\u001b[33;43maction1\u001b[39;49m\u001b[33;43m'\u001b[39;49m\u001b[43m,\u001b[49m\u001b[43m \u001b[49m\u001b[33;43m'\u001b[39;49m\u001b[33;43mreward1\u001b[39;49m\u001b[33;43m'\u001b[39;49m\u001b[43m,\u001b[49m\u001b[43m \u001b[49m\u001b[33;43m'\u001b[39;49m\u001b[33;43mdone1\u001b[39;49m\u001b[33;43m'\u001b[39;49m\u001b[43m,\u001b[49m\u001b[43m \u001b[49m\u001b[33;43m'\u001b[39;49m\u001b[33;43mnext_state1\u001b[39;49m\u001b[33;43m'\u001b[39;49m\u001b[43m \u001b[49m\u001b[43m)\u001b[49m\n\u001b[32m      8\u001b[39m replay_memory.add(\u001b[33m'\u001b[39m\u001b[33mstate2\u001b[39m\u001b[33m'\u001b[39m, \u001b[33m'\u001b[39m\u001b[33maction2\u001b[39m\u001b[33m'\u001b[39m, \u001b[33m'\u001b[39m\u001b[33mreward2\u001b[39m\u001b[33m'\u001b[39m, \u001b[33m'\u001b[39m\u001b[33mdone2\u001b[39m\u001b[33m'\u001b[39m, \u001b[33m'\u001b[39m\u001b[33mnext_state2\u001b[39m\u001b[33m'\u001b[39m)\n\u001b[32m      9\u001b[39m replay_memory.add(\u001b[33m'\u001b[39m\u001b[33mstate3\u001b[39m\u001b[33m'\u001b[39m, \u001b[33m'\u001b[39m\u001b[33maction3\u001b[39m\u001b[33m'\u001b[39m, \u001b[33m'\u001b[39m\u001b[33mreward3\u001b[39m\u001b[33m'\u001b[39m, \u001b[33m'\u001b[39m\u001b[33mdone3\u001b[39m\u001b[33m'\u001b[39m, \u001b[33m'\u001b[39m\u001b[33mnext_state3\u001b[39m\u001b[33m'\u001b[39m)\n",
      "\u001b[36mFile \u001b[39m\u001b[32m~/master/obligatorio-taller-ia/replay_memory.py:43\u001b[39m, in \u001b[36mReplayMemory.add\u001b[39m\u001b[34m(self, state, action, reward, done, next_state)\u001b[39m\n\u001b[32m     41\u001b[39m \u001b[38;5;28;01mif\u001b[39;00m \u001b[38;5;129;01mnot\u001b[39;00m \u001b[38;5;28misinstance\u001b[39m(state, torch.Tensor):\n\u001b[32m     42\u001b[39m   \u001b[38;5;28mprint\u001b[39m(\u001b[33m\"\u001b[39m\u001b[33mWARNING: State no es un tensor, se convertirá a tensor.\u001b[39m\u001b[33m\"\u001b[39m)\n\u001b[32m---> \u001b[39m\u001b[32m43\u001b[39m   state = torch.from_numpy(\u001b[43mnp\u001b[49m\u001b[43m.\u001b[49m\u001b[43masarray\u001b[49m\u001b[43m(\u001b[49m\u001b[43mstate\u001b[49m\u001b[43m,\u001b[49m\u001b[43m \u001b[49m\u001b[43mdtype\u001b[49m\u001b[43m=\u001b[49m\u001b[43mnp\u001b[49m\u001b[43m.\u001b[49m\u001b[43mfloat32\u001b[49m\u001b[43m)\u001b[49m).to(\u001b[38;5;28mself\u001b[39m.device)\n\u001b[32m     44\u001b[39m \u001b[38;5;66;03m# Verificamos si la memoria no está llena.\u001b[39;00m\n\u001b[32m     45\u001b[39m \u001b[38;5;28;01mif\u001b[39;00m \u001b[38;5;28mlen\u001b[39m(\u001b[38;5;28mself\u001b[39m.memory) < \u001b[38;5;28mself\u001b[39m.capacity:\n\u001b[32m     46\u001b[39m     \u001b[38;5;66;03m# Si hay espacio, simplemente añadimos, conservando todas las experiencias.\u001b[39;00m\n",
      "\u001b[31mValueError\u001b[39m: could not convert string to float: 'state1'"
     ]
    }
   ],
   "source": [
    "from replay_memory import ReplayMemory, Transition\n",
    "\n",
    "# Creamos la memoria de repetición\n",
    "replay_memory = ReplayMemory(3)\n",
    "\n",
    "# Añadimos transiciones a la memoria (solo las 3 últimas se guardan)\n",
    "replay_memory.add('state1', 'action1', 'reward1', 'done1', 'next_state1' )\n",
    "replay_memory.add('state2', 'action2', 'reward2', 'done2', 'next_state2')\n",
    "replay_memory.add('state3', 'action3', 'reward3', 'done3', 'next_state3')\n",
    "replay_memory.add('state4', 'action4', 'reward4', 'done4', 'next_state4')\n",
    "\n",
    "# Mostramos el tamaño de la memoria\n",
    "print(f\"Memory size: {len(replay_memory)}\\n\")\n",
    "\n",
    "# Mostramos un sample de la memoria\n",
    "sampled = replay_memory.sample(2)\n",
    "print(f\"Memory sample:\")\n",
    "for i, sample in enumerate(sampled):\n",
    "    print(f\"Sample {i}: {sample}\")\n"
   ]
  },
  {
   "cell_type": "markdown",
   "metadata": {
    "id": "j7Ygv5Mjtb-F",
    "pycharm": {
     "name": "#%% md\n"
    }
   },
   "source": [
    "## Modelo\n",
    "\n",
    "Vamos a usar un mismo modelo FeedForward para estos dos problemas (entrenado en cada problema particular). Recomendamos simplicidad en la creación del mismo, pero tienen total libertad al momento de implementarlo.\n",
    "\n",
    "> Para implementar esta funcionalidad se debe modificar el archivo **dqn_cnn_model.py**. Se recomienda empezar por una arquitectura simple como la que se muestra en el paper de Mnih et al. (2013) y luego experimentar con arquitecturas más complejas."
   ]
  },
  {
   "cell_type": "code",
   "execution_count": 11,
   "metadata": {
    "id": "bkNBvJB6ryp7",
    "pycharm": {
     "name": "#%%\n"
    }
   },
   "outputs": [
    {
     "name": "stdout",
     "output_type": "stream",
     "text": [
      "Actions shape: Discrete(4)\n",
      "Observatiion shape: (4, 84, 84)\n"
     ]
    },
    {
     "name": "stderr",
     "output_type": "stream",
     "text": [
      "A.L.E: Arcade Learning Environment (version 0.10.2+unknown)\n",
      "[Powered by Stella]\n",
      "Game console created:\n",
      "  ROM file:  /opt/miniconda3/envs/obl_taller_ia/lib/python3.12/site-packages/ale_py/roms/breakout.bin\n",
      "  Cart Name: Breakout - Breakaway IV (1978) (Atari)\n",
      "  Cart MD5:  f34f08e5eb96e500e851a80be3277a56\n",
      "  Display Format:  AUTO-DETECT ==> NTSC\n",
      "  ROM Size:        2048\n",
      "  Bankswitch Type: AUTO-DETECT ==> 2K\n",
      "\n",
      "Running ROM file...\n",
      "Random seed is -653592118\n",
      "/opt/miniconda3/envs/obl_taller_ia/lib/python3.12/site-packages/gymnasium/wrappers/rendering.py:416: UserWarning: \u001b[33mWARN: Unable to save last video! Did you call close()?\u001b[0m\n",
      "  logger.warn(\"Unable to save last video! Did you call close()?\")\n"
     ]
    },
    {
     "data": {
      "text/plain": [
       "==========================================================================================\n",
       "Layer (type:depth-idx)                   Output Shape              Param #\n",
       "==========================================================================================\n",
       "DQN_CNN_Model                            [32, 4]                   --\n",
       "├─Conv2d: 1-1                            [32, 16, 20, 20]          4,112\n",
       "├─Conv2d: 1-2                            [32, 32, 9, 9]            8,224\n",
       "├─Linear: 1-3                            [32, 256]                 663,808\n",
       "├─Linear: 1-4                            [32, 4]                   1,028\n",
       "==========================================================================================\n",
       "Total params: 677,172\n",
       "Trainable params: 677,172\n",
       "Non-trainable params: 0\n",
       "Total mult-adds (Units.MEGABYTES): 95.22\n",
       "==========================================================================================\n",
       "Input size (MB): 3.61\n",
       "Forward/backward pass size (MB): 2.37\n",
       "Params size (MB): 2.71\n",
       "Estimated Total Size (MB): 8.69\n",
       "=========================================================================================="
      ]
     },
     "execution_count": 11,
     "metadata": {},
     "output_type": "execute_result"
    }
   ],
   "source": [
    "from dqn_cnn_model import DQN_CNN_Model\n",
    "\n",
    "env = make_env(ENV_NAME,\n",
    "                record_every=None,\n",
    "                grayscale=GRAY_SCALE,\n",
    "                screen_size=SCREEN_SIZE,\n",
    "                stack_frames=NUM_STACKED_FRAMES,\n",
    "                skip_frames=SKIP_FRAMES\n",
    "                )\n",
    "print(\"Actions shape:\",env.action_space)\n",
    "print(\"Observatiion shape:\",env.observation_space.shape)\n",
    "\n",
    "env.close()\n",
    "\n",
    "cnn_model = DQN_CNN_Model(env.observation_space.shape, env.action_space.n).to(DEVICE)\n",
    "summary(cnn_model, input_size=(32, SKIP_FRAMES, SCREEN_SIZE, SCREEN_SIZE), device=DEVICE) # 32 es el batch size"
   ]
  },
  {
   "cell_type": "markdown",
   "metadata": {},
   "source": [
    "La red esta definida para que reciba un tensor de 4 dimensiones (batch_size, num_frames, height, width) y devuelve un tensor de 2 dimensiones (batch_size, num_actions). La función `forward` es la encargada de definir el flujo de datos a través de la red. En este caso, se utiliza una red convolucional seguida de capas totalmente conectadas"
   ]
  },
  {
   "cell_type": "code",
   "execution_count": 12,
   "metadata": {},
   "outputs": [
    {
     "name": "stdout",
     "output_type": "stream",
     "text": [
      "Q-values shape: torch.Size([1, 4])\n"
     ]
    }
   ],
   "source": [
    "obs_tensor_batch = torch.rand((NUM_STACKED_FRAMES,SCREEN_SIZE,SCREEN_SIZE)).unsqueeze(0).to(DEVICE) # Añadimos una dimensión para el batch y lo pasamos al dispositivo\n",
    "print(f\"Q-values shape: {cnn_model(obs_tensor_batch).shape}\") # shape: (1, num_actions) "
   ]
  },
  {
   "cell_type": "markdown",
   "metadata": {},
   "source": [
    "Los valores de Q se obtienen a partir de la salida de la red, cada columna representa el valor Q para cada acción posible en el estado actual. "
   ]
  },
  {
   "cell_type": "code",
   "execution_count": 13,
   "metadata": {},
   "outputs": [
    {
     "data": {
      "text/plain": [
       "tensor([[-0.0188,  0.0008,  0.0328,  0.0380]], device='mps:0',\n",
       "       grad_fn=<LinearBackward0>)"
      ]
     },
     "execution_count": 13,
     "metadata": {},
     "output_type": "execute_result"
    }
   ],
   "source": [
    "cnn_model(obs_tensor_batch) "
   ]
  },
  {
   "cell_type": "markdown",
   "metadata": {},
   "source": [
    "Podemos preguntar cuál es la acción con mayor valor Q en un estado."
   ]
  },
  {
   "cell_type": "code",
   "execution_count": 14,
   "metadata": {},
   "outputs": [
    {
     "data": {
      "text/plain": [
       "torch.return_types.max(\n",
       "values=tensor([0.0380], device='mps:0', grad_fn=<MaxBackward0>),\n",
       "indices=tensor([3], device='mps:0'))"
      ]
     },
     "execution_count": 14,
     "metadata": {},
     "output_type": "execute_result"
    }
   ],
   "source": [
    "cnn_model(obs_tensor_batch).max(1)"
   ]
  },
  {
   "cell_type": "markdown",
   "metadata": {},
   "source": [
    "En el siguiente ejemplo vamos a ver cómo tomar los valores de acciones deseables para un conjunto de estados. "
   ]
  },
  {
   "cell_type": "code",
   "execution_count": 15,
   "metadata": {},
   "outputs": [
    {
     "name": "stdout",
     "output_type": "stream",
     "text": [
      "Batch shape: torch.Size([3, 4, 84, 84])\n",
      "Q-values: tensor([[-0.0399,  0.0014,  0.0332,  0.0316],\n",
      "        [-0.0319,  0.0112,  0.0292,  0.0156],\n",
      "        [-0.0356,  0.0033,  0.0296,  0.0224]], device='mps:0',\n",
      "       grad_fn=<LinearBackward0>)\n",
      "Q-values: tensor([[0.0014],\n",
      "        [0.0292],\n",
      "        [0.0224]], device='mps:0', grad_fn=<GatherBackward0>)\n"
     ]
    }
   ],
   "source": [
    "# Creamos 3 observaciones aleatorias para probar el modelo\n",
    "obs_ran1 = torch.rand(4, 84, 84)\n",
    "obs_ran2 = torch.rand(4, 84, 84)\n",
    "obs_ran3 = torch.rand(4, 84, 84)\n",
    "\n",
    "batch = torch.stack([obs_ran1, obs_ran2, obs_ran3], dim=0).to(DEVICE) # shape: (3, 4, 84, 84)\n",
    "print(f\"Batch shape: {batch.shape}\")\n",
    "\n",
    "actions =  torch.tensor([1, 2, 3], device=DEVICE).unsqueeze(1) # queremos la acción 1 para la primera observación, la acción 2 para la segunda y la acción 3 para la tercera\n",
    "\n",
    "Q_test = cnn_model(batch)\n",
    "print(f\"Q-values: {Q_test}\")\n",
    "print(f\"Q-values: {Q_test.gather(1, actions)}\") # https://pytorch.org/docs/main/generated/torch.gather.html"
   ]
  },
  {
   "cell_type": "markdown",
   "metadata": {},
   "source": [
    "## Phi \n",
    "\n",
    "La función para procesar los estados (phi en el paper) que es necesaria para poder usar el modelo de Pytorch con las representaciones de gym. Esta función pasa una observación de gym a un tensor de Pytorch y la normaliza.\n",
    "\n",
    "> Técnicamente la función phi tiene más responsabilidades, como la de apilar los frames y el downsampling. En nuestro caso se lo delegamos a los wrappers de gymnasium."
   ]
  },
  {
   "cell_type": "code",
   "execution_count": 16,
   "metadata": {
    "id": "oegpMg25t9I9",
    "pycharm": {
     "name": "#%%\n"
    }
   },
   "outputs": [
    {
     "name": "stdout",
     "output_type": "stream",
     "text": [
      "Observation shape: torch.Size([4, 84, 84])\n"
     ]
    }
   ],
   "source": [
    "from load_and_evaluate import process_state\n",
    "\n",
    "obs, _ = env.reset()\n",
    "obs_tensor = process_state(obs)\n",
    "print(f\"Observation shape: {obs_tensor.shape}\")"
   ]
  },
  {
   "cell_type": "markdown",
   "metadata": {
    "id": "z9B7ZY9Htj_F",
    "pycharm": {
     "name": "#%% md\n"
    }
   },
   "source": [
    "## Agente\n",
    "\n",
    "Vamos a definir una clase agente (abstracto), encargado de interactuar con el ambiente y entrenar los modelos. Los métdos definidos deben funcionar para ambos problemas simplemente cambiando el modelo a utilizar para cada ambiente.\n",
    "\n",
    "Abajo dejamos un esqueleto del mismo y las funciones a completar. Recomendamos no alterar la estructura del mismo, pero pueden definir las funciones auxiliares que consideren necesarias.\n",
    "\n",
    "> Para implementar esta funcionalidad se debe modificar los archivos **abstract_agent.py** y **dqn_agent.py**.\n",
    "\n",
    "Funciones a completar:\n",
    "\n",
    "\n",
    "1. **init**: que inicializa los parametros del agente.\n",
    "\n",
    "2. **compute_epsilon**: que computa el valor actual de epsilon en base al número de pasos actuales y si esta entrenando o no.\n",
    "\n",
    "3. **select_action**: Seleccionando acciones \"epsilongreedy-mente\" si estamos entranando y completamente greedy en otro caso.\n",
    "\n",
    "4. **train**: que entrena el agente por un número dado de episodios de largo determinado.\n",
    "\n",
    "5. **record_test_episode**: para grabar un episodio con el agente siempre seleccionando la mejor accion conocida."
   ]
  },
  {
   "cell_type": "markdown",
   "metadata": {
    "id": "BOD-ENZRtyMt",
    "pycharm": {
     "name": "#%% md\n"
    }
   },
   "source": [
    "## Entrenamiento"
   ]
  },
  {
   "cell_type": "code",
   "execution_count": 17,
   "metadata": {},
   "outputs": [
    {
     "data": {
      "text/plain": [
       "<module 'load_and_evaluate' from '/Users/nataliacampigliastemphelet/master/obligatorio-taller-ia/load_and_evaluate.py'>"
      ]
     },
     "execution_count": 17,
     "metadata": {},
     "output_type": "execute_result"
    }
   ],
   "source": [
    "# Reload\n",
    "import load_and_evaluate\n",
    "import importlib\n",
    "importlib.reload(load_and_evaluate)\n"
   ]
  },
  {
   "cell_type": "code",
   "execution_count": 18,
   "metadata": {},
   "outputs": [
    {
     "name": "stderr",
     "output_type": "stream",
     "text": [
      "A.L.E: Arcade Learning Environment (version 0.10.2+unknown)\n",
      "[Powered by Stella]\n",
      "Game console created:\n",
      "  ROM file:  /opt/miniconda3/envs/obl_taller_ia/lib/python3.12/site-packages/ale_py/roms/breakout.bin\n",
      "  Cart Name: Breakout - Breakaway IV (1978) (Atari)\n",
      "  Cart MD5:  f34f08e5eb96e500e851a80be3277a56\n",
      "  Display Format:  AUTO-DETECT ==> NTSC\n",
      "  ROM Size:        2048\n",
      "  Bankswitch Type: AUTO-DETECT ==> 2K\n",
      "\n",
      "Running ROM file...\n",
      "Random seed is -828546211\n",
      "/opt/miniconda3/envs/obl_taller_ia/lib/python3.12/site-packages/gymnasium/wrappers/rendering.py:283: UserWarning: \u001b[33mWARN: Overwriting existing videos at /Users/nataliacampigliastemphelet/master/obligatorio-taller-ia/videos/dqn_training folder (try specifying a different `video_folder` for the `RecordVideo` wrapper if this is not desired)\u001b[0m\n",
      "  logger.warn(\n"
     ]
    }
   ],
   "source": [
    "from load_and_evaluate import load_dqn_agent\n",
    "dqn_agent = load_dqn_agent()"
   ]
  },
  {
   "cell_type": "code",
   "execution_count": 19,
   "metadata": {
    "id": "BsTl-pFqt10b",
    "pycharm": {
     "name": "#%%\n"
    }
   },
   "outputs": [
    {
     "name": "stderr",
     "output_type": "stream",
     "text": [
      "Entrenando:   0%|          | 0/10000 [00:00<?, ?episode/s]"
     ]
    },
    {
     "name": "stdout",
     "output_type": "stream",
     "text": [
      "Iniciando entrenamiento...\n"
     ]
    },
    {
     "name": "stderr",
     "output_type": "stream",
     "text": [
      "Entrenando:   1%|          | 77/10000 [06:36<57:49:32, 20.98s/episode, reward=4.19, epsilon=0.05, steps=22047]"
     ]
    }
   ],
   "source": [
    "dqn_rewards = dqn_agent.train(EPISODES, STEPS_PER_EPISODE, TOTAL_STEPS)\n",
    "\n",
    "env.close()"
   ]
  },
  {
   "cell_type": "code",
   "execution_count": null,
   "metadata": {},
   "outputs": [
    {
     "name": "stderr",
     "output_type": "stream",
     "text": [
      "c:\\Users\\Octav\\anaconda3\\envs\\obl_taller_ia\\Lib\\site-packages\\gymnasium\\wrappers\\rendering.py:283: UserWarning: \u001b[33mWARN: Overwriting existing videos at c:\\Users\\Octav\\postgrado\\taller ia\\obligatorio\\git\\obligatorio-taller-ia\\videos\\dqn_validation folder (try specifying a different `video_folder` for the `RecordVideo` wrapper if this is not desired)\u001b[0m\n",
      "  logger.warn(\n"
     ]
    }
   ],
   "source": [
    "env = make_env(ENV_NAME,\n",
    "                video_folder='./videos/dqn_validation',\n",
    "                name_prefix=\"breakout\",\n",
    "                record_every=1,\n",
    "                grayscale=GRAY_SCALE,\n",
    "                screen_size=SCREEN_SIZE,\n",
    "                stack_frames=NUM_STACKED_FRAMES,\n",
    "                skip_frames=SKIP_FRAMES\n",
    "                )\n",
    "\n"
   ]
  },
  {
   "cell_type": "code",
   "execution_count": null,
   "metadata": {},
   "outputs": [],
   "source": [
    "dqn_agent.play(env, episodes=1)\n",
    "\n",
    "env.close()"
   ]
  },
  {
   "cell_type": "code",
   "execution_count": null,
   "metadata": {},
   "outputs": [
    {
     "data": {
      "text/html": [
       "<video controls  width=\"600\" >\n",
       " <source src=\"data:video/mp4;base64,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\" type=\"video/mp4\">\n",
       " Your browser does not support the video tag.\n",
       " </video>"
      ],
      "text/plain": [
       "<IPython.core.display.Video object>"
      ]
     },
     "execution_count": 25,
     "metadata": {},
     "output_type": "execute_result"
    }
   ],
   "source": [
    "# Ruta al archivo de vídeo en tu sistema de ficheros\n",
    "video_path = \"./videos/dqn_validation/breakout-episode-0.mp4\"\n",
    "\n",
    "# Muestra el vídeo\n",
    "Video(video_path, embed=True, width=600)"
   ]
  },
  {
   "cell_type": "markdown",
   "metadata": {},
   "source": [
    "#### Graficas \n",
    "..."
   ]
  },
  {
   "cell_type": "markdown",
   "metadata": {
    "id": "QETh1K7pt9I_"
   },
   "source": [
    "# Double Deep Q Learning\n",
    "\n",
    "Double DQN mejora la versión clásica de DQN corrigiendo el sesgo de sobreestimación de los valores \n",
    "𝑄\n",
    "Q. Para ello, desacopla la selección de la acción de su evaluación: en cada paso, la red online elige la acción que maximiza \n",
    "𝑄\n",
    "Q, pero la red objetivo distinta estima el valor de esa acción. Esta separación reduce el sesgo hacia valores demasiado optimistas y aporta mayor estabilidad al entrenamiento. El resto de la estructura —replay buffer, política ε-greedy, etc— se mantiene igual que en DQN, aprovechando así un diseño casi idéntico al original pero con resultados más fiables .\n",
    "\n",
    "Fuente: [arXiv:1509.06461](https://arxiv.org/abs/1509.06461)\n",
    "\n",
    "> Vamos a utilizar el mismo modelo de red neuronal creado para el problema anterior y la misma implementación de memoria, dejamos un esqueleto de un agente de Double Deep Q learning para completar en el archivo **double_dqn_agent.py**"
   ]
  },
  {
   "cell_type": "code",
   "execution_count": null,
   "metadata": {
    "id": "kDNkAtdMt9I_",
    "pycharm": {
     "name": "#%%\n"
    }
   },
   "outputs": [
    {
     "name": "stdout",
     "output_type": "stream",
     "text": [
      "Output shape before conv1: (84, 84)\n",
      "Output shape after conv1: (20, 20)\n",
      "Output shape after conv2: (9, 9)\n",
      "Output shape before conv1: (84, 84)\n",
      "Output shape after conv1: (20, 20)\n",
      "Output shape after conv2: (9, 9)\n"
     ]
    },
    {
     "name": "stderr",
     "output_type": "stream",
     "text": [
      "Entrenando:   0%|          | 0/10000 [00:00<?, ?episode/s]\n"
     ]
    },
    {
     "ename": "TypeError",
     "evalue": "list indices must be integers or slices, not NoneType",
     "output_type": "error",
     "traceback": [
      "\u001b[31m---------------------------------------------------------------------------\u001b[39m",
      "\u001b[31mTypeError\u001b[39m                                 Traceback (most recent call last)",
      "\u001b[36mCell\u001b[39m\u001b[36m \u001b[39m\u001b[32mIn[26]\u001b[39m\u001b[32m, line 19\u001b[39m\n\u001b[32m     15\u001b[39m modelo_b = DQN_CNN_Model(env.observation_space.shape, env.action_space.n).to(DEVICE)\n\u001b[32m     17\u001b[39m ddqn_agent = DoubleDQNAgent(env, modelo_a, modelo_b, process_state, BUFFER_SIZE, BATCH_SIZE, LEARNING_RATE, GAMMA, epsilon_i= EPSILON_INI, epsilon_f=EPSILON_MIN, epsilon_anneal_steps=EPSILON_ANNEAL_STEPS, episode_block = EPISODE_BLOCK, device=DEVICE)\n\u001b[32m---> \u001b[39m\u001b[32m19\u001b[39m ddqn_rewards = \u001b[43mddqn_agent\u001b[49m\u001b[43m.\u001b[49m\u001b[43mtrain\u001b[49m\u001b[43m(\u001b[49m\u001b[43mEPISODES\u001b[49m\u001b[43m,\u001b[49m\u001b[43m \u001b[49m\u001b[43mSTEPS_PER_EPISODE\u001b[49m\u001b[43m,\u001b[49m\u001b[43m \u001b[49m\u001b[43mTOTAL_STEPS\u001b[49m\u001b[43m)\u001b[49m\n",
      "\u001b[36mFile \u001b[39m\u001b[32mc:\\Users\\Octav\\postgrado\\taller ia\\obligatorio\\git\\obligatorio-taller-ia\\abstract_agent.py:62\u001b[39m, in \u001b[36mAgent.train\u001b[39m\u001b[34m(self, number_episodes, max_steps_episode, max_steps)\u001b[39m\n\u001b[32m     59\u001b[39m action = \u001b[38;5;28mself\u001b[39m.select_action(state_phi, total_steps, train=\u001b[38;5;28;01mTrue\u001b[39;00m)\n\u001b[32m     61\u001b[39m \u001b[38;5;66;03m# Ejecutar action = env.step(action)\u001b[39;00m\n\u001b[32m---> \u001b[39m\u001b[32m62\u001b[39m next_state, reward, done, _, _, = \u001b[38;5;28;43mself\u001b[39;49m\u001b[43m.\u001b[49m\u001b[43menv\u001b[49m\u001b[43m.\u001b[49m\u001b[43mstep\u001b[49m\u001b[43m(\u001b[49m\u001b[43maction\u001b[49m\u001b[43m)\u001b[49m\n\u001b[32m     64\u001b[39m \u001b[38;5;66;03m# Procesar next_state con state_processing_function\u001b[39;00m\n\u001b[32m     65\u001b[39m next_state_phi = \u001b[38;5;28mself\u001b[39m.state_processing_function(next_state)\n",
      "\u001b[36mFile \u001b[39m\u001b[32mc:\\Users\\Octav\\anaconda3\\envs\\obl_taller_ia\\Lib\\site-packages\\gymnasium\\core.py:585\u001b[39m, in \u001b[36mRewardWrapper.step\u001b[39m\u001b[34m(self, action)\u001b[39m\n\u001b[32m    581\u001b[39m \u001b[38;5;28;01mdef\u001b[39;00m\u001b[38;5;250m \u001b[39m\u001b[34mstep\u001b[39m(\n\u001b[32m    582\u001b[39m     \u001b[38;5;28mself\u001b[39m, action: ActType\n\u001b[32m    583\u001b[39m ) -> \u001b[38;5;28mtuple\u001b[39m[ObsType, SupportsFloat, \u001b[38;5;28mbool\u001b[39m, \u001b[38;5;28mbool\u001b[39m, \u001b[38;5;28mdict\u001b[39m[\u001b[38;5;28mstr\u001b[39m, Any]]:\n\u001b[32m    584\u001b[39m \u001b[38;5;250m    \u001b[39m\u001b[33;03m\"\"\"Modifies the :attr:`env` :meth:`step` reward using :meth:`self.reward`.\"\"\"\u001b[39;00m\n\u001b[32m--> \u001b[39m\u001b[32m585\u001b[39m     observation, reward, terminated, truncated, info = \u001b[38;5;28;43mself\u001b[39;49m\u001b[43m.\u001b[49m\u001b[43menv\u001b[49m\u001b[43m.\u001b[49m\u001b[43mstep\u001b[49m\u001b[43m(\u001b[49m\u001b[43maction\u001b[49m\u001b[43m)\u001b[49m\n\u001b[32m    586\u001b[39m     \u001b[38;5;28;01mreturn\u001b[39;00m observation, \u001b[38;5;28mself\u001b[39m.reward(reward), terminated, truncated, info\n",
      "\u001b[36mFile \u001b[39m\u001b[32mc:\\Users\\Octav\\anaconda3\\envs\\obl_taller_ia\\Lib\\site-packages\\gymnasium\\wrappers\\stateful_observation.py:416\u001b[39m, in \u001b[36mFrameStackObservation.step\u001b[39m\u001b[34m(self, action)\u001b[39m\n\u001b[32m    405\u001b[39m \u001b[38;5;28;01mdef\u001b[39;00m\u001b[38;5;250m \u001b[39m\u001b[34mstep\u001b[39m(\n\u001b[32m    406\u001b[39m     \u001b[38;5;28mself\u001b[39m, action: WrapperActType\n\u001b[32m    407\u001b[39m ) -> \u001b[38;5;28mtuple\u001b[39m[WrapperObsType, SupportsFloat, \u001b[38;5;28mbool\u001b[39m, \u001b[38;5;28mbool\u001b[39m, \u001b[38;5;28mdict\u001b[39m[\u001b[38;5;28mstr\u001b[39m, Any]]:\n\u001b[32m    408\u001b[39m \u001b[38;5;250m    \u001b[39m\u001b[33;03m\"\"\"Steps through the environment, appending the observation to the frame buffer.\u001b[39;00m\n\u001b[32m    409\u001b[39m \n\u001b[32m    410\u001b[39m \u001b[33;03m    Args:\u001b[39;00m\n\u001b[32m   (...)\u001b[39m\u001b[32m    414\u001b[39m \u001b[33;03m        Stacked observations, reward, terminated, truncated, and info from the environment\u001b[39;00m\n\u001b[32m    415\u001b[39m \u001b[33;03m    \"\"\"\u001b[39;00m\n\u001b[32m--> \u001b[39m\u001b[32m416\u001b[39m     obs, reward, terminated, truncated, info = \u001b[38;5;28;43mself\u001b[39;49m\u001b[43m.\u001b[49m\u001b[43menv\u001b[49m\u001b[43m.\u001b[49m\u001b[43mstep\u001b[49m\u001b[43m(\u001b[49m\u001b[43maction\u001b[49m\u001b[43m)\u001b[49m\n\u001b[32m    417\u001b[39m     \u001b[38;5;28mself\u001b[39m.obs_queue.append(obs)\n\u001b[32m    419\u001b[39m     updated_obs = deepcopy(\n\u001b[32m    420\u001b[39m         concatenate(\u001b[38;5;28mself\u001b[39m.env.observation_space, \u001b[38;5;28mself\u001b[39m.obs_queue, \u001b[38;5;28mself\u001b[39m.stacked_obs)\n\u001b[32m    421\u001b[39m     )\n",
      "\u001b[36mFile \u001b[39m\u001b[32mc:\\Users\\Octav\\anaconda3\\envs\\obl_taller_ia\\Lib\\site-packages\\gymnasium\\wrappers\\atari_preprocessing.py:162\u001b[39m, in \u001b[36mAtariPreprocessing.step\u001b[39m\u001b[34m(self, action)\u001b[39m\n\u001b[32m    159\u001b[39m total_reward, terminated, truncated, info = \u001b[32m0.0\u001b[39m, \u001b[38;5;28;01mFalse\u001b[39;00m, \u001b[38;5;28;01mFalse\u001b[39;00m, {}\n\u001b[32m    161\u001b[39m \u001b[38;5;28;01mfor\u001b[39;00m t \u001b[38;5;129;01min\u001b[39;00m \u001b[38;5;28mrange\u001b[39m(\u001b[38;5;28mself\u001b[39m.frame_skip):\n\u001b[32m--> \u001b[39m\u001b[32m162\u001b[39m     _, reward, terminated, truncated, info = \u001b[38;5;28;43mself\u001b[39;49m\u001b[43m.\u001b[49m\u001b[43menv\u001b[49m\u001b[43m.\u001b[49m\u001b[43mstep\u001b[49m\u001b[43m(\u001b[49m\u001b[43maction\u001b[49m\u001b[43m)\u001b[49m\n\u001b[32m    163\u001b[39m     total_reward += reward\n\u001b[32m    164\u001b[39m     \u001b[38;5;28mself\u001b[39m.game_over = terminated\n",
      "\u001b[36mFile \u001b[39m\u001b[32mc:\\Users\\Octav\\anaconda3\\envs\\obl_taller_ia\\Lib\\site-packages\\gymnasium\\wrappers\\rendering.py:350\u001b[39m, in \u001b[36mRecordVideo.step\u001b[39m\u001b[34m(self, action)\u001b[39m\n\u001b[32m    346\u001b[39m \u001b[38;5;28;01mdef\u001b[39;00m\u001b[38;5;250m \u001b[39m\u001b[34mstep\u001b[39m(\n\u001b[32m    347\u001b[39m     \u001b[38;5;28mself\u001b[39m, action: ActType\n\u001b[32m    348\u001b[39m ) -> \u001b[38;5;28mtuple\u001b[39m[ObsType, SupportsFloat, \u001b[38;5;28mbool\u001b[39m, \u001b[38;5;28mbool\u001b[39m, \u001b[38;5;28mdict\u001b[39m[\u001b[38;5;28mstr\u001b[39m, Any]]:\n\u001b[32m    349\u001b[39m \u001b[38;5;250m    \u001b[39m\u001b[33;03m\"\"\"Steps through the environment using action, recording observations if :attr:`self.recording`.\"\"\"\u001b[39;00m\n\u001b[32m--> \u001b[39m\u001b[32m350\u001b[39m     obs, rew, terminated, truncated, info = \u001b[38;5;28;43mself\u001b[39;49m\u001b[43m.\u001b[49m\u001b[43menv\u001b[49m\u001b[43m.\u001b[49m\u001b[43mstep\u001b[49m\u001b[43m(\u001b[49m\u001b[43maction\u001b[49m\u001b[43m)\u001b[49m\n\u001b[32m    351\u001b[39m     \u001b[38;5;28mself\u001b[39m.step_id += \u001b[32m1\u001b[39m\n\u001b[32m    353\u001b[39m     \u001b[38;5;28;01mif\u001b[39;00m \u001b[38;5;28mself\u001b[39m.step_trigger \u001b[38;5;129;01mand\u001b[39;00m \u001b[38;5;28mself\u001b[39m.step_trigger(\u001b[38;5;28mself\u001b[39m.step_id):\n",
      "\u001b[36mFile \u001b[39m\u001b[32mc:\\Users\\Octav\\anaconda3\\envs\\obl_taller_ia\\Lib\\site-packages\\gymnasium\\wrappers\\common.py:393\u001b[39m, in \u001b[36mOrderEnforcing.step\u001b[39m\u001b[34m(self, action)\u001b[39m\n\u001b[32m    391\u001b[39m \u001b[38;5;28;01mif\u001b[39;00m \u001b[38;5;129;01mnot\u001b[39;00m \u001b[38;5;28mself\u001b[39m._has_reset:\n\u001b[32m    392\u001b[39m     \u001b[38;5;28;01mraise\u001b[39;00m ResetNeeded(\u001b[33m\"\u001b[39m\u001b[33mCannot call env.step() before calling env.reset()\u001b[39m\u001b[33m\"\u001b[39m)\n\u001b[32m--> \u001b[39m\u001b[32m393\u001b[39m \u001b[38;5;28;01mreturn\u001b[39;00m \u001b[38;5;28;43msuper\u001b[39;49m\u001b[43m(\u001b[49m\u001b[43m)\u001b[49m\u001b[43m.\u001b[49m\u001b[43mstep\u001b[49m\u001b[43m(\u001b[49m\u001b[43maction\u001b[49m\u001b[43m)\u001b[49m\n",
      "\u001b[36mFile \u001b[39m\u001b[32mc:\\Users\\Octav\\anaconda3\\envs\\obl_taller_ia\\Lib\\site-packages\\gymnasium\\core.py:322\u001b[39m, in \u001b[36mWrapper.step\u001b[39m\u001b[34m(self, action)\u001b[39m\n\u001b[32m    318\u001b[39m \u001b[38;5;28;01mdef\u001b[39;00m\u001b[38;5;250m \u001b[39m\u001b[34mstep\u001b[39m(\n\u001b[32m    319\u001b[39m     \u001b[38;5;28mself\u001b[39m, action: WrapperActType\n\u001b[32m    320\u001b[39m ) -> \u001b[38;5;28mtuple\u001b[39m[WrapperObsType, SupportsFloat, \u001b[38;5;28mbool\u001b[39m, \u001b[38;5;28mbool\u001b[39m, \u001b[38;5;28mdict\u001b[39m[\u001b[38;5;28mstr\u001b[39m, Any]]:\n\u001b[32m    321\u001b[39m \u001b[38;5;250m    \u001b[39m\u001b[33;03m\"\"\"Uses the :meth:`step` of the :attr:`env` that can be overwritten to change the returned data.\"\"\"\u001b[39;00m\n\u001b[32m--> \u001b[39m\u001b[32m322\u001b[39m     \u001b[38;5;28;01mreturn\u001b[39;00m \u001b[38;5;28;43mself\u001b[39;49m\u001b[43m.\u001b[49m\u001b[43menv\u001b[49m\u001b[43m.\u001b[49m\u001b[43mstep\u001b[49m\u001b[43m(\u001b[49m\u001b[43maction\u001b[49m\u001b[43m)\u001b[49m\n",
      "\u001b[36mFile \u001b[39m\u001b[32mc:\\Users\\Octav\\anaconda3\\envs\\obl_taller_ia\\Lib\\site-packages\\gymnasium\\wrappers\\common.py:285\u001b[39m, in \u001b[36mPassiveEnvChecker.step\u001b[39m\u001b[34m(self, action)\u001b[39m\n\u001b[32m    283\u001b[39m     \u001b[38;5;28;01mreturn\u001b[39;00m env_step_passive_checker(\u001b[38;5;28mself\u001b[39m.env, action)\n\u001b[32m    284\u001b[39m \u001b[38;5;28;01melse\u001b[39;00m:\n\u001b[32m--> \u001b[39m\u001b[32m285\u001b[39m     \u001b[38;5;28;01mreturn\u001b[39;00m \u001b[38;5;28;43mself\u001b[39;49m\u001b[43m.\u001b[49m\u001b[43menv\u001b[49m\u001b[43m.\u001b[49m\u001b[43mstep\u001b[49m\u001b[43m(\u001b[49m\u001b[43maction\u001b[49m\u001b[43m)\u001b[49m\n",
      "\u001b[36mFile \u001b[39m\u001b[32mc:\\Users\\Octav\\anaconda3\\envs\\obl_taller_ia\\Lib\\site-packages\\ale_py\\env.py:305\u001b[39m, in \u001b[36mAtariEnv.step\u001b[39m\u001b[34m(self, action)\u001b[39m\n\u001b[32m    303\u001b[39m     strength = action[\u001b[32m0\u001b[39m]\n\u001b[32m    304\u001b[39m \u001b[38;5;28;01melse\u001b[39;00m:\n\u001b[32m--> \u001b[39m\u001b[32m305\u001b[39m     action_idx = \u001b[38;5;28;43mself\u001b[39;49m\u001b[43m.\u001b[49m\u001b[43m_action_set\u001b[49m\u001b[43m[\u001b[49m\u001b[43maction\u001b[49m\u001b[43m]\u001b[49m\n\u001b[32m    306\u001b[39m     strength = \u001b[32m1.0\u001b[39m\n\u001b[32m    308\u001b[39m \u001b[38;5;66;03m# Frameskip\u001b[39;00m\n",
      "\u001b[31mTypeError\u001b[39m: list indices must be integers or slices, not NoneType"
     ]
    }
   ],
   "source": [
    "from double_dqn_agent import DoubleDQNAgent\n",
    "\n",
    "env = make_env(ENV_NAME,\n",
    "                video_folder='./videos/ddqn_training',\n",
    "                name_prefix=\"breakout\",\n",
    "                record_every=500,\n",
    "                grayscale=GRAY_SCALE,\n",
    "                screen_size=SCREEN_SIZE,\n",
    "                stack_frames=NUM_STACKED_FRAMES,\n",
    "                skip_frames=SKIP_FRAMES\n",
    "                )\n",
    "\n",
    "\n",
    "modelo_a = DQN_CNN_Model(env.observation_space.shape, env.action_space.n).to(DEVICE)\n",
    "modelo_b = DQN_CNN_Model(env.observation_space.shape, env.action_space.n).to(DEVICE)\n",
    "\n",
    "ddqn_agent = DoubleDQNAgent(env, modelo_a, modelo_b, process_state, BUFFER_SIZE, BATCH_SIZE, LEARNING_RATE, GAMMA, epsilon_i= EPSILON_INI, epsilon_f=EPSILON_MIN, epsilon_anneal_steps=EPSILON_ANNEAL_STEPS, episode_block = EPISODE_BLOCK, device=DEVICE)\n",
    "\n",
    "ddqn_rewards = ddqn_agent.train(EPISODES, STEPS_PER_EPISODE, TOTAL_STEPS)"
   ]
  },
  {
   "cell_type": "code",
   "execution_count": null,
   "metadata": {},
   "outputs": [],
   "source": [
    "env = make_env(ENV_NAME,\n",
    "                video_folder='./videos/ddqn_validation',\n",
    "                name_prefix=\"breakout\",\n",
    "                record_every=1,\n",
    "                grayscale=GRAY_SCALE,\n",
    "                screen_size=SCREEN_SIZE,\n",
    "                stack_frames=NUM_STACKED_FRAMES,\n",
    "                skip_frames=SKIP_FRAMES\n",
    "                )\n",
    "\n",
    "ddqn_agent.play(env, episodes=3)\n",
    "\n",
    "env.close()"
   ]
  },
  {
   "cell_type": "code",
   "execution_count": null,
   "metadata": {},
   "outputs": [],
   "source": [
    "# Ruta al archivo de vídeo en tu sistema de ficheros\n",
    "video_path = \"./videos/ddqn_validation/breakout-episode-0.mp4\"\n",
    "\n",
    "# Muestra el vídeo\n",
    "Video(video_path, embed=True, width=600)"
   ]
  },
  {
   "cell_type": "markdown",
   "metadata": {},
   "source": [
    "#### Graficas \n",
    "..."
   ]
  },
  {
   "cell_type": "markdown",
   "metadata": {},
   "source": [
    "# Experimentación\n",
    "Aquí con libertad total, pueden probar diferentes arquitecturas de red, diferentes hiperparámetros, diferentes técnicas de exploración, etc.\n",
    "..."
   ]
  },
  {
   "cell_type": "markdown",
   "metadata": {
    "id": "YNNvsKiEt9I_"
   },
   "source": [
    "# Comparaciones, Resultados, Comentarios...\n",
    "De aquí en adelante son libres de presentar como gusten los resultados comparativos de las técnicas.\n",
    "..."
   ]
  }
 ],
 "metadata": {
  "accelerator": "GPU",
  "colab": {
   "provenance": []
  },
  "kernelspec": {
   "display_name": "obl_taller_ia",
   "language": "python",
   "name": "python3"
  },
  "language_info": {
   "codemirror_mode": {
    "name": "ipython",
    "version": 3
   },
   "file_extension": ".py",
   "mimetype": "text/x-python",
   "name": "python",
   "nbconvert_exporter": "python",
   "pygments_lexer": "ipython3",
   "version": "3.12.10"
  },
  "vscode": {
   "interpreter": {
    "hash": "654d30e281ea4991f82051f147fbd22a65ce2ea742e27edf10b646598953974d"
   }
  }
 },
 "nbformat": 4,
 "nbformat_minor": 1
}
